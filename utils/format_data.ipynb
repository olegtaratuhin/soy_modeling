{
 "cells": [
  {
   "cell_type": "code",
   "execution_count": 3,
   "metadata": {},
   "outputs": [
    {
     "name": "stdout",
     "output_type": "stream",
     "text": [
      "Untitled.ipynb   evaluator.py     \u001b[34mmodels\u001b[m\u001b[m           \u001b[34mtmp\u001b[m\u001b[m\r\n",
      "\u001b[34m__pycache__\u001b[m\u001b[m      logger.py        optimizer.py     \u001b[34mutils\u001b[m\u001b[m\r\n",
      "configuration.py main.py          parser.py\r\n",
      "\u001b[34mdataset\u001b[m\u001b[m          model.py         preprocessor.py\r\n"
     ]
    }
   ],
   "source": [
    "!ls"
   ]
  },
  {
   "cell_type": "code",
   "execution_count": 4,
   "metadata": {},
   "outputs": [
    {
     "name": "stdout",
     "output_type": "stream",
     "text": [
      "\u001b[34mdatabase\u001b[m\u001b[m                new_data.xls\r\n",
      "dates_dataset_raw.csv   protein_dataset_raw.csv\r\n"
     ]
    }
   ],
   "source": [
    "!cd dataset && ls"
   ]
  },
  {
   "cell_type": "code",
   "execution_count": 96,
   "metadata": {},
   "outputs": [
    {
     "name": "stdout",
     "output_type": "stream",
     "text": [
      "kuban-meteo.csv          kuban-srad_1.csv         push-srad_1.csv\r\n",
      "kuban-meteo_formated.csv kuban-srad_formated.csv  pushkin-meteo.csv\r\n",
      "kuban-srad.csv           kuban.csv                pushkin-srad.csv\r\n"
     ]
    }
   ],
   "source": [
    "!cd dataset/database && ls"
   ]
  },
  {
   "cell_type": "code",
   "execution_count": 8,
   "metadata": {},
   "outputs": [],
   "source": [
    "import time\n",
    "import datetime"
   ]
  },
  {
   "cell_type": "code",
   "execution_count": 15,
   "metadata": {},
   "outputs": [],
   "source": [
    "import numpy as np\n",
    "import pandas as pd"
   ]
  },
  {
   "cell_type": "markdown",
   "metadata": {},
   "source": [
    "Kuban merge to fat-table"
   ]
  },
  {
   "cell_type": "code",
   "execution_count": 91,
   "metadata": {},
   "outputs": [
    {
     "data": {
      "text/html": [
       "<div>\n",
       "<style scoped>\n",
       "    .dataframe tbody tr th:only-of-type {\n",
       "        vertical-align: middle;\n",
       "    }\n",
       "\n",
       "    .dataframe tbody tr th {\n",
       "        vertical-align: top;\n",
       "    }\n",
       "\n",
       "    .dataframe thead th {\n",
       "        text-align: right;\n",
       "    }\n",
       "</style>\n",
       "<table border=\"1\" class=\"dataframe\">\n",
       "  <thead>\n",
       "    <tr style=\"text-align: right;\">\n",
       "      <th></th>\n",
       "      <th>All sky</th>\n",
       "      <th>Clear sky</th>\n",
       "    </tr>\n",
       "    <tr>\n",
       "      <th>Date</th>\n",
       "      <th></th>\n",
       "      <th></th>\n",
       "    </tr>\n",
       "  </thead>\n",
       "  <tbody>\n",
       "    <tr>\n",
       "      <th>2004-01-01</th>\n",
       "      <td>6.31</td>\n",
       "      <td>1.91</td>\n",
       "    </tr>\n",
       "    <tr>\n",
       "      <th>2004-01-01</th>\n",
       "      <td>6.12</td>\n",
       "      <td>1.86</td>\n",
       "    </tr>\n",
       "    <tr>\n",
       "      <th>2004-01-01</th>\n",
       "      <td>5.88</td>\n",
       "      <td>1.88</td>\n",
       "    </tr>\n",
       "  </tbody>\n",
       "</table>\n",
       "</div>"
      ],
      "text/plain": [
       "            All sky  Clear sky\n",
       "Date                          \n",
       "2004-01-01     6.31       1.91\n",
       "2004-01-01     6.12       1.86\n",
       "2004-01-01     5.88       1.88"
      ]
     },
     "execution_count": 91,
     "metadata": {},
     "output_type": "execute_result"
    }
   ],
   "source": [
    "kuban_srad = pd.read_csv('dataset/database/kuban-srad.csv', sep=';', parse_dates=True)\n",
    "kuban_srad.columns = ['Date', 'All sky', 'Clear sky']\n",
    "kuban_srad['Date'] = kuban_srad['Date'].apply(\n",
    "    lambda x: datetime.datetime.strptime(test_date, '%d/%m/%Y'))\n",
    "kuban_srad.set_index('Date', inplace=True)\n",
    "kuban_srad.head(3)"
   ]
  },
  {
   "cell_type": "code",
   "execution_count": 84,
   "metadata": {},
   "outputs": [],
   "source": [
    "kuban_srad.to_csv('dataset/database/kuban-srad_formated.csv')"
   ]
  },
  {
   "cell_type": "code",
   "execution_count": 92,
   "metadata": {},
   "outputs": [
    {
     "data": {
      "text/html": [
       "<div>\n",
       "<style scoped>\n",
       "    .dataframe tbody tr th:only-of-type {\n",
       "        vertical-align: middle;\n",
       "    }\n",
       "\n",
       "    .dataframe tbody tr th {\n",
       "        vertical-align: top;\n",
       "    }\n",
       "\n",
       "    .dataframe thead th {\n",
       "        text-align: right;\n",
       "    }\n",
       "</style>\n",
       "<table border=\"1\" class=\"dataframe\">\n",
       "  <thead>\n",
       "    <tr style=\"text-align: right;\">\n",
       "      <th></th>\n",
       "      <th>T_min</th>\n",
       "      <th>T_max</th>\n",
       "      <th>Precipitation</th>\n",
       "    </tr>\n",
       "    <tr>\n",
       "      <th>Date</th>\n",
       "      <th></th>\n",
       "      <th></th>\n",
       "      <th></th>\n",
       "    </tr>\n",
       "  </thead>\n",
       "  <tbody>\n",
       "    <tr>\n",
       "      <th>2004-01-01</th>\n",
       "      <td>-4.1</td>\n",
       "      <td>4.7</td>\n",
       "      <td>0.0</td>\n",
       "    </tr>\n",
       "    <tr>\n",
       "      <th>2004-01-02</th>\n",
       "      <td>-2.9</td>\n",
       "      <td>5.4</td>\n",
       "      <td>0.0</td>\n",
       "    </tr>\n",
       "    <tr>\n",
       "      <th>2004-01-03</th>\n",
       "      <td>0.5</td>\n",
       "      <td>6.6</td>\n",
       "      <td>0.0</td>\n",
       "    </tr>\n",
       "    <tr>\n",
       "      <th>2004-01-04</th>\n",
       "      <td>2.2</td>\n",
       "      <td>9.4</td>\n",
       "      <td>0.3</td>\n",
       "    </tr>\n",
       "    <tr>\n",
       "      <th>2004-01-05</th>\n",
       "      <td>3.8</td>\n",
       "      <td>8.8</td>\n",
       "      <td>3.1</td>\n",
       "    </tr>\n",
       "    <tr>\n",
       "      <th>2004-01-06</th>\n",
       "      <td>2.7</td>\n",
       "      <td>9.1</td>\n",
       "      <td>1.8</td>\n",
       "    </tr>\n",
       "    <tr>\n",
       "      <th>2004-01-07</th>\n",
       "      <td>1.1</td>\n",
       "      <td>5.2</td>\n",
       "      <td>1.9</td>\n",
       "    </tr>\n",
       "    <tr>\n",
       "      <th>2004-01-08</th>\n",
       "      <td>0.2</td>\n",
       "      <td>2.6</td>\n",
       "      <td>10.6</td>\n",
       "    </tr>\n",
       "    <tr>\n",
       "      <th>2004-01-09</th>\n",
       "      <td>-2.1</td>\n",
       "      <td>4.8</td>\n",
       "      <td>0.0</td>\n",
       "    </tr>\n",
       "    <tr>\n",
       "      <th>2004-01-10</th>\n",
       "      <td>0.0</td>\n",
       "      <td>5.2</td>\n",
       "      <td>0.5</td>\n",
       "    </tr>\n",
       "  </tbody>\n",
       "</table>\n",
       "</div>"
      ],
      "text/plain": [
       "            T_min  T_max  Precipitation\n",
       "Date                                   \n",
       "2004-01-01   -4.1    4.7            0.0\n",
       "2004-01-02   -2.9    5.4            0.0\n",
       "2004-01-03    0.5    6.6            0.0\n",
       "2004-01-04    2.2    9.4            0.3\n",
       "2004-01-05    3.8    8.8            3.1\n",
       "2004-01-06    2.7    9.1            1.8\n",
       "2004-01-07    1.1    5.2            1.9\n",
       "2004-01-08    0.2    2.6           10.6\n",
       "2004-01-09   -2.1    4.8            0.0\n",
       "2004-01-10    0.0    5.2            0.5"
      ]
     },
     "execution_count": 92,
     "metadata": {},
     "output_type": "execute_result"
    }
   ],
   "source": [
    "kuban_meteo = pd.read_csv('dataset/database/kuban-meteo.csv', parse_dates=[[0, 1, 2]])\n",
    "kuban_meteo.columns = ['Date', 'T_min', 'T_max', 'Precipitation']\n",
    "kuban_meteo.set_index('Date', inplace=True)\n",
    "kuban_meteo.head(10)"
   ]
  },
  {
   "cell_type": "code",
   "execution_count": 85,
   "metadata": {},
   "outputs": [],
   "source": [
    "kuban_meteo.to_csv('dataset/database/kuban-meteo_formated.csv')"
   ]
  },
  {
   "cell_type": "code",
   "execution_count": 88,
   "metadata": {},
   "outputs": [
    {
     "data": {
      "text/html": [
       "<div>\n",
       "<style scoped>\n",
       "    .dataframe tbody tr th:only-of-type {\n",
       "        vertical-align: middle;\n",
       "    }\n",
       "\n",
       "    .dataframe tbody tr th {\n",
       "        vertical-align: top;\n",
       "    }\n",
       "\n",
       "    .dataframe thead th {\n",
       "        text-align: right;\n",
       "    }\n",
       "</style>\n",
       "<table border=\"1\" class=\"dataframe\">\n",
       "  <thead>\n",
       "    <tr style=\"text-align: right;\">\n",
       "      <th></th>\n",
       "      <th>T_min</th>\n",
       "      <th>T_max</th>\n",
       "      <th>Precipitation</th>\n",
       "      <th>All sky</th>\n",
       "      <th>Clear sky</th>\n",
       "    </tr>\n",
       "    <tr>\n",
       "      <th>Date</th>\n",
       "      <th></th>\n",
       "      <th></th>\n",
       "      <th></th>\n",
       "      <th></th>\n",
       "      <th></th>\n",
       "    </tr>\n",
       "  </thead>\n",
       "  <tbody>\n",
       "    <tr>\n",
       "      <th>2004-01-01</th>\n",
       "      <td>-4.1</td>\n",
       "      <td>4.7</td>\n",
       "      <td>0.0</td>\n",
       "      <td>6.31</td>\n",
       "      <td>1.91</td>\n",
       "    </tr>\n",
       "    <tr>\n",
       "      <th>2004-01-01</th>\n",
       "      <td>-4.1</td>\n",
       "      <td>4.7</td>\n",
       "      <td>0.0</td>\n",
       "      <td>6.12</td>\n",
       "      <td>1.86</td>\n",
       "    </tr>\n",
       "    <tr>\n",
       "      <th>2004-01-01</th>\n",
       "      <td>-4.1</td>\n",
       "      <td>4.7</td>\n",
       "      <td>0.0</td>\n",
       "      <td>5.88</td>\n",
       "      <td>1.88</td>\n",
       "    </tr>\n",
       "  </tbody>\n",
       "</table>\n",
       "</div>"
      ],
      "text/plain": [
       "            T_min  T_max  Precipitation  All sky  Clear sky\n",
       "Date                                                       \n",
       "2004-01-01   -4.1    4.7            0.0     6.31       1.91\n",
       "2004-01-01   -4.1    4.7            0.0     6.12       1.86\n",
       "2004-01-01   -4.1    4.7            0.0     5.88       1.88"
      ]
     },
     "execution_count": 88,
     "metadata": {},
     "output_type": "execute_result"
    }
   ],
   "source": [
    "kuban = kuban_meteo.merge(kuban_srad, on='Date')\n",
    "kuban.head(3)"
   ]
  },
  {
   "cell_type": "code",
   "execution_count": 94,
   "metadata": {},
   "outputs": [],
   "source": [
    "kuban.to_csv('dataset/database/kuban.csv')"
   ]
  },
  {
   "cell_type": "markdown",
   "metadata": {},
   "source": [
    "Pushkin merge to fat-csv"
   ]
  },
  {
   "cell_type": "code",
   "execution_count": 101,
   "metadata": {
    "scrolled": true
   },
   "outputs": [
    {
     "data": {
      "text/html": [
       "<div>\n",
       "<style scoped>\n",
       "    .dataframe tbody tr th:only-of-type {\n",
       "        vertical-align: middle;\n",
       "    }\n",
       "\n",
       "    .dataframe tbody tr th {\n",
       "        vertical-align: top;\n",
       "    }\n",
       "\n",
       "    .dataframe thead th {\n",
       "        text-align: right;\n",
       "    }\n",
       "</style>\n",
       "<table border=\"1\" class=\"dataframe\">\n",
       "  <thead>\n",
       "    <tr style=\"text-align: right;\">\n",
       "      <th></th>\n",
       "      <th>All sky</th>\n",
       "      <th>Clear sky</th>\n",
       "    </tr>\n",
       "    <tr>\n",
       "      <th>Date</th>\n",
       "      <th></th>\n",
       "      <th></th>\n",
       "    </tr>\n",
       "  </thead>\n",
       "  <tbody>\n",
       "    <tr>\n",
       "      <th>2004-01-01</th>\n",
       "      <td>5.54</td>\n",
       "      <td>0.37</td>\n",
       "    </tr>\n",
       "    <tr>\n",
       "      <th>2004-01-01</th>\n",
       "      <td>4.39</td>\n",
       "      <td>0.39</td>\n",
       "    </tr>\n",
       "    <tr>\n",
       "      <th>2004-01-01</th>\n",
       "      <td>5.29</td>\n",
       "      <td>0.41</td>\n",
       "    </tr>\n",
       "  </tbody>\n",
       "</table>\n",
       "</div>"
      ],
      "text/plain": [
       "            All sky  Clear sky\n",
       "Date                          \n",
       "2004-01-01     5.54       0.37\n",
       "2004-01-01     4.39       0.39\n",
       "2004-01-01     5.29       0.41"
      ]
     },
     "execution_count": 101,
     "metadata": {},
     "output_type": "execute_result"
    }
   ],
   "source": [
    "pushkin_srad = pd.read_csv('dataset/database/pushkin-srad.csv', sep=';')\n",
    "pushkin_srad.columns = ['Date', 'All sky', 'Clear sky']\n",
    "pushkin_srad['Date'] = pushkin_srad['Date'].apply(\n",
    "    lambda x: datetime.datetime.strptime(test_date, '%d/%m/%Y'))\n",
    "pushkin_srad.set_index('Date', inplace=True)\n",
    "pushkin_srad.head(3)"
   ]
  },
  {
   "cell_type": "code",
   "execution_count": 102,
   "metadata": {},
   "outputs": [],
   "source": [
    "pushkin_srad.to_csv('dataset/database/pushkin-srad_formated.csv')"
   ]
  },
  {
   "cell_type": "code",
   "execution_count": 103,
   "metadata": {},
   "outputs": [
    {
     "data": {
      "text/html": [
       "<div>\n",
       "<style scoped>\n",
       "    .dataframe tbody tr th:only-of-type {\n",
       "        vertical-align: middle;\n",
       "    }\n",
       "\n",
       "    .dataframe tbody tr th {\n",
       "        vertical-align: top;\n",
       "    }\n",
       "\n",
       "    .dataframe thead th {\n",
       "        text-align: right;\n",
       "    }\n",
       "</style>\n",
       "<table border=\"1\" class=\"dataframe\">\n",
       "  <thead>\n",
       "    <tr style=\"text-align: right;\">\n",
       "      <th></th>\n",
       "      <th>T_min</th>\n",
       "      <th>T_max</th>\n",
       "      <th>Precipitation</th>\n",
       "    </tr>\n",
       "    <tr>\n",
       "      <th>Date</th>\n",
       "      <th></th>\n",
       "      <th></th>\n",
       "      <th></th>\n",
       "    </tr>\n",
       "  </thead>\n",
       "  <tbody>\n",
       "    <tr>\n",
       "      <th>2004-01-01</th>\n",
       "      <td>-6.9</td>\n",
       "      <td>-2.1</td>\n",
       "      <td>0.4</td>\n",
       "    </tr>\n",
       "    <tr>\n",
       "      <th>2004-01-02</th>\n",
       "      <td>-10.9</td>\n",
       "      <td>-6.0</td>\n",
       "      <td>1.4</td>\n",
       "    </tr>\n",
       "    <tr>\n",
       "      <th>2004-01-03</th>\n",
       "      <td>-14.5</td>\n",
       "      <td>-8.2</td>\n",
       "      <td>0.0</td>\n",
       "    </tr>\n",
       "    <tr>\n",
       "      <th>2004-01-04</th>\n",
       "      <td>-14.9</td>\n",
       "      <td>-10.5</td>\n",
       "      <td>0.0</td>\n",
       "    </tr>\n",
       "    <tr>\n",
       "      <th>2004-01-05</th>\n",
       "      <td>-14.5</td>\n",
       "      <td>-4.3</td>\n",
       "      <td>0.2</td>\n",
       "    </tr>\n",
       "    <tr>\n",
       "      <th>2004-01-06</th>\n",
       "      <td>-10.5</td>\n",
       "      <td>-5.0</td>\n",
       "      <td>0.3</td>\n",
       "    </tr>\n",
       "    <tr>\n",
       "      <th>2004-01-07</th>\n",
       "      <td>-11.2</td>\n",
       "      <td>-6.3</td>\n",
       "      <td>0.8</td>\n",
       "    </tr>\n",
       "    <tr>\n",
       "      <th>2004-01-08</th>\n",
       "      <td>-16.2</td>\n",
       "      <td>-10.8</td>\n",
       "      <td>0.0</td>\n",
       "    </tr>\n",
       "    <tr>\n",
       "      <th>2004-01-09</th>\n",
       "      <td>-17.3</td>\n",
       "      <td>-12.6</td>\n",
       "      <td>0.0</td>\n",
       "    </tr>\n",
       "    <tr>\n",
       "      <th>2004-01-10</th>\n",
       "      <td>-18.9</td>\n",
       "      <td>-10.1</td>\n",
       "      <td>0.0</td>\n",
       "    </tr>\n",
       "  </tbody>\n",
       "</table>\n",
       "</div>"
      ],
      "text/plain": [
       "            T_min  T_max  Precipitation\n",
       "Date                                   \n",
       "2004-01-01   -6.9   -2.1            0.4\n",
       "2004-01-02  -10.9   -6.0            1.4\n",
       "2004-01-03  -14.5   -8.2            0.0\n",
       "2004-01-04  -14.9  -10.5            0.0\n",
       "2004-01-05  -14.5   -4.3            0.2\n",
       "2004-01-06  -10.5   -5.0            0.3\n",
       "2004-01-07  -11.2   -6.3            0.8\n",
       "2004-01-08  -16.2  -10.8            0.0\n",
       "2004-01-09  -17.3  -12.6            0.0\n",
       "2004-01-10  -18.9  -10.1            0.0"
      ]
     },
     "execution_count": 103,
     "metadata": {},
     "output_type": "execute_result"
    }
   ],
   "source": [
    "pushkin_meteo = pd.read_csv('dataset/database/pushkin-meteo.csv', parse_dates=[[0, 1, 2]])\n",
    "pushkin_meteo.columns = ['Date', 'T_min', 'T_max', 'Precipitation']\n",
    "pushkin_meteo.set_index('Date', inplace=True)\n",
    "pushkin_meteo.head(10)"
   ]
  },
  {
   "cell_type": "code",
   "execution_count": 104,
   "metadata": {},
   "outputs": [],
   "source": [
    "pushkin_meteo.to_csv('dataset/database/pushkin-meteo_formated.csv')"
   ]
  },
  {
   "cell_type": "code",
   "execution_count": 106,
   "metadata": {},
   "outputs": [
    {
     "data": {
      "text/html": [
       "<div>\n",
       "<style scoped>\n",
       "    .dataframe tbody tr th:only-of-type {\n",
       "        vertical-align: middle;\n",
       "    }\n",
       "\n",
       "    .dataframe tbody tr th {\n",
       "        vertical-align: top;\n",
       "    }\n",
       "\n",
       "    .dataframe thead th {\n",
       "        text-align: right;\n",
       "    }\n",
       "</style>\n",
       "<table border=\"1\" class=\"dataframe\">\n",
       "  <thead>\n",
       "    <tr style=\"text-align: right;\">\n",
       "      <th></th>\n",
       "      <th>T_min</th>\n",
       "      <th>T_max</th>\n",
       "      <th>Precipitation</th>\n",
       "      <th>All sky</th>\n",
       "      <th>Clear sky</th>\n",
       "    </tr>\n",
       "    <tr>\n",
       "      <th>Date</th>\n",
       "      <th></th>\n",
       "      <th></th>\n",
       "      <th></th>\n",
       "      <th></th>\n",
       "      <th></th>\n",
       "    </tr>\n",
       "  </thead>\n",
       "  <tbody>\n",
       "    <tr>\n",
       "      <th>2004-01-01</th>\n",
       "      <td>-6.9</td>\n",
       "      <td>-2.1</td>\n",
       "      <td>0.4</td>\n",
       "      <td>5.54</td>\n",
       "      <td>0.37</td>\n",
       "    </tr>\n",
       "    <tr>\n",
       "      <th>2004-01-01</th>\n",
       "      <td>-6.9</td>\n",
       "      <td>-2.1</td>\n",
       "      <td>0.4</td>\n",
       "      <td>4.39</td>\n",
       "      <td>0.39</td>\n",
       "    </tr>\n",
       "    <tr>\n",
       "      <th>2004-01-01</th>\n",
       "      <td>-6.9</td>\n",
       "      <td>-2.1</td>\n",
       "      <td>0.4</td>\n",
       "      <td>5.29</td>\n",
       "      <td>0.41</td>\n",
       "    </tr>\n",
       "    <tr>\n",
       "      <th>2004-01-01</th>\n",
       "      <td>-6.9</td>\n",
       "      <td>-2.1</td>\n",
       "      <td>0.4</td>\n",
       "      <td>5.25</td>\n",
       "      <td>0.41</td>\n",
       "    </tr>\n",
       "    <tr>\n",
       "      <th>2004-01-01</th>\n",
       "      <td>-6.9</td>\n",
       "      <td>-2.1</td>\n",
       "      <td>0.4</td>\n",
       "      <td>4.42</td>\n",
       "      <td>0.41</td>\n",
       "    </tr>\n",
       "  </tbody>\n",
       "</table>\n",
       "</div>"
      ],
      "text/plain": [
       "            T_min  T_max  Precipitation  All sky  Clear sky\n",
       "Date                                                       \n",
       "2004-01-01   -6.9   -2.1            0.4     5.54       0.37\n",
       "2004-01-01   -6.9   -2.1            0.4     4.39       0.39\n",
       "2004-01-01   -6.9   -2.1            0.4     5.29       0.41\n",
       "2004-01-01   -6.9   -2.1            0.4     5.25       0.41\n",
       "2004-01-01   -6.9   -2.1            0.4     4.42       0.41"
      ]
     },
     "execution_count": 106,
     "metadata": {},
     "output_type": "execute_result"
    }
   ],
   "source": [
    "pushkin = pushkin_meteo.merge(pushkin_srad, on='Date')\n",
    "pushkin.head(5)"
   ]
  },
  {
   "cell_type": "code",
   "execution_count": 107,
   "metadata": {},
   "outputs": [
    {
     "data": {
      "text/html": [
       "<div>\n",
       "<style scoped>\n",
       "    .dataframe tbody tr th:only-of-type {\n",
       "        vertical-align: middle;\n",
       "    }\n",
       "\n",
       "    .dataframe tbody tr th {\n",
       "        vertical-align: top;\n",
       "    }\n",
       "\n",
       "    .dataframe thead th {\n",
       "        text-align: right;\n",
       "    }\n",
       "</style>\n",
       "<table border=\"1\" class=\"dataframe\">\n",
       "  <thead>\n",
       "    <tr style=\"text-align: right;\">\n",
       "      <th></th>\n",
       "      <th>T_min</th>\n",
       "      <th>T_max</th>\n",
       "      <th>Precipitation</th>\n",
       "      <th>All sky</th>\n",
       "      <th>Clear sky</th>\n",
       "    </tr>\n",
       "  </thead>\n",
       "  <tbody>\n",
       "    <tr>\n",
       "      <th>count</th>\n",
       "      <td>1.096000e+03</td>\n",
       "      <td>1.096000e+03</td>\n",
       "      <td>1.096000e+03</td>\n",
       "      <td>1096.000000</td>\n",
       "      <td>1096.00000</td>\n",
       "    </tr>\n",
       "    <tr>\n",
       "      <th>mean</th>\n",
       "      <td>-6.900000e+00</td>\n",
       "      <td>-2.100000e+00</td>\n",
       "      <td>4.000000e-01</td>\n",
       "      <td>6.907527</td>\n",
       "      <td>3.96448</td>\n",
       "    </tr>\n",
       "    <tr>\n",
       "      <th>std</th>\n",
       "      <td>1.323990e-13</td>\n",
       "      <td>4.354061e-14</td>\n",
       "      <td>7.164208e-15</td>\n",
       "      <td>1.184129</td>\n",
       "      <td>2.77626</td>\n",
       "    </tr>\n",
       "    <tr>\n",
       "      <th>min</th>\n",
       "      <td>-6.900000e+00</td>\n",
       "      <td>-2.100000e+00</td>\n",
       "      <td>4.000000e-01</td>\n",
       "      <td>4.120000</td>\n",
       "      <td>0.31000</td>\n",
       "    </tr>\n",
       "    <tr>\n",
       "      <th>25%</th>\n",
       "      <td>-6.900000e+00</td>\n",
       "      <td>-2.100000e+00</td>\n",
       "      <td>4.000000e-01</td>\n",
       "      <td>5.930000</td>\n",
       "      <td>1.16000</td>\n",
       "    </tr>\n",
       "    <tr>\n",
       "      <th>50%</th>\n",
       "      <td>-6.900000e+00</td>\n",
       "      <td>-2.100000e+00</td>\n",
       "      <td>4.000000e-01</td>\n",
       "      <td>6.875000</td>\n",
       "      <td>3.85000</td>\n",
       "    </tr>\n",
       "    <tr>\n",
       "      <th>75%</th>\n",
       "      <td>-6.900000e+00</td>\n",
       "      <td>-2.100000e+00</td>\n",
       "      <td>4.000000e-01</td>\n",
       "      <td>7.902500</td>\n",
       "      <td>6.66000</td>\n",
       "    </tr>\n",
       "    <tr>\n",
       "      <th>max</th>\n",
       "      <td>-6.900000e+00</td>\n",
       "      <td>-2.100000e+00</td>\n",
       "      <td>4.000000e-01</td>\n",
       "      <td>9.270000</td>\n",
       "      <td>8.79000</td>\n",
       "    </tr>\n",
       "  </tbody>\n",
       "</table>\n",
       "</div>"
      ],
      "text/plain": [
       "              T_min         T_max  Precipitation      All sky   Clear sky\n",
       "count  1.096000e+03  1.096000e+03   1.096000e+03  1096.000000  1096.00000\n",
       "mean  -6.900000e+00 -2.100000e+00   4.000000e-01     6.907527     3.96448\n",
       "std    1.323990e-13  4.354061e-14   7.164208e-15     1.184129     2.77626\n",
       "min   -6.900000e+00 -2.100000e+00   4.000000e-01     4.120000     0.31000\n",
       "25%   -6.900000e+00 -2.100000e+00   4.000000e-01     5.930000     1.16000\n",
       "50%   -6.900000e+00 -2.100000e+00   4.000000e-01     6.875000     3.85000\n",
       "75%   -6.900000e+00 -2.100000e+00   4.000000e-01     7.902500     6.66000\n",
       "max   -6.900000e+00 -2.100000e+00   4.000000e-01     9.270000     8.79000"
      ]
     },
     "execution_count": 107,
     "metadata": {},
     "output_type": "execute_result"
    }
   ],
   "source": [
    "pushkin.describe()"
   ]
  },
  {
   "cell_type": "code",
   "execution_count": 108,
   "metadata": {},
   "outputs": [],
   "source": [
    "pushkin.to_csv('dataset/database/pushkin.csv')"
   ]
  }
 ],
 "metadata": {
  "kernelspec": {
   "display_name": "Python 3",
   "language": "python",
   "name": "python3"
  },
  "language_info": {
   "codemirror_mode": {
    "name": "ipython",
    "version": 3
   },
   "file_extension": ".py",
   "mimetype": "text/x-python",
   "name": "python",
   "nbconvert_exporter": "python",
   "pygments_lexer": "ipython3",
   "version": "3.7.3"
  }
 },
 "nbformat": 4,
 "nbformat_minor": 2
}
