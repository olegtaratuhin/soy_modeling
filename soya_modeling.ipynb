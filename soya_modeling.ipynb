{
  "nbformat": 4,
  "nbformat_minor": 0,
  "metadata": {
    "colab": {
      "name": "soya_modeling.ipynb",
      "version": "0.3.2",
      "provenance": [],
      "collapsed_sections": [],
      "toc_visible": true
    },
    "kernelspec": {
      "name": "python3",
      "display_name": "Python 3"
    },
    "accelerator": "TPU"
  },
  "cells": [
    {
      "metadata": {
        "id": "uZo3etVD_Xnq",
        "colab_type": "text"
      },
      "cell_type": "markdown",
      "source": [
        "# Soy blossom period prediction model"
      ]
    },
    {
      "metadata": {
        "id": "8uvy2UF6O_zR",
        "colab_type": "text"
      },
      "cell_type": "markdown",
      "source": [
        "## Setup"
      ]
    },
    {
      "metadata": {
        "id": "W5rFAVaqARsQ",
        "colab_type": "text"
      },
      "cell_type": "markdown",
      "source": [
        "### Configure environment"
      ]
    },
    {
      "metadata": {
        "id": "4ji6Pv5z19yh",
        "colab_type": "code",
        "outputId": "7ca88a29-2299-49c3-c051-aa9fa9357ea4",
        "colab": {
          "base_uri": "https://localhost:8080/",
          "height": 52
        }
      },
      "cell_type": "code",
      "source": [
        "!pip install pydot"
      ],
      "execution_count": 0,
      "outputs": [
        {
          "output_type": "stream",
          "text": [
            "Requirement already satisfied: pydot in /usr/local/lib/python3.6/dist-packages (1.3.0)\n",
            "Requirement already satisfied: pyparsing>=2.1.4 in /usr/local/lib/python3.6/dist-packages (from pydot) (2.3.1)\n"
          ],
          "name": "stdout"
        }
      ]
    },
    {
      "metadata": {
        "id": "TOEIMPH508ai",
        "colab_type": "text"
      },
      "cell_type": "markdown",
      "source": [
        "### Show the machine details the environment is running on"
      ]
    },
    {
      "metadata": {
        "id": "uEjfrbGN1VAg",
        "colab_type": "text"
      },
      "cell_type": "markdown",
      "source": [
        "Show CPU info"
      ]
    },
    {
      "metadata": {
        "id": "slRC3KmWy9B0",
        "colab_type": "code",
        "outputId": "d1d236d0-9197-488b-d3e9-784157a032d5",
        "colab": {
          "base_uri": "https://localhost:8080/",
          "height": 975
        }
      },
      "cell_type": "code",
      "source": [
        "!cat /proc/cpuinfo"
      ],
      "execution_count": 3,
      "outputs": [
        {
          "output_type": "stream",
          "text": [
            "processor\t: 0\n",
            "vendor_id\t: GenuineIntel\n",
            "cpu family\t: 6\n",
            "model\t\t: 63\n",
            "model name\t: Intel(R) Xeon(R) CPU @ 2.30GHz\n",
            "stepping\t: 0\n",
            "microcode\t: 0x1\n",
            "cpu MHz\t\t: 2300.000\n",
            "cache size\t: 46080 KB\n",
            "physical id\t: 0\n",
            "siblings\t: 2\n",
            "core id\t\t: 0\n",
            "cpu cores\t: 1\n",
            "apicid\t\t: 0\n",
            "initial apicid\t: 0\n",
            "fpu\t\t: yes\n",
            "fpu_exception\t: yes\n",
            "cpuid level\t: 13\n",
            "wp\t\t: yes\n",
            "flags\t\t: fpu vme de pse tsc msr pae mce cx8 apic sep mtrr pge mca cmov pat pse36 clflush mmx fxsr sse sse2 ss ht syscall nx pdpe1gb rdtscp lm constant_tsc rep_good nopl xtopology nonstop_tsc cpuid tsc_known_freq pni pclmulqdq ssse3 fma cx16 pcid sse4_1 sse4_2 x2apic movbe popcnt aes xsave avx f16c rdrand hypervisor lahf_lm abm invpcid_single pti ssbd ibrs ibpb stibp fsgsbase tsc_adjust bmi1 avx2 smep bmi2 erms invpcid xsaveopt arat arch_capabilities\n",
            "bugs\t\t: cpu_meltdown spectre_v1 spectre_v2 spec_store_bypass l1tf\n",
            "bogomips\t: 4600.00\n",
            "clflush size\t: 64\n",
            "cache_alignment\t: 64\n",
            "address sizes\t: 46 bits physical, 48 bits virtual\n",
            "power management:\n",
            "\n",
            "processor\t: 1\n",
            "vendor_id\t: GenuineIntel\n",
            "cpu family\t: 6\n",
            "model\t\t: 63\n",
            "model name\t: Intel(R) Xeon(R) CPU @ 2.30GHz\n",
            "stepping\t: 0\n",
            "microcode\t: 0x1\n",
            "cpu MHz\t\t: 2300.000\n",
            "cache size\t: 46080 KB\n",
            "physical id\t: 0\n",
            "siblings\t: 2\n",
            "core id\t\t: 0\n",
            "cpu cores\t: 1\n",
            "apicid\t\t: 1\n",
            "initial apicid\t: 1\n",
            "fpu\t\t: yes\n",
            "fpu_exception\t: yes\n",
            "cpuid level\t: 13\n",
            "wp\t\t: yes\n",
            "flags\t\t: fpu vme de pse tsc msr pae mce cx8 apic sep mtrr pge mca cmov pat pse36 clflush mmx fxsr sse sse2 ss ht syscall nx pdpe1gb rdtscp lm constant_tsc rep_good nopl xtopology nonstop_tsc cpuid tsc_known_freq pni pclmulqdq ssse3 fma cx16 pcid sse4_1 sse4_2 x2apic movbe popcnt aes xsave avx f16c rdrand hypervisor lahf_lm abm invpcid_single pti ssbd ibrs ibpb stibp fsgsbase tsc_adjust bmi1 avx2 smep bmi2 erms invpcid xsaveopt arat arch_capabilities\n",
            "bugs\t\t: cpu_meltdown spectre_v1 spectre_v2 spec_store_bypass l1tf\n",
            "bogomips\t: 4600.00\n",
            "clflush size\t: 64\n",
            "cache_alignment\t: 64\n",
            "address sizes\t: 46 bits physical, 48 bits virtual\n",
            "power management:\n",
            "\n"
          ],
          "name": "stdout"
        }
      ]
    },
    {
      "metadata": {
        "id": "DCtwxw0i1YA7",
        "colab_type": "text"
      },
      "cell_type": "markdown",
      "source": [
        "Show RAM info"
      ]
    },
    {
      "metadata": {
        "id": "cRZfNgbA1Rmq",
        "colab_type": "code",
        "outputId": "bfd867e8-0f15-432e-bb7d-82ea4cf1642b",
        "colab": {
          "base_uri": "https://localhost:8080/",
          "height": 799
        }
      },
      "cell_type": "code",
      "source": [
        "!cat /proc/meminfo"
      ],
      "execution_count": 4,
      "outputs": [
        {
          "output_type": "stream",
          "text": [
            "MemTotal:       13335268 kB\n",
            "MemFree:        11005368 kB\n",
            "MemAvailable:   12608924 kB\n",
            "Buffers:           70684 kB\n",
            "Cached:          1692992 kB\n",
            "SwapCached:            0 kB\n",
            "Active:           566212 kB\n",
            "Inactive:        1493892 kB\n",
            "Active(anon):     275056 kB\n",
            "Inactive(anon):      348 kB\n",
            "Active(file):     291156 kB\n",
            "Inactive(file):  1493544 kB\n",
            "Unevictable:           0 kB\n",
            "Mlocked:               0 kB\n",
            "SwapTotal:             0 kB\n",
            "SwapFree:              0 kB\n",
            "Dirty:               940 kB\n",
            "Writeback:            48 kB\n",
            "AnonPages:        296512 kB\n",
            "Mapped:           157420 kB\n",
            "Shmem:               904 kB\n",
            "Slab:             152956 kB\n",
            "SReclaimable:     120016 kB\n",
            "SUnreclaim:        32940 kB\n",
            "KernelStack:        4012 kB\n",
            "PageTables:         4956 kB\n",
            "NFS_Unstable:          0 kB\n",
            "Bounce:                0 kB\n",
            "WritebackTmp:          0 kB\n",
            "CommitLimit:     6667632 kB\n",
            "Committed_AS:    1852176 kB\n",
            "VmallocTotal:   34359738367 kB\n",
            "VmallocUsed:           0 kB\n",
            "VmallocChunk:          0 kB\n",
            "AnonHugePages:         0 kB\n",
            "ShmemHugePages:        0 kB\n",
            "ShmemPmdMapped:        0 kB\n",
            "HugePages_Total:       0\n",
            "HugePages_Free:        0\n",
            "HugePages_Rsvd:        0\n",
            "HugePages_Surp:        0\n",
            "Hugepagesize:       2048 kB\n",
            "DirectMap4k:       88052 kB\n",
            "DirectMap2M:     5154816 kB\n",
            "DirectMap1G:    10485760 kB\n"
          ],
          "name": "stdout"
        }
      ]
    },
    {
      "metadata": {
        "id": "98yFKWiy1mOo",
        "colab_type": "text"
      },
      "cell_type": "markdown",
      "source": [
        "Show GPU info"
      ]
    },
    {
      "metadata": {
        "id": "sCustmJB1pRd",
        "colab_type": "code",
        "outputId": "24fab836-9db3-46b6-ff8a-44ae8b8ecfee",
        "colab": {
          "base_uri": "https://localhost:8080/",
          "height": 486
        }
      },
      "cell_type": "code",
      "source": [
        "from tensorflow.python.client import device_lib\n",
        "device_lib.list_local_devices()"
      ],
      "execution_count": 5,
      "outputs": [
        {
          "output_type": "execute_result",
          "data": {
            "text/plain": [
              "[name: \"/device:CPU:0\"\n",
              " device_type: \"CPU\"\n",
              " memory_limit: 268435456\n",
              " locality {\n",
              " }\n",
              " incarnation: 14734221845194138251, name: \"/device:XLA_CPU:0\"\n",
              " device_type: \"XLA_CPU\"\n",
              " memory_limit: 17179869184\n",
              " locality {\n",
              " }\n",
              " incarnation: 9478793680712516228\n",
              " physical_device_desc: \"device: XLA_CPU device\", name: \"/device:XLA_GPU:0\"\n",
              " device_type: \"XLA_GPU\"\n",
              " memory_limit: 17179869184\n",
              " locality {\n",
              " }\n",
              " incarnation: 11560907682155689090\n",
              " physical_device_desc: \"device: XLA_GPU device\", name: \"/device:GPU:0\"\n",
              " device_type: \"GPU\"\n",
              " memory_limit: 11276946637\n",
              " locality {\n",
              "   bus_id: 1\n",
              "   links {\n",
              "   }\n",
              " }\n",
              " incarnation: 10103634801557896214\n",
              " physical_device_desc: \"device: 0, name: Tesla K80, pci bus id: 0000:00:04.0, compute capability: 3.7\"]"
            ]
          },
          "metadata": {
            "tags": []
          },
          "execution_count": 5
        }
      ]
    },
    {
      "metadata": {
        "id": "CABv94y8HL3Z",
        "colab_type": "text"
      },
      "cell_type": "markdown",
      "source": [
        "### Import modules"
      ]
    },
    {
      "metadata": {
        "id": "b7tG1GdlF4V5",
        "colab_type": "code",
        "colab": {}
      },
      "cell_type": "code",
      "source": [
        "from matplotlib import cm\n",
        "from matplotlib import gridspec\n",
        "from matplotlib import pyplot as plt\n",
        "import numpy as np\n",
        "import pandas as pd\n",
        "from sklearn import metrics\n",
        "import random\n",
        "from scipy.stats.stats import pearsonr\n",
        "\n",
        "import tensorflow as tf\n",
        "import keras\n",
        "from sklearn.metrics import r2_score as r2_metric\n",
        "from keras import optimizers\n",
        "from keras import backend as K"
      ],
      "execution_count": 0,
      "outputs": []
    },
    {
      "metadata": {
        "id": "fCkdb0IvyopK",
        "colab_type": "code",
        "colab": {}
      },
      "cell_type": "code",
      "source": [
        "def r2(y_true, y_pred):\n",
        "    SS_res =  K.sum(K.square( y_true-y_pred )) \n",
        "    SS_tot = K.sum(K.square( y_true - K.mean(y_true) ) ) \n",
        "    return ( 1 - SS_res/(SS_tot + K.epsilon()) )"
      ],
      "execution_count": 0,
      "outputs": []
    },
    {
      "metadata": {
        "id": "nJCZh6DAjeXR",
        "colab_type": "text"
      },
      "cell_type": "markdown",
      "source": [
        "### Set up the dataset"
      ]
    },
    {
      "metadata": {
        "id": "jLMzr6Q9HjOn",
        "colab_type": "text"
      },
      "cell_type": "markdown",
      "source": [
        "Download a dataset from shared Drive folder. "
      ]
    },
    {
      "metadata": {
        "id": "JCbXhbKiHppQ",
        "colab_type": "code",
        "outputId": "2a804ba8-6b27-42cf-bc03-35292c76dcb0",
        "colab": {
          "base_uri": "https://localhost:8080/",
          "height": 170
        }
      },
      "cell_type": "code",
      "source": [
        "!pip install -U -q PyDrive\n",
        "from pydrive.auth import GoogleAuth\n",
        "from pydrive.drive import GoogleDrive\n",
        "from google.colab import auth\n",
        "from oauth2client.client import GoogleCredentials\n",
        "\n",
        "# 1. Authenticate and create the PyDrive client.\n",
        "auth.authenticate_user()\n",
        "gauth = GoogleAuth()\n",
        "gauth.credentials = GoogleCredentials.get_application_default()\n",
        "drive = GoogleDrive(gauth)\n",
        "\n",
        "#2. Get the file\n",
        "downloaded = drive.CreateFile({'id':'1uoxGcvWDS8a58jSG5ErybQ3ok1V3biei'})\n",
        "downloaded.GetContentFile('soydata.csv')"
      ],
      "execution_count": 3,
      "outputs": [
        {
          "output_type": "stream",
          "text": [
            "\u001b[K    100% |████████████████████████████████| 993kB 759kB/s \n",
            "\u001b[?25h  Building wheel for PyDrive (setup.py) ... \u001b[?25ldone\n",
            "\u001b[?25h\n",
            "WARNING: The TensorFlow contrib module will not be included in TensorFlow 2.0.\n",
            "For more information, please see:\n",
            "  * https://github.com/tensorflow/community/blob/master/rfcs/20180907-contrib-sunset.md\n",
            "  * https://github.com/tensorflow/addons\n",
            "If you depend on functionality not listed there, please file an issue.\n",
            "\n"
          ],
          "name": "stdout"
        }
      ]
    },
    {
      "metadata": {
        "id": "ore9JMXyjk_q",
        "colab_type": "text"
      },
      "cell_type": "markdown",
      "source": [
        "Import data set into pandas dataframe. The dataset contains a missing value on one of the key features the model will be training with, so we need to remove that explicitly"
      ]
    },
    {
      "metadata": {
        "id": "cMyVIEldRP9u",
        "colab_type": "code",
        "outputId": "901fe925-000c-451e-ba6c-d027697116d9",
        "colab": {
          "base_uri": "https://localhost:8080/",
          "height": 204
        }
      },
      "cell_type": "code",
      "source": [
        "# df = pd.read_csv('soydata.csv', index_col=[0, 1], prefix='Experiment')\n",
        "df = pd.read_csv('soydata.csv')\n",
        "df.dropna()\n",
        "df.head(5)"
      ],
      "execution_count": 211,
      "outputs": [
        {
          "output_type": "execute_result",
          "data": {
            "text/html": [
              "<div>\n",
              "<style scoped>\n",
              "    .dataframe tbody tr th:only-of-type {\n",
              "        vertical-align: middle;\n",
              "    }\n",
              "\n",
              "    .dataframe tbody tr th {\n",
              "        vertical-align: top;\n",
              "    }\n",
              "\n",
              "    .dataframe thead th {\n",
              "        text-align: right;\n",
              "    }\n",
              "</style>\n",
              "<table border=\"1\" class=\"dataframe\">\n",
              "  <thead>\n",
              "    <tr style=\"text-align: right;\">\n",
              "      <th></th>\n",
              "      <th>ID</th>\n",
              "      <th>d</th>\n",
              "      <th>t_min</th>\n",
              "      <th>t_max</th>\n",
              "      <th>dlen</th>\n",
              "      <th>day</th>\n",
              "      <th>station</th>\n",
              "      <th>category</th>\n",
              "      <th>name</th>\n",
              "      <th>state</th>\n",
              "    </tr>\n",
              "  </thead>\n",
              "  <tbody>\n",
              "    <tr>\n",
              "      <th>0</th>\n",
              "      <td>0</td>\n",
              "      <td>0</td>\n",
              "      <td>0.0</td>\n",
              "      <td>0.0</td>\n",
              "      <td>0.021642</td>\n",
              "      <td>0.000000</td>\n",
              "      <td>34927</td>\n",
              "      <td>5830</td>\n",
              "      <td>Fiskeby 1040-4-2</td>\n",
              "      <td>0.1</td>\n",
              "    </tr>\n",
              "    <tr>\n",
              "      <th>1</th>\n",
              "      <td>0</td>\n",
              "      <td>1</td>\n",
              "      <td>0.0</td>\n",
              "      <td>0.0</td>\n",
              "      <td>0.043739</td>\n",
              "      <td>0.014925</td>\n",
              "      <td>34927</td>\n",
              "      <td>5830</td>\n",
              "      <td>Fiskeby 1040-4-2</td>\n",
              "      <td>0.1</td>\n",
              "    </tr>\n",
              "    <tr>\n",
              "      <th>2</th>\n",
              "      <td>0</td>\n",
              "      <td>2</td>\n",
              "      <td>0.0</td>\n",
              "      <td>0.0</td>\n",
              "      <td>0.066282</td>\n",
              "      <td>0.029851</td>\n",
              "      <td>34927</td>\n",
              "      <td>5830</td>\n",
              "      <td>Fiskeby 1040-4-2</td>\n",
              "      <td>0.1</td>\n",
              "    </tr>\n",
              "    <tr>\n",
              "      <th>3</th>\n",
              "      <td>0</td>\n",
              "      <td>3</td>\n",
              "      <td>0.0</td>\n",
              "      <td>0.0</td>\n",
              "      <td>0.089261</td>\n",
              "      <td>0.044776</td>\n",
              "      <td>34927</td>\n",
              "      <td>5830</td>\n",
              "      <td>Fiskeby 1040-4-2</td>\n",
              "      <td>0.1</td>\n",
              "    </tr>\n",
              "    <tr>\n",
              "      <th>4</th>\n",
              "      <td>0</td>\n",
              "      <td>4</td>\n",
              "      <td>0.0</td>\n",
              "      <td>0.0</td>\n",
              "      <td>0.112667</td>\n",
              "      <td>0.059701</td>\n",
              "      <td>34927</td>\n",
              "      <td>5830</td>\n",
              "      <td>Fiskeby 1040-4-2</td>\n",
              "      <td>0.1</td>\n",
              "    </tr>\n",
              "  </tbody>\n",
              "</table>\n",
              "</div>"
            ],
            "text/plain": [
              "   ID  d  t_min  t_max      dlen       day  station  category  \\\n",
              "0   0  0    0.0    0.0  0.021642  0.000000    34927      5830   \n",
              "1   0  1    0.0    0.0  0.043739  0.014925    34927      5830   \n",
              "2   0  2    0.0    0.0  0.066282  0.029851    34927      5830   \n",
              "3   0  3    0.0    0.0  0.089261  0.044776    34927      5830   \n",
              "4   0  4    0.0    0.0  0.112667  0.059701    34927      5830   \n",
              "\n",
              "               name  state  \n",
              "0  Fiskeby 1040-4-2    0.1  \n",
              "1  Fiskeby 1040-4-2    0.1  \n",
              "2  Fiskeby 1040-4-2    0.1  \n",
              "3  Fiskeby 1040-4-2    0.1  \n",
              "4  Fiskeby 1040-4-2    0.1  "
            ]
          },
          "metadata": {
            "tags": []
          },
          "execution_count": 211
        }
      ]
    },
    {
      "metadata": {
        "id": "ihMUMlDPp5j8",
        "colab_type": "text"
      },
      "cell_type": "markdown",
      "source": [
        "The data in now loaded, it uses format that will be described somewhere here some day. "
      ]
    },
    {
      "metadata": {
        "id": "TRck9wib-rG8",
        "colab_type": "text"
      },
      "cell_type": "markdown",
      "source": [
        "### Feature extraction"
      ]
    },
    {
      "metadata": {
        "id": "EFakYqHpTYb5",
        "colab_type": "text"
      },
      "cell_type": "markdown",
      "source": [
        "Shuffle the data. As dataset uses multiindex that is a little tricky, we need to shuffle only the certain level, but the days inside a single experiment shall be in natural order."
      ]
    },
    {
      "metadata": {
        "id": "nv7EdGARsKQG",
        "colab_type": "code",
        "colab": {}
      },
      "cell_type": "code",
      "source": [
        "shuffled_indexes = [i for i in range(len(df.index.levels[0]))]\n",
        "random.shuffle(shuffled_indexes)\n",
        "new_indexes = sorted(df.index, key=lambda x: shuffled_indexes.index(x[0]))"
      ],
      "execution_count": 0,
      "outputs": []
    },
    {
      "metadata": {
        "id": "qMKWEaBhTVDA",
        "colab_type": "code",
        "colab": {}
      },
      "cell_type": "code",
      "source": [
        "df = df.reindex(new_indexes)"
      ],
      "execution_count": 0,
      "outputs": []
    },
    {
      "metadata": {
        "id": "-weuRcdqNAdU",
        "colab_type": "code",
        "outputId": "deaf9158-5d92-4849-976c-c4ec1d981c4c",
        "colab": {
          "base_uri": "https://localhost:8080/",
          "height": 204
        }
      },
      "cell_type": "code",
      "source": [
        "df.head(5)"
      ],
      "execution_count": 162,
      "outputs": [
        {
          "output_type": "execute_result",
          "data": {
            "text/html": [
              "<div>\n",
              "<style scoped>\n",
              "    .dataframe tbody tr th:only-of-type {\n",
              "        vertical-align: middle;\n",
              "    }\n",
              "\n",
              "    .dataframe tbody tr th {\n",
              "        vertical-align: top;\n",
              "    }\n",
              "\n",
              "    .dataframe thead th {\n",
              "        text-align: right;\n",
              "    }\n",
              "</style>\n",
              "<table border=\"1\" class=\"dataframe\">\n",
              "  <thead>\n",
              "    <tr style=\"text-align: right;\">\n",
              "      <th></th>\n",
              "      <th>ID</th>\n",
              "      <th>d</th>\n",
              "      <th>t_min</th>\n",
              "      <th>t_max</th>\n",
              "      <th>dlen</th>\n",
              "      <th>day</th>\n",
              "      <th>station</th>\n",
              "      <th>category</th>\n",
              "      <th>name</th>\n",
              "      <th>state</th>\n",
              "    </tr>\n",
              "  </thead>\n",
              "  <tbody>\n",
              "    <tr>\n",
              "      <th>0</th>\n",
              "      <td>0</td>\n",
              "      <td>0</td>\n",
              "      <td>0.0</td>\n",
              "      <td>0.0</td>\n",
              "      <td>0.021642</td>\n",
              "      <td>0.000000</td>\n",
              "      <td>34927</td>\n",
              "      <td>5830</td>\n",
              "      <td>Fiskeby 1040-4-2</td>\n",
              "      <td>0.1</td>\n",
              "    </tr>\n",
              "    <tr>\n",
              "      <th>1</th>\n",
              "      <td>0</td>\n",
              "      <td>1</td>\n",
              "      <td>0.0</td>\n",
              "      <td>0.0</td>\n",
              "      <td>0.043739</td>\n",
              "      <td>0.014925</td>\n",
              "      <td>34927</td>\n",
              "      <td>5830</td>\n",
              "      <td>Fiskeby 1040-4-2</td>\n",
              "      <td>0.1</td>\n",
              "    </tr>\n",
              "    <tr>\n",
              "      <th>2</th>\n",
              "      <td>0</td>\n",
              "      <td>2</td>\n",
              "      <td>0.0</td>\n",
              "      <td>0.0</td>\n",
              "      <td>0.066282</td>\n",
              "      <td>0.029851</td>\n",
              "      <td>34927</td>\n",
              "      <td>5830</td>\n",
              "      <td>Fiskeby 1040-4-2</td>\n",
              "      <td>0.1</td>\n",
              "    </tr>\n",
              "    <tr>\n",
              "      <th>3</th>\n",
              "      <td>0</td>\n",
              "      <td>3</td>\n",
              "      <td>0.0</td>\n",
              "      <td>0.0</td>\n",
              "      <td>0.089261</td>\n",
              "      <td>0.044776</td>\n",
              "      <td>34927</td>\n",
              "      <td>5830</td>\n",
              "      <td>Fiskeby 1040-4-2</td>\n",
              "      <td>0.1</td>\n",
              "    </tr>\n",
              "    <tr>\n",
              "      <th>4</th>\n",
              "      <td>0</td>\n",
              "      <td>4</td>\n",
              "      <td>0.0</td>\n",
              "      <td>0.0</td>\n",
              "      <td>0.112667</td>\n",
              "      <td>0.059701</td>\n",
              "      <td>34927</td>\n",
              "      <td>5830</td>\n",
              "      <td>Fiskeby 1040-4-2</td>\n",
              "      <td>0.1</td>\n",
              "    </tr>\n",
              "  </tbody>\n",
              "</table>\n",
              "</div>"
            ],
            "text/plain": [
              "   ID  d  t_min  t_max      dlen       day  station  category  \\\n",
              "0   0  0    0.0    0.0  0.021642  0.000000    34927      5830   \n",
              "1   0  1    0.0    0.0  0.043739  0.014925    34927      5830   \n",
              "2   0  2    0.0    0.0  0.066282  0.029851    34927      5830   \n",
              "3   0  3    0.0    0.0  0.089261  0.044776    34927      5830   \n",
              "4   0  4    0.0    0.0  0.112667  0.059701    34927      5830   \n",
              "\n",
              "               name  state  \n",
              "0  Fiskeby 1040-4-2    0.1  \n",
              "1  Fiskeby 1040-4-2    0.1  \n",
              "2  Fiskeby 1040-4-2    0.1  \n",
              "3  Fiskeby 1040-4-2    0.1  \n",
              "4  Fiskeby 1040-4-2    0.1  "
            ]
          },
          "metadata": {
            "tags": []
          },
          "execution_count": 162
        }
      ]
    },
    {
      "metadata": {
        "id": "DMi7GUsSTjD-",
        "colab_type": "text"
      },
      "cell_type": "markdown",
      "source": [
        "Select features and target parameter. As the data is shuffled at this point we no longer need multi-index, and selecting values will truncate that information automatically."
      ]
    },
    {
      "metadata": {
        "id": "1dhvH30Rh0sD",
        "colab_type": "code",
        "colab": {}
      },
      "cell_type": "code",
      "source": [
        "df = pd.get_dummies(df, columns=[\"name\"])"
      ],
      "execution_count": 0,
      "outputs": []
    },
    {
      "metadata": {
        "id": "uWoNtcYIiQ1o",
        "colab_type": "code",
        "outputId": "ab54cbfe-c709-4eb0-ebeb-ca346b713b50",
        "colab": {
          "base_uri": "https://localhost:8080/",
          "height": 179
        }
      },
      "cell_type": "code",
      "source": [
        "df.head(3)"
      ],
      "execution_count": 213,
      "outputs": [
        {
          "output_type": "execute_result",
          "data": {
            "text/html": [
              "<div>\n",
              "<style scoped>\n",
              "    .dataframe tbody tr th:only-of-type {\n",
              "        vertical-align: middle;\n",
              "    }\n",
              "\n",
              "    .dataframe tbody tr th {\n",
              "        vertical-align: top;\n",
              "    }\n",
              "\n",
              "    .dataframe thead th {\n",
              "        text-align: right;\n",
              "    }\n",
              "</style>\n",
              "<table border=\"1\" class=\"dataframe\">\n",
              "  <thead>\n",
              "    <tr style=\"text-align: right;\">\n",
              "      <th></th>\n",
              "      <th>ID</th>\n",
              "      <th>d</th>\n",
              "      <th>t_min</th>\n",
              "      <th>t_max</th>\n",
              "      <th>dlen</th>\n",
              "      <th>day</th>\n",
              "      <th>station</th>\n",
              "      <th>category</th>\n",
              "      <th>state</th>\n",
              "      <th>name_Altom</th>\n",
              "      <th>name_Fiskeby 1040-4-2</th>\n",
              "      <th>name_KG-20</th>\n",
              "      <th>name_Okskaya</th>\n",
              "      <th>name_P·EP 18</th>\n",
              "      <th>name_P·EP 2</th>\n",
              "      <th>name_P·EP 27</th>\n",
              "      <th>name_P·EP 28</th>\n",
              "      <th>name_Svetlaya</th>\n",
              "    </tr>\n",
              "  </thead>\n",
              "  <tbody>\n",
              "    <tr>\n",
              "      <th>0</th>\n",
              "      <td>0</td>\n",
              "      <td>0</td>\n",
              "      <td>0.0</td>\n",
              "      <td>0.0</td>\n",
              "      <td>0.021642</td>\n",
              "      <td>0.000000</td>\n",
              "      <td>34927</td>\n",
              "      <td>5830</td>\n",
              "      <td>0.1</td>\n",
              "      <td>0</td>\n",
              "      <td>1</td>\n",
              "      <td>0</td>\n",
              "      <td>0</td>\n",
              "      <td>0</td>\n",
              "      <td>0</td>\n",
              "      <td>0</td>\n",
              "      <td>0</td>\n",
              "      <td>0</td>\n",
              "    </tr>\n",
              "    <tr>\n",
              "      <th>1</th>\n",
              "      <td>0</td>\n",
              "      <td>1</td>\n",
              "      <td>0.0</td>\n",
              "      <td>0.0</td>\n",
              "      <td>0.043739</td>\n",
              "      <td>0.014925</td>\n",
              "      <td>34927</td>\n",
              "      <td>5830</td>\n",
              "      <td>0.1</td>\n",
              "      <td>0</td>\n",
              "      <td>1</td>\n",
              "      <td>0</td>\n",
              "      <td>0</td>\n",
              "      <td>0</td>\n",
              "      <td>0</td>\n",
              "      <td>0</td>\n",
              "      <td>0</td>\n",
              "      <td>0</td>\n",
              "    </tr>\n",
              "    <tr>\n",
              "      <th>2</th>\n",
              "      <td>0</td>\n",
              "      <td>2</td>\n",
              "      <td>0.0</td>\n",
              "      <td>0.0</td>\n",
              "      <td>0.066282</td>\n",
              "      <td>0.029851</td>\n",
              "      <td>34927</td>\n",
              "      <td>5830</td>\n",
              "      <td>0.1</td>\n",
              "      <td>0</td>\n",
              "      <td>1</td>\n",
              "      <td>0</td>\n",
              "      <td>0</td>\n",
              "      <td>0</td>\n",
              "      <td>0</td>\n",
              "      <td>0</td>\n",
              "      <td>0</td>\n",
              "      <td>0</td>\n",
              "    </tr>\n",
              "  </tbody>\n",
              "</table>\n",
              "</div>"
            ],
            "text/plain": [
              "   ID  d  t_min  t_max      dlen       day  station  category  state  \\\n",
              "0   0  0    0.0    0.0  0.021642  0.000000    34927      5830    0.1   \n",
              "1   0  1    0.0    0.0  0.043739  0.014925    34927      5830    0.1   \n",
              "2   0  2    0.0    0.0  0.066282  0.029851    34927      5830    0.1   \n",
              "\n",
              "   name_Altom  name_Fiskeby 1040-4-2  name_KG-20  name_Okskaya  name_P·EP 18  \\\n",
              "0           0                      1           0             0             0   \n",
              "1           0                      1           0             0             0   \n",
              "2           0                      1           0             0             0   \n",
              "\n",
              "   name_P·EP 2  name_P·EP 27  name_P·EP 28  name_Svetlaya  \n",
              "0            0             0             0              0  \n",
              "1            0             0             0              0  \n",
              "2            0             0             0              0  "
            ]
          },
          "metadata": {
            "tags": []
          },
          "execution_count": 213
        }
      ]
    },
    {
      "metadata": {
        "id": "_opCw06ziXyI",
        "colab_type": "code",
        "outputId": "7f736d06-04f0-4830-904a-7c4f6a124ad0",
        "colab": {
          "base_uri": "https://localhost:8080/",
          "height": 170
        }
      },
      "cell_type": "code",
      "source": [
        "sorts = list(filter(lambda x: x.startswith(\"name_\"), df.columns))\n",
        "sorts"
      ],
      "execution_count": 214,
      "outputs": [
        {
          "output_type": "execute_result",
          "data": {
            "text/plain": [
              "['name_Altom',\n",
              " 'name_Fiskeby 1040-4-2',\n",
              " 'name_KG-20',\n",
              " 'name_Okskaya',\n",
              " 'name_P·EP 18',\n",
              " 'name_P·EP 2',\n",
              " 'name_P·EP 27',\n",
              " 'name_P·EP 28',\n",
              " 'name_Svetlaya']"
            ]
          },
          "metadata": {
            "tags": []
          },
          "execution_count": 214
        }
      ]
    },
    {
      "metadata": {
        "id": "dlpnB55syxkr",
        "colab_type": "code",
        "colab": {}
      },
      "cell_type": "code",
      "source": [
        "features = ['t_min', 't_max', 'dlen', 'day']\n",
        "features.extend(sorts)\n",
        "data = df[features].values\n",
        "target = df['state'].values"
      ],
      "execution_count": 0,
      "outputs": []
    },
    {
      "metadata": {
        "id": "kfX4V28pg-GK",
        "colab_type": "code",
        "outputId": "e0345f3b-ec7e-4de3-91e3-5ff84444f4b0",
        "colab": {
          "base_uri": "https://localhost:8080/",
          "height": 238
        }
      },
      "cell_type": "code",
      "source": [
        "data"
      ],
      "execution_count": 167,
      "outputs": [
        {
          "output_type": "execute_result",
          "data": {
            "text/plain": [
              "array([[0.        , 0.        , 0.02164167, ..., 0.        , 0.        ,\n",
              "        0.        ],\n",
              "       [0.        , 0.        , 0.04373886, ..., 0.        , 0.        ,\n",
              "        0.        ],\n",
              "       [0.        , 0.        , 0.06628203, ..., 0.        , 0.        ,\n",
              "        0.        ],\n",
              "       ...,\n",
              "       [4.11625   , 3.23625   , 3.8879054 , ..., 0.        , 0.        ,\n",
              "        1.        ],\n",
              "       [4.2575    , 3.3275    , 3.92429457, ..., 0.        , 0.        ,\n",
              "        1.        ],\n",
              "       [4.3625    , 3.35875   , 3.95963291, ..., 0.        , 0.        ,\n",
              "        1.        ]])"
            ]
          },
          "metadata": {
            "tags": []
          },
          "execution_count": 167
        }
      ]
    },
    {
      "metadata": {
        "id": "AShelcevMkUJ",
        "colab_type": "text"
      },
      "cell_type": "markdown",
      "source": [
        "data is numpy matrix with only the needed features for the model and target is numpy vector with output data"
      ]
    },
    {
      "metadata": {
        "id": "gatua_0HNPsw",
        "colab_type": "code",
        "outputId": "f8ebadd4-e997-4419-9a78-834e154c2ea4",
        "colab": {
          "base_uri": "https://localhost:8080/",
          "height": 255
        }
      },
      "cell_type": "code",
      "source": [
        "#@title Select number of rows to display { run: \"auto\", form-width: \"30%\" }\n",
        "num_entries = 3 #@param {type:\"slider\", min:0, max:5, step:1}\n",
        "print(\"Data:  \", data.shape, \"Showing only\", num_entries, \"\\n\", data[0:num_entries], \"\\n\")\n",
        "print(\"Target:\", target.shape, \"Showing only\", num_entries, \"\\n\", target[0:num_entries], \"\\n\")"
      ],
      "execution_count": 0,
      "outputs": [
        {
          "output_type": "stream",
          "text": [
            "Data:   (6134, 13) Showing only 3 \n",
            " [[0.         0.         0.06298514 0.         0.         1.\n",
            "  0.         0.         0.         0.         0.         0.\n",
            "  0.        ]\n",
            " [0.02125    0.         0.12648623 0.02380952 0.         1.\n",
            "  0.         0.         0.         0.         0.         0.\n",
            "  0.        ]\n",
            " [0.02125    0.         0.19047459 0.04761905 0.         1.\n",
            "  0.         0.         0.         0.         0.         0.\n",
            "  0.        ]] \n",
            "\n",
            "Target: (8874,) Showing only 3 \n",
            " [0.1 0.1 0.1] \n",
            "\n"
          ],
          "name": "stdout"
        }
      ]
    },
    {
      "metadata": {
        "id": "ZTmbe365Qjz8",
        "colab_type": "text"
      },
      "cell_type": "markdown",
      "source": [
        "Split the data for training and testing"
      ]
    },
    {
      "metadata": {
        "id": "gnJFOFwpQjV9",
        "colab_type": "code",
        "outputId": "c71ac83b-b868-4f68-f6b7-90ad22070266",
        "colab": {
          "base_uri": "https://localhost:8080/",
          "height": 52
        }
      },
      "cell_type": "code",
      "source": [
        "#@title Set the desired partition of test and train samples { run: \"auto\", form-width: \"30%\", display-mode: \"both\" }\n",
        "border = 8530 #@param {type:\"slider\", min:4000, max:10000, step:30}\n",
        "train_input, train_output = data[:border], target[:border]\n",
        "test_input, test_output = data[border:], target[border:]\n",
        "\n",
        "print(\"Train set contains\", len(train_input))\n",
        "print(\"Test set contains\", len(test_input))"
      ],
      "execution_count": 168,
      "outputs": [
        {
          "output_type": "stream",
          "text": [
            "Train set contains 8530\n",
            "Test set contains 1874\n"
          ],
          "name": "stdout"
        }
      ]
    },
    {
      "metadata": {
        "id": "KdueMwofOzg4",
        "colab_type": "text"
      },
      "cell_type": "markdown",
      "source": [
        "##  Model"
      ]
    },
    {
      "metadata": {
        "id": "h2TevvaLPGZW",
        "colab_type": "text"
      },
      "cell_type": "markdown",
      "source": [
        "We will use a simple model with input layer of 4 neurons, a single hidden layer with 20 neurons and 1 output neuron"
      ]
    },
    {
      "metadata": {
        "id": "7KmKSmm-YL5U",
        "colab_type": "text"
      },
      "cell_type": "markdown",
      "source": [
        "### Keras model definition"
      ]
    },
    {
      "metadata": {
        "id": "7MeUAV4UjKzm",
        "colab_type": "code",
        "outputId": "37f4281a-8ca5-4d26-ebde-013dd9d1d4da",
        "colab": {
          "base_uri": "https://localhost:8080/",
          "height": 34
        }
      },
      "cell_type": "code",
      "source": [
        "train_input.shape"
      ],
      "execution_count": 169,
      "outputs": [
        {
          "output_type": "execute_result",
          "data": {
            "text/plain": [
              "(8530, 13)"
            ]
          },
          "metadata": {
            "tags": []
          },
          "execution_count": 169
        }
      ]
    },
    {
      "metadata": {
        "id": "TCiZPeGAPuhZ",
        "colab_type": "code",
        "colab": {}
      },
      "cell_type": "code",
      "source": [
        "model = keras.Sequential()\n",
        "model.add(keras.layers.Dense(15, input_dim=train_input.shape[1], activation='sigmoid'))\n",
        "model.add(keras.layers.Dense(5, activation='sigmoid'))\n",
        "model.add(keras.layers.Dense(1, activation='sigmoid'))"
      ],
      "execution_count": 0,
      "outputs": []
    },
    {
      "metadata": {
        "id": "TeRWlA-oYU2b",
        "colab_type": "text"
      },
      "cell_type": "markdown",
      "source": [
        "### Keras model compile"
      ]
    },
    {
      "metadata": {
        "id": "QQV70qOlQLMF",
        "colab_type": "code",
        "colab": {}
      },
      "cell_type": "code",
      "source": [
        "sgd = optimizers.SGD(lr=0.035)"
      ],
      "execution_count": 0,
      "outputs": []
    },
    {
      "metadata": {
        "id": "SPIy9SW8PyFC",
        "colab_type": "code",
        "colab": {}
      },
      "cell_type": "code",
      "source": [
        "model.compile(loss='mae',\n",
        "              optimizer=sgd,\n",
        "              # metrics=['mse', 'mae', r2])\n",
        "              metrics=['mse', 'mae'])"
      ],
      "execution_count": 0,
      "outputs": []
    },
    {
      "metadata": {
        "id": "nzQE8hoXWRNb",
        "colab_type": "text"
      },
      "cell_type": "markdown",
      "source": [
        "Model summary shows the architecture of the keras model"
      ]
    },
    {
      "metadata": {
        "id": "2g_Nn5dwWL2U",
        "colab_type": "code",
        "outputId": "d7013b5d-571b-402f-dec5-32480b53f643",
        "colab": {
          "base_uri": "https://localhost:8080/",
          "height": 255
        }
      },
      "cell_type": "code",
      "source": [
        "print(model.summary())"
      ],
      "execution_count": 271,
      "outputs": [
        {
          "output_type": "stream",
          "text": [
            "_________________________________________________________________\n",
            "Layer (type)                 Output Shape              Param #   \n",
            "=================================================================\n",
            "dense_53 (Dense)             (None, 15)                210       \n",
            "_________________________________________________________________\n",
            "dense_54 (Dense)             (None, 5)                 80        \n",
            "_________________________________________________________________\n",
            "dense_55 (Dense)             (None, 1)                 6         \n",
            "=================================================================\n",
            "Total params: 296\n",
            "Trainable params: 296\n",
            "Non-trainable params: 0\n",
            "_________________________________________________________________\n",
            "None\n"
          ],
          "name": "stdout"
        }
      ]
    },
    {
      "metadata": {
        "id": "1yF62adxYEPh",
        "colab_type": "text"
      },
      "cell_type": "markdown",
      "source": [
        "## Results"
      ]
    },
    {
      "metadata": {
        "id": "sX3hnRLUPz_b",
        "colab_type": "code",
        "cellView": "both",
        "colab": {}
      },
      "cell_type": "code",
      "source": [
        "#@title Hyperparameters { run: \"auto\", form-width: \"30%\" }\n",
        "epochs = 500 #@param {type:\"integer\"}\n",
        "history = model.fit(\n",
        "    train_input, train_output,\n",
        "    epochs=epochs,\n",
        "    batch_size=30,\n",
        "    validation_split=0.1)"
      ],
      "execution_count": 0,
      "outputs": []
    },
    {
      "metadata": {
        "id": "XGYfo3-eP8L8",
        "colab_type": "code",
        "outputId": "496d1148-30c1-4c57-e7df-6fa52018b01b",
        "colab": {
          "base_uri": "https://localhost:8080/",
          "height": 86
        }
      },
      "cell_type": "code",
      "source": [
        "# loss, mse, mae, r2_value = model.evaluate(test_input, test_output)\n",
        "loss, mse, mae = model.evaluate(test_input, test_output)\n",
        "\n",
        "\n",
        "print(\"MSE: \", mse)\n",
        "print(\"MAE: \", mae)\n",
        "# print(\"R2:  \", r2_value)\n",
        "print(\"Loss:\", loss)\n",
        "\n",
        "\n",
        "df = df_backup.copy()\n",
        "\n",
        "df_full = df.copy()\n",
        "\n",
        "for sort in sorts:\n",
        "    print(\"using:\", sort)\n",
        "    df_sort = df.loc[df_full[sort] == 1]\n",
        "    \n",
        "    features = ['t_min', 't_max', 'dlen', 'day']\n",
        "    features.extend(sorts)\n",
        "    data = df_sort[features].values\n",
        "    target = df_sort['state'].values\n",
        "    \n",
        "    blossum_dates_dataset = df_sort.loc[np.logical_and(df_sort['state'] > 0.59, df_sort['state'] < 0.61)]\n",
        "    \n",
        "    predicted_blossum = model.predict(data)\n",
        "    \n",
        "    df_predicted = df_sort.copy()\n",
        "    df_predicted.insert(1, 'new', predicted_blossum)\n",
        "    \n",
        "    blossum_dates_predicted = df_predicted.loc[df_predicted['new'] >= 0.6]\n",
        "    blossum_dates_predicted = blossum_dates_predicted.loc[blossum_dates_predicted.groupby('ID')['new'].idxmin()]\n",
        "    \n",
        "    q = blossum_dates_dataset['ID'].isin(blossum_dates_predicted['ID'])\n",
        "\n",
        "    val = np.mean(np.abs(blossum_dates_dataset['d'].values - blossum_dates_predicted['d'].values))\n",
        "    var = np.std(np.abs(blossum_dates_dataset['d'].values - blossum_dates_predicted['d'].values))\n",
        "    print(\"predicted:\", sum(q),\n",
        "        \"min:\", np.max(blossum_dates_dataset['d'].values - blossum_dates_predicted['d'].values),\n",
        "        \"max:\", np.min(blossum_dates_dataset['d'].values - blossum_dates_predicted['d'].values),\n",
        "        \"abs:\", val,\n",
        "        \"±\",    var)\n",
        "    print(pearsonr(blossum_dates_dataset['d'].values,\n",
        "             blossum_dates_predicted['d'].values))\n",
        "    print('\\n')"
      ],
      "execution_count": 276,
      "outputs": [
        {
          "output_type": "stream",
          "text": [
            "952/952 [==============================] - 0s 31us/step\n",
            "MSE:  0.013540815378918592\n",
            "MAE:  0.048454537627702\n",
            "Loss: 0.048454537627702\n"
          ],
          "name": "stdout"
        }
      ]
    },
    {
      "metadata": {
        "id": "V3V6ouyo1Xfu",
        "colab_type": "code",
        "outputId": "9a3dd1cc-6305-42eb-f05e-be962e544487",
        "colab": {
          "base_uri": "https://localhost:8080/",
          "height": 376
        }
      },
      "cell_type": "code",
      "source": [
        "import matplotlib.pyplot as plt\n",
        "\n",
        "# Plot training & validation accuracy values\n",
        "plt.semilogy(history.history['loss'])\n",
        "plt.semilogy(history.history['val_loss'])\n",
        "plt.title('Model loss')\n",
        "plt.ylabel('Loss')\n",
        "plt.xlabel('Epoch')\n",
        "plt.legend(['Train', 'Test'], loc='upper right')\n",
        "# plt.savefig('mse_sigmoid_sigmoid_sgd_semilogy.png', quality=100, dpi=1000)\n",
        "plt.show()"
      ],
      "execution_count": 277,
      "outputs": [
        {
          "output_type": "display_data",
          "data": {
            "image/png": "[encoded data removed]",
            "text/plain": [
              "<Figure size 576x396 with 1 Axes>"
            ]
          },
          "metadata": {
            "tags": []
          }
        }
      ]
    },
    {
      "metadata": {
        "id": "kgeA38qamvYV",
        "colab_type": "code",
        "outputId": "7112f5ef-fa9d-46ac-d8aa-9a4473ee1478",
        "colab": {
          "base_uri": "https://localhost:8080/",
          "height": 34
        }
      },
      "cell_type": "code",
      "source": [
        "plt.savefig('mse_sigmoid_sigmoid_sgd_semilogy.png', quality=100, dpi=500)"
      ],
      "execution_count": 0,
      "outputs": [
        {
          "output_type": "display_data",
          "data": {
            "text/plain": [
              "<Figure size 576x396 with 0 Axes>"
            ]
          },
          "metadata": {
            "tags": []
          }
        }
      ]
    },
    {
      "metadata": {
        "id": "EyKoQM-Xpe2Q",
        "colab_type": "code",
        "colab": {
          "base_uri": "https://localhost:8080/",
          "height": 1362
        },
        "outputId": "bfa95174-3ade-4236-bddf-c2c078401b0e"
      },
      "cell_type": "code",
      "source": [
        "model = keras.Sequential()\n",
        "model.add(keras.layers.Dense(40, input_dim=train_input.shape[1], activation='sigmoid'))\n",
        "model.add(keras.layers.Dense(1,  activation='sigmoid'))\n",
        "\n",
        "model.compile(loss='mse',\n",
        "              optimizer=optimizers.SGD(lr=0.17),\n",
        "              # metrics=['mse', 'mae', r2])\n",
        "              metrics=['mse', 'mae'])\n",
        "\n",
        "epochs = 150\n",
        "history = model.fit(\n",
        "    train_input, train_output,\n",
        "    epochs=epochs,\n",
        "    batch_size=30,\n",
        "    validation_split=0.1,\n",
        "    verbose=0)\n",
        "\n",
        "# loss, mse, mae, r2_value = model.evaluate(test_input, test_output)\n",
        "loss, mse, mae = model.evaluate(test_input, test_output)\n",
        "\n",
        "\n",
        "print(\"MSE: \", mse)\n",
        "print(\"MAE: \", mae)\n",
        "# print(\"R2:  \", r2_value)\n",
        "print(\"Loss:\", loss)\n",
        "\n",
        "\n",
        "df = df_backup.copy()\n",
        "\n",
        "df_full = df.copy()\n",
        "\n",
        "plt.semilogy(history.history['loss'])\n",
        "plt.semilogy(history.history['val_loss'])\n",
        "plt.title('Model loss')\n",
        "plt.ylabel('Loss')\n",
        "plt.xlabel('Epoch')\n",
        "plt.legend(['Train', 'Test'], loc='upper right')\n",
        "# plt.savefig('mse_sigmoid_sigmoid_sgd_semilogy.png', quality=100, dpi=1000)\n",
        "plt.show()\n",
        "\n",
        "for sort in sorts:\n",
        "    print(\"using:\", sort)\n",
        "    df_sort = df.loc[df_full[sort] == 1]\n",
        "    \n",
        "    features = ['t_min', 't_max', 'dlen', 'day']\n",
        "    features.extend(sorts)\n",
        "    data = df_sort[features].values\n",
        "    target = df_sort['state'].values\n",
        "    \n",
        "    blossum_dates_dataset = df_sort.loc[np.logical_and(df_sort['state'] > 0.59, df_sort['state'] < 0.61)]\n",
        "    \n",
        "    predicted_blossum = model.predict(data)\n",
        "    \n",
        "    df_predicted = df_sort.copy()\n",
        "    df_predicted.insert(1, 'new', predicted_blossum)\n",
        "    \n",
        "    blossum_dates_predicted = df_predicted.loc[df_predicted['new'] >= 0.6]\n",
        "    blossum_dates_predicted = blossum_dates_predicted.loc[blossum_dates_predicted.groupby('ID')['new'].idxmin()]\n",
        "    \n",
        "    q = blossum_dates_dataset['ID'].isin(blossum_dates_predicted['ID'])\n",
        "\n",
        "    val = np.mean(np.abs(blossum_dates_dataset['d'].values - blossum_dates_predicted['d'].values))\n",
        "    var = np.std(np.abs(blossum_dates_dataset['d'].values - blossum_dates_predicted['d'].values))\n",
        "    print(\"predicted:\", sum(q), \"\\n\", \n",
        "        \"max:\", np.max(blossum_dates_dataset['d'].values - blossum_dates_predicted['d'].values),\n",
        "        \"min:\", np.min(blossum_dates_dataset['d'].values - blossum_dates_predicted['d'].values),\n",
        "        \"abs:\", val,\n",
        "        \"±\",    var)\n",
        "    print(pearsonr(blossum_dates_dataset['d'].values,\n",
        "             blossum_dates_predicted['d'].values))\n",
        "    print('\\n')"
      ],
      "execution_count": 345,
      "outputs": [
        {
          "output_type": "stream",
          "text": [
            "952/952 [==============================] - 0s 47us/step\n",
            "MSE:  0.01786298312622459\n",
            "MAE:  0.09615103656253896\n",
            "Loss: 0.01786298312622459\n"
          ],
          "name": "stdout"
        },
        {
          "output_type": "display_data",
          "data": {
            "image/png": "[encoded data removed]",
            "text/plain": [
              "<Figure size 576x396 with 1 Axes>"
            ]
          },
          "metadata": {
            "tags": []
          }
        },
        {
          "output_type": "stream",
          "text": [
            "using: name_Altom\n",
            "predicted: 14 \n",
            " max: 9 min: -7 abs: 3.2142857142857144 ± 2.540488463396963\n",
            "(0.8175033616087818, 0.00035549689819438986)\n",
            "\n",
            "\n",
            "using: name_Fiskeby 1040-4-2\n",
            "predicted: 18 \n",
            " max: 5 min: -7 abs: 2.9444444444444446 ± 2.0404852969118843\n",
            "(0.9073100015867673, 2.0413839328211382e-07)\n",
            "\n",
            "\n",
            "using: name_KG-20\n",
            "predicted: 15 \n",
            " max: 22 min: -4 abs: 4.8 ± 5.443038367186719\n",
            "(0.7821417966568956, 0.0005697260793255204)\n",
            "\n",
            "\n",
            "using: name_Okskaya\n",
            "predicted: 19 \n",
            " max: 12 min: -8 abs: 3.789473684210526 ± 3.488008742269661\n",
            "(0.7955481724565057, 4.6548793111867246e-05)\n",
            "\n",
            "\n",
            "using: name_P·EP 18\n",
            "predicted: 16 \n",
            " max: 2 min: -8 abs: 3.375 ± 2.2878756522153907\n",
            "(0.8951417599447004, 2.8211569819249306e-06)\n",
            "\n",
            "\n",
            "using: name_P·EP 2\n",
            "predicted: 15 \n",
            " max: 2 min: -8 abs: 3.8666666666666667 ± 2.578543947441829\n",
            "(0.8818144886843804, 1.3794310650982139e-05)\n",
            "\n",
            "\n",
            "using: name_P·EP 27\n",
            "predicted: 19 \n",
            " max: 1 min: -9 abs: 3.0526315789473686 ± 2.6452277627640135\n",
            "(0.8792986756434019, 7.13219204313464e-07)\n",
            "\n",
            "\n",
            "using: name_P·EP 28\n",
            "predicted: 19 \n",
            " max: 0 min: -11 abs: 3.3157894736842106 ± 3.3095178783710506\n",
            "(0.8594800658449594, 2.4205988310828257e-06)\n",
            "\n",
            "\n",
            "using: name_Svetlaya\n",
            "predicted: 18 \n",
            " max: 7 min: -10 abs: 4.111111111111111 ± 2.8846122190549264\n",
            "(0.8138434255820325, 3.96985555546148e-05)\n",
            "\n",
            "\n"
          ],
          "name": "stdout"
        }
      ]
    },
    {
      "metadata": {
        "id": "G9sMOC1MPOp8",
        "colab_type": "text"
      },
      "cell_type": "markdown",
      "source": [
        "## Save model for future use"
      ]
    },
    {
      "metadata": {
        "id": "lUqpEAMQWrkt",
        "colab_type": "text"
      },
      "cell_type": "markdown",
      "source": [
        "Model can be saved and then loaded to work in different environment"
      ]
    },
    {
      "metadata": {
        "id": "ju0ij5GMO6oV",
        "colab_type": "code",
        "colab": {}
      },
      "cell_type": "code",
      "source": [
        "model.save('model_5.h5')"
      ],
      "execution_count": 0,
      "outputs": []
    },
    {
      "metadata": {
        "id": "HTn6gRQFW1KV",
        "colab_type": "text"
      },
      "cell_type": "markdown",
      "source": [
        "Model stores as serialized executable object, can be loaded and instanciated on the fly to exactly the same model. There are some restrictions on such saving method though. If you use this method you can only use keras api and do not include custom code, metrics for instance, that is a pitty because keras doesn't have a standart R^2 metric implementation, thus cannot be saved to be loaded without recompilation."
      ]
    },
    {
      "metadata": {
        "id": "9_AyNV2-XKOB",
        "colab_type": "code",
        "colab": {}
      },
      "cell_type": "code",
      "source": [
        "del model"
      ],
      "execution_count": 0,
      "outputs": []
    },
    {
      "metadata": {
        "id": "A76RTFRfXMw8",
        "colab_type": "code",
        "colab": {}
      },
      "cell_type": "code",
      "source": [
        "from keras.models import load_model\n",
        "\n",
        "model = load_model('soy_blossum_model.h5')"
      ],
      "execution_count": 0,
      "outputs": []
    },
    {
      "metadata": {
        "id": "1ntyOCU8Y7pq",
        "colab_type": "text"
      },
      "cell_type": "markdown",
      "source": [
        "## Evaluating difference in predicted states on actual blossum dates"
      ]
    },
    {
      "metadata": {
        "id": "ewfEK9D0ZE6e",
        "colab_type": "text"
      },
      "cell_type": "markdown",
      "source": [
        "Filter data so that it only has dates with actual blossum, 'day' field is defined so that it is calendar dates mapped into [0;1] interval so selecting blossum dates is easy as selecting rows where 'day' == 1 "
      ]
    },
    {
      "metadata": {
        "id": "T2kxeklVjqEW",
        "colab_type": "code",
        "colab": {}
      },
      "cell_type": "code",
      "source": [
        "df_backup.head(2)\n",
        "df = df_backup.copy()"
      ],
      "execution_count": 0,
      "outputs": []
    },
    {
      "metadata": {
        "id": "NM4IVrwWi-A9",
        "colab_type": "code",
        "colab": {
          "base_uri": "https://localhost:8080/",
          "height": 148
        },
        "outputId": "6d3bd258-8145-4387-aae8-92750a027182"
      },
      "cell_type": "code",
      "source": [
        "df_full = df.copy()\n",
        "df_full.head(2)"
      ],
      "execution_count": 279,
      "outputs": [
        {
          "output_type": "execute_result",
          "data": {
            "text/html": [
              "<div>\n",
              "<style scoped>\n",
              "    .dataframe tbody tr th:only-of-type {\n",
              "        vertical-align: middle;\n",
              "    }\n",
              "\n",
              "    .dataframe tbody tr th {\n",
              "        vertical-align: top;\n",
              "    }\n",
              "\n",
              "    .dataframe thead th {\n",
              "        text-align: right;\n",
              "    }\n",
              "</style>\n",
              "<table border=\"1\" class=\"dataframe\">\n",
              "  <thead>\n",
              "    <tr style=\"text-align: right;\">\n",
              "      <th></th>\n",
              "      <th>ID</th>\n",
              "      <th>d</th>\n",
              "      <th>t_min</th>\n",
              "      <th>t_max</th>\n",
              "      <th>dlen</th>\n",
              "      <th>day</th>\n",
              "      <th>station</th>\n",
              "      <th>category</th>\n",
              "      <th>state</th>\n",
              "      <th>name_Altom</th>\n",
              "      <th>name_Fiskeby 1040-4-2</th>\n",
              "      <th>name_KG-20</th>\n",
              "      <th>name_Okskaya</th>\n",
              "      <th>name_P·EP 18</th>\n",
              "      <th>name_P·EP 2</th>\n",
              "      <th>name_P·EP 27</th>\n",
              "      <th>name_P·EP 28</th>\n",
              "      <th>name_Svetlaya</th>\n",
              "    </tr>\n",
              "  </thead>\n",
              "  <tbody>\n",
              "    <tr>\n",
              "      <th>0</th>\n",
              "      <td>0</td>\n",
              "      <td>0</td>\n",
              "      <td>0.0</td>\n",
              "      <td>0.0</td>\n",
              "      <td>0.021642</td>\n",
              "      <td>0.000000</td>\n",
              "      <td>34927</td>\n",
              "      <td>5830</td>\n",
              "      <td>0.1</td>\n",
              "      <td>0</td>\n",
              "      <td>1</td>\n",
              "      <td>0</td>\n",
              "      <td>0</td>\n",
              "      <td>0</td>\n",
              "      <td>0</td>\n",
              "      <td>0</td>\n",
              "      <td>0</td>\n",
              "      <td>0</td>\n",
              "    </tr>\n",
              "    <tr>\n",
              "      <th>1</th>\n",
              "      <td>0</td>\n",
              "      <td>1</td>\n",
              "      <td>0.0</td>\n",
              "      <td>0.0</td>\n",
              "      <td>0.043739</td>\n",
              "      <td>0.014925</td>\n",
              "      <td>34927</td>\n",
              "      <td>5830</td>\n",
              "      <td>0.1</td>\n",
              "      <td>0</td>\n",
              "      <td>1</td>\n",
              "      <td>0</td>\n",
              "      <td>0</td>\n",
              "      <td>0</td>\n",
              "      <td>0</td>\n",
              "      <td>0</td>\n",
              "      <td>0</td>\n",
              "      <td>0</td>\n",
              "    </tr>\n",
              "  </tbody>\n",
              "</table>\n",
              "</div>"
            ],
            "text/plain": [
              "   ID  d  t_min  t_max      dlen       day  station  category  state  \\\n",
              "0   0  0    0.0    0.0  0.021642  0.000000    34927      5830    0.1   \n",
              "1   0  1    0.0    0.0  0.043739  0.014925    34927      5830    0.1   \n",
              "\n",
              "   name_Altom  name_Fiskeby 1040-4-2  name_KG-20  name_Okskaya  name_P·EP 18  \\\n",
              "0           0                      1           0             0             0   \n",
              "1           0                      1           0             0             0   \n",
              "\n",
              "   name_P·EP 2  name_P·EP 27  name_P·EP 28  name_Svetlaya  \n",
              "0            0             0             0              0  \n",
              "1            0             0             0              0  "
            ]
          },
          "metadata": {
            "tags": []
          },
          "execution_count": 279
        }
      ]
    },
    {
      "metadata": {
        "id": "36FjPgA1fg3l",
        "colab_type": "code",
        "colab": {
          "base_uri": "https://localhost:8080/",
          "height": 782
        },
        "outputId": "7094efd0-edb5-4f45-c522-708db792a31b"
      },
      "cell_type": "code",
      "source": [
        "for sort in sorts:\n",
        "    print(\"using:\", sort)\n",
        "    df_sort = df.loc[df_full[sort] == 1]\n",
        "    \n",
        "    features = ['t_min', 't_max', 'dlen', 'day']\n",
        "    features.extend(sorts)\n",
        "    data = df_sort[features].values\n",
        "    target = df_sort['state'].values\n",
        "    \n",
        "    blossum_dates_dataset = df_sort.loc[np.logical_and(df_sort['state'] > 0.59, df_sort['state'] < 0.61)]\n",
        "    \n",
        "    predicted_blossum = model.predict(data)\n",
        "    \n",
        "    df_predicted = df_sort.copy()\n",
        "    df_predicted.insert(1, 'new', predicted_blossum)\n",
        "    \n",
        "    blossum_dates_predicted = df_predicted.loc[df_predicted['new'] >= 0.6]\n",
        "    blossum_dates_predicted = blossum_dates_predicted.loc[blossum_dates_predicted.groupby('ID')['new'].idxmin()]\n",
        "    \n",
        "    q = blossum_dates_dataset['ID'].isin(blossum_dates_predicted['ID'])\n",
        "\n",
        "    val = np.mean(np.abs(blossum_dates_dataset['d'].values - blossum_dates_predicted['d'].values))\n",
        "    var = np.std(np.abs(blossum_dates_dataset['d'].values - blossum_dates_predicted['d'].values))\n",
        "    print(\"predicted:\", sum(q),\n",
        "        \"min:\", np.max(blossum_dates_dataset['d'].values - blossum_dates_predicted['d'].values),\n",
        "        \"max:\", np.min(blossum_dates_dataset['d'].values - blossum_dates_predicted['d'].values),\n",
        "        \"abs:\", val,\n",
        "        \"±\",    var)\n",
        "    print(pearsonr(blossum_dates_dataset['d'].values,\n",
        "             blossum_dates_predicted['d'].values))\n",
        "    print('\\n')\n"
      ],
      "execution_count": 280,
      "outputs": [
        {
          "output_type": "stream",
          "text": [
            "using: name_Altom\n",
            "predicted: 14 min: 10 max: -6 abs: 3.0714285714285716 ± 2.6849923041732144\n",
            "(0.8241562869127614, 0.0002888834026527576)\n",
            "\n",
            "\n",
            "using: name_Fiskeby 1040-4-2\n",
            "predicted: 18 min: 11 max: -4 abs: 4.0 ± 2.6666666666666665\n",
            "(0.8957531836181296, 5.033780228078979e-07)\n",
            "\n",
            "\n",
            "using: name_KG-20\n",
            "predicted: 15 min: 25 max: -2 abs: 6.066666666666666 ± 6.255308856394613\n",
            "(0.7718665406307363, 0.0007483555056710585)\n",
            "\n",
            "\n",
            "using: name_Okskaya\n",
            "predicted: 19 min: 19 max: -4 abs: 6.473684210526316 ± 4.464696854831263\n",
            "(0.7665328478921097, 0.0001292294674695601)\n",
            "\n",
            "\n",
            "using: name_P·EP 18\n",
            "predicted: 16 min: 7 max: -2 abs: 2.875 ± 2.394655507583502\n",
            "(0.8822154039870924, 6.14335012082896e-06)\n",
            "\n",
            "\n",
            "using: name_P·EP 2\n",
            "predicted: 15 min: 7 max: -4 abs: 2.6 ± 2.0264912204760885\n",
            "(0.8783160663442758, 1.6529023168950757e-05)\n",
            "\n",
            "\n",
            "using: name_P·EP 27\n",
            "predicted: 19 min: 8 max: -4 abs: 3.9473684210526314 ± 2.327720461841682\n",
            "(0.8507080803973723, 3.925242361052431e-06)\n",
            "\n",
            "\n",
            "using: name_P·EP 28\n",
            "predicted: 19 min: 4 max: -7 abs: 2.6315789473684212 ± 1.812544774497112\n",
            "(0.8716481728354382, 1.1704084491069486e-06)\n",
            "\n",
            "\n",
            "using: name_Svetlaya\n",
            "predicted: 18 min: 10 max: -3 abs: 3.6666666666666665 ± 2.9439202887759492\n",
            "(0.8452254280462242, 1.0067168296884582e-05)\n",
            "\n",
            "\n"
          ],
          "name": "stdout"
        }
      ]
    },
    {
      "metadata": {
        "id": "K8syA3duphmR",
        "colab_type": "code",
        "colab": {}
      },
      "cell_type": "code",
      "source": [
        "blossum_dates_dataset = df.loc[df['state'] > 0.59]\n",
        "blossum_dates_dataset = blossum_dates_dataset.loc[blossum_dates_dataset['state'] < 0.61]"
      ],
      "execution_count": 0,
      "outputs": []
    },
    {
      "metadata": {
        "id": "6x-16DPyOQgp",
        "colab_type": "code",
        "outputId": "0f831a24-2d02-4d4a-9e98-262602d978ca",
        "colab": {
          "base_uri": "https://localhost:8080/",
          "height": 289
        }
      },
      "cell_type": "code",
      "source": [
        "blossum_dates_dataset.head(10)"
      ],
      "execution_count": 0,
      "outputs": [
        {
          "output_type": "execute_result",
          "data": {
            "text/html": [
              "<div>\n",
              "<style scoped>\n",
              "    .dataframe tbody tr th:only-of-type {\n",
              "        vertical-align: middle;\n",
              "    }\n",
              "\n",
              "    .dataframe tbody tr th {\n",
              "        vertical-align: top;\n",
              "    }\n",
              "\n",
              "    .dataframe thead th {\n",
              "        text-align: right;\n",
              "    }\n",
              "</style>\n",
              "<table border=\"1\" class=\"dataframe\">\n",
              "  <thead>\n",
              "    <tr style=\"text-align: right;\">\n",
              "      <th></th>\n",
              "      <th></th>\n",
              "      <th>t_min</th>\n",
              "      <th>t_max</th>\n",
              "      <th>dlen</th>\n",
              "      <th>day</th>\n",
              "      <th>station</th>\n",
              "      <th>category</th>\n",
              "      <th>state</th>\n",
              "      <th>name_Altom</th>\n",
              "      <th>name_Fiskeby 1040-4-2</th>\n",
              "      <th>name_KG-20</th>\n",
              "      <th>name_Okskaya</th>\n",
              "      <th>name_P·EP 18</th>\n",
              "      <th>name_P·EP 2</th>\n",
              "      <th>name_P·EP 27</th>\n",
              "      <th>name_P·EP 28</th>\n",
              "      <th>name_Svetlaya</th>\n",
              "    </tr>\n",
              "    <tr>\n",
              "      <th></th>\n",
              "      <th>Unnamed: 1</th>\n",
              "      <th></th>\n",
              "      <th></th>\n",
              "      <th></th>\n",
              "      <th></th>\n",
              "      <th></th>\n",
              "      <th></th>\n",
              "      <th></th>\n",
              "      <th></th>\n",
              "      <th></th>\n",
              "      <th></th>\n",
              "      <th></th>\n",
              "      <th></th>\n",
              "      <th></th>\n",
              "      <th></th>\n",
              "      <th></th>\n",
              "      <th></th>\n",
              "    </tr>\n",
              "  </thead>\n",
              "  <tbody>\n",
              "    <tr>\n",
              "      <th>85</th>\n",
              "      <th>42</th>\n",
              "      <td>0.69250</td>\n",
              "      <td>0.15125</td>\n",
              "      <td>2.773658</td>\n",
              "      <td>1.0</td>\n",
              "      <td>26063</td>\n",
              "      <td>5830</td>\n",
              "      <td>1.0</td>\n",
              "      <td>0</td>\n",
              "      <td>1</td>\n",
              "      <td>0</td>\n",
              "      <td>0</td>\n",
              "      <td>0</td>\n",
              "      <td>0</td>\n",
              "      <td>0</td>\n",
              "      <td>0</td>\n",
              "      <td>0</td>\n",
              "    </tr>\n",
              "    <tr>\n",
              "      <th>75</th>\n",
              "      <th>40</th>\n",
              "      <td>0.92500</td>\n",
              "      <td>0.40625</td>\n",
              "      <td>2.647172</td>\n",
              "      <td>1.0</td>\n",
              "      <td>26063</td>\n",
              "      <td>10655</td>\n",
              "      <td>1.0</td>\n",
              "      <td>0</td>\n",
              "      <td>0</td>\n",
              "      <td>0</td>\n",
              "      <td>0</td>\n",
              "      <td>1</td>\n",
              "      <td>0</td>\n",
              "      <td>0</td>\n",
              "      <td>0</td>\n",
              "      <td>0</td>\n",
              "    </tr>\n",
              "    <tr>\n",
              "      <th>69</th>\n",
              "      <th>40</th>\n",
              "      <td>0.92500</td>\n",
              "      <td>0.40625</td>\n",
              "      <td>2.647172</td>\n",
              "      <td>1.0</td>\n",
              "      <td>26063</td>\n",
              "      <td>10539</td>\n",
              "      <td>1.0</td>\n",
              "      <td>0</td>\n",
              "      <td>0</td>\n",
              "      <td>1</td>\n",
              "      <td>0</td>\n",
              "      <td>0</td>\n",
              "      <td>0</td>\n",
              "      <td>0</td>\n",
              "      <td>0</td>\n",
              "      <td>0</td>\n",
              "    </tr>\n",
              "    <tr>\n",
              "      <th>67</th>\n",
              "      <th>42</th>\n",
              "      <td>1.05500</td>\n",
              "      <td>0.49375</td>\n",
              "      <td>2.758445</td>\n",
              "      <td>1.0</td>\n",
              "      <td>26063</td>\n",
              "      <td>5830</td>\n",
              "      <td>1.0</td>\n",
              "      <td>0</td>\n",
              "      <td>1</td>\n",
              "      <td>0</td>\n",
              "      <td>0</td>\n",
              "      <td>0</td>\n",
              "      <td>0</td>\n",
              "      <td>0</td>\n",
              "      <td>0</td>\n",
              "      <td>0</td>\n",
              "    </tr>\n",
              "    <tr>\n",
              "      <th>66</th>\n",
              "      <th>51</th>\n",
              "      <td>0.86625</td>\n",
              "      <td>0.40500</td>\n",
              "      <td>3.310661</td>\n",
              "      <td>1.0</td>\n",
              "      <td>26063</td>\n",
              "      <td>5830</td>\n",
              "      <td>1.0</td>\n",
              "      <td>0</td>\n",
              "      <td>1</td>\n",
              "      <td>0</td>\n",
              "      <td>0</td>\n",
              "      <td>0</td>\n",
              "      <td>0</td>\n",
              "      <td>0</td>\n",
              "      <td>0</td>\n",
              "      <td>0</td>\n",
              "    </tr>\n",
              "  </tbody>\n",
              "</table>\n",
              "</div>"
            ],
            "text/plain": [
              "                 t_min    t_max      dlen  day  station  category  state  \\\n",
              "   Unnamed: 1                                                              \n",
              "85 42          0.69250  0.15125  2.773658  1.0    26063      5830    1.0   \n",
              "75 40          0.92500  0.40625  2.647172  1.0    26063     10655    1.0   \n",
              "69 40          0.92500  0.40625  2.647172  1.0    26063     10539    1.0   \n",
              "67 42          1.05500  0.49375  2.758445  1.0    26063      5830    1.0   \n",
              "66 51          0.86625  0.40500  3.310661  1.0    26063      5830    1.0   \n",
              "\n",
              "               name_Altom  name_Fiskeby 1040-4-2  name_KG-20  name_Okskaya  \\\n",
              "   Unnamed: 1                                                                \n",
              "85 42                   0                      1           0             0   \n",
              "75 40                   0                      0           0             0   \n",
              "69 40                   0                      0           1             0   \n",
              "67 42                   0                      1           0             0   \n",
              "66 51                   0                      1           0             0   \n",
              "\n",
              "               name_P·EP 18  name_P·EP 2  name_P·EP 27  name_P·EP 28  \\\n",
              "   Unnamed: 1                                                          \n",
              "85 42                     0            0             0             0   \n",
              "75 40                     1            0             0             0   \n",
              "69 40                     0            0             0             0   \n",
              "67 42                     0            0             0             0   \n",
              "66 51                     0            0             0             0   \n",
              "\n",
              "               name_Svetlaya  \n",
              "   Unnamed: 1                 \n",
              "85 42                      0  \n",
              "75 40                      0  \n",
              "69 40                      0  \n",
              "67 42                      0  \n",
              "66 51                      0  "
            ]
          },
          "metadata": {
            "tags": []
          },
          "execution_count": 138
        }
      ]
    },
    {
      "metadata": {
        "id": "CS-1Oc_AWysM",
        "colab_type": "code",
        "colab": {}
      },
      "cell_type": "code",
      "source": [
        "predicted_blossum = model.predict(data)"
      ],
      "execution_count": 0,
      "outputs": []
    },
    {
      "metadata": {
        "id": "vExND_onO0fD",
        "colab_type": "code",
        "colab": {}
      },
      "cell_type": "code",
      "source": [
        "predicted_blossum"
      ],
      "execution_count": 0,
      "outputs": []
    },
    {
      "metadata": {
        "id": "aLiPAolnbJbe",
        "colab_type": "text"
      },
      "cell_type": "markdown",
      "source": [
        "We can only observe the difference in state, because none of the inputs produce state >= 1, so that it is impossible to observe the difference in days without analytical or numerical extrapolation of model predictive function"
      ]
    },
    {
      "metadata": {
        "id": "1PJS_4k5qBEs",
        "colab_type": "code",
        "colab": {}
      },
      "cell_type": "code",
      "source": [
        "diff_state = predicted_blossum - blossum_dates_dataset['state'].values"
      ],
      "execution_count": 0,
      "outputs": []
    },
    {
      "metadata": {
        "id": "XfNHlKCdY37a",
        "colab_type": "code",
        "outputId": "261cf689-f250-4f5c-c18a-dc19cb349e57",
        "colab": {
          "base_uri": "https://localhost:8080/",
          "height": 243
        }
      },
      "cell_type": "code",
      "source": [
        "diff_state "
      ],
      "execution_count": 0,
      "outputs": [
        {
          "output_type": "execute_result",
          "data": {
            "text/plain": [
              "array([[-0.00012374, -0.00012374, -0.00012374, ..., -0.00012374,\n",
              "        -0.00012374, -0.00012374],\n",
              "       [-0.00011373, -0.00011373, -0.00011373, ..., -0.00011373,\n",
              "        -0.00011373, -0.00011373],\n",
              "       [-0.00011915, -0.00011915, -0.00011915, ..., -0.00011915,\n",
              "        -0.00011915, -0.00011915],\n",
              "       ...,\n",
              "       [-0.00012654, -0.00012654, -0.00012654, ..., -0.00012654,\n",
              "        -0.00012654, -0.00012654],\n",
              "       [-0.00014335, -0.00014335, -0.00014335, ..., -0.00014335,\n",
              "        -0.00014335, -0.00014335],\n",
              "       [-0.00011897, -0.00011897, -0.00011897, ..., -0.00011897,\n",
              "        -0.00011897, -0.00011897]])"
            ]
          },
          "metadata": {
            "tags": []
          },
          "execution_count": 146
        }
      ]
    },
    {
      "metadata": {
        "id": "f1i7Ly6yYSpM",
        "colab_type": "code",
        "outputId": "c476db2e-8943-4e63-80c2-e9f76474b0dd",
        "colab": {
          "base_uri": "https://localhost:8080/",
          "height": 52
        }
      },
      "cell_type": "code",
      "source": [
        "print(\"Mean\", np.mean(diff_state))\n",
        "print(\"Std\", np.std(diff_state))"
      ],
      "execution_count": 0,
      "outputs": [
        {
          "output_type": "stream",
          "text": [
            "Mean -0.00011926850462271498\n",
            "Std 8.39260108302957e-06\n"
          ],
          "name": "stdout"
        }
      ]
    },
    {
      "metadata": {
        "id": "MMqp83g8fQwa",
        "colab_type": "text"
      },
      "cell_type": "markdown",
      "source": [
        "In ideal case we want the model expected value be exactly equal to actual predicted blossum dates"
      ]
    },
    {
      "metadata": {
        "id": "9iGHqBc-Y6nQ",
        "colab_type": "code",
        "outputId": "fe5d4d28-879e-42f5-e5a3-f75a5edb0e46",
        "colab": {
          "base_uri": "https://localhost:8080/",
          "height": 375
        }
      },
      "cell_type": "code",
      "source": [
        "plt.plot([x for x in range(len(predicted_blossum))], predicted_blossum)\n",
        "plt.plot([x for x in range(len(blossum_dates_dataset['state'].values))], blossum_dates_dataset['state'].values)"
      ],
      "execution_count": 0,
      "outputs": [
        {
          "output_type": "execute_result",
          "data": {
            "text/plain": [
              "[<matplotlib.lines.Line2D at 0x7f1e82de4a90>]"
            ]
          },
          "metadata": {
            "tags": []
          },
          "execution_count": 144
        },
        {
          "output_type": "display_data",
          "data": {
            "image/png": "[encoded data removed]",
            "text/plain": [
              "<Figure size 576x396 with 1 Axes>"
            ]
          },
          "metadata": {
            "tags": []
          }
        }
      ]
    },
    {
      "metadata": {
        "id": "EJOW6g209wH2",
        "colab_type": "code",
        "colab": {
          "base_uri": "https://localhost:8080/",
          "height": 410
        },
        "outputId": "a2a64913-08a1-4c69-936d-665de684327c"
      },
      "cell_type": "code",
      "source": [
        "np.corrcoef(blossum_dates_dataset['state'].values, predicted_blossum)"
      ],
      "execution_count": 34,
      "outputs": [
        {
          "output_type": "error",
          "ename": "ValueError",
          "evalue": "ignored",
          "traceback": [
            "\u001b[0;31m---------------------------------------------------------------------------\u001b[0m",
            "\u001b[0;31mValueError\u001b[0m                                Traceback (most recent call last)",
            "\u001b[0;32m<ipython-input-34-f4c4fe71013c>\u001b[0m in \u001b[0;36m<module>\u001b[0;34m()\u001b[0m\n\u001b[0;32m----> 1\u001b[0;31m \u001b[0mnp\u001b[0m\u001b[0;34m.\u001b[0m\u001b[0mcorrcoef\u001b[0m\u001b[0;34m(\u001b[0m\u001b[0mblossum_dates_dataset\u001b[0m\u001b[0;34m[\u001b[0m\u001b[0;34m'state'\u001b[0m\u001b[0;34m]\u001b[0m\u001b[0;34m.\u001b[0m\u001b[0mvalues\u001b[0m\u001b[0;34m,\u001b[0m \u001b[0mpredicted_blossum\u001b[0m\u001b[0;34m)\u001b[0m\u001b[0;34m\u001b[0m\u001b[0;34m\u001b[0m\u001b[0m\n\u001b[0m",
            "\u001b[0;32m/usr/local/lib/python3.6/dist-packages/numpy/lib/function_base.py\u001b[0m in \u001b[0;36mcorrcoef\u001b[0;34m(x, y, rowvar, bias, ddof)\u001b[0m\n\u001b[1;32m   3173\u001b[0m         warnings.warn('bias and ddof have no effect and are deprecated',\n\u001b[1;32m   3174\u001b[0m                       DeprecationWarning, stacklevel=2)\n\u001b[0;32m-> 3175\u001b[0;31m     \u001b[0mc\u001b[0m \u001b[0;34m=\u001b[0m \u001b[0mcov\u001b[0m\u001b[0;34m(\u001b[0m\u001b[0mx\u001b[0m\u001b[0;34m,\u001b[0m \u001b[0my\u001b[0m\u001b[0;34m,\u001b[0m \u001b[0mrowvar\u001b[0m\u001b[0;34m)\u001b[0m\u001b[0;34m\u001b[0m\u001b[0;34m\u001b[0m\u001b[0m\n\u001b[0m\u001b[1;32m   3176\u001b[0m     \u001b[0;32mtry\u001b[0m\u001b[0;34m:\u001b[0m\u001b[0;34m\u001b[0m\u001b[0;34m\u001b[0m\u001b[0m\n\u001b[1;32m   3177\u001b[0m         \u001b[0md\u001b[0m \u001b[0;34m=\u001b[0m \u001b[0mdiag\u001b[0m\u001b[0;34m(\u001b[0m\u001b[0mc\u001b[0m\u001b[0;34m)\u001b[0m\u001b[0;34m\u001b[0m\u001b[0;34m\u001b[0m\u001b[0m\n",
            "\u001b[0;32m/usr/local/lib/python3.6/dist-packages/numpy/lib/function_base.py\u001b[0m in \u001b[0;36mcov\u001b[0;34m(m, y, rowvar, bias, ddof, fweights, aweights)\u001b[0m\n\u001b[1;32m   3042\u001b[0m         \u001b[0;32mif\u001b[0m \u001b[0;32mnot\u001b[0m \u001b[0mrowvar\u001b[0m \u001b[0;32mand\u001b[0m \u001b[0my\u001b[0m\u001b[0;34m.\u001b[0m\u001b[0mshape\u001b[0m\u001b[0;34m[\u001b[0m\u001b[0;36m0\u001b[0m\u001b[0;34m]\u001b[0m \u001b[0;34m!=\u001b[0m \u001b[0;36m1\u001b[0m\u001b[0;34m:\u001b[0m\u001b[0;34m\u001b[0m\u001b[0;34m\u001b[0m\u001b[0m\n\u001b[1;32m   3043\u001b[0m             \u001b[0my\u001b[0m \u001b[0;34m=\u001b[0m \u001b[0my\u001b[0m\u001b[0;34m.\u001b[0m\u001b[0mT\u001b[0m\u001b[0;34m\u001b[0m\u001b[0;34m\u001b[0m\u001b[0m\n\u001b[0;32m-> 3044\u001b[0;31m         \u001b[0mX\u001b[0m \u001b[0;34m=\u001b[0m \u001b[0mnp\u001b[0m\u001b[0;34m.\u001b[0m\u001b[0mconcatenate\u001b[0m\u001b[0;34m(\u001b[0m\u001b[0;34m(\u001b[0m\u001b[0mX\u001b[0m\u001b[0;34m,\u001b[0m \u001b[0my\u001b[0m\u001b[0;34m)\u001b[0m\u001b[0;34m,\u001b[0m \u001b[0maxis\u001b[0m\u001b[0;34m=\u001b[0m\u001b[0;36m0\u001b[0m\u001b[0;34m)\u001b[0m\u001b[0;34m\u001b[0m\u001b[0;34m\u001b[0m\u001b[0m\n\u001b[0m\u001b[1;32m   3045\u001b[0m \u001b[0;34m\u001b[0m\u001b[0m\n\u001b[1;32m   3046\u001b[0m     \u001b[0;32mif\u001b[0m \u001b[0mddof\u001b[0m \u001b[0;32mis\u001b[0m \u001b[0;32mNone\u001b[0m\u001b[0;34m:\u001b[0m\u001b[0;34m\u001b[0m\u001b[0;34m\u001b[0m\u001b[0m\n",
            "\u001b[0;31mValueError\u001b[0m: all the input array dimensions except for the concatenation axis must match exactly"
          ]
        }
      ]
    },
    {
      "metadata": {
        "id": "Q-kdVmyVYieY",
        "colab_type": "text"
      },
      "cell_type": "markdown",
      "source": [
        "## Conclusion"
      ]
    },
    {
      "metadata": {
        "id": "vfOWiI-lDak0",
        "colab_type": "text"
      },
      "cell_type": "markdown",
      "source": [
        "The model passed proof of concept phase, it does learn and gives OK prediction, more data will lead to even more accurate results."
      ]
    }
  ]
}