{
  "nbformat": 4,
  "nbformat_minor": 0,
  "metadata": {
    "colab": {
      "name": "soya_modeling.ipynb",
      "version": "0.3.2",
      "provenance": [],
      "collapsed_sections": [],
      "toc_visible": true
    },
    "kernelspec": {
      "name": "python3",
      "display_name": "Python 3"
    },
    "accelerator": "GPU"
  },
  "cells": [
    {
      "metadata": {
        "id": "uZo3etVD_Xnq",
        "colab_type": "text"
      },
      "cell_type": "markdown",
      "source": [
        "# Soy blossom period prediction model"
      ]
    },
    {
      "metadata": {
        "id": "8uvy2UF6O_zR",
        "colab_type": "text"
      },
      "cell_type": "markdown",
      "source": [
        "## Setup"
      ]
    },
    {
      "metadata": {
        "id": "W5rFAVaqARsQ",
        "colab_type": "text"
      },
      "cell_type": "markdown",
      "source": [
        "### Configure environment"
      ]
    },
    {
      "metadata": {
        "id": "4ji6Pv5z19yh",
        "colab_type": "code",
        "outputId": "3b21f984-ae3d-4566-985e-5bf35fb22d41",
        "colab": {
          "base_uri": "https://localhost:8080/",
          "height": 52
        }
      },
      "cell_type": "code",
      "source": [
        "!pip install pydot"
      ],
      "execution_count": 2,
      "outputs": [
        {
          "output_type": "stream",
          "text": [
            "Requirement already satisfied: pydot in /usr/local/lib/python3.6/dist-packages (1.3.0)\n",
            "Requirement already satisfied: pyparsing>=2.1.4 in /usr/local/lib/python3.6/dist-packages (from pydot) (2.3.0)\n"
          ],
          "name": "stdout"
        }
      ]
    },
    {
      "metadata": {
        "id": "TOEIMPH508ai",
        "colab_type": "text"
      },
      "cell_type": "markdown",
      "source": [
        "### Show the machine details the environment is running on"
      ]
    },
    {
      "metadata": {
        "id": "uEjfrbGN1VAg",
        "colab_type": "text"
      },
      "cell_type": "markdown",
      "source": [
        "Show CPU info"
      ]
    },
    {
      "metadata": {
        "id": "slRC3KmWy9B0",
        "colab_type": "code",
        "outputId": "91094e4a-3042-4279-c007-f4f870ebd7a4",
        "colab": {
          "base_uri": "https://localhost:8080/",
          "height": 975
        }
      },
      "cell_type": "code",
      "source": [
        "!cat /proc/cpuinfo"
      ],
      "execution_count": 3,
      "outputs": [
        {
          "output_type": "stream",
          "text": [
            "processor\t: 0\n",
            "vendor_id\t: GenuineIntel\n",
            "cpu family\t: 6\n",
            "model\t\t: 63\n",
            "model name\t: Intel(R) Xeon(R) CPU @ 2.30GHz\n",
            "stepping\t: 0\n",
            "microcode\t: 0x1\n",
            "cpu MHz\t\t: 2300.000\n",
            "cache size\t: 46080 KB\n",
            "physical id\t: 0\n",
            "siblings\t: 2\n",
            "core id\t\t: 0\n",
            "cpu cores\t: 1\n",
            "apicid\t\t: 0\n",
            "initial apicid\t: 0\n",
            "fpu\t\t: yes\n",
            "fpu_exception\t: yes\n",
            "cpuid level\t: 13\n",
            "wp\t\t: yes\n",
            "flags\t\t: fpu vme de pse tsc msr pae mce cx8 apic sep mtrr pge mca cmov pat pse36 clflush mmx fxsr sse sse2 ss ht syscall nx pdpe1gb rdtscp lm constant_tsc rep_good nopl xtopology nonstop_tsc cpuid pni pclmulqdq ssse3 fma cx16 sse4_1 sse4_2 x2apic movbe popcnt aes xsave avx f16c rdrand hypervisor lahf_lm abm pti ssbd ibrs ibpb stibp fsgsbase tsc_adjust bmi1 avx2 smep bmi2 erms xsaveopt arat arch_capabilities\n",
            "bugs\t\t: cpu_meltdown spectre_v1 spectre_v2 spec_store_bypass l1tf\n",
            "bogomips\t: 4600.00\n",
            "clflush size\t: 64\n",
            "cache_alignment\t: 64\n",
            "address sizes\t: 46 bits physical, 48 bits virtual\n",
            "power management:\n",
            "\n",
            "processor\t: 1\n",
            "vendor_id\t: GenuineIntel\n",
            "cpu family\t: 6\n",
            "model\t\t: 63\n",
            "model name\t: Intel(R) Xeon(R) CPU @ 2.30GHz\n",
            "stepping\t: 0\n",
            "microcode\t: 0x1\n",
            "cpu MHz\t\t: 2300.000\n",
            "cache size\t: 46080 KB\n",
            "physical id\t: 0\n",
            "siblings\t: 2\n",
            "core id\t\t: 0\n",
            "cpu cores\t: 1\n",
            "apicid\t\t: 1\n",
            "initial apicid\t: 1\n",
            "fpu\t\t: yes\n",
            "fpu_exception\t: yes\n",
            "cpuid level\t: 13\n",
            "wp\t\t: yes\n",
            "flags\t\t: fpu vme de pse tsc msr pae mce cx8 apic sep mtrr pge mca cmov pat pse36 clflush mmx fxsr sse sse2 ss ht syscall nx pdpe1gb rdtscp lm constant_tsc rep_good nopl xtopology nonstop_tsc cpuid pni pclmulqdq ssse3 fma cx16 sse4_1 sse4_2 x2apic movbe popcnt aes xsave avx f16c rdrand hypervisor lahf_lm abm pti ssbd ibrs ibpb stibp fsgsbase tsc_adjust bmi1 avx2 smep bmi2 erms xsaveopt arat arch_capabilities\n",
            "bugs\t\t: cpu_meltdown spectre_v1 spectre_v2 spec_store_bypass l1tf\n",
            "bogomips\t: 4600.00\n",
            "clflush size\t: 64\n",
            "cache_alignment\t: 64\n",
            "address sizes\t: 46 bits physical, 48 bits virtual\n",
            "power management:\n",
            "\n"
          ],
          "name": "stdout"
        }
      ]
    },
    {
      "metadata": {
        "id": "DCtwxw0i1YA7",
        "colab_type": "text"
      },
      "cell_type": "markdown",
      "source": [
        "Show RAM info"
      ]
    },
    {
      "metadata": {
        "id": "cRZfNgbA1Rmq",
        "colab_type": "code",
        "outputId": "90ac8cc2-1e28-4345-e6a0-a9c7973cb994",
        "colab": {
          "base_uri": "https://localhost:8080/",
          "height": 799
        }
      },
      "cell_type": "code",
      "source": [
        "!cat /proc/meminfo"
      ],
      "execution_count": 4,
      "outputs": [
        {
          "output_type": "stream",
          "text": [
            "MemTotal:       13335212 kB\n",
            "MemFree:        11170028 kB\n",
            "MemAvailable:   12637084 kB\n",
            "Buffers:           59972 kB\n",
            "Cached:          1575464 kB\n",
            "SwapCached:            0 kB\n",
            "Active:           499992 kB\n",
            "Inactive:        1425988 kB\n",
            "Active(anon):     269300 kB\n",
            "Inactive(anon):      336 kB\n",
            "Active(file):     230692 kB\n",
            "Inactive(file):  1425652 kB\n",
            "Unevictable:           0 kB\n",
            "Mlocked:               0 kB\n",
            "SwapTotal:             0 kB\n",
            "SwapFree:              0 kB\n",
            "Dirty:               504 kB\n",
            "Writeback:             0 kB\n",
            "AnonPages:        290572 kB\n",
            "Mapped:           154540 kB\n",
            "Shmem:               868 kB\n",
            "Slab:             134544 kB\n",
            "SReclaimable:     104740 kB\n",
            "SUnreclaim:        29804 kB\n",
            "KernelStack:        3920 kB\n",
            "PageTables:         4748 kB\n",
            "NFS_Unstable:          0 kB\n",
            "Bounce:                0 kB\n",
            "WritebackTmp:          0 kB\n",
            "CommitLimit:     6667604 kB\n",
            "Committed_AS:    1818736 kB\n",
            "VmallocTotal:   34359738367 kB\n",
            "VmallocUsed:           0 kB\n",
            "VmallocChunk:          0 kB\n",
            "AnonHugePages:         0 kB\n",
            "ShmemHugePages:        0 kB\n",
            "ShmemPmdMapped:        0 kB\n",
            "HugePages_Total:       0\n",
            "HugePages_Free:        0\n",
            "HugePages_Rsvd:        0\n",
            "HugePages_Surp:        0\n",
            "Hugepagesize:       2048 kB\n",
            "DirectMap4k:       75764 kB\n",
            "DirectMap2M:     5167104 kB\n",
            "DirectMap1G:    10485760 kB\n"
          ],
          "name": "stdout"
        }
      ]
    },
    {
      "metadata": {
        "id": "98yFKWiy1mOo",
        "colab_type": "text"
      },
      "cell_type": "markdown",
      "source": [
        "Show GPU info"
      ]
    },
    {
      "metadata": {
        "id": "sCustmJB1pRd",
        "colab_type": "code",
        "outputId": "e631f42f-f46b-4fb4-fa13-957ffd8bac36",
        "colab": {
          "base_uri": "https://localhost:8080/",
          "height": 486
        }
      },
      "cell_type": "code",
      "source": [
        "from tensorflow.python.client import device_lib\n",
        "device_lib.list_local_devices()"
      ],
      "execution_count": 5,
      "outputs": [
        {
          "output_type": "execute_result",
          "data": {
            "text/plain": [
              "[name: \"/device:CPU:0\"\n",
              " device_type: \"CPU\"\n",
              " memory_limit: 268435456\n",
              " locality {\n",
              " }\n",
              " incarnation: 13543819622366608811, name: \"/device:XLA_CPU:0\"\n",
              " device_type: \"XLA_CPU\"\n",
              " memory_limit: 17179869184\n",
              " locality {\n",
              " }\n",
              " incarnation: 4166659517980995126\n",
              " physical_device_desc: \"device: XLA_CPU device\", name: \"/device:XLA_GPU:0\"\n",
              " device_type: \"XLA_GPU\"\n",
              " memory_limit: 17179869184\n",
              " locality {\n",
              " }\n",
              " incarnation: 10211461498971131931\n",
              " physical_device_desc: \"device: XLA_GPU device\", name: \"/device:GPU:0\"\n",
              " device_type: \"GPU\"\n",
              " memory_limit: 11281553818\n",
              " locality {\n",
              "   bus_id: 1\n",
              "   links {\n",
              "   }\n",
              " }\n",
              " incarnation: 11821830015997448801\n",
              " physical_device_desc: \"device: 0, name: Tesla K80, pci bus id: 0000:00:04.0, compute capability: 3.7\"]"
            ]
          },
          "metadata": {
            "tags": []
          },
          "execution_count": 5
        }
      ]
    },
    {
      "metadata": {
        "id": "CABv94y8HL3Z",
        "colab_type": "text"
      },
      "cell_type": "markdown",
      "source": [
        "### Import modules"
      ]
    },
    {
      "metadata": {
        "id": "b7tG1GdlF4V5",
        "colab_type": "code",
        "outputId": "30d86f57-8372-4cfd-9de9-0f57f8cbaf85",
        "colab": {
          "base_uri": "https://localhost:8080/",
          "height": 34
        }
      },
      "cell_type": "code",
      "source": [
        "from matplotlib import cm\n",
        "from matplotlib import gridspec\n",
        "from matplotlib import pyplot as plt\n",
        "import numpy as np\n",
        "import pandas as pd\n",
        "from sklearn import metrics\n",
        "import random\n",
        "\n",
        "import tensorflow as tf\n",
        "import keras\n",
        "from sklearn.metrics import r2_score as r2_metric\n",
        "from keras import optimizers\n",
        "from keras import backend as K"
      ],
      "execution_count": 6,
      "outputs": [
        {
          "output_type": "stream",
          "text": [
            "Using TensorFlow backend.\n"
          ],
          "name": "stderr"
        }
      ]
    },
    {
      "metadata": {
        "id": "fCkdb0IvyopK",
        "colab_type": "code",
        "colab": {}
      },
      "cell_type": "code",
      "source": [
        "def r2(y_true, y_pred):\n",
        "    SS_res =  K.sum(K.square( y_true-y_pred )) \n",
        "    SS_tot = K.sum(K.square( y_true - K.mean(y_true) ) ) \n",
        "    return ( 1 - SS_res/(SS_tot + K.epsilon()) )"
      ],
      "execution_count": 0,
      "outputs": []
    },
    {
      "metadata": {
        "id": "nJCZh6DAjeXR",
        "colab_type": "text"
      },
      "cell_type": "markdown",
      "source": [
        "### Set up the dataset"
      ]
    },
    {
      "metadata": {
        "id": "jLMzr6Q9HjOn",
        "colab_type": "text"
      },
      "cell_type": "markdown",
      "source": [
        "Download a dataset from shared Drive folder. "
      ]
    },
    {
      "metadata": {
        "id": "JCbXhbKiHppQ",
        "colab_type": "code",
        "colab": {}
      },
      "cell_type": "code",
      "source": [
        "!pip install -U -q PyDrive\n",
        "from pydrive.auth import GoogleAuth\n",
        "from pydrive.drive import GoogleDrive\n",
        "from google.colab import auth\n",
        "from oauth2client.client import GoogleCredentials\n",
        "\n",
        "# 1. Authenticate and create the PyDrive client.\n",
        "auth.authenticate_user()\n",
        "gauth = GoogleAuth()\n",
        "gauth.credentials = GoogleCredentials.get_application_default()\n",
        "drive = GoogleDrive(gauth)\n",
        "\n",
        "#2. Get the file\n",
        "downloaded = drive.CreateFile({'id':'1sT_MlFRu6t8OKJDS_3Yy8SYOCBUx0vRa'})\n",
        "downloaded.GetContentFile('soy_data.csv')"
      ],
      "execution_count": 0,
      "outputs": []
    },
    {
      "metadata": {
        "id": "ore9JMXyjk_q",
        "colab_type": "text"
      },
      "cell_type": "markdown",
      "source": [
        "Import data set into pandas dataframe. The dataset contains a missing value on one of the key features the model will be training with, so we need to remove that explicitly"
      ]
    },
    {
      "metadata": {
        "id": "cMyVIEldRP9u",
        "colab_type": "code",
        "outputId": "1b5805a6-40af-4965-f704-24b3f5697989",
        "colab": {
          "base_uri": "https://localhost:8080/",
          "height": 237
        }
      },
      "cell_type": "code",
      "source": [
        "df = pd.read_csv('soy_data.csv', index_col=[0, 1], prefix='Experiment')\n",
        "df.dropna()\n",
        "df.head(5)"
      ],
      "execution_count": 39,
      "outputs": [
        {
          "output_type": "execute_result",
          "data": {
            "text/html": [
              "<div>\n",
              "<style scoped>\n",
              "    .dataframe tbody tr th:only-of-type {\n",
              "        vertical-align: middle;\n",
              "    }\n",
              "\n",
              "    .dataframe tbody tr th {\n",
              "        vertical-align: top;\n",
              "    }\n",
              "\n",
              "    .dataframe thead th {\n",
              "        text-align: right;\n",
              "    }\n",
              "</style>\n",
              "<table border=\"1\" class=\"dataframe\">\n",
              "  <thead>\n",
              "    <tr style=\"text-align: right;\">\n",
              "      <th></th>\n",
              "      <th></th>\n",
              "      <th>t_min</th>\n",
              "      <th>t_max</th>\n",
              "      <th>dlen</th>\n",
              "      <th>day</th>\n",
              "      <th>station</th>\n",
              "      <th>category</th>\n",
              "      <th>name</th>\n",
              "      <th>state</th>\n",
              "    </tr>\n",
              "    <tr>\n",
              "      <th></th>\n",
              "      <th>Unnamed: 1</th>\n",
              "      <th></th>\n",
              "      <th></th>\n",
              "      <th></th>\n",
              "      <th></th>\n",
              "      <th></th>\n",
              "      <th></th>\n",
              "      <th></th>\n",
              "      <th></th>\n",
              "    </tr>\n",
              "  </thead>\n",
              "  <tbody>\n",
              "    <tr>\n",
              "      <th rowspan=\"5\" valign=\"top\">0</th>\n",
              "      <th>0</th>\n",
              "      <td>0.0</td>\n",
              "      <td>0.0</td>\n",
              "      <td>0.021642</td>\n",
              "      <td>0.000000</td>\n",
              "      <td>34927</td>\n",
              "      <td>5830</td>\n",
              "      <td>Fiskeby 1040-4-2</td>\n",
              "      <td>0.1</td>\n",
              "    </tr>\n",
              "    <tr>\n",
              "      <th>1</th>\n",
              "      <td>0.0</td>\n",
              "      <td>0.0</td>\n",
              "      <td>0.043739</td>\n",
              "      <td>0.017544</td>\n",
              "      <td>34927</td>\n",
              "      <td>5830</td>\n",
              "      <td>Fiskeby 1040-4-2</td>\n",
              "      <td>0.1</td>\n",
              "    </tr>\n",
              "    <tr>\n",
              "      <th>2</th>\n",
              "      <td>0.0</td>\n",
              "      <td>0.0</td>\n",
              "      <td>0.066282</td>\n",
              "      <td>0.035088</td>\n",
              "      <td>34927</td>\n",
              "      <td>5830</td>\n",
              "      <td>Fiskeby 1040-4-2</td>\n",
              "      <td>0.1</td>\n",
              "    </tr>\n",
              "    <tr>\n",
              "      <th>3</th>\n",
              "      <td>0.0</td>\n",
              "      <td>0.0</td>\n",
              "      <td>0.089261</td>\n",
              "      <td>0.052632</td>\n",
              "      <td>34927</td>\n",
              "      <td>5830</td>\n",
              "      <td>Fiskeby 1040-4-2</td>\n",
              "      <td>0.1</td>\n",
              "    </tr>\n",
              "    <tr>\n",
              "      <th>4</th>\n",
              "      <td>0.0</td>\n",
              "      <td>0.0</td>\n",
              "      <td>0.112667</td>\n",
              "      <td>0.070175</td>\n",
              "      <td>34927</td>\n",
              "      <td>5830</td>\n",
              "      <td>Fiskeby 1040-4-2</td>\n",
              "      <td>0.1</td>\n",
              "    </tr>\n",
              "  </tbody>\n",
              "</table>\n",
              "</div>"
            ],
            "text/plain": [
              "              t_min  t_max      dlen       day  station  category  \\\n",
              "  Unnamed: 1                                                        \n",
              "0 0             0.0    0.0  0.021642  0.000000    34927      5830   \n",
              "  1             0.0    0.0  0.043739  0.017544    34927      5830   \n",
              "  2             0.0    0.0  0.066282  0.035088    34927      5830   \n",
              "  3             0.0    0.0  0.089261  0.052632    34927      5830   \n",
              "  4             0.0    0.0  0.112667  0.070175    34927      5830   \n",
              "\n",
              "                          name  state  \n",
              "  Unnamed: 1                           \n",
              "0 0           Fiskeby 1040-4-2    0.1  \n",
              "  1           Fiskeby 1040-4-2    0.1  \n",
              "  2           Fiskeby 1040-4-2    0.1  \n",
              "  3           Fiskeby 1040-4-2    0.1  \n",
              "  4           Fiskeby 1040-4-2    0.1  "
            ]
          },
          "metadata": {
            "tags": []
          },
          "execution_count": 39
        }
      ]
    },
    {
      "metadata": {
        "id": "ihMUMlDPp5j8",
        "colab_type": "text"
      },
      "cell_type": "markdown",
      "source": [
        "The data in now loaded, it uses format that will be described somewhere here some day. "
      ]
    },
    {
      "metadata": {
        "id": "TRck9wib-rG8",
        "colab_type": "text"
      },
      "cell_type": "markdown",
      "source": [
        "### Feature extraction"
      ]
    },
    {
      "metadata": {
        "id": "EFakYqHpTYb5",
        "colab_type": "text"
      },
      "cell_type": "markdown",
      "source": [
        "Shuffle the data. As dataset uses multiindex that is a little tricky, we need to shuffle only the certain level, but the days inside a single experiment shall be in natural order."
      ]
    },
    {
      "metadata": {
        "id": "nv7EdGARsKQG",
        "colab_type": "code",
        "colab": {}
      },
      "cell_type": "code",
      "source": [
        "shuffled_indexes = [i for i in range(len(df.index.levels[0]))]\n",
        "random.shuffle(shuffled_indexes)\n",
        "new_indexes = sorted(df.index, key=lambda x: shuffled_indexes.index(x[0]))"
      ],
      "execution_count": 0,
      "outputs": []
    },
    {
      "metadata": {
        "id": "qMKWEaBhTVDA",
        "colab_type": "code",
        "colab": {}
      },
      "cell_type": "code",
      "source": [
        "df = df.reindex(new_indexes)"
      ],
      "execution_count": 0,
      "outputs": []
    },
    {
      "metadata": {
        "id": "-weuRcdqNAdU",
        "colab_type": "code",
        "outputId": "5278dc23-ae50-44b2-d8b6-64d07e1d2ece",
        "colab": {
          "base_uri": "https://localhost:8080/",
          "height": 237
        }
      },
      "cell_type": "code",
      "source": [
        "df.head(5)"
      ],
      "execution_count": 12,
      "outputs": [
        {
          "output_type": "execute_result",
          "data": {
            "text/html": [
              "<div>\n",
              "<style scoped>\n",
              "    .dataframe tbody tr th:only-of-type {\n",
              "        vertical-align: middle;\n",
              "    }\n",
              "\n",
              "    .dataframe tbody tr th {\n",
              "        vertical-align: top;\n",
              "    }\n",
              "\n",
              "    .dataframe thead th {\n",
              "        text-align: right;\n",
              "    }\n",
              "</style>\n",
              "<table border=\"1\" class=\"dataframe\">\n",
              "  <thead>\n",
              "    <tr style=\"text-align: right;\">\n",
              "      <th></th>\n",
              "      <th></th>\n",
              "      <th>t_min</th>\n",
              "      <th>t_max</th>\n",
              "      <th>dlen</th>\n",
              "      <th>day</th>\n",
              "      <th>station</th>\n",
              "      <th>category</th>\n",
              "      <th>name</th>\n",
              "      <th>state</th>\n",
              "    </tr>\n",
              "    <tr>\n",
              "      <th></th>\n",
              "      <th>Unnamed: 1</th>\n",
              "      <th></th>\n",
              "      <th></th>\n",
              "      <th></th>\n",
              "      <th></th>\n",
              "      <th></th>\n",
              "      <th></th>\n",
              "      <th></th>\n",
              "      <th></th>\n",
              "    </tr>\n",
              "  </thead>\n",
              "  <tbody>\n",
              "    <tr>\n",
              "      <th rowspan=\"5\" valign=\"top\">11</th>\n",
              "      <th>0</th>\n",
              "      <td>0.05250</td>\n",
              "      <td>0.09500</td>\n",
              "      <td>0.022979</td>\n",
              "      <td>0.000000</td>\n",
              "      <td>34927</td>\n",
              "      <td>10651</td>\n",
              "      <td>P·EP 2</td>\n",
              "      <td>0.0</td>\n",
              "    </tr>\n",
              "    <tr>\n",
              "      <th>1</th>\n",
              "      <td>0.12125</td>\n",
              "      <td>0.20500</td>\n",
              "      <td>0.046385</td>\n",
              "      <td>0.041667</td>\n",
              "      <td>34927</td>\n",
              "      <td>10651</td>\n",
              "      <td>P·EP 2</td>\n",
              "      <td>0.0</td>\n",
              "    </tr>\n",
              "    <tr>\n",
              "      <th>2</th>\n",
              "      <td>0.19500</td>\n",
              "      <td>0.31125</td>\n",
              "      <td>0.070206</td>\n",
              "      <td>0.083333</td>\n",
              "      <td>34927</td>\n",
              "      <td>10651</td>\n",
              "      <td>P·EP 2</td>\n",
              "      <td>0.0</td>\n",
              "    </tr>\n",
              "    <tr>\n",
              "      <th>3</th>\n",
              "      <td>0.27625</td>\n",
              "      <td>0.40250</td>\n",
              "      <td>0.094433</td>\n",
              "      <td>0.125000</td>\n",
              "      <td>34927</td>\n",
              "      <td>10651</td>\n",
              "      <td>P·EP 2</td>\n",
              "      <td>0.0</td>\n",
              "    </tr>\n",
              "    <tr>\n",
              "      <th>4</th>\n",
              "      <td>0.37000</td>\n",
              "      <td>0.48500</td>\n",
              "      <td>0.119054</td>\n",
              "      <td>0.166667</td>\n",
              "      <td>34927</td>\n",
              "      <td>10651</td>\n",
              "      <td>P·EP 2</td>\n",
              "      <td>0.0</td>\n",
              "    </tr>\n",
              "  </tbody>\n",
              "</table>\n",
              "</div>"
            ],
            "text/plain": [
              "                 t_min    t_max      dlen       day  station  category  \\\n",
              "   Unnamed: 1                                                            \n",
              "11 0           0.05250  0.09500  0.022979  0.000000    34927     10651   \n",
              "   1           0.12125  0.20500  0.046385  0.041667    34927     10651   \n",
              "   2           0.19500  0.31125  0.070206  0.083333    34927     10651   \n",
              "   3           0.27625  0.40250  0.094433  0.125000    34927     10651   \n",
              "   4           0.37000  0.48500  0.119054  0.166667    34927     10651   \n",
              "\n",
              "                 name  state  \n",
              "   Unnamed: 1                 \n",
              "11 0           P·EP 2    0.0  \n",
              "   1           P·EP 2    0.0  \n",
              "   2           P·EP 2    0.0  \n",
              "   3           P·EP 2    0.0  \n",
              "   4           P·EP 2    0.0  "
            ]
          },
          "metadata": {
            "tags": []
          },
          "execution_count": 12
        }
      ]
    },
    {
      "metadata": {
        "id": "DMi7GUsSTjD-",
        "colab_type": "text"
      },
      "cell_type": "markdown",
      "source": [
        "Select features and target parameter. As the data is shuffled at this point we no longer need multi-index, and selecting values will truncate that information automatically."
      ]
    },
    {
      "metadata": {
        "id": "dlpnB55syxkr",
        "colab_type": "code",
        "colab": {}
      },
      "cell_type": "code",
      "source": [
        "features = ['t_min', 't_max', 'dlen', 'day']\n",
        "data = df[features].values\n",
        "target = df['state'].values"
      ],
      "execution_count": 0,
      "outputs": []
    },
    {
      "metadata": {
        "id": "AShelcevMkUJ",
        "colab_type": "text"
      },
      "cell_type": "markdown",
      "source": [
        "data is numpy matrix with only the needed features for the model and target is numpy vector with output data"
      ]
    },
    {
      "metadata": {
        "id": "gatua_0HNPsw",
        "colab_type": "code",
        "outputId": "5ba432b8-605b-452c-9898-b2f16aeb2e7b",
        "colab": {
          "base_uri": "https://localhost:8080/",
          "height": 156
        }
      },
      "cell_type": "code",
      "source": [
        "#@title Select number of rows to display { run: \"auto\", form-width: \"30%\" }\n",
        "num_entries = 3 #@param {type:\"slider\", min:0, max:5, step:1}\n",
        "print(\"Data:  \", data.shape, \"Showing only\", num_entries, \"\\n\", data[0:num_entries], \"\\n\")\n",
        "print(\"Target:\", target.shape, \"Showing only\", num_entries, \"\\n\", target[0:num_entries], \"\\n\")"
      ],
      "execution_count": 41,
      "outputs": [
        {
          "output_type": "stream",
          "text": [
            "Data:   (8874, 4) Showing only 3 \n",
            " [[0.         0.         0.02164167 0.        ]\n",
            " [0.         0.         0.04373886 0.01754386]\n",
            " [0.         0.         0.06628203 0.03508772]] \n",
            "\n",
            "Target: (8874,) Showing only 3 \n",
            " [0.1 0.1 0.1] \n",
            "\n"
          ],
          "name": "stdout"
        }
      ]
    },
    {
      "metadata": {
        "id": "ZTmbe365Qjz8",
        "colab_type": "text"
      },
      "cell_type": "markdown",
      "source": [
        "Split the data for training and testing"
      ]
    },
    {
      "metadata": {
        "id": "gnJFOFwpQjV9",
        "colab_type": "code",
        "outputId": "d607e339-89ef-4002-d033-662bf4c3152e",
        "colab": {
          "base_uri": "https://localhost:8080/",
          "height": 52
        }
      },
      "cell_type": "code",
      "source": [
        "#@title Set the desired partition of test and train samples { run: \"auto\", form-width: \"30%\", display-mode: \"both\" }\n",
        "border = 6100 #@param {type:\"slider\", min:4000, max:6100, step:30}\n",
        "train_input, train_output = data[:border], target[:border]\n",
        "test_input, test_output = data[border:], target[border:]\n",
        "\n",
        "print(\"Train set contains\", len(train_input))\n",
        "print(\"Test set contains\", len(test_input))"
      ],
      "execution_count": 42,
      "outputs": [
        {
          "output_type": "stream",
          "text": [
            "Train set contains 6100\n",
            "Test set contains 2774\n"
          ],
          "name": "stdout"
        }
      ]
    },
    {
      "metadata": {
        "id": "KdueMwofOzg4",
        "colab_type": "text"
      },
      "cell_type": "markdown",
      "source": [
        "##  Model"
      ]
    },
    {
      "metadata": {
        "id": "h2TevvaLPGZW",
        "colab_type": "text"
      },
      "cell_type": "markdown",
      "source": [
        "We will use a simple model with input layer of 4 neurons, a single hidden layer with 20 neurons and 1 output neuron"
      ]
    },
    {
      "metadata": {
        "id": "7KmKSmm-YL5U",
        "colab_type": "text"
      },
      "cell_type": "markdown",
      "source": [
        "### Keras model definition"
      ]
    },
    {
      "metadata": {
        "id": "TCiZPeGAPuhZ",
        "colab_type": "code",
        "colab": {}
      },
      "cell_type": "code",
      "source": [
        "model = keras.Sequential()\n",
        "model.add(keras.layers.Dense(20, input_dim=4, activation=tf.nn.sigmoid))\n",
        "model.add(keras.layers.Dense(1, activation=tf.nn.sigmoid))"
      ],
      "execution_count": 0,
      "outputs": []
    },
    {
      "metadata": {
        "id": "TeRWlA-oYU2b",
        "colab_type": "text"
      },
      "cell_type": "markdown",
      "source": [
        "### Keras model compile"
      ]
    },
    {
      "metadata": {
        "id": "QQV70qOlQLMF",
        "colab_type": "code",
        "colab": {}
      },
      "cell_type": "code",
      "source": [
        "sgd = optimizers.SGD(lr=10.06)"
      ],
      "execution_count": 0,
      "outputs": []
    },
    {
      "metadata": {
        "id": "SPIy9SW8PyFC",
        "colab_type": "code",
        "colab": {}
      },
      "cell_type": "code",
      "source": [
        "model.compile(loss='mse',\n",
        "              optimizer=sgd,\n",
        "              metrics=['mse', 'mae'])"
      ],
      "execution_count": 0,
      "outputs": []
    },
    {
      "metadata": {
        "id": "nzQE8hoXWRNb",
        "colab_type": "text"
      },
      "cell_type": "markdown",
      "source": [
        "Model summary shows the architecture of the keras model"
      ]
    },
    {
      "metadata": {
        "id": "2g_Nn5dwWL2U",
        "colab_type": "code",
        "outputId": "c0f5e195-c483-4acd-9321-3f4630058282",
        "colab": {
          "base_uri": "https://localhost:8080/",
          "height": 225
        }
      },
      "cell_type": "code",
      "source": [
        "print(model.summary())"
      ],
      "execution_count": 46,
      "outputs": [
        {
          "output_type": "stream",
          "text": [
            "_________________________________________________________________\n",
            "Layer (type)                 Output Shape              Param #   \n",
            "=================================================================\n",
            "dense_3 (Dense)              (None, 20)                100       \n",
            "_________________________________________________________________\n",
            "dense_4 (Dense)              (None, 1)                 21        \n",
            "=================================================================\n",
            "Total params: 121\n",
            "Trainable params: 121\n",
            "Non-trainable params: 0\n",
            "_________________________________________________________________\n",
            "None\n"
          ],
          "name": "stdout"
        }
      ]
    },
    {
      "metadata": {
        "id": "1yF62adxYEPh",
        "colab_type": "text"
      },
      "cell_type": "markdown",
      "source": [
        "## Results"
      ]
    },
    {
      "metadata": {
        "id": "sX3hnRLUPz_b",
        "colab_type": "code",
        "cellView": "both",
        "outputId": "a228f314-b616-4572-a7ac-bf593e25aa97",
        "colab": {
          "base_uri": "https://localhost:8080/",
          "height": 3528
        }
      },
      "cell_type": "code",
      "source": [
        "#@title Hyperparameters { run: \"auto\", form-width: \"30%\" }\n",
        "epochs = 100 #@param {type:\"integer\"}\n",
        "history = model.fit(\n",
        "    train_input, train_output,\n",
        "    epochs=epochs,\n",
        "    verbose=1,\n",
        "    batch_size=25,\n",
        "    validation_split=0.01)"
      ],
      "execution_count": 48,
      "outputs": [
        {
          "output_type": "stream",
          "text": [
            "Train on 6039 samples, validate on 61 samples\n",
            "Epoch 1/100\n",
            "6039/6039 [==============================] - 1s 122us/step - loss: 0.0156 - mean_squared_error: 0.0156 - mean_absolute_error: 0.0920 - val_loss: 0.0526 - val_mean_squared_error: 0.0526 - val_mean_absolute_error: 0.1621\n",
            "Epoch 2/100\n",
            "6039/6039 [==============================] - 1s 119us/step - loss: 0.0159 - mean_squared_error: 0.0159 - mean_absolute_error: 0.0913 - val_loss: 0.0142 - val_mean_squared_error: 0.0142 - val_mean_absolute_error: 0.0879\n",
            "Epoch 3/100\n",
            "6039/6039 [==============================] - 1s 120us/step - loss: 0.0154 - mean_squared_error: 0.0154 - mean_absolute_error: 0.0886 - val_loss: 0.0317 - val_mean_squared_error: 0.0317 - val_mean_absolute_error: 0.1189\n",
            "Epoch 4/100\n",
            "6039/6039 [==============================] - 1s 132us/step - loss: 0.0149 - mean_squared_error: 0.0149 - mean_absolute_error: 0.0828 - val_loss: 0.0069 - val_mean_squared_error: 0.0069 - val_mean_absolute_error: 0.0592\n",
            "Epoch 5/100\n",
            "6039/6039 [==============================] - 1s 143us/step - loss: 0.0146 - mean_squared_error: 0.0146 - mean_absolute_error: 0.0739 - val_loss: 0.0330 - val_mean_squared_error: 0.0330 - val_mean_absolute_error: 0.1013\n",
            "Epoch 6/100\n",
            "6039/6039 [==============================] - 1s 141us/step - loss: 0.0130 - mean_squared_error: 0.0130 - mean_absolute_error: 0.0643 - val_loss: 0.0354 - val_mean_squared_error: 0.0354 - val_mean_absolute_error: 0.1023\n",
            "Epoch 7/100\n",
            "6039/6039 [==============================] - 1s 143us/step - loss: 0.0131 - mean_squared_error: 0.0131 - mean_absolute_error: 0.0621 - val_loss: 0.0603 - val_mean_squared_error: 0.0603 - val_mean_absolute_error: 0.1533\n",
            "Epoch 8/100\n",
            "6039/6039 [==============================] - 1s 141us/step - loss: 0.0126 - mean_squared_error: 0.0126 - mean_absolute_error: 0.0602 - val_loss: 0.0118 - val_mean_squared_error: 0.0118 - val_mean_absolute_error: 0.0553\n",
            "Epoch 9/100\n",
            "6039/6039 [==============================] - 1s 141us/step - loss: 0.0123 - mean_squared_error: 0.0123 - mean_absolute_error: 0.0590 - val_loss: 0.0218 - val_mean_squared_error: 0.0218 - val_mean_absolute_error: 0.0771\n",
            "Epoch 10/100\n",
            "6039/6039 [==============================] - 1s 135us/step - loss: 0.0120 - mean_squared_error: 0.0120 - mean_absolute_error: 0.0576 - val_loss: 0.0570 - val_mean_squared_error: 0.0570 - val_mean_absolute_error: 0.1393\n",
            "Epoch 11/100\n",
            "6039/6039 [==============================] - 1s 136us/step - loss: 0.0123 - mean_squared_error: 0.0123 - mean_absolute_error: 0.0577 - val_loss: 0.0229 - val_mean_squared_error: 0.0229 - val_mean_absolute_error: 0.0823\n",
            "Epoch 12/100\n",
            "6039/6039 [==============================] - 1s 141us/step - loss: 0.0125 - mean_squared_error: 0.0125 - mean_absolute_error: 0.0580 - val_loss: 0.0266 - val_mean_squared_error: 0.0266 - val_mean_absolute_error: 0.0842\n",
            "Epoch 13/100\n",
            "6039/6039 [==============================] - 1s 135us/step - loss: 0.0121 - mean_squared_error: 0.0121 - mean_absolute_error: 0.0569 - val_loss: 0.0271 - val_mean_squared_error: 0.0271 - val_mean_absolute_error: 0.0890\n",
            "Epoch 14/100\n",
            "6039/6039 [==============================] - 1s 134us/step - loss: 0.0119 - mean_squared_error: 0.0119 - mean_absolute_error: 0.0571 - val_loss: 0.0581 - val_mean_squared_error: 0.0581 - val_mean_absolute_error: 0.1481\n",
            "Epoch 15/100\n",
            "6039/6039 [==============================] - 1s 135us/step - loss: 0.0120 - mean_squared_error: 0.0120 - mean_absolute_error: 0.0571 - val_loss: 0.0170 - val_mean_squared_error: 0.0170 - val_mean_absolute_error: 0.0607\n",
            "Epoch 16/100\n",
            "6039/6039 [==============================] - 1s 137us/step - loss: 0.0118 - mean_squared_error: 0.0118 - mean_absolute_error: 0.0567 - val_loss: 0.0503 - val_mean_squared_error: 0.0503 - val_mean_absolute_error: 0.1265\n",
            "Epoch 17/100\n",
            "6039/6039 [==============================] - 1s 133us/step - loss: 0.0118 - mean_squared_error: 0.0118 - mean_absolute_error: 0.0559 - val_loss: 0.0326 - val_mean_squared_error: 0.0326 - val_mean_absolute_error: 0.0981\n",
            "Epoch 18/100\n",
            "6039/6039 [==============================] - 1s 131us/step - loss: 0.0114 - mean_squared_error: 0.0114 - mean_absolute_error: 0.0554 - val_loss: 0.0223 - val_mean_squared_error: 0.0223 - val_mean_absolute_error: 0.0790\n",
            "Epoch 19/100\n",
            "6039/6039 [==============================] - 1s 133us/step - loss: 0.0118 - mean_squared_error: 0.0118 - mean_absolute_error: 0.0564 - val_loss: 0.0300 - val_mean_squared_error: 0.0300 - val_mean_absolute_error: 0.0892\n",
            "Epoch 20/100\n",
            "6039/6039 [==============================] - 1s 135us/step - loss: 0.0118 - mean_squared_error: 0.0118 - mean_absolute_error: 0.0569 - val_loss: 0.0189 - val_mean_squared_error: 0.0189 - val_mean_absolute_error: 0.0650\n",
            "Epoch 21/100\n",
            "6039/6039 [==============================] - 1s 136us/step - loss: 0.0116 - mean_squared_error: 0.0116 - mean_absolute_error: 0.0554 - val_loss: 0.0174 - val_mean_squared_error: 0.0174 - val_mean_absolute_error: 0.0613\n",
            "Epoch 22/100\n",
            "6039/6039 [==============================] - 1s 135us/step - loss: 0.0117 - mean_squared_error: 0.0117 - mean_absolute_error: 0.0566 - val_loss: 0.0143 - val_mean_squared_error: 0.0143 - val_mean_absolute_error: 0.0566\n",
            "Epoch 23/100\n",
            "6039/6039 [==============================] - 1s 132us/step - loss: 0.0111 - mean_squared_error: 0.0111 - mean_absolute_error: 0.0542 - val_loss: 0.0484 - val_mean_squared_error: 0.0484 - val_mean_absolute_error: 0.1315\n",
            "Epoch 24/100\n",
            "6039/6039 [==============================] - 1s 134us/step - loss: 0.0115 - mean_squared_error: 0.0115 - mean_absolute_error: 0.0555 - val_loss: 0.0266 - val_mean_squared_error: 0.0266 - val_mean_absolute_error: 0.0765\n",
            "Epoch 25/100\n",
            "6039/6039 [==============================] - 1s 137us/step - loss: 0.0112 - mean_squared_error: 0.0112 - mean_absolute_error: 0.0545 - val_loss: 0.0159 - val_mean_squared_error: 0.0159 - val_mean_absolute_error: 0.0583\n",
            "Epoch 26/100\n",
            "6039/6039 [==============================] - 1s 136us/step - loss: 0.0114 - mean_squared_error: 0.0114 - mean_absolute_error: 0.0545 - val_loss: 0.0232 - val_mean_squared_error: 0.0232 - val_mean_absolute_error: 0.0725\n",
            "Epoch 27/100\n",
            "6039/6039 [==============================] - 1s 137us/step - loss: 0.0114 - mean_squared_error: 0.0114 - mean_absolute_error: 0.0555 - val_loss: 0.0230 - val_mean_squared_error: 0.0230 - val_mean_absolute_error: 0.0735\n",
            "Epoch 28/100\n",
            "6039/6039 [==============================] - 1s 133us/step - loss: 0.0111 - mean_squared_error: 0.0111 - mean_absolute_error: 0.0538 - val_loss: 0.0149 - val_mean_squared_error: 0.0149 - val_mean_absolute_error: 0.0576\n",
            "Epoch 29/100\n",
            "6039/6039 [==============================] - 1s 135us/step - loss: 0.0112 - mean_squared_error: 0.0112 - mean_absolute_error: 0.0546 - val_loss: 0.0547 - val_mean_squared_error: 0.0547 - val_mean_absolute_error: 0.1453\n",
            "Epoch 30/100\n",
            "6039/6039 [==============================] - 1s 133us/step - loss: 0.0113 - mean_squared_error: 0.0113 - mean_absolute_error: 0.0547 - val_loss: 0.0355 - val_mean_squared_error: 0.0355 - val_mean_absolute_error: 0.1082\n",
            "Epoch 31/100\n",
            "6039/6039 [==============================] - 1s 132us/step - loss: 0.0110 - mean_squared_error: 0.0110 - mean_absolute_error: 0.0540 - val_loss: 0.0162 - val_mean_squared_error: 0.0162 - val_mean_absolute_error: 0.0594\n",
            "Epoch 32/100\n",
            "6039/6039 [==============================] - 1s 132us/step - loss: 0.0114 - mean_squared_error: 0.0114 - mean_absolute_error: 0.0551 - val_loss: 0.0180 - val_mean_squared_error: 0.0180 - val_mean_absolute_error: 0.0723\n",
            "Epoch 33/100\n",
            "6039/6039 [==============================] - 1s 134us/step - loss: 0.0110 - mean_squared_error: 0.0110 - mean_absolute_error: 0.0540 - val_loss: 0.0131 - val_mean_squared_error: 0.0131 - val_mean_absolute_error: 0.0535\n",
            "Epoch 34/100\n",
            "6039/6039 [==============================] - 1s 134us/step - loss: 0.0115 - mean_squared_error: 0.0115 - mean_absolute_error: 0.0547 - val_loss: 0.0295 - val_mean_squared_error: 0.0295 - val_mean_absolute_error: 0.0853\n",
            "Epoch 35/100\n",
            "6039/6039 [==============================] - 1s 135us/step - loss: 0.0109 - mean_squared_error: 0.0109 - mean_absolute_error: 0.0532 - val_loss: 0.0310 - val_mean_squared_error: 0.0310 - val_mean_absolute_error: 0.1005\n",
            "Epoch 36/100\n",
            "6039/6039 [==============================] - 1s 134us/step - loss: 0.0110 - mean_squared_error: 0.0110 - mean_absolute_error: 0.0543 - val_loss: 0.0339 - val_mean_squared_error: 0.0339 - val_mean_absolute_error: 0.0938\n",
            "Epoch 37/100\n",
            "6039/6039 [==============================] - 1s 132us/step - loss: 0.0111 - mean_squared_error: 0.0111 - mean_absolute_error: 0.0529 - val_loss: 0.0091 - val_mean_squared_error: 0.0091 - val_mean_absolute_error: 0.0777\n",
            "Epoch 38/100\n",
            "6039/6039 [==============================] - 1s 133us/step - loss: 0.0111 - mean_squared_error: 0.0111 - mean_absolute_error: 0.0538 - val_loss: 0.0342 - val_mean_squared_error: 0.0342 - val_mean_absolute_error: 0.0888\n",
            "Epoch 39/100\n",
            "6039/6039 [==============================] - 1s 133us/step - loss: 0.0112 - mean_squared_error: 0.0112 - mean_absolute_error: 0.0544 - val_loss: 0.0264 - val_mean_squared_error: 0.0264 - val_mean_absolute_error: 0.0861\n",
            "Epoch 40/100\n",
            "6039/6039 [==============================] - 1s 133us/step - loss: 0.0109 - mean_squared_error: 0.0109 - mean_absolute_error: 0.0523 - val_loss: 0.0299 - val_mean_squared_error: 0.0299 - val_mean_absolute_error: 0.0875\n",
            "Epoch 41/100\n",
            "6039/6039 [==============================] - 1s 132us/step - loss: 0.0108 - mean_squared_error: 0.0108 - mean_absolute_error: 0.0522 - val_loss: 0.0170 - val_mean_squared_error: 0.0170 - val_mean_absolute_error: 0.0592\n",
            "Epoch 42/100\n",
            "6039/6039 [==============================] - 1s 134us/step - loss: 0.0106 - mean_squared_error: 0.0106 - mean_absolute_error: 0.0524 - val_loss: 0.0248 - val_mean_squared_error: 0.0248 - val_mean_absolute_error: 0.0850\n",
            "Epoch 43/100\n",
            "6039/6039 [==============================] - 1s 133us/step - loss: 0.0112 - mean_squared_error: 0.0112 - mean_absolute_error: 0.0539 - val_loss: 0.0253 - val_mean_squared_error: 0.0253 - val_mean_absolute_error: 0.0777\n",
            "Epoch 44/100\n",
            "6039/6039 [==============================] - 1s 132us/step - loss: 0.0112 - mean_squared_error: 0.0112 - mean_absolute_error: 0.0544 - val_loss: 0.0147 - val_mean_squared_error: 0.0147 - val_mean_absolute_error: 0.0553\n",
            "Epoch 45/100\n",
            "6039/6039 [==============================] - 1s 132us/step - loss: 0.0107 - mean_squared_error: 0.0107 - mean_absolute_error: 0.0520 - val_loss: 0.0097 - val_mean_squared_error: 0.0097 - val_mean_absolute_error: 0.0726\n",
            "Epoch 46/100\n",
            "6039/6039 [==============================] - 1s 131us/step - loss: 0.0110 - mean_squared_error: 0.0110 - mean_absolute_error: 0.0534 - val_loss: 0.0351 - val_mean_squared_error: 0.0351 - val_mean_absolute_error: 0.0918\n",
            "Epoch 47/100\n",
            "6039/6039 [==============================] - 1s 133us/step - loss: 0.0109 - mean_squared_error: 0.0109 - mean_absolute_error: 0.0517 - val_loss: 0.0116 - val_mean_squared_error: 0.0116 - val_mean_absolute_error: 0.0578\n",
            "Epoch 48/100\n",
            "6039/6039 [==============================] - 1s 133us/step - loss: 0.0110 - mean_squared_error: 0.0110 - mean_absolute_error: 0.0530 - val_loss: 0.0217 - val_mean_squared_error: 0.0217 - val_mean_absolute_error: 0.0674\n",
            "Epoch 49/100\n",
            "6039/6039 [==============================] - 1s 133us/step - loss: 0.0110 - mean_squared_error: 0.0110 - mean_absolute_error: 0.0527 - val_loss: 0.0233 - val_mean_squared_error: 0.0233 - val_mean_absolute_error: 0.0725\n",
            "Epoch 50/100\n",
            "6039/6039 [==============================] - 1s 134us/step - loss: 0.0109 - mean_squared_error: 0.0109 - mean_absolute_error: 0.0528 - val_loss: 0.0174 - val_mean_squared_error: 0.0174 - val_mean_absolute_error: 0.0590\n",
            "Epoch 51/100\n",
            "6039/6039 [==============================] - 1s 132us/step - loss: 0.0108 - mean_squared_error: 0.0108 - mean_absolute_error: 0.0520 - val_loss: 0.0232 - val_mean_squared_error: 0.0232 - val_mean_absolute_error: 0.0710\n",
            "Epoch 52/100\n",
            "6039/6039 [==============================] - 1s 134us/step - loss: 0.0106 - mean_squared_error: 0.0106 - mean_absolute_error: 0.0514 - val_loss: 0.0435 - val_mean_squared_error: 0.0435 - val_mean_absolute_error: 0.1180\n",
            "Epoch 53/100\n",
            "6039/6039 [==============================] - 1s 135us/step - loss: 0.0108 - mean_squared_error: 0.0108 - mean_absolute_error: 0.0518 - val_loss: 0.0306 - val_mean_squared_error: 0.0306 - val_mean_absolute_error: 0.0957\n",
            "Epoch 54/100\n",
            "6039/6039 [==============================] - 1s 132us/step - loss: 0.0108 - mean_squared_error: 0.0108 - mean_absolute_error: 0.0520 - val_loss: 0.0231 - val_mean_squared_error: 0.0231 - val_mean_absolute_error: 0.0698\n",
            "Epoch 55/100\n",
            "6039/6039 [==============================] - 1s 130us/step - loss: 0.0106 - mean_squared_error: 0.0106 - mean_absolute_error: 0.0516 - val_loss: 0.0415 - val_mean_squared_error: 0.0415 - val_mean_absolute_error: 0.1106\n",
            "Epoch 56/100\n",
            "6039/6039 [==============================] - 1s 133us/step - loss: 0.0106 - mean_squared_error: 0.0106 - mean_absolute_error: 0.0514 - val_loss: 0.0349 - val_mean_squared_error: 0.0349 - val_mean_absolute_error: 0.1076\n",
            "Epoch 57/100\n",
            "6039/6039 [==============================] - 1s 134us/step - loss: 0.0109 - mean_squared_error: 0.0109 - mean_absolute_error: 0.0526 - val_loss: 0.0158 - val_mean_squared_error: 0.0158 - val_mean_absolute_error: 0.0707\n",
            "Epoch 58/100\n",
            "6039/6039 [==============================] - 1s 133us/step - loss: 0.0107 - mean_squared_error: 0.0107 - mean_absolute_error: 0.0523 - val_loss: 0.0381 - val_mean_squared_error: 0.0381 - val_mean_absolute_error: 0.0974\n",
            "Epoch 59/100\n",
            "6039/6039 [==============================] - 1s 133us/step - loss: 0.0106 - mean_squared_error: 0.0106 - mean_absolute_error: 0.0521 - val_loss: 0.0267 - val_mean_squared_error: 0.0267 - val_mean_absolute_error: 0.0790\n",
            "Epoch 60/100\n",
            "6039/6039 [==============================] - 1s 131us/step - loss: 0.0107 - mean_squared_error: 0.0107 - mean_absolute_error: 0.0512 - val_loss: 0.0078 - val_mean_squared_error: 0.0078 - val_mean_absolute_error: 0.0712\n",
            "Epoch 61/100\n",
            "6039/6039 [==============================] - 1s 134us/step - loss: 0.0109 - mean_squared_error: 0.0109 - mean_absolute_error: 0.0524 - val_loss: 0.0311 - val_mean_squared_error: 0.0311 - val_mean_absolute_error: 0.0828\n",
            "Epoch 62/100\n",
            "6039/6039 [==============================] - 1s 134us/step - loss: 0.0106 - mean_squared_error: 0.0106 - mean_absolute_error: 0.0509 - val_loss: 0.0161 - val_mean_squared_error: 0.0161 - val_mean_absolute_error: 0.0576\n",
            "Epoch 63/100\n",
            "6039/6039 [==============================] - 1s 134us/step - loss: 0.0106 - mean_squared_error: 0.0106 - mean_absolute_error: 0.0513 - val_loss: 0.0192 - val_mean_squared_error: 0.0192 - val_mean_absolute_error: 0.0663\n",
            "Epoch 64/100\n",
            "6039/6039 [==============================] - 1s 134us/step - loss: 0.0104 - mean_squared_error: 0.0104 - mean_absolute_error: 0.0507 - val_loss: 0.0256 - val_mean_squared_error: 0.0256 - val_mean_absolute_error: 0.0784\n",
            "Epoch 65/100\n",
            "6039/6039 [==============================] - 1s 132us/step - loss: 0.0106 - mean_squared_error: 0.0106 - mean_absolute_error: 0.0509 - val_loss: 0.0257 - val_mean_squared_error: 0.0257 - val_mean_absolute_error: 0.0830\n",
            "Epoch 66/100\n",
            "6039/6039 [==============================] - 1s 134us/step - loss: 0.0104 - mean_squared_error: 0.0104 - mean_absolute_error: 0.0497 - val_loss: 0.0215 - val_mean_squared_error: 0.0215 - val_mean_absolute_error: 0.0670\n",
            "Epoch 67/100\n",
            "6039/6039 [==============================] - 1s 134us/step - loss: 0.0108 - mean_squared_error: 0.0108 - mean_absolute_error: 0.0509 - val_loss: 0.0213 - val_mean_squared_error: 0.0213 - val_mean_absolute_error: 0.0725\n",
            "Epoch 68/100\n",
            "6039/6039 [==============================] - 1s 134us/step - loss: 0.0105 - mean_squared_error: 0.0105 - mean_absolute_error: 0.0505 - val_loss: 0.0333 - val_mean_squared_error: 0.0333 - val_mean_absolute_error: 0.0928\n",
            "Epoch 69/100\n",
            "6039/6039 [==============================] - 1s 133us/step - loss: 0.0105 - mean_squared_error: 0.0105 - mean_absolute_error: 0.0510 - val_loss: 0.0230 - val_mean_squared_error: 0.0230 - val_mean_absolute_error: 0.0704\n",
            "Epoch 70/100\n",
            "6039/6039 [==============================] - 1s 131us/step - loss: 0.0108 - mean_squared_error: 0.0108 - mean_absolute_error: 0.0515 - val_loss: 0.0256 - val_mean_squared_error: 0.0256 - val_mean_absolute_error: 0.0739\n",
            "Epoch 71/100\n",
            "6039/6039 [==============================] - 1s 133us/step - loss: 0.0108 - mean_squared_error: 0.0108 - mean_absolute_error: 0.0514 - val_loss: 0.0270 - val_mean_squared_error: 0.0270 - val_mean_absolute_error: 0.0793\n",
            "Epoch 72/100\n",
            "6039/6039 [==============================] - 1s 133us/step - loss: 0.0108 - mean_squared_error: 0.0108 - mean_absolute_error: 0.0510 - val_loss: 0.0249 - val_mean_squared_error: 0.0249 - val_mean_absolute_error: 0.0733\n",
            "Epoch 73/100\n",
            "6039/6039 [==============================] - 1s 134us/step - loss: 0.0106 - mean_squared_error: 0.0106 - mean_absolute_error: 0.0501 - val_loss: 0.0209 - val_mean_squared_error: 0.0209 - val_mean_absolute_error: 0.0646\n",
            "Epoch 74/100\n",
            "6039/6039 [==============================] - 1s 132us/step - loss: 0.0106 - mean_squared_error: 0.0106 - mean_absolute_error: 0.0515 - val_loss: 0.0288 - val_mean_squared_error: 0.0288 - val_mean_absolute_error: 0.0804\n",
            "Epoch 75/100\n",
            "6039/6039 [==============================] - 1s 137us/step - loss: 0.0109 - mean_squared_error: 0.0109 - mean_absolute_error: 0.0518 - val_loss: 0.0245 - val_mean_squared_error: 0.0245 - val_mean_absolute_error: 0.0818\n",
            "Epoch 76/100\n",
            "6039/6039 [==============================] - 1s 133us/step - loss: 0.0107 - mean_squared_error: 0.0107 - mean_absolute_error: 0.0511 - val_loss: 0.0180 - val_mean_squared_error: 0.0180 - val_mean_absolute_error: 0.0651\n",
            "Epoch 77/100\n",
            "6039/6039 [==============================] - 1s 136us/step - loss: 0.0105 - mean_squared_error: 0.0105 - mean_absolute_error: 0.0505 - val_loss: 0.0226 - val_mean_squared_error: 0.0226 - val_mean_absolute_error: 0.0697\n",
            "Epoch 78/100\n",
            "6039/6039 [==============================] - 1s 138us/step - loss: 0.0104 - mean_squared_error: 0.0104 - mean_absolute_error: 0.0502 - val_loss: 0.0263 - val_mean_squared_error: 0.0263 - val_mean_absolute_error: 0.0851\n",
            "Epoch 79/100\n",
            "6039/6039 [==============================] - 1s 134us/step - loss: 0.0106 - mean_squared_error: 0.0106 - mean_absolute_error: 0.0504 - val_loss: 0.0281 - val_mean_squared_error: 0.0281 - val_mean_absolute_error: 0.0811\n",
            "Epoch 80/100\n",
            "6039/6039 [==============================] - 1s 134us/step - loss: 0.0104 - mean_squared_error: 0.0104 - mean_absolute_error: 0.0504 - val_loss: 0.0221 - val_mean_squared_error: 0.0221 - val_mean_absolute_error: 0.0692\n",
            "Epoch 81/100\n",
            "6039/6039 [==============================] - 1s 134us/step - loss: 0.0105 - mean_squared_error: 0.0105 - mean_absolute_error: 0.0499 - val_loss: 0.0327 - val_mean_squared_error: 0.0327 - val_mean_absolute_error: 0.0949\n",
            "Epoch 82/100\n",
            "6039/6039 [==============================] - 1s 135us/step - loss: 0.0107 - mean_squared_error: 0.0107 - mean_absolute_error: 0.0512 - val_loss: 0.0134 - val_mean_squared_error: 0.0134 - val_mean_absolute_error: 0.0789\n",
            "Epoch 83/100\n",
            "6039/6039 [==============================] - 1s 133us/step - loss: 0.0105 - mean_squared_error: 0.0105 - mean_absolute_error: 0.0499 - val_loss: 0.0274 - val_mean_squared_error: 0.0274 - val_mean_absolute_error: 0.0773\n",
            "Epoch 84/100\n",
            "6039/6039 [==============================] - 1s 132us/step - loss: 0.0107 - mean_squared_error: 0.0107 - mean_absolute_error: 0.0510 - val_loss: 0.0300 - val_mean_squared_error: 0.0300 - val_mean_absolute_error: 0.0863\n",
            "Epoch 85/100\n",
            "6039/6039 [==============================] - 1s 133us/step - loss: 0.0107 - mean_squared_error: 0.0107 - mean_absolute_error: 0.0507 - val_loss: 0.0163 - val_mean_squared_error: 0.0163 - val_mean_absolute_error: 0.0603\n",
            "Epoch 86/100\n",
            "6039/6039 [==============================] - 1s 134us/step - loss: 0.0104 - mean_squared_error: 0.0104 - mean_absolute_error: 0.0495 - val_loss: 0.0263 - val_mean_squared_error: 0.0263 - val_mean_absolute_error: 0.0755\n",
            "Epoch 87/100\n",
            "6039/6039 [==============================] - 1s 135us/step - loss: 0.0104 - mean_squared_error: 0.0104 - mean_absolute_error: 0.0503 - val_loss: 0.0302 - val_mean_squared_error: 0.0302 - val_mean_absolute_error: 0.0937\n",
            "Epoch 88/100\n",
            "6039/6039 [==============================] - 1s 134us/step - loss: 0.0104 - mean_squared_error: 0.0104 - mean_absolute_error: 0.0500 - val_loss: 0.0280 - val_mean_squared_error: 0.0280 - val_mean_absolute_error: 0.0811\n",
            "Epoch 89/100\n",
            "6039/6039 [==============================] - 1s 132us/step - loss: 0.0103 - mean_squared_error: 0.0103 - mean_absolute_error: 0.0497 - val_loss: 0.0286 - val_mean_squared_error: 0.0286 - val_mean_absolute_error: 0.0770\n",
            "Epoch 90/100\n",
            "6039/6039 [==============================] - 1s 134us/step - loss: 0.0103 - mean_squared_error: 0.0103 - mean_absolute_error: 0.0502 - val_loss: 0.0206 - val_mean_squared_error: 0.0206 - val_mean_absolute_error: 0.0680\n",
            "Epoch 91/100\n",
            "6039/6039 [==============================] - 1s 135us/step - loss: 0.0106 - mean_squared_error: 0.0106 - mean_absolute_error: 0.0502 - val_loss: 0.0150 - val_mean_squared_error: 0.0150 - val_mean_absolute_error: 0.0730\n",
            "Epoch 92/100\n",
            "6039/6039 [==============================] - 1s 136us/step - loss: 0.0105 - mean_squared_error: 0.0105 - mean_absolute_error: 0.0501 - val_loss: 0.0307 - val_mean_squared_error: 0.0307 - val_mean_absolute_error: 0.0822\n",
            "Epoch 93/100\n",
            "6039/6039 [==============================] - 1s 132us/step - loss: 0.0106 - mean_squared_error: 0.0106 - mean_absolute_error: 0.0503 - val_loss: 0.0173 - val_mean_squared_error: 0.0173 - val_mean_absolute_error: 0.0629\n",
            "Epoch 94/100\n",
            "6039/6039 [==============================] - 1s 135us/step - loss: 0.0106 - mean_squared_error: 0.0106 - mean_absolute_error: 0.0510 - val_loss: 0.0162 - val_mean_squared_error: 0.0162 - val_mean_absolute_error: 0.0729\n",
            "Epoch 95/100\n",
            "6039/6039 [==============================] - 1s 134us/step - loss: 0.0103 - mean_squared_error: 0.0103 - mean_absolute_error: 0.0493 - val_loss: 0.0304 - val_mean_squared_error: 0.0304 - val_mean_absolute_error: 0.0905\n",
            "Epoch 96/100\n",
            "6039/6039 [==============================] - 1s 136us/step - loss: 0.0106 - mean_squared_error: 0.0106 - mean_absolute_error: 0.0502 - val_loss: 0.0267 - val_mean_squared_error: 0.0267 - val_mean_absolute_error: 0.0739\n",
            "Epoch 97/100\n",
            "6039/6039 [==============================] - 1s 133us/step - loss: 0.0103 - mean_squared_error: 0.0103 - mean_absolute_error: 0.0493 - val_loss: 0.0219 - val_mean_squared_error: 0.0219 - val_mean_absolute_error: 0.0719\n",
            "Epoch 98/100\n",
            "6039/6039 [==============================] - 1s 131us/step - loss: 0.0104 - mean_squared_error: 0.0104 - mean_absolute_error: 0.0495 - val_loss: 0.0317 - val_mean_squared_error: 0.0317 - val_mean_absolute_error: 0.0886\n",
            "Epoch 99/100\n",
            "6039/6039 [==============================] - 1s 132us/step - loss: 0.0103 - mean_squared_error: 0.0103 - mean_absolute_error: 0.0495 - val_loss: 0.0243 - val_mean_squared_error: 0.0243 - val_mean_absolute_error: 0.0748\n",
            "Epoch 100/100\n",
            "6039/6039 [==============================] - 1s 133us/step - loss: 0.0106 - mean_squared_error: 0.0106 - mean_absolute_error: 0.0501 - val_loss: 0.0244 - val_mean_squared_error: 0.0244 - val_mean_absolute_error: 0.0782\n"
          ],
          "name": "stdout"
        }
      ]
    },
    {
      "metadata": {
        "id": "XGYfo3-eP8L8",
        "colab_type": "code",
        "outputId": "e3b89eb0-a4a4-468f-a6a6-5f4b9c3e1ca0",
        "colab": {
          "base_uri": "https://localhost:8080/",
          "height": 86
        }
      },
      "cell_type": "code",
      "source": [
        "loss, mse, mae = model.evaluate(test_input, test_output)\n",
        "\n",
        "print(\"MSE: \", mse)\n",
        "print(\"MAE: \", mae)\n",
        "# print(\"R2:  \", r2_value)\n",
        "print(\"Loss:\", loss)"
      ],
      "execution_count": 49,
      "outputs": [
        {
          "output_type": "stream",
          "text": [
            "2774/2774 [==============================] - 0s 44us/step\n",
            "MSE:  0.026389341431962567\n",
            "MAE:  0.07268274404919654\n",
            "Loss: 0.026389341431962567\n"
          ],
          "name": "stdout"
        }
      ]
    },
    {
      "metadata": {
        "id": "V3V6ouyo1Xfu",
        "colab_type": "code",
        "outputId": "be5f555f-c122-4609-b47d-8b893ef925da",
        "colab": {
          "base_uri": "https://localhost:8080/",
          "height": 376
        }
      },
      "cell_type": "code",
      "source": [
        "import matplotlib.pyplot as plt\n",
        "\n",
        "# Plot training & validation accuracy values\n",
        "plt.plot(history.history['loss'])\n",
        "plt.plot(history.history['val_loss'])\n",
        "plt.title('Model loss')\n",
        "plt.ylabel('Loss')\n",
        "plt.xlabel('Epoch')\n",
        "plt.legend(['Train', 'Test'], loc='upper right')\n",
        "plt.show()"
      ],
      "execution_count": 50,
      "outputs": [
        {
          "output_type": "display_data",
          "data": {
            "image/png": "[encoded data removed]",
            "text/plain": [
              "<matplotlib.figure.Figure at 0x7fd5a1d250b8>"
            ]
          },
          "metadata": {
            "tags": []
          }
        }
      ]
    },
    {
      "metadata": {
        "id": "G9sMOC1MPOp8",
        "colab_type": "text"
      },
      "cell_type": "markdown",
      "source": [
        "## Save model for future use"
      ]
    },
    {
      "metadata": {
        "id": "lUqpEAMQWrkt",
        "colab_type": "text"
      },
      "cell_type": "markdown",
      "source": [
        "Model can be saved and then loaded to work in different environment"
      ]
    },
    {
      "metadata": {
        "id": "ju0ij5GMO6oV",
        "colab_type": "code",
        "colab": {}
      },
      "cell_type": "code",
      "source": [
        "model.save('soy_blossum_model.h5')"
      ],
      "execution_count": 0,
      "outputs": []
    },
    {
      "metadata": {
        "id": "HTn6gRQFW1KV",
        "colab_type": "text"
      },
      "cell_type": "markdown",
      "source": [
        "Model stores as serialized executable object, can be loaded and instanciated on the fly to exactly the same model. There are some restrictions on such saving method though. If you use this method you can only use keras api and do not include custom code, metrics for instance, that is a pitty because keras doesn't have a standart R^2 metric implementation, thus cannot be saved to be loaded without recompilation."
      ]
    },
    {
      "metadata": {
        "id": "9_AyNV2-XKOB",
        "colab_type": "code",
        "colab": {}
      },
      "cell_type": "code",
      "source": [
        "del model"
      ],
      "execution_count": 0,
      "outputs": []
    },
    {
      "metadata": {
        "id": "A76RTFRfXMw8",
        "colab_type": "code",
        "colab": {}
      },
      "cell_type": "code",
      "source": [
        "from keras.models import load_model\n",
        "\n",
        "model = load_model('soy_blossum_model.h5')"
      ],
      "execution_count": 0,
      "outputs": []
    },
    {
      "metadata": {
        "id": "1ntyOCU8Y7pq",
        "colab_type": "text"
      },
      "cell_type": "markdown",
      "source": [
        "## Evaluating difference in predicted states on actual blossum dates"
      ]
    },
    {
      "metadata": {
        "id": "ewfEK9D0ZE6e",
        "colab_type": "text"
      },
      "cell_type": "markdown",
      "source": [
        "Filter data so that it only has dates with actual blossum, 'day' field is defined so that it is calendar dates mapped into [0;1] interval so selecting blossum dates is easy as selecting rows where 'day' == 1 "
      ]
    },
    {
      "metadata": {
        "id": "K8syA3duphmR",
        "colab_type": "code",
        "colab": {}
      },
      "cell_type": "code",
      "source": [
        "blossum_dates_dataset = df.loc[df['state'] > 0.59]\n",
        "blossum_dates_dataset = blossum_dates_dataset.loc[blossum_dates_dataset['state'] < 0.61]"
      ],
      "execution_count": 0,
      "outputs": []
    },
    {
      "metadata": {
        "id": "6x-16DPyOQgp",
        "colab_type": "code",
        "outputId": "2b20fe60-98b7-42b7-8fbb-8e6cdfefe803",
        "colab": {
          "base_uri": "https://localhost:8080/",
          "height": 394
        }
      },
      "cell_type": "code",
      "source": [
        "blossum_dates_dataset.head(10)"
      ],
      "execution_count": 63,
      "outputs": [
        {
          "output_type": "execute_result",
          "data": {
            "text/html": [
              "<div>\n",
              "<style scoped>\n",
              "    .dataframe tbody tr th:only-of-type {\n",
              "        vertical-align: middle;\n",
              "    }\n",
              "\n",
              "    .dataframe tbody tr th {\n",
              "        vertical-align: top;\n",
              "    }\n",
              "\n",
              "    .dataframe thead th {\n",
              "        text-align: right;\n",
              "    }\n",
              "</style>\n",
              "<table border=\"1\" class=\"dataframe\">\n",
              "  <thead>\n",
              "    <tr style=\"text-align: right;\">\n",
              "      <th></th>\n",
              "      <th></th>\n",
              "      <th>t_min</th>\n",
              "      <th>t_max</th>\n",
              "      <th>dlen</th>\n",
              "      <th>day</th>\n",
              "      <th>station</th>\n",
              "      <th>category</th>\n",
              "      <th>name</th>\n",
              "      <th>state</th>\n",
              "    </tr>\n",
              "    <tr>\n",
              "      <th></th>\n",
              "      <th>Unnamed: 1</th>\n",
              "      <th></th>\n",
              "      <th></th>\n",
              "      <th></th>\n",
              "      <th></th>\n",
              "      <th></th>\n",
              "      <th></th>\n",
              "      <th></th>\n",
              "      <th></th>\n",
              "    </tr>\n",
              "  </thead>\n",
              "  <tbody>\n",
              "    <tr>\n",
              "      <th>0</th>\n",
              "      <th>36</th>\n",
              "      <td>1.05875</td>\n",
              "      <td>1.00500</td>\n",
              "      <td>1.014392</td>\n",
              "      <td>0.631579</td>\n",
              "      <td>34927</td>\n",
              "      <td>5830</td>\n",
              "      <td>Fiskeby 1040-4-2</td>\n",
              "      <td>0.6</td>\n",
              "    </tr>\n",
              "    <tr>\n",
              "      <th>1</th>\n",
              "      <th>24</th>\n",
              "      <td>1.43250</td>\n",
              "      <td>1.72875</td>\n",
              "      <td>0.675615</td>\n",
              "      <td>0.421053</td>\n",
              "      <td>34927</td>\n",
              "      <td>5830</td>\n",
              "      <td>Fiskeby 1040-4-2</td>\n",
              "      <td>0.6</td>\n",
              "    </tr>\n",
              "    <tr>\n",
              "      <th>2</th>\n",
              "      <th>35</th>\n",
              "      <td>0.96500</td>\n",
              "      <td>0.91250</td>\n",
              "      <td>0.983988</td>\n",
              "      <td>0.614035</td>\n",
              "      <td>34927</td>\n",
              "      <td>9959</td>\n",
              "      <td>Okskaya</td>\n",
              "      <td>0.6</td>\n",
              "    </tr>\n",
              "    <tr>\n",
              "      <th>3</th>\n",
              "      <th>24</th>\n",
              "      <td>1.43250</td>\n",
              "      <td>1.72875</td>\n",
              "      <td>0.675615</td>\n",
              "      <td>0.421053</td>\n",
              "      <td>34927</td>\n",
              "      <td>9959</td>\n",
              "      <td>Okskaya</td>\n",
              "      <td>0.6</td>\n",
              "    </tr>\n",
              "    <tr>\n",
              "      <th>4</th>\n",
              "      <th>35</th>\n",
              "      <td>0.96500</td>\n",
              "      <td>0.91250</td>\n",
              "      <td>0.983988</td>\n",
              "      <td>0.614035</td>\n",
              "      <td>34927</td>\n",
              "      <td>9960</td>\n",
              "      <td>Svetlaya</td>\n",
              "      <td>0.6</td>\n",
              "    </tr>\n",
              "    <tr>\n",
              "      <th>5</th>\n",
              "      <th>24</th>\n",
              "      <td>1.43250</td>\n",
              "      <td>1.72875</td>\n",
              "      <td>0.675615</td>\n",
              "      <td>0.421053</td>\n",
              "      <td>34927</td>\n",
              "      <td>9960</td>\n",
              "      <td>Svetlaya</td>\n",
              "      <td>0.6</td>\n",
              "    </tr>\n",
              "    <tr>\n",
              "      <th>6</th>\n",
              "      <th>39</th>\n",
              "      <td>1.30250</td>\n",
              "      <td>1.15250</td>\n",
              "      <td>1.105430</td>\n",
              "      <td>0.684211</td>\n",
              "      <td>34927</td>\n",
              "      <td>10043</td>\n",
              "      <td>Altom</td>\n",
              "      <td>0.6</td>\n",
              "    </tr>\n",
              "    <tr>\n",
              "      <th>7</th>\n",
              "      <th>30</th>\n",
              "      <td>1.76875</td>\n",
              "      <td>1.92500</td>\n",
              "      <td>0.856901</td>\n",
              "      <td>0.526316</td>\n",
              "      <td>34927</td>\n",
              "      <td>10043</td>\n",
              "      <td>Altom</td>\n",
              "      <td>0.6</td>\n",
              "    </tr>\n",
              "    <tr>\n",
              "      <th>8</th>\n",
              "      <th>36</th>\n",
              "      <td>1.05875</td>\n",
              "      <td>1.00500</td>\n",
              "      <td>1.014392</td>\n",
              "      <td>0.631579</td>\n",
              "      <td>34927</td>\n",
              "      <td>10539</td>\n",
              "      <td>KG-20</td>\n",
              "      <td>0.6</td>\n",
              "    </tr>\n",
              "    <tr>\n",
              "      <th>9</th>\n",
              "      <th>24</th>\n",
              "      <td>1.43250</td>\n",
              "      <td>1.72875</td>\n",
              "      <td>0.675615</td>\n",
              "      <td>0.421053</td>\n",
              "      <td>34927</td>\n",
              "      <td>10539</td>\n",
              "      <td>KG-20</td>\n",
              "      <td>0.6</td>\n",
              "    </tr>\n",
              "  </tbody>\n",
              "</table>\n",
              "</div>"
            ],
            "text/plain": [
              "                t_min    t_max      dlen       day  station  category  \\\n",
              "  Unnamed: 1                                                            \n",
              "0 36          1.05875  1.00500  1.014392  0.631579    34927      5830   \n",
              "1 24          1.43250  1.72875  0.675615  0.421053    34927      5830   \n",
              "2 35          0.96500  0.91250  0.983988  0.614035    34927      9959   \n",
              "3 24          1.43250  1.72875  0.675615  0.421053    34927      9959   \n",
              "4 35          0.96500  0.91250  0.983988  0.614035    34927      9960   \n",
              "5 24          1.43250  1.72875  0.675615  0.421053    34927      9960   \n",
              "6 39          1.30250  1.15250  1.105430  0.684211    34927     10043   \n",
              "7 30          1.76875  1.92500  0.856901  0.526316    34927     10043   \n",
              "8 36          1.05875  1.00500  1.014392  0.631579    34927     10539   \n",
              "9 24          1.43250  1.72875  0.675615  0.421053    34927     10539   \n",
              "\n",
              "                          name  state  \n",
              "  Unnamed: 1                           \n",
              "0 36          Fiskeby 1040-4-2    0.6  \n",
              "1 24          Fiskeby 1040-4-2    0.6  \n",
              "2 35                   Okskaya    0.6  \n",
              "3 24                   Okskaya    0.6  \n",
              "4 35                  Svetlaya    0.6  \n",
              "5 24                  Svetlaya    0.6  \n",
              "6 39                     Altom    0.6  \n",
              "7 30                     Altom    0.6  \n",
              "8 36                     KG-20    0.6  \n",
              "9 24                     KG-20    0.6  "
            ]
          },
          "metadata": {
            "tags": []
          },
          "execution_count": 63
        }
      ]
    },
    {
      "metadata": {
        "id": "CS-1Oc_AWysM",
        "colab_type": "code",
        "colab": {}
      },
      "cell_type": "code",
      "source": [
        "predicted_blossum = model.predict(data)"
      ],
      "execution_count": 0,
      "outputs": []
    },
    {
      "metadata": {
        "id": "vExND_onO0fD",
        "colab_type": "code",
        "outputId": "c667417c-e242-4dba-81ea-1ef4aff957b1",
        "colab": {
          "base_uri": "https://localhost:8080/",
          "height": 139
        }
      },
      "cell_type": "code",
      "source": [
        "predicted_blossum"
      ],
      "execution_count": 65,
      "outputs": [
        {
          "output_type": "execute_result",
          "data": {
            "text/plain": [
              "array([[0.07868791],\n",
              "       [0.08152422],\n",
              "       [0.08431902],\n",
              "       ...,\n",
              "       [0.9083096 ],\n",
              "       [0.9084995 ],\n",
              "       [0.90829474]], dtype=float32)"
            ]
          },
          "metadata": {
            "tags": []
          },
          "execution_count": 65
        }
      ]
    },
    {
      "metadata": {
        "id": "P_0Zcc_3JvSM",
        "colab_type": "code",
        "colab": {
          "base_uri": "https://localhost:8080/",
          "height": 34
        },
        "outputId": "02c1047f-cff8-447f-fed2-87b3ceec5b5e"
      },
      "cell_type": "code",
      "source": [
        "df_ttf = pd.DataFrame(predicted_blossum)\n",
        "uploaded = drive.CreateFile({'title': 'ttf2.csv'})\n",
        "uploaded.SetContentString(df_ttf.to_string())\n",
        "uploaded.Upload()\n",
        "print('Uploaded file with ID {}'.format(uploaded.get('id')))"
      ],
      "execution_count": 89,
      "outputs": [
        {
          "output_type": "stream",
          "text": [
            "Uploaded file with ID 1remfwp-cUyY6Cu-o-posCMq8qpWVI0MD\n"
          ],
          "name": "stdout"
        }
      ]
    },
    {
      "metadata": {
        "id": "aLiPAolnbJbe",
        "colab_type": "text"
      },
      "cell_type": "markdown",
      "source": [
        "We can only observe the difference in state, because none of the inputs produce state >= 1, so that it is impossible to observe the difference in days without analytical or numerical extrapolation of model predictive function"
      ]
    },
    {
      "metadata": {
        "id": "1PJS_4k5qBEs",
        "colab_type": "code",
        "colab": {}
      },
      "cell_type": "code",
      "source": [
        "diff_state = predicted_blossum - blossum_dates_dataset['state'].values"
      ],
      "execution_count": 0,
      "outputs": []
    },
    {
      "metadata": {
        "id": "XfNHlKCdY37a",
        "colab_type": "code",
        "outputId": "b85354b5-05c2-4513-ca2b-ecadc5dbe2d5",
        "colab": {
          "base_uri": "https://localhost:8080/",
          "height": 243
        }
      },
      "cell_type": "code",
      "source": [
        "diff_state"
      ],
      "execution_count": 29,
      "outputs": [
        {
          "output_type": "execute_result",
          "data": {
            "text/plain": [
              "array([[-0.01136541, -0.01136541, -0.01136541, ..., -0.01136541,\n",
              "        -0.01136541, -0.01136541],\n",
              "       [-0.01158535, -0.01158535, -0.01158535, ..., -0.01158535,\n",
              "        -0.01158535, -0.01158535],\n",
              "       [-0.01136541, -0.01136541, -0.01136541, ..., -0.01136541,\n",
              "        -0.01136541, -0.01136541],\n",
              "       ...,\n",
              "       [-0.01597518, -0.01597518, -0.01597518, ..., -0.01597518,\n",
              "        -0.01597518, -0.01597518],\n",
              "       [-0.01355791, -0.01355791, -0.01355791, ..., -0.01355791,\n",
              "        -0.01355791, -0.01355791],\n",
              "       [-0.01349825, -0.01349825, -0.01349825, ..., -0.01349825,\n",
              "        -0.01349825, -0.01349825]])"
            ]
          },
          "metadata": {
            "tags": []
          },
          "execution_count": 29
        }
      ]
    },
    {
      "metadata": {
        "id": "f1i7Ly6yYSpM",
        "colab_type": "code",
        "outputId": "a48df45f-9940-410e-fac3-c6131b481c18",
        "colab": {
          "base_uri": "https://localhost:8080/",
          "height": 52
        }
      },
      "cell_type": "code",
      "source": [
        "print(\"Mean\", np.mean(diff_state))\n",
        "print(\"Std\", np.std(diff_state))"
      ],
      "execution_count": 30,
      "outputs": [
        {
          "output_type": "stream",
          "text": [
            "Mean -0.013327131473940183\n",
            "Std 0.001835165876432722\n"
          ],
          "name": "stdout"
        }
      ]
    },
    {
      "metadata": {
        "id": "MMqp83g8fQwa",
        "colab_type": "text"
      },
      "cell_type": "markdown",
      "source": [
        "In ideal case we want the model expected value be exactly equal to actual predicted blossum dates"
      ]
    },
    {
      "metadata": {
        "id": "9iGHqBc-Y6nQ",
        "colab_type": "code",
        "outputId": "9fdcf039-67ab-4416-c409-3a3fe8695763",
        "colab": {
          "base_uri": "https://localhost:8080/",
          "height": 364
        }
      },
      "cell_type": "code",
      "source": [
        "plt.plot([x for x in range(len(predicted_blossum))], predicted_blossum)\n",
        "plt.plot([x for x in range(len(blossum_dates_dataset['state'].values))], blossum_dates_dataset['state'].values)"
      ],
      "execution_count": 31,
      "outputs": [
        {
          "output_type": "execute_result",
          "data": {
            "text/plain": [
              "[<matplotlib.lines.Line2D at 0x7fd5a49b5c18>]"
            ]
          },
          "metadata": {
            "tags": []
          },
          "execution_count": 31
        },
        {
          "output_type": "display_data",
          "data": {
            "image/png": "[encoded data removed]",
            "text/plain": [
              "<matplotlib.figure.Figure at 0x7fd5a49b5b38>"
            ]
          },
          "metadata": {
            "tags": []
          }
        }
      ]
    },
    {
      "metadata": {
        "id": "EJOW6g209wH2",
        "colab_type": "code",
        "colab": {
          "base_uri": "https://localhost:8080/",
          "height": 410
        },
        "outputId": "a2a64913-08a1-4c69-936d-665de684327c"
      },
      "cell_type": "code",
      "source": [
        "np.corrcoef(blossum_dates_dataset['state'].values, predicted_blossum)"
      ],
      "execution_count": 34,
      "outputs": [
        {
          "output_type": "error",
          "ename": "ValueError",
          "evalue": "ignored",
          "traceback": [
            "\u001b[0;31m---------------------------------------------------------------------------\u001b[0m",
            "\u001b[0;31mValueError\u001b[0m                                Traceback (most recent call last)",
            "\u001b[0;32m<ipython-input-34-f4c4fe71013c>\u001b[0m in \u001b[0;36m<module>\u001b[0;34m()\u001b[0m\n\u001b[0;32m----> 1\u001b[0;31m \u001b[0mnp\u001b[0m\u001b[0;34m.\u001b[0m\u001b[0mcorrcoef\u001b[0m\u001b[0;34m(\u001b[0m\u001b[0mblossum_dates_dataset\u001b[0m\u001b[0;34m[\u001b[0m\u001b[0;34m'state'\u001b[0m\u001b[0;34m]\u001b[0m\u001b[0;34m.\u001b[0m\u001b[0mvalues\u001b[0m\u001b[0;34m,\u001b[0m \u001b[0mpredicted_blossum\u001b[0m\u001b[0;34m)\u001b[0m\u001b[0;34m\u001b[0m\u001b[0;34m\u001b[0m\u001b[0m\n\u001b[0m",
            "\u001b[0;32m/usr/local/lib/python3.6/dist-packages/numpy/lib/function_base.py\u001b[0m in \u001b[0;36mcorrcoef\u001b[0;34m(x, y, rowvar, bias, ddof)\u001b[0m\n\u001b[1;32m   3173\u001b[0m         warnings.warn('bias and ddof have no effect and are deprecated',\n\u001b[1;32m   3174\u001b[0m                       DeprecationWarning, stacklevel=2)\n\u001b[0;32m-> 3175\u001b[0;31m     \u001b[0mc\u001b[0m \u001b[0;34m=\u001b[0m \u001b[0mcov\u001b[0m\u001b[0;34m(\u001b[0m\u001b[0mx\u001b[0m\u001b[0;34m,\u001b[0m \u001b[0my\u001b[0m\u001b[0;34m,\u001b[0m \u001b[0mrowvar\u001b[0m\u001b[0;34m)\u001b[0m\u001b[0;34m\u001b[0m\u001b[0;34m\u001b[0m\u001b[0m\n\u001b[0m\u001b[1;32m   3176\u001b[0m     \u001b[0;32mtry\u001b[0m\u001b[0;34m:\u001b[0m\u001b[0;34m\u001b[0m\u001b[0;34m\u001b[0m\u001b[0m\n\u001b[1;32m   3177\u001b[0m         \u001b[0md\u001b[0m \u001b[0;34m=\u001b[0m \u001b[0mdiag\u001b[0m\u001b[0;34m(\u001b[0m\u001b[0mc\u001b[0m\u001b[0;34m)\u001b[0m\u001b[0;34m\u001b[0m\u001b[0;34m\u001b[0m\u001b[0m\n",
            "\u001b[0;32m/usr/local/lib/python3.6/dist-packages/numpy/lib/function_base.py\u001b[0m in \u001b[0;36mcov\u001b[0;34m(m, y, rowvar, bias, ddof, fweights, aweights)\u001b[0m\n\u001b[1;32m   3042\u001b[0m         \u001b[0;32mif\u001b[0m \u001b[0;32mnot\u001b[0m \u001b[0mrowvar\u001b[0m \u001b[0;32mand\u001b[0m \u001b[0my\u001b[0m\u001b[0;34m.\u001b[0m\u001b[0mshape\u001b[0m\u001b[0;34m[\u001b[0m\u001b[0;36m0\u001b[0m\u001b[0;34m]\u001b[0m \u001b[0;34m!=\u001b[0m \u001b[0;36m1\u001b[0m\u001b[0;34m:\u001b[0m\u001b[0;34m\u001b[0m\u001b[0;34m\u001b[0m\u001b[0m\n\u001b[1;32m   3043\u001b[0m             \u001b[0my\u001b[0m \u001b[0;34m=\u001b[0m \u001b[0my\u001b[0m\u001b[0;34m.\u001b[0m\u001b[0mT\u001b[0m\u001b[0;34m\u001b[0m\u001b[0;34m\u001b[0m\u001b[0m\n\u001b[0;32m-> 3044\u001b[0;31m         \u001b[0mX\u001b[0m \u001b[0;34m=\u001b[0m \u001b[0mnp\u001b[0m\u001b[0;34m.\u001b[0m\u001b[0mconcatenate\u001b[0m\u001b[0;34m(\u001b[0m\u001b[0;34m(\u001b[0m\u001b[0mX\u001b[0m\u001b[0;34m,\u001b[0m \u001b[0my\u001b[0m\u001b[0;34m)\u001b[0m\u001b[0;34m,\u001b[0m \u001b[0maxis\u001b[0m\u001b[0;34m=\u001b[0m\u001b[0;36m0\u001b[0m\u001b[0;34m)\u001b[0m\u001b[0;34m\u001b[0m\u001b[0;34m\u001b[0m\u001b[0m\n\u001b[0m\u001b[1;32m   3045\u001b[0m \u001b[0;34m\u001b[0m\u001b[0m\n\u001b[1;32m   3046\u001b[0m     \u001b[0;32mif\u001b[0m \u001b[0mddof\u001b[0m \u001b[0;32mis\u001b[0m \u001b[0;32mNone\u001b[0m\u001b[0;34m:\u001b[0m\u001b[0;34m\u001b[0m\u001b[0;34m\u001b[0m\u001b[0m\n",
            "\u001b[0;31mValueError\u001b[0m: all the input array dimensions except for the concatenation axis must match exactly"
          ]
        }
      ]
    },
    {
      "metadata": {
        "id": "Q-kdVmyVYieY",
        "colab_type": "text"
      },
      "cell_type": "markdown",
      "source": [
        "## Conclusion"
      ]
    },
    {
      "metadata": {
        "id": "vfOWiI-lDak0",
        "colab_type": "text"
      },
      "cell_type": "markdown",
      "source": [
        "The model passed proof of concept phase, it does learn and gives OK prediction, more data will lead to even more accurate results."
      ]
    }
  ]
}