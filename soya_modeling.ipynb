{
  "nbformat": 4,
  "nbformat_minor": 0,
  "metadata": {
    "colab": {
      "name": "soya_modeling.ipynb",
      "version": "0.3.2",
      "provenance": [],
      "collapsed_sections": [],
      "toc_visible": true
    },
    "kernelspec": {
      "name": "python3",
      "display_name": "Python 3"
    },
    "accelerator": "TPU"
  },
  "cells": [
    {
      "metadata": {
        "id": "uZo3etVD_Xnq",
        "colab_type": "text"
      },
      "cell_type": "markdown",
      "source": [
        "# Soy blossom period prediction model"
      ]
    },
    {
      "metadata": {
        "id": "8uvy2UF6O_zR",
        "colab_type": "text"
      },
      "cell_type": "markdown",
      "source": [
        "## Setup"
      ]
    },
    {
      "metadata": {
        "id": "W5rFAVaqARsQ",
        "colab_type": "text"
      },
      "cell_type": "markdown",
      "source": [
        "### Configure environment"
      ]
    },
    {
      "metadata": {
        "id": "4ji6Pv5z19yh",
        "colab_type": "code",
<<<<<<< HEAD
        "outputId": "7ca88a29-2299-49c3-c051-aa9fa9357ea4",
=======
        "outputId": "3b21f984-ae3d-4566-985e-5bf35fb22d41",
>>>>>>> 1107e92a820e8c3d9c6e25526417fd15c031a83d
        "colab": {
          "base_uri": "https://localhost:8080/",
          "height": 52
        }
      },
      "cell_type": "code",
      "source": [
        "!pip install pydot"
      ],
<<<<<<< HEAD
      "execution_count": 0,
=======
      "execution_count": 2,
>>>>>>> 1107e92a820e8c3d9c6e25526417fd15c031a83d
      "outputs": [
        {
          "output_type": "stream",
          "text": [
            "Requirement already satisfied: pydot in /usr/local/lib/python3.6/dist-packages (1.3.0)\n",
            "Requirement already satisfied: pyparsing>=2.1.4 in /usr/local/lib/python3.6/dist-packages (from pydot) (2.3.1)\n"
          ],
          "name": "stdout"
        }
      ]
    },
    {
      "metadata": {
        "id": "TOEIMPH508ai",
        "colab_type": "text"
      },
      "cell_type": "markdown",
      "source": [
        "### Show the machine details the environment is running on"
      ]
    },
    {
      "metadata": {
        "id": "uEjfrbGN1VAg",
        "colab_type": "text"
      },
      "cell_type": "markdown",
      "source": [
        "Show CPU info"
      ]
    },
    {
      "metadata": {
        "id": "slRC3KmWy9B0",
        "colab_type": "code",
<<<<<<< HEAD
        "outputId": "d1d236d0-9197-488b-d3e9-784157a032d5",
=======
        "outputId": "91094e4a-3042-4279-c007-f4f870ebd7a4",
>>>>>>> 1107e92a820e8c3d9c6e25526417fd15c031a83d
        "colab": {
          "base_uri": "https://localhost:8080/",
          "height": 975
        }
      },
      "cell_type": "code",
      "source": [
        "!cat /proc/cpuinfo"
      ],
      "execution_count": 3,
      "outputs": [
        {
          "output_type": "stream",
          "text": [
            "processor\t: 0\n",
            "vendor_id\t: GenuineIntel\n",
            "cpu family\t: 6\n",
            "model\t\t: 63\n",
            "model name\t: Intel(R) Xeon(R) CPU @ 2.30GHz\n",
            "stepping\t: 0\n",
            "microcode\t: 0x1\n",
            "cpu MHz\t\t: 2300.000\n",
            "cache size\t: 46080 KB\n",
            "physical id\t: 0\n",
            "siblings\t: 2\n",
            "core id\t\t: 0\n",
            "cpu cores\t: 1\n",
            "apicid\t\t: 0\n",
            "initial apicid\t: 0\n",
            "fpu\t\t: yes\n",
            "fpu_exception\t: yes\n",
            "cpuid level\t: 13\n",
            "wp\t\t: yes\n",
            "flags\t\t: fpu vme de pse tsc msr pae mce cx8 apic sep mtrr pge mca cmov pat pse36 clflush mmx fxsr sse sse2 ss ht syscall nx pdpe1gb rdtscp lm constant_tsc rep_good nopl xtopology nonstop_tsc cpuid tsc_known_freq pni pclmulqdq ssse3 fma cx16 pcid sse4_1 sse4_2 x2apic movbe popcnt aes xsave avx f16c rdrand hypervisor lahf_lm abm invpcid_single pti ssbd ibrs ibpb stibp fsgsbase tsc_adjust bmi1 avx2 smep bmi2 erms invpcid xsaveopt arat arch_capabilities\n",
            "bugs\t\t: cpu_meltdown spectre_v1 spectre_v2 spec_store_bypass l1tf\n",
            "bogomips\t: 4600.00\n",
            "clflush size\t: 64\n",
            "cache_alignment\t: 64\n",
            "address sizes\t: 46 bits physical, 48 bits virtual\n",
            "power management:\n",
            "\n",
            "processor\t: 1\n",
            "vendor_id\t: GenuineIntel\n",
            "cpu family\t: 6\n",
            "model\t\t: 63\n",
            "model name\t: Intel(R) Xeon(R) CPU @ 2.30GHz\n",
            "stepping\t: 0\n",
            "microcode\t: 0x1\n",
            "cpu MHz\t\t: 2300.000\n",
            "cache size\t: 46080 KB\n",
            "physical id\t: 0\n",
            "siblings\t: 2\n",
            "core id\t\t: 0\n",
            "cpu cores\t: 1\n",
            "apicid\t\t: 1\n",
            "initial apicid\t: 1\n",
            "fpu\t\t: yes\n",
            "fpu_exception\t: yes\n",
            "cpuid level\t: 13\n",
            "wp\t\t: yes\n",
            "flags\t\t: fpu vme de pse tsc msr pae mce cx8 apic sep mtrr pge mca cmov pat pse36 clflush mmx fxsr sse sse2 ss ht syscall nx pdpe1gb rdtscp lm constant_tsc rep_good nopl xtopology nonstop_tsc cpuid tsc_known_freq pni pclmulqdq ssse3 fma cx16 pcid sse4_1 sse4_2 x2apic movbe popcnt aes xsave avx f16c rdrand hypervisor lahf_lm abm invpcid_single pti ssbd ibrs ibpb stibp fsgsbase tsc_adjust bmi1 avx2 smep bmi2 erms invpcid xsaveopt arat arch_capabilities\n",
            "bugs\t\t: cpu_meltdown spectre_v1 spectre_v2 spec_store_bypass l1tf\n",
            "bogomips\t: 4600.00\n",
            "clflush size\t: 64\n",
            "cache_alignment\t: 64\n",
            "address sizes\t: 46 bits physical, 48 bits virtual\n",
            "power management:\n",
            "\n"
          ],
          "name": "stdout"
        }
      ]
    },
    {
      "metadata": {
        "id": "DCtwxw0i1YA7",
        "colab_type": "text"
      },
      "cell_type": "markdown",
      "source": [
        "Show RAM info"
      ]
    },
    {
      "metadata": {
        "id": "cRZfNgbA1Rmq",
        "colab_type": "code",
<<<<<<< HEAD
        "outputId": "bfd867e8-0f15-432e-bb7d-82ea4cf1642b",
=======
        "outputId": "90ac8cc2-1e28-4345-e6a0-a9c7973cb994",
>>>>>>> 1107e92a820e8c3d9c6e25526417fd15c031a83d
        "colab": {
          "base_uri": "https://localhost:8080/",
          "height": 799
        }
      },
      "cell_type": "code",
      "source": [
        "!cat /proc/meminfo"
      ],
      "execution_count": 4,
      "outputs": [
        {
          "output_type": "stream",
          "text": [
<<<<<<< HEAD
            "MemTotal:       13335268 kB\n",
            "MemFree:        11005368 kB\n",
            "MemAvailable:   12608924 kB\n",
            "Buffers:           70684 kB\n",
            "Cached:          1692992 kB\n",
            "SwapCached:            0 kB\n",
            "Active:           566212 kB\n",
            "Inactive:        1493892 kB\n",
            "Active(anon):     275056 kB\n",
            "Inactive(anon):      348 kB\n",
            "Active(file):     291156 kB\n",
            "Inactive(file):  1493544 kB\n",
=======
            "MemTotal:       13335212 kB\n",
            "MemFree:        11170028 kB\n",
            "MemAvailable:   12637084 kB\n",
            "Buffers:           59972 kB\n",
            "Cached:          1575464 kB\n",
            "SwapCached:            0 kB\n",
            "Active:           499992 kB\n",
            "Inactive:        1425988 kB\n",
            "Active(anon):     269300 kB\n",
            "Inactive(anon):      336 kB\n",
            "Active(file):     230692 kB\n",
            "Inactive(file):  1425652 kB\n",
>>>>>>> 1107e92a820e8c3d9c6e25526417fd15c031a83d
            "Unevictable:           0 kB\n",
            "Mlocked:               0 kB\n",
            "SwapTotal:             0 kB\n",
            "SwapFree:              0 kB\n",
<<<<<<< HEAD
            "Dirty:               940 kB\n",
            "Writeback:            48 kB\n",
            "AnonPages:        296512 kB\n",
            "Mapped:           157420 kB\n",
            "Shmem:               904 kB\n",
            "Slab:             152956 kB\n",
            "SReclaimable:     120016 kB\n",
            "SUnreclaim:        32940 kB\n",
            "KernelStack:        4012 kB\n",
            "PageTables:         4956 kB\n",
            "NFS_Unstable:          0 kB\n",
            "Bounce:                0 kB\n",
            "WritebackTmp:          0 kB\n",
            "CommitLimit:     6667632 kB\n",
            "Committed_AS:    1852176 kB\n",
=======
            "Dirty:               504 kB\n",
            "Writeback:             0 kB\n",
            "AnonPages:        290572 kB\n",
            "Mapped:           154540 kB\n",
            "Shmem:               868 kB\n",
            "Slab:             134544 kB\n",
            "SReclaimable:     104740 kB\n",
            "SUnreclaim:        29804 kB\n",
            "KernelStack:        3920 kB\n",
            "PageTables:         4748 kB\n",
            "NFS_Unstable:          0 kB\n",
            "Bounce:                0 kB\n",
            "WritebackTmp:          0 kB\n",
            "CommitLimit:     6667604 kB\n",
            "Committed_AS:    1818736 kB\n",
>>>>>>> 1107e92a820e8c3d9c6e25526417fd15c031a83d
            "VmallocTotal:   34359738367 kB\n",
            "VmallocUsed:           0 kB\n",
            "VmallocChunk:          0 kB\n",
            "AnonHugePages:         0 kB\n",
            "ShmemHugePages:        0 kB\n",
            "ShmemPmdMapped:        0 kB\n",
            "HugePages_Total:       0\n",
            "HugePages_Free:        0\n",
            "HugePages_Rsvd:        0\n",
            "HugePages_Surp:        0\n",
            "Hugepagesize:       2048 kB\n",
<<<<<<< HEAD
            "DirectMap4k:       88052 kB\n",
            "DirectMap2M:     5154816 kB\n",
=======
            "DirectMap4k:       75764 kB\n",
            "DirectMap2M:     5167104 kB\n",
>>>>>>> 1107e92a820e8c3d9c6e25526417fd15c031a83d
            "DirectMap1G:    10485760 kB\n"
          ],
          "name": "stdout"
        }
      ]
    },
    {
      "metadata": {
        "id": "98yFKWiy1mOo",
        "colab_type": "text"
      },
      "cell_type": "markdown",
      "source": [
        "Show GPU info"
      ]
    },
    {
      "metadata": {
        "id": "sCustmJB1pRd",
        "colab_type": "code",
<<<<<<< HEAD
        "outputId": "24fab836-9db3-46b6-ff8a-44ae8b8ecfee",
=======
        "outputId": "e631f42f-f46b-4fb4-fa13-957ffd8bac36",
>>>>>>> 1107e92a820e8c3d9c6e25526417fd15c031a83d
        "colab": {
          "base_uri": "https://localhost:8080/",
          "height": 486
        }
      },
      "cell_type": "code",
      "source": [
        "from tensorflow.python.client import device_lib\n",
        "device_lib.list_local_devices()"
      ],
      "execution_count": 5,
      "outputs": [
        {
          "output_type": "execute_result",
          "data": {
            "text/plain": [
              "[name: \"/device:CPU:0\"\n",
              " device_type: \"CPU\"\n",
              " memory_limit: 268435456\n",
              " locality {\n",
              " }\n",
<<<<<<< HEAD
              " incarnation: 14734221845194138251, name: \"/device:XLA_CPU:0\"\n",
=======
              " incarnation: 13543819622366608811, name: \"/device:XLA_CPU:0\"\n",
>>>>>>> 1107e92a820e8c3d9c6e25526417fd15c031a83d
              " device_type: \"XLA_CPU\"\n",
              " memory_limit: 17179869184\n",
              " locality {\n",
              " }\n",
<<<<<<< HEAD
              " incarnation: 9478793680712516228\n",
=======
              " incarnation: 4166659517980995126\n",
>>>>>>> 1107e92a820e8c3d9c6e25526417fd15c031a83d
              " physical_device_desc: \"device: XLA_CPU device\", name: \"/device:XLA_GPU:0\"\n",
              " device_type: \"XLA_GPU\"\n",
              " memory_limit: 17179869184\n",
              " locality {\n",
              " }\n",
<<<<<<< HEAD
              " incarnation: 11560907682155689090\n",
              " physical_device_desc: \"device: XLA_GPU device\", name: \"/device:GPU:0\"\n",
              " device_type: \"GPU\"\n",
              " memory_limit: 11276946637\n",
=======
              " incarnation: 10211461498971131931\n",
              " physical_device_desc: \"device: XLA_GPU device\", name: \"/device:GPU:0\"\n",
              " device_type: \"GPU\"\n",
              " memory_limit: 11281553818\n",
>>>>>>> 1107e92a820e8c3d9c6e25526417fd15c031a83d
              " locality {\n",
              "   bus_id: 1\n",
              "   links {\n",
              "   }\n",
              " }\n",
<<<<<<< HEAD
              " incarnation: 10103634801557896214\n",
=======
              " incarnation: 11821830015997448801\n",
>>>>>>> 1107e92a820e8c3d9c6e25526417fd15c031a83d
              " physical_device_desc: \"device: 0, name: Tesla K80, pci bus id: 0000:00:04.0, compute capability: 3.7\"]"
            ]
          },
          "metadata": {
            "tags": []
          },
          "execution_count": 5
        }
      ]
    },
    {
      "metadata": {
        "id": "CABv94y8HL3Z",
        "colab_type": "text"
      },
      "cell_type": "markdown",
      "source": [
        "### Import modules"
      ]
    },
    {
      "metadata": {
        "id": "b7tG1GdlF4V5",
        "colab_type": "code",
<<<<<<< HEAD
        "colab": {}
=======
        "outputId": "30d86f57-8372-4cfd-9de9-0f57f8cbaf85",
        "colab": {
          "base_uri": "https://localhost:8080/",
          "height": 34
        }
>>>>>>> 1107e92a820e8c3d9c6e25526417fd15c031a83d
      },
      "cell_type": "code",
      "source": [
        "from matplotlib import cm\n",
        "from matplotlib import gridspec\n",
        "from matplotlib import pyplot as plt\n",
        "import numpy as np\n",
        "import pandas as pd\n",
        "from sklearn import metrics\n",
        "import random\n",
        "from scipy.stats.stats import pearsonr\n",
        "\n",
        "import tensorflow as tf\n",
        "import keras\n",
        "from sklearn.metrics import r2_score as r2_metric\n",
        "from keras import optimizers\n",
        "from keras import backend as K"
      ],
<<<<<<< HEAD
      "execution_count": 0,
      "outputs": []
=======
      "execution_count": 6,
      "outputs": [
        {
          "output_type": "stream",
          "text": [
            "Using TensorFlow backend.\n"
          ],
          "name": "stderr"
        }
      ]
>>>>>>> 1107e92a820e8c3d9c6e25526417fd15c031a83d
    },
    {
      "metadata": {
        "id": "fCkdb0IvyopK",
        "colab_type": "code",
        "colab": {}
      },
      "cell_type": "code",
      "source": [
        "def r2(y_true, y_pred):\n",
        "    SS_res =  K.sum(K.square( y_true-y_pred )) \n",
        "    SS_tot = K.sum(K.square( y_true - K.mean(y_true) ) ) \n",
        "    return ( 1 - SS_res/(SS_tot + K.epsilon()) )"
      ],
      "execution_count": 0,
      "outputs": []
    },
    {
      "metadata": {
        "id": "nJCZh6DAjeXR",
        "colab_type": "text"
      },
      "cell_type": "markdown",
      "source": [
        "### Set up the dataset"
      ]
    },
    {
      "metadata": {
        "id": "jLMzr6Q9HjOn",
        "colab_type": "text"
      },
      "cell_type": "markdown",
      "source": [
        "Download a dataset from shared Drive folder. "
      ]
    },
    {
      "metadata": {
        "id": "JCbXhbKiHppQ",
        "colab_type": "code",
        "outputId": "2a804ba8-6b27-42cf-bc03-35292c76dcb0",
        "colab": {
          "base_uri": "https://localhost:8080/",
          "height": 170
        }
      },
      "cell_type": "code",
      "source": [
        "!pip install -U -q PyDrive\n",
        "from pydrive.auth import GoogleAuth\n",
        "from pydrive.drive import GoogleDrive\n",
        "from google.colab import auth\n",
        "from oauth2client.client import GoogleCredentials\n",
        "\n",
        "# 1. Authenticate and create the PyDrive client.\n",
        "auth.authenticate_user()\n",
        "gauth = GoogleAuth()\n",
        "gauth.credentials = GoogleCredentials.get_application_default()\n",
        "drive = GoogleDrive(gauth)\n",
        "\n",
        "#2. Get the file\n",
<<<<<<< HEAD
        "downloaded = drive.CreateFile({'id':'1uoxGcvWDS8a58jSG5ErybQ3ok1V3biei'})\n",
        "downloaded.GetContentFile('soydata.csv')"
=======
        "downloaded = drive.CreateFile({'id':'1sT_MlFRu6t8OKJDS_3Yy8SYOCBUx0vRa'})\n",
        "downloaded.GetContentFile('soy_data.csv')"
>>>>>>> 1107e92a820e8c3d9c6e25526417fd15c031a83d
      ],
      "execution_count": 3,
      "outputs": [
        {
          "output_type": "stream",
          "text": [
            "\u001b[K    100% |████████████████████████████████| 993kB 759kB/s \n",
            "\u001b[?25h  Building wheel for PyDrive (setup.py) ... \u001b[?25ldone\n",
            "\u001b[?25h\n",
            "WARNING: The TensorFlow contrib module will not be included in TensorFlow 2.0.\n",
            "For more information, please see:\n",
            "  * https://github.com/tensorflow/community/blob/master/rfcs/20180907-contrib-sunset.md\n",
            "  * https://github.com/tensorflow/addons\n",
            "If you depend on functionality not listed there, please file an issue.\n",
            "\n"
          ],
          "name": "stdout"
        }
      ]
    },
    {
      "metadata": {
        "id": "ore9JMXyjk_q",
        "colab_type": "text"
      },
      "cell_type": "markdown",
      "source": [
        "Import data set into pandas dataframe. The dataset contains a missing value on one of the key features the model will be training with, so we need to remove that explicitly"
      ]
    },
    {
      "metadata": {
        "id": "cMyVIEldRP9u",
        "colab_type": "code",
<<<<<<< HEAD
        "outputId": "901fe925-000c-451e-ba6c-d027697116d9",
        "colab": {
          "base_uri": "https://localhost:8080/",
          "height": 204
=======
        "outputId": "1b5805a6-40af-4965-f704-24b3f5697989",
        "colab": {
          "base_uri": "https://localhost:8080/",
          "height": 237
>>>>>>> 1107e92a820e8c3d9c6e25526417fd15c031a83d
        }
      },
      "cell_type": "code",
      "source": [
<<<<<<< HEAD
        "# df = pd.read_csv('soydata.csv', index_col=[0, 1], prefix='Experiment')\n",
        "df = pd.read_csv('soydata.csv')\n",
        "df.dropna()\n",
        "df.head(5)"
      ],
      "execution_count": 211,
=======
        "df = pd.read_csv('soy_data.csv', index_col=[0, 1], prefix='Experiment')\n",
        "df.dropna()\n",
        "df.head(5)"
      ],
      "execution_count": 39,
>>>>>>> 1107e92a820e8c3d9c6e25526417fd15c031a83d
      "outputs": [
        {
          "output_type": "execute_result",
          "data": {
            "text/html": [
              "<div>\n",
              "<style scoped>\n",
              "    .dataframe tbody tr th:only-of-type {\n",
              "        vertical-align: middle;\n",
              "    }\n",
              "\n",
              "    .dataframe tbody tr th {\n",
              "        vertical-align: top;\n",
              "    }\n",
              "\n",
              "    .dataframe thead th {\n",
              "        text-align: right;\n",
              "    }\n",
              "</style>\n",
              "<table border=\"1\" class=\"dataframe\">\n",
              "  <thead>\n",
              "    <tr style=\"text-align: right;\">\n",
              "      <th></th>\n",
              "      <th>ID</th>\n",
              "      <th>d</th>\n",
              "      <th>t_min</th>\n",
              "      <th>t_max</th>\n",
              "      <th>dlen</th>\n",
              "      <th>day</th>\n",
              "      <th>station</th>\n",
              "      <th>category</th>\n",
              "      <th>name</th>\n",
              "      <th>state</th>\n",
              "    </tr>\n",
              "  </thead>\n",
              "  <tbody>\n",
              "    <tr>\n",
              "      <th>0</th>\n",
              "      <td>0</td>\n",
              "      <td>0</td>\n",
              "      <td>0.0</td>\n",
              "      <td>0.0</td>\n",
              "      <td>0.021642</td>\n",
              "      <td>0.000000</td>\n",
              "      <td>34927</td>\n",
              "      <td>5830</td>\n",
              "      <td>Fiskeby 1040-4-2</td>\n",
              "      <td>0.1</td>\n",
              "    </tr>\n",
              "    <tr>\n",
              "      <th>1</th>\n",
              "      <td>0</td>\n",
              "      <td>1</td>\n",
              "      <td>0.0</td>\n",
              "      <td>0.0</td>\n",
              "      <td>0.043739</td>\n",
<<<<<<< HEAD
              "      <td>0.014925</td>\n",
=======
              "      <td>0.017544</td>\n",
>>>>>>> 1107e92a820e8c3d9c6e25526417fd15c031a83d
              "      <td>34927</td>\n",
              "      <td>5830</td>\n",
              "      <td>Fiskeby 1040-4-2</td>\n",
              "      <td>0.1</td>\n",
              "    </tr>\n",
              "    <tr>\n",
              "      <th>2</th>\n",
              "      <td>0</td>\n",
              "      <td>2</td>\n",
              "      <td>0.0</td>\n",
              "      <td>0.0</td>\n",
              "      <td>0.066282</td>\n",
<<<<<<< HEAD
              "      <td>0.029851</td>\n",
=======
              "      <td>0.035088</td>\n",
>>>>>>> 1107e92a820e8c3d9c6e25526417fd15c031a83d
              "      <td>34927</td>\n",
              "      <td>5830</td>\n",
              "      <td>Fiskeby 1040-4-2</td>\n",
              "      <td>0.1</td>\n",
              "    </tr>\n",
              "    <tr>\n",
              "      <th>3</th>\n",
              "      <td>0</td>\n",
              "      <td>3</td>\n",
              "      <td>0.0</td>\n",
              "      <td>0.0</td>\n",
              "      <td>0.089261</td>\n",
<<<<<<< HEAD
              "      <td>0.044776</td>\n",
=======
              "      <td>0.052632</td>\n",
>>>>>>> 1107e92a820e8c3d9c6e25526417fd15c031a83d
              "      <td>34927</td>\n",
              "      <td>5830</td>\n",
              "      <td>Fiskeby 1040-4-2</td>\n",
              "      <td>0.1</td>\n",
              "    </tr>\n",
              "    <tr>\n",
              "      <th>4</th>\n",
              "      <td>0</td>\n",
              "      <td>4</td>\n",
              "      <td>0.0</td>\n",
              "      <td>0.0</td>\n",
              "      <td>0.112667</td>\n",
<<<<<<< HEAD
              "      <td>0.059701</td>\n",
=======
              "      <td>0.070175</td>\n",
>>>>>>> 1107e92a820e8c3d9c6e25526417fd15c031a83d
              "      <td>34927</td>\n",
              "      <td>5830</td>\n",
              "      <td>Fiskeby 1040-4-2</td>\n",
              "      <td>0.1</td>\n",
              "    </tr>\n",
              "  </tbody>\n",
              "</table>\n",
              "</div>"
            ],
            "text/plain": [
<<<<<<< HEAD
              "   ID  d  t_min  t_max      dlen       day  station  category  \\\n",
              "0   0  0    0.0    0.0  0.021642  0.000000    34927      5830   \n",
              "1   0  1    0.0    0.0  0.043739  0.014925    34927      5830   \n",
              "2   0  2    0.0    0.0  0.066282  0.029851    34927      5830   \n",
              "3   0  3    0.0    0.0  0.089261  0.044776    34927      5830   \n",
              "4   0  4    0.0    0.0  0.112667  0.059701    34927      5830   \n",
              "\n",
              "               name  state  \n",
              "0  Fiskeby 1040-4-2    0.1  \n",
              "1  Fiskeby 1040-4-2    0.1  \n",
              "2  Fiskeby 1040-4-2    0.1  \n",
              "3  Fiskeby 1040-4-2    0.1  \n",
              "4  Fiskeby 1040-4-2    0.1  "
=======
              "              t_min  t_max      dlen       day  station  category  \\\n",
              "  Unnamed: 1                                                        \n",
              "0 0             0.0    0.0  0.021642  0.000000    34927      5830   \n",
              "  1             0.0    0.0  0.043739  0.017544    34927      5830   \n",
              "  2             0.0    0.0  0.066282  0.035088    34927      5830   \n",
              "  3             0.0    0.0  0.089261  0.052632    34927      5830   \n",
              "  4             0.0    0.0  0.112667  0.070175    34927      5830   \n",
              "\n",
              "                          name  state  \n",
              "  Unnamed: 1                           \n",
              "0 0           Fiskeby 1040-4-2    0.1  \n",
              "  1           Fiskeby 1040-4-2    0.1  \n",
              "  2           Fiskeby 1040-4-2    0.1  \n",
              "  3           Fiskeby 1040-4-2    0.1  \n",
              "  4           Fiskeby 1040-4-2    0.1  "
>>>>>>> 1107e92a820e8c3d9c6e25526417fd15c031a83d
            ]
          },
          "metadata": {
            "tags": []
          },
<<<<<<< HEAD
          "execution_count": 211
=======
          "execution_count": 39
>>>>>>> 1107e92a820e8c3d9c6e25526417fd15c031a83d
        }
      ]
    },
    {
      "metadata": {
        "id": "ihMUMlDPp5j8",
        "colab_type": "text"
      },
      "cell_type": "markdown",
      "source": [
        "The data in now loaded, it uses format that will be described somewhere here some day. "
      ]
    },
    {
      "metadata": {
        "id": "TRck9wib-rG8",
        "colab_type": "text"
      },
      "cell_type": "markdown",
      "source": [
        "### Feature extraction"
      ]
    },
    {
      "metadata": {
        "id": "EFakYqHpTYb5",
        "colab_type": "text"
      },
      "cell_type": "markdown",
      "source": [
        "Shuffle the data. As dataset uses multiindex that is a little tricky, we need to shuffle only the certain level, but the days inside a single experiment shall be in natural order."
      ]
    },
    {
      "metadata": {
        "id": "nv7EdGARsKQG",
        "colab_type": "code",
        "colab": {}
      },
      "cell_type": "code",
      "source": [
        "shuffled_indexes = [i for i in range(len(df.index.levels[0]))]\n",
        "random.shuffle(shuffled_indexes)\n",
        "new_indexes = sorted(df.index, key=lambda x: shuffled_indexes.index(x[0]))"
      ],
      "execution_count": 0,
      "outputs": []
    },
    {
      "metadata": {
        "id": "qMKWEaBhTVDA",
        "colab_type": "code",
        "colab": {}
      },
      "cell_type": "code",
      "source": [
        "df = df.reindex(new_indexes)"
      ],
      "execution_count": 0,
      "outputs": []
    },
    {
      "metadata": {
        "id": "-weuRcdqNAdU",
        "colab_type": "code",
<<<<<<< HEAD
        "outputId": "deaf9158-5d92-4849-976c-c4ec1d981c4c",
        "colab": {
          "base_uri": "https://localhost:8080/",
          "height": 204
=======
        "outputId": "5278dc23-ae50-44b2-d8b6-64d07e1d2ece",
        "colab": {
          "base_uri": "https://localhost:8080/",
          "height": 237
>>>>>>> 1107e92a820e8c3d9c6e25526417fd15c031a83d
        }
      },
      "cell_type": "code",
      "source": [
        "df.head(5)"
      ],
<<<<<<< HEAD
      "execution_count": 162,
=======
      "execution_count": 12,
>>>>>>> 1107e92a820e8c3d9c6e25526417fd15c031a83d
      "outputs": [
        {
          "output_type": "execute_result",
          "data": {
            "text/html": [
              "<div>\n",
              "<style scoped>\n",
              "    .dataframe tbody tr th:only-of-type {\n",
              "        vertical-align: middle;\n",
              "    }\n",
              "\n",
              "    .dataframe tbody tr th {\n",
              "        vertical-align: top;\n",
              "    }\n",
              "\n",
              "    .dataframe thead th {\n",
              "        text-align: right;\n",
              "    }\n",
              "</style>\n",
              "<table border=\"1\" class=\"dataframe\">\n",
              "  <thead>\n",
              "    <tr style=\"text-align: right;\">\n",
              "      <th></th>\n",
              "      <th>ID</th>\n",
              "      <th>d</th>\n",
              "      <th>t_min</th>\n",
              "      <th>t_max</th>\n",
              "      <th>dlen</th>\n",
              "      <th>day</th>\n",
              "      <th>station</th>\n",
              "      <th>category</th>\n",
              "      <th>name</th>\n",
              "      <th>state</th>\n",
              "    </tr>\n",
              "  </thead>\n",
              "  <tbody>\n",
              "    <tr>\n",
<<<<<<< HEAD
              "      <th>0</th>\n",
              "      <td>0</td>\n",
              "      <td>0</td>\n",
              "      <td>0.0</td>\n",
=======
              "      <th rowspan=\"5\" valign=\"top\">11</th>\n",
              "      <th>0</th>\n",
              "      <td>0.05250</td>\n",
              "      <td>0.09500</td>\n",
              "      <td>0.022979</td>\n",
              "      <td>0.000000</td>\n",
              "      <td>34927</td>\n",
              "      <td>10651</td>\n",
              "      <td>P·EP 2</td>\n",
>>>>>>> 1107e92a820e8c3d9c6e25526417fd15c031a83d
              "      <td>0.0</td>\n",
              "      <td>0.021642</td>\n",
              "      <td>0.000000</td>\n",
              "      <td>34927</td>\n",
              "      <td>5830</td>\n",
              "      <td>Fiskeby 1040-4-2</td>\n",
              "      <td>0.1</td>\n",
              "    </tr>\n",
              "    <tr>\n",
              "      <th>1</th>\n",
<<<<<<< HEAD
              "      <td>0</td>\n",
              "      <td>1</td>\n",
              "      <td>0.0</td>\n",
=======
              "      <td>0.12125</td>\n",
              "      <td>0.20500</td>\n",
              "      <td>0.046385</td>\n",
              "      <td>0.041667</td>\n",
              "      <td>34927</td>\n",
              "      <td>10651</td>\n",
              "      <td>P·EP 2</td>\n",
>>>>>>> 1107e92a820e8c3d9c6e25526417fd15c031a83d
              "      <td>0.0</td>\n",
              "      <td>0.043739</td>\n",
              "      <td>0.014925</td>\n",
              "      <td>34927</td>\n",
              "      <td>5830</td>\n",
              "      <td>Fiskeby 1040-4-2</td>\n",
              "      <td>0.1</td>\n",
              "    </tr>\n",
              "    <tr>\n",
              "      <th>2</th>\n",
<<<<<<< HEAD
              "      <td>0</td>\n",
              "      <td>2</td>\n",
              "      <td>0.0</td>\n",
=======
              "      <td>0.19500</td>\n",
              "      <td>0.31125</td>\n",
              "      <td>0.070206</td>\n",
              "      <td>0.083333</td>\n",
              "      <td>34927</td>\n",
              "      <td>10651</td>\n",
              "      <td>P·EP 2</td>\n",
>>>>>>> 1107e92a820e8c3d9c6e25526417fd15c031a83d
              "      <td>0.0</td>\n",
              "      <td>0.066282</td>\n",
              "      <td>0.029851</td>\n",
              "      <td>34927</td>\n",
              "      <td>5830</td>\n",
              "      <td>Fiskeby 1040-4-2</td>\n",
              "      <td>0.1</td>\n",
              "    </tr>\n",
              "    <tr>\n",
              "      <th>3</th>\n",
<<<<<<< HEAD
              "      <td>0</td>\n",
              "      <td>3</td>\n",
              "      <td>0.0</td>\n",
=======
              "      <td>0.27625</td>\n",
              "      <td>0.40250</td>\n",
              "      <td>0.094433</td>\n",
              "      <td>0.125000</td>\n",
              "      <td>34927</td>\n",
              "      <td>10651</td>\n",
              "      <td>P·EP 2</td>\n",
>>>>>>> 1107e92a820e8c3d9c6e25526417fd15c031a83d
              "      <td>0.0</td>\n",
              "      <td>0.089261</td>\n",
              "      <td>0.044776</td>\n",
              "      <td>34927</td>\n",
              "      <td>5830</td>\n",
              "      <td>Fiskeby 1040-4-2</td>\n",
              "      <td>0.1</td>\n",
              "    </tr>\n",
              "    <tr>\n",
              "      <th>4</th>\n",
<<<<<<< HEAD
              "      <td>0</td>\n",
              "      <td>4</td>\n",
              "      <td>0.0</td>\n",
=======
              "      <td>0.37000</td>\n",
              "      <td>0.48500</td>\n",
              "      <td>0.119054</td>\n",
              "      <td>0.166667</td>\n",
              "      <td>34927</td>\n",
              "      <td>10651</td>\n",
              "      <td>P·EP 2</td>\n",
>>>>>>> 1107e92a820e8c3d9c6e25526417fd15c031a83d
              "      <td>0.0</td>\n",
              "      <td>0.112667</td>\n",
              "      <td>0.059701</td>\n",
              "      <td>34927</td>\n",
              "      <td>5830</td>\n",
              "      <td>Fiskeby 1040-4-2</td>\n",
              "      <td>0.1</td>\n",
              "    </tr>\n",
              "  </tbody>\n",
              "</table>\n",
              "</div>"
            ],
            "text/plain": [
<<<<<<< HEAD
              "   ID  d  t_min  t_max      dlen       day  station  category  \\\n",
              "0   0  0    0.0    0.0  0.021642  0.000000    34927      5830   \n",
              "1   0  1    0.0    0.0  0.043739  0.014925    34927      5830   \n",
              "2   0  2    0.0    0.0  0.066282  0.029851    34927      5830   \n",
              "3   0  3    0.0    0.0  0.089261  0.044776    34927      5830   \n",
              "4   0  4    0.0    0.0  0.112667  0.059701    34927      5830   \n",
              "\n",
              "               name  state  \n",
              "0  Fiskeby 1040-4-2    0.1  \n",
              "1  Fiskeby 1040-4-2    0.1  \n",
              "2  Fiskeby 1040-4-2    0.1  \n",
              "3  Fiskeby 1040-4-2    0.1  \n",
              "4  Fiskeby 1040-4-2    0.1  "
=======
              "                 t_min    t_max      dlen       day  station  category  \\\n",
              "   Unnamed: 1                                                            \n",
              "11 0           0.05250  0.09500  0.022979  0.000000    34927     10651   \n",
              "   1           0.12125  0.20500  0.046385  0.041667    34927     10651   \n",
              "   2           0.19500  0.31125  0.070206  0.083333    34927     10651   \n",
              "   3           0.27625  0.40250  0.094433  0.125000    34927     10651   \n",
              "   4           0.37000  0.48500  0.119054  0.166667    34927     10651   \n",
              "\n",
              "                 name  state  \n",
              "   Unnamed: 1                 \n",
              "11 0           P·EP 2    0.0  \n",
              "   1           P·EP 2    0.0  \n",
              "   2           P·EP 2    0.0  \n",
              "   3           P·EP 2    0.0  \n",
              "   4           P·EP 2    0.0  "
>>>>>>> 1107e92a820e8c3d9c6e25526417fd15c031a83d
            ]
          },
          "metadata": {
            "tags": []
          },
<<<<<<< HEAD
          "execution_count": 162
=======
          "execution_count": 12
>>>>>>> 1107e92a820e8c3d9c6e25526417fd15c031a83d
        }
      ]
    },
    {
      "metadata": {
        "id": "DMi7GUsSTjD-",
        "colab_type": "text"
      },
      "cell_type": "markdown",
      "source": [
        "Select features and target parameter. As the data is shuffled at this point we no longer need multi-index, and selecting values will truncate that information automatically."
      ]
    },
    {
      "metadata": {
        "id": "1dhvH30Rh0sD",
        "colab_type": "code",
        "colab": {}
      },
      "cell_type": "code",
      "source": [
        "df = pd.get_dummies(df, columns=[\"name\"])"
      ],
      "execution_count": 0,
      "outputs": []
    },
    {
      "metadata": {
        "id": "uWoNtcYIiQ1o",
        "colab_type": "code",
        "outputId": "ab54cbfe-c709-4eb0-ebeb-ca346b713b50",
        "colab": {
          "base_uri": "https://localhost:8080/",
          "height": 179
        }
      },
      "cell_type": "code",
      "source": [
        "df.head(3)"
      ],
      "execution_count": 213,
      "outputs": [
        {
          "output_type": "execute_result",
          "data": {
            "text/html": [
              "<div>\n",
              "<style scoped>\n",
              "    .dataframe tbody tr th:only-of-type {\n",
              "        vertical-align: middle;\n",
              "    }\n",
              "\n",
              "    .dataframe tbody tr th {\n",
              "        vertical-align: top;\n",
              "    }\n",
              "\n",
              "    .dataframe thead th {\n",
              "        text-align: right;\n",
              "    }\n",
              "</style>\n",
              "<table border=\"1\" class=\"dataframe\">\n",
              "  <thead>\n",
              "    <tr style=\"text-align: right;\">\n",
              "      <th></th>\n",
              "      <th>ID</th>\n",
              "      <th>d</th>\n",
              "      <th>t_min</th>\n",
              "      <th>t_max</th>\n",
              "      <th>dlen</th>\n",
              "      <th>day</th>\n",
              "      <th>station</th>\n",
              "      <th>category</th>\n",
              "      <th>state</th>\n",
              "      <th>name_Altom</th>\n",
              "      <th>name_Fiskeby 1040-4-2</th>\n",
              "      <th>name_KG-20</th>\n",
              "      <th>name_Okskaya</th>\n",
              "      <th>name_P·EP 18</th>\n",
              "      <th>name_P·EP 2</th>\n",
              "      <th>name_P·EP 27</th>\n",
              "      <th>name_P·EP 28</th>\n",
              "      <th>name_Svetlaya</th>\n",
              "    </tr>\n",
              "  </thead>\n",
              "  <tbody>\n",
              "    <tr>\n",
              "      <th>0</th>\n",
              "      <td>0</td>\n",
              "      <td>0</td>\n",
              "      <td>0.0</td>\n",
              "      <td>0.0</td>\n",
              "      <td>0.021642</td>\n",
              "      <td>0.000000</td>\n",
              "      <td>34927</td>\n",
              "      <td>5830</td>\n",
              "      <td>0.1</td>\n",
              "      <td>0</td>\n",
              "      <td>1</td>\n",
              "      <td>0</td>\n",
              "      <td>0</td>\n",
              "      <td>0</td>\n",
              "      <td>0</td>\n",
              "      <td>0</td>\n",
              "      <td>0</td>\n",
              "      <td>0</td>\n",
              "    </tr>\n",
              "    <tr>\n",
              "      <th>1</th>\n",
              "      <td>0</td>\n",
              "      <td>1</td>\n",
              "      <td>0.0</td>\n",
              "      <td>0.0</td>\n",
              "      <td>0.043739</td>\n",
              "      <td>0.014925</td>\n",
              "      <td>34927</td>\n",
              "      <td>5830</td>\n",
              "      <td>0.1</td>\n",
              "      <td>0</td>\n",
              "      <td>1</td>\n",
              "      <td>0</td>\n",
              "      <td>0</td>\n",
              "      <td>0</td>\n",
              "      <td>0</td>\n",
              "      <td>0</td>\n",
              "      <td>0</td>\n",
              "      <td>0</td>\n",
              "    </tr>\n",
              "    <tr>\n",
              "      <th>2</th>\n",
              "      <td>0</td>\n",
              "      <td>2</td>\n",
              "      <td>0.0</td>\n",
              "      <td>0.0</td>\n",
              "      <td>0.066282</td>\n",
              "      <td>0.029851</td>\n",
              "      <td>34927</td>\n",
              "      <td>5830</td>\n",
              "      <td>0.1</td>\n",
              "      <td>0</td>\n",
              "      <td>1</td>\n",
              "      <td>0</td>\n",
              "      <td>0</td>\n",
              "      <td>0</td>\n",
              "      <td>0</td>\n",
              "      <td>0</td>\n",
              "      <td>0</td>\n",
              "      <td>0</td>\n",
              "    </tr>\n",
              "  </tbody>\n",
              "</table>\n",
              "</div>"
            ],
            "text/plain": [
              "   ID  d  t_min  t_max      dlen       day  station  category  state  \\\n",
              "0   0  0    0.0    0.0  0.021642  0.000000    34927      5830    0.1   \n",
              "1   0  1    0.0    0.0  0.043739  0.014925    34927      5830    0.1   \n",
              "2   0  2    0.0    0.0  0.066282  0.029851    34927      5830    0.1   \n",
              "\n",
              "   name_Altom  name_Fiskeby 1040-4-2  name_KG-20  name_Okskaya  name_P·EP 18  \\\n",
              "0           0                      1           0             0             0   \n",
              "1           0                      1           0             0             0   \n",
              "2           0                      1           0             0             0   \n",
              "\n",
              "   name_P·EP 2  name_P·EP 27  name_P·EP 28  name_Svetlaya  \n",
              "0            0             0             0              0  \n",
              "1            0             0             0              0  \n",
              "2            0             0             0              0  "
            ]
          },
          "metadata": {
            "tags": []
          },
          "execution_count": 213
        }
      ]
    },
    {
      "metadata": {
        "id": "_opCw06ziXyI",
        "colab_type": "code",
        "outputId": "7f736d06-04f0-4830-904a-7c4f6a124ad0",
        "colab": {
          "base_uri": "https://localhost:8080/",
          "height": 170
        }
      },
      "cell_type": "code",
      "source": [
        "sorts = list(filter(lambda x: x.startswith(\"name_\"), df.columns))\n",
        "sorts"
      ],
      "execution_count": 214,
      "outputs": [
        {
          "output_type": "execute_result",
          "data": {
            "text/plain": [
              "['name_Altom',\n",
              " 'name_Fiskeby 1040-4-2',\n",
              " 'name_KG-20',\n",
              " 'name_Okskaya',\n",
              " 'name_P·EP 18',\n",
              " 'name_P·EP 2',\n",
              " 'name_P·EP 27',\n",
              " 'name_P·EP 28',\n",
              " 'name_Svetlaya']"
            ]
          },
          "metadata": {
            "tags": []
          },
          "execution_count": 214
        }
      ]
    },
    {
      "metadata": {
        "id": "dlpnB55syxkr",
        "colab_type": "code",
        "colab": {}
      },
      "cell_type": "code",
      "source": [
        "features = ['t_min', 't_max', 'dlen', 'day']\n",
        "features.extend(sorts)\n",
        "data = df[features].values\n",
        "target = df['state'].values"
      ],
      "execution_count": 0,
      "outputs": []
    },
    {
      "metadata": {
        "id": "kfX4V28pg-GK",
        "colab_type": "code",
        "outputId": "e0345f3b-ec7e-4de3-91e3-5ff84444f4b0",
        "colab": {
          "base_uri": "https://localhost:8080/",
          "height": 238
        }
      },
      "cell_type": "code",
      "source": [
        "data"
      ],
      "execution_count": 167,
      "outputs": [
        {
          "output_type": "execute_result",
          "data": {
            "text/plain": [
              "array([[0.        , 0.        , 0.02164167, ..., 0.        , 0.        ,\n",
              "        0.        ],\n",
              "       [0.        , 0.        , 0.04373886, ..., 0.        , 0.        ,\n",
              "        0.        ],\n",
              "       [0.        , 0.        , 0.06628203, ..., 0.        , 0.        ,\n",
              "        0.        ],\n",
              "       ...,\n",
              "       [4.11625   , 3.23625   , 3.8879054 , ..., 0.        , 0.        ,\n",
              "        1.        ],\n",
              "       [4.2575    , 3.3275    , 3.92429457, ..., 0.        , 0.        ,\n",
              "        1.        ],\n",
              "       [4.3625    , 3.35875   , 3.95963291, ..., 0.        , 0.        ,\n",
              "        1.        ]])"
            ]
          },
          "metadata": {
            "tags": []
          },
          "execution_count": 167
        }
      ]
    },
    {
      "metadata": {
        "id": "AShelcevMkUJ",
        "colab_type": "text"
      },
      "cell_type": "markdown",
      "source": [
        "data is numpy matrix with only the needed features for the model and target is numpy vector with output data"
      ]
    },
    {
      "metadata": {
        "id": "gatua_0HNPsw",
        "colab_type": "code",
<<<<<<< HEAD
        "outputId": "f8ebadd4-e997-4419-9a78-834e154c2ea4",
        "colab": {
          "base_uri": "https://localhost:8080/",
          "height": 255
=======
        "outputId": "5ba432b8-605b-452c-9898-b2f16aeb2e7b",
        "colab": {
          "base_uri": "https://localhost:8080/",
          "height": 156
>>>>>>> 1107e92a820e8c3d9c6e25526417fd15c031a83d
        }
      },
      "cell_type": "code",
      "source": [
        "#@title Select number of rows to display { run: \"auto\", form-width: \"30%\" }\n",
        "num_entries = 3 #@param {type:\"slider\", min:0, max:5, step:1}\n",
        "print(\"Data:  \", data.shape, \"Showing only\", num_entries, \"\\n\", data[0:num_entries], \"\\n\")\n",
        "print(\"Target:\", target.shape, \"Showing only\", num_entries, \"\\n\", target[0:num_entries], \"\\n\")"
      ],
<<<<<<< HEAD
      "execution_count": 0,
=======
      "execution_count": 41,
>>>>>>> 1107e92a820e8c3d9c6e25526417fd15c031a83d
      "outputs": [
        {
          "output_type": "stream",
          "text": [
<<<<<<< HEAD
            "Data:   (6134, 13) Showing only 3 \n",
            " [[0.         0.         0.06298514 0.         0.         1.\n",
            "  0.         0.         0.         0.         0.         0.\n",
            "  0.        ]\n",
            " [0.02125    0.         0.12648623 0.02380952 0.         1.\n",
            "  0.         0.         0.         0.         0.         0.\n",
            "  0.        ]\n",
            " [0.02125    0.         0.19047459 0.04761905 0.         1.\n",
            "  0.         0.         0.         0.         0.         0.\n",
            "  0.        ]] \n",
=======
            "Data:   (8874, 4) Showing only 3 \n",
            " [[0.         0.         0.02164167 0.        ]\n",
            " [0.         0.         0.04373886 0.01754386]\n",
            " [0.         0.         0.06628203 0.03508772]] \n",
>>>>>>> 1107e92a820e8c3d9c6e25526417fd15c031a83d
            "\n",
            "Target: (8874,) Showing only 3 \n",
            " [0.1 0.1 0.1] \n",
            "\n"
          ],
          "name": "stdout"
        }
      ]
    },
    {
      "metadata": {
        "id": "ZTmbe365Qjz8",
        "colab_type": "text"
      },
      "cell_type": "markdown",
      "source": [
        "Split the data for training and testing"
      ]
    },
    {
      "metadata": {
        "id": "gnJFOFwpQjV9",
        "colab_type": "code",
<<<<<<< HEAD
        "outputId": "c71ac83b-b868-4f68-f6b7-90ad22070266",
=======
        "outputId": "d607e339-89ef-4002-d033-662bf4c3152e",
>>>>>>> 1107e92a820e8c3d9c6e25526417fd15c031a83d
        "colab": {
          "base_uri": "https://localhost:8080/",
          "height": 52
        }
      },
      "cell_type": "code",
      "source": [
        "#@title Set the desired partition of test and train samples { run: \"auto\", form-width: \"30%\", display-mode: \"both\" }\n",
        "border = 8530 #@param {type:\"slider\", min:4000, max:10000, step:30}\n",
        "train_input, train_output = data[:border], target[:border]\n",
        "test_input, test_output = data[border:], target[border:]\n",
        "\n",
        "print(\"Train set contains\", len(train_input))\n",
        "print(\"Test set contains\", len(test_input))"
      ],
<<<<<<< HEAD
      "execution_count": 168,
=======
      "execution_count": 42,
>>>>>>> 1107e92a820e8c3d9c6e25526417fd15c031a83d
      "outputs": [
        {
          "output_type": "stream",
          "text": [
<<<<<<< HEAD
            "Train set contains 8530\n",
            "Test set contains 1874\n"
=======
            "Train set contains 6100\n",
            "Test set contains 2774\n"
>>>>>>> 1107e92a820e8c3d9c6e25526417fd15c031a83d
          ],
          "name": "stdout"
        }
      ]
    },
    {
      "metadata": {
        "id": "KdueMwofOzg4",
        "colab_type": "text"
      },
      "cell_type": "markdown",
      "source": [
        "##  Model"
      ]
    },
    {
      "metadata": {
        "id": "h2TevvaLPGZW",
        "colab_type": "text"
      },
      "cell_type": "markdown",
      "source": [
        "We will use a simple model with input layer of 4 neurons, a single hidden layer with 20 neurons and 1 output neuron"
      ]
    },
    {
      "metadata": {
        "id": "7KmKSmm-YL5U",
        "colab_type": "text"
      },
      "cell_type": "markdown",
      "source": [
        "### Keras model definition"
      ]
    },
    {
      "metadata": {
        "id": "7MeUAV4UjKzm",
        "colab_type": "code",
        "outputId": "37f4281a-8ca5-4d26-ebde-013dd9d1d4da",
        "colab": {
          "base_uri": "https://localhost:8080/",
          "height": 34
        }
      },
      "cell_type": "code",
      "source": [
        "train_input.shape"
      ],
      "execution_count": 169,
      "outputs": [
        {
          "output_type": "execute_result",
          "data": {
            "text/plain": [
              "(8530, 13)"
            ]
          },
          "metadata": {
            "tags": []
          },
          "execution_count": 169
        }
      ]
    },
    {
      "metadata": {
        "id": "TCiZPeGAPuhZ",
        "colab_type": "code",
        "colab": {}
      },
      "cell_type": "code",
      "source": [
        "model = keras.Sequential()\n",
        "model.add(keras.layers.Dense(15, input_dim=train_input.shape[1], activation='sigmoid'))\n",
        "model.add(keras.layers.Dense(5, activation='sigmoid'))\n",
        "model.add(keras.layers.Dense(1, activation='sigmoid'))"
      ],
      "execution_count": 0,
      "outputs": []
    },
    {
      "metadata": {
        "id": "TeRWlA-oYU2b",
        "colab_type": "text"
      },
      "cell_type": "markdown",
      "source": [
        "### Keras model compile"
      ]
    },
    {
      "metadata": {
        "id": "QQV70qOlQLMF",
        "colab_type": "code",
        "colab": {}
      },
      "cell_type": "code",
      "source": [
        "sgd = optimizers.SGD(lr=0.035)"
      ],
      "execution_count": 0,
      "outputs": []
    },
    {
      "metadata": {
        "id": "SPIy9SW8PyFC",
        "colab_type": "code",
        "colab": {}
      },
      "cell_type": "code",
      "source": [
        "model.compile(loss='mae',\n",
        "              optimizer=sgd,\n",
        "              # metrics=['mse', 'mae', r2])\n",
        "              metrics=['mse', 'mae'])"
      ],
      "execution_count": 0,
      "outputs": []
    },
    {
      "metadata": {
        "id": "nzQE8hoXWRNb",
        "colab_type": "text"
      },
      "cell_type": "markdown",
      "source": [
        "Model summary shows the architecture of the keras model"
      ]
    },
    {
      "metadata": {
        "id": "2g_Nn5dwWL2U",
        "colab_type": "code",
<<<<<<< HEAD
        "outputId": "d7013b5d-571b-402f-dec5-32480b53f643",
        "colab": {
          "base_uri": "https://localhost:8080/",
          "height": 255
=======
        "outputId": "c0f5e195-c483-4acd-9321-3f4630058282",
        "colab": {
          "base_uri": "https://localhost:8080/",
          "height": 225
>>>>>>> 1107e92a820e8c3d9c6e25526417fd15c031a83d
        }
      },
      "cell_type": "code",
      "source": [
        "print(model.summary())"
      ],
<<<<<<< HEAD
      "execution_count": 271,
=======
      "execution_count": 46,
>>>>>>> 1107e92a820e8c3d9c6e25526417fd15c031a83d
      "outputs": [
        {
          "output_type": "stream",
          "text": [
            "_________________________________________________________________\n",
            "Layer (type)                 Output Shape              Param #   \n",
            "=================================================================\n",
<<<<<<< HEAD
            "dense_53 (Dense)             (None, 15)                210       \n",
            "_________________________________________________________________\n",
            "dense_54 (Dense)             (None, 5)                 80        \n",
            "_________________________________________________________________\n",
            "dense_55 (Dense)             (None, 1)                 6         \n",
=======
            "dense_3 (Dense)              (None, 20)                100       \n",
            "_________________________________________________________________\n",
            "dense_4 (Dense)              (None, 1)                 21        \n",
>>>>>>> 1107e92a820e8c3d9c6e25526417fd15c031a83d
            "=================================================================\n",
            "Total params: 296\n",
            "Trainable params: 296\n",
            "Non-trainable params: 0\n",
            "_________________________________________________________________\n",
            "None\n"
          ],
          "name": "stdout"
        }
      ]
    },
    {
      "metadata": {
        "id": "1yF62adxYEPh",
        "colab_type": "text"
      },
      "cell_type": "markdown",
      "source": [
        "## Results"
      ]
    },
    {
      "metadata": {
        "id": "sX3hnRLUPz_b",
        "colab_type": "code",
        "cellView": "both",
<<<<<<< HEAD
        "colab": {}
=======
        "outputId": "a228f314-b616-4572-a7ac-bf593e25aa97",
        "colab": {
          "base_uri": "https://localhost:8080/",
          "height": 3528
        }
>>>>>>> 1107e92a820e8c3d9c6e25526417fd15c031a83d
      },
      "cell_type": "code",
      "source": [
        "#@title Hyperparameters { run: \"auto\", form-width: \"30%\" }\n",
<<<<<<< HEAD
        "epochs = 500 #@param {type:\"integer\"}\n",
=======
        "epochs = 100 #@param {type:\"integer\"}\n",
>>>>>>> 1107e92a820e8c3d9c6e25526417fd15c031a83d
        "history = model.fit(\n",
        "    train_input, train_output,\n",
        "    epochs=epochs,\n",
        "    batch_size=30,\n",
        "    validation_split=0.1)"
      ],
<<<<<<< HEAD
      "execution_count": 0,
      "outputs": []
=======
      "execution_count": 48,
      "outputs": [
        {
          "output_type": "stream",
          "text": [
            "Train on 6039 samples, validate on 61 samples\n",
            "Epoch 1/100\n",
            "6039/6039 [==============================] - 1s 122us/step - loss: 0.0156 - mean_squared_error: 0.0156 - mean_absolute_error: 0.0920 - val_loss: 0.0526 - val_mean_squared_error: 0.0526 - val_mean_absolute_error: 0.1621\n",
            "Epoch 2/100\n",
            "6039/6039 [==============================] - 1s 119us/step - loss: 0.0159 - mean_squared_error: 0.0159 - mean_absolute_error: 0.0913 - val_loss: 0.0142 - val_mean_squared_error: 0.0142 - val_mean_absolute_error: 0.0879\n",
            "Epoch 3/100\n",
            "6039/6039 [==============================] - 1s 120us/step - loss: 0.0154 - mean_squared_error: 0.0154 - mean_absolute_error: 0.0886 - val_loss: 0.0317 - val_mean_squared_error: 0.0317 - val_mean_absolute_error: 0.1189\n",
            "Epoch 4/100\n",
            "6039/6039 [==============================] - 1s 132us/step - loss: 0.0149 - mean_squared_error: 0.0149 - mean_absolute_error: 0.0828 - val_loss: 0.0069 - val_mean_squared_error: 0.0069 - val_mean_absolute_error: 0.0592\n",
            "Epoch 5/100\n",
            "6039/6039 [==============================] - 1s 143us/step - loss: 0.0146 - mean_squared_error: 0.0146 - mean_absolute_error: 0.0739 - val_loss: 0.0330 - val_mean_squared_error: 0.0330 - val_mean_absolute_error: 0.1013\n",
            "Epoch 6/100\n",
            "6039/6039 [==============================] - 1s 141us/step - loss: 0.0130 - mean_squared_error: 0.0130 - mean_absolute_error: 0.0643 - val_loss: 0.0354 - val_mean_squared_error: 0.0354 - val_mean_absolute_error: 0.1023\n",
            "Epoch 7/100\n",
            "6039/6039 [==============================] - 1s 143us/step - loss: 0.0131 - mean_squared_error: 0.0131 - mean_absolute_error: 0.0621 - val_loss: 0.0603 - val_mean_squared_error: 0.0603 - val_mean_absolute_error: 0.1533\n",
            "Epoch 8/100\n",
            "6039/6039 [==============================] - 1s 141us/step - loss: 0.0126 - mean_squared_error: 0.0126 - mean_absolute_error: 0.0602 - val_loss: 0.0118 - val_mean_squared_error: 0.0118 - val_mean_absolute_error: 0.0553\n",
            "Epoch 9/100\n",
            "6039/6039 [==============================] - 1s 141us/step - loss: 0.0123 - mean_squared_error: 0.0123 - mean_absolute_error: 0.0590 - val_loss: 0.0218 - val_mean_squared_error: 0.0218 - val_mean_absolute_error: 0.0771\n",
            "Epoch 10/100\n",
            "6039/6039 [==============================] - 1s 135us/step - loss: 0.0120 - mean_squared_error: 0.0120 - mean_absolute_error: 0.0576 - val_loss: 0.0570 - val_mean_squared_error: 0.0570 - val_mean_absolute_error: 0.1393\n",
            "Epoch 11/100\n",
            "6039/6039 [==============================] - 1s 136us/step - loss: 0.0123 - mean_squared_error: 0.0123 - mean_absolute_error: 0.0577 - val_loss: 0.0229 - val_mean_squared_error: 0.0229 - val_mean_absolute_error: 0.0823\n",
            "Epoch 12/100\n",
            "6039/6039 [==============================] - 1s 141us/step - loss: 0.0125 - mean_squared_error: 0.0125 - mean_absolute_error: 0.0580 - val_loss: 0.0266 - val_mean_squared_error: 0.0266 - val_mean_absolute_error: 0.0842\n",
            "Epoch 13/100\n",
            "6039/6039 [==============================] - 1s 135us/step - loss: 0.0121 - mean_squared_error: 0.0121 - mean_absolute_error: 0.0569 - val_loss: 0.0271 - val_mean_squared_error: 0.0271 - val_mean_absolute_error: 0.0890\n",
            "Epoch 14/100\n",
            "6039/6039 [==============================] - 1s 134us/step - loss: 0.0119 - mean_squared_error: 0.0119 - mean_absolute_error: 0.0571 - val_loss: 0.0581 - val_mean_squared_error: 0.0581 - val_mean_absolute_error: 0.1481\n",
            "Epoch 15/100\n",
            "6039/6039 [==============================] - 1s 135us/step - loss: 0.0120 - mean_squared_error: 0.0120 - mean_absolute_error: 0.0571 - val_loss: 0.0170 - val_mean_squared_error: 0.0170 - val_mean_absolute_error: 0.0607\n",
            "Epoch 16/100\n",
            "6039/6039 [==============================] - 1s 137us/step - loss: 0.0118 - mean_squared_error: 0.0118 - mean_absolute_error: 0.0567 - val_loss: 0.0503 - val_mean_squared_error: 0.0503 - val_mean_absolute_error: 0.1265\n",
            "Epoch 17/100\n",
            "6039/6039 [==============================] - 1s 133us/step - loss: 0.0118 - mean_squared_error: 0.0118 - mean_absolute_error: 0.0559 - val_loss: 0.0326 - val_mean_squared_error: 0.0326 - val_mean_absolute_error: 0.0981\n",
            "Epoch 18/100\n",
            "6039/6039 [==============================] - 1s 131us/step - loss: 0.0114 - mean_squared_error: 0.0114 - mean_absolute_error: 0.0554 - val_loss: 0.0223 - val_mean_squared_error: 0.0223 - val_mean_absolute_error: 0.0790\n",
            "Epoch 19/100\n",
            "6039/6039 [==============================] - 1s 133us/step - loss: 0.0118 - mean_squared_error: 0.0118 - mean_absolute_error: 0.0564 - val_loss: 0.0300 - val_mean_squared_error: 0.0300 - val_mean_absolute_error: 0.0892\n",
            "Epoch 20/100\n",
            "6039/6039 [==============================] - 1s 135us/step - loss: 0.0118 - mean_squared_error: 0.0118 - mean_absolute_error: 0.0569 - val_loss: 0.0189 - val_mean_squared_error: 0.0189 - val_mean_absolute_error: 0.0650\n",
            "Epoch 21/100\n",
            "6039/6039 [==============================] - 1s 136us/step - loss: 0.0116 - mean_squared_error: 0.0116 - mean_absolute_error: 0.0554 - val_loss: 0.0174 - val_mean_squared_error: 0.0174 - val_mean_absolute_error: 0.0613\n",
            "Epoch 22/100\n",
            "6039/6039 [==============================] - 1s 135us/step - loss: 0.0117 - mean_squared_error: 0.0117 - mean_absolute_error: 0.0566 - val_loss: 0.0143 - val_mean_squared_error: 0.0143 - val_mean_absolute_error: 0.0566\n",
            "Epoch 23/100\n",
            "6039/6039 [==============================] - 1s 132us/step - loss: 0.0111 - mean_squared_error: 0.0111 - mean_absolute_error: 0.0542 - val_loss: 0.0484 - val_mean_squared_error: 0.0484 - val_mean_absolute_error: 0.1315\n",
            "Epoch 24/100\n",
            "6039/6039 [==============================] - 1s 134us/step - loss: 0.0115 - mean_squared_error: 0.0115 - mean_absolute_error: 0.0555 - val_loss: 0.0266 - val_mean_squared_error: 0.0266 - val_mean_absolute_error: 0.0765\n",
            "Epoch 25/100\n",
            "6039/6039 [==============================] - 1s 137us/step - loss: 0.0112 - mean_squared_error: 0.0112 - mean_absolute_error: 0.0545 - val_loss: 0.0159 - val_mean_squared_error: 0.0159 - val_mean_absolute_error: 0.0583\n",
            "Epoch 26/100\n",
            "6039/6039 [==============================] - 1s 136us/step - loss: 0.0114 - mean_squared_error: 0.0114 - mean_absolute_error: 0.0545 - val_loss: 0.0232 - val_mean_squared_error: 0.0232 - val_mean_absolute_error: 0.0725\n",
            "Epoch 27/100\n",
            "6039/6039 [==============================] - 1s 137us/step - loss: 0.0114 - mean_squared_error: 0.0114 - mean_absolute_error: 0.0555 - val_loss: 0.0230 - val_mean_squared_error: 0.0230 - val_mean_absolute_error: 0.0735\n",
            "Epoch 28/100\n",
            "6039/6039 [==============================] - 1s 133us/step - loss: 0.0111 - mean_squared_error: 0.0111 - mean_absolute_error: 0.0538 - val_loss: 0.0149 - val_mean_squared_error: 0.0149 - val_mean_absolute_error: 0.0576\n",
            "Epoch 29/100\n",
            "6039/6039 [==============================] - 1s 135us/step - loss: 0.0112 - mean_squared_error: 0.0112 - mean_absolute_error: 0.0546 - val_loss: 0.0547 - val_mean_squared_error: 0.0547 - val_mean_absolute_error: 0.1453\n",
            "Epoch 30/100\n",
            "6039/6039 [==============================] - 1s 133us/step - loss: 0.0113 - mean_squared_error: 0.0113 - mean_absolute_error: 0.0547 - val_loss: 0.0355 - val_mean_squared_error: 0.0355 - val_mean_absolute_error: 0.1082\n",
            "Epoch 31/100\n",
            "6039/6039 [==============================] - 1s 132us/step - loss: 0.0110 - mean_squared_error: 0.0110 - mean_absolute_error: 0.0540 - val_loss: 0.0162 - val_mean_squared_error: 0.0162 - val_mean_absolute_error: 0.0594\n",
            "Epoch 32/100\n",
            "6039/6039 [==============================] - 1s 132us/step - loss: 0.0114 - mean_squared_error: 0.0114 - mean_absolute_error: 0.0551 - val_loss: 0.0180 - val_mean_squared_error: 0.0180 - val_mean_absolute_error: 0.0723\n",
            "Epoch 33/100\n",
            "6039/6039 [==============================] - 1s 134us/step - loss: 0.0110 - mean_squared_error: 0.0110 - mean_absolute_error: 0.0540 - val_loss: 0.0131 - val_mean_squared_error: 0.0131 - val_mean_absolute_error: 0.0535\n",
            "Epoch 34/100\n",
            "6039/6039 [==============================] - 1s 134us/step - loss: 0.0115 - mean_squared_error: 0.0115 - mean_absolute_error: 0.0547 - val_loss: 0.0295 - val_mean_squared_error: 0.0295 - val_mean_absolute_error: 0.0853\n",
            "Epoch 35/100\n",
            "6039/6039 [==============================] - 1s 135us/step - loss: 0.0109 - mean_squared_error: 0.0109 - mean_absolute_error: 0.0532 - val_loss: 0.0310 - val_mean_squared_error: 0.0310 - val_mean_absolute_error: 0.1005\n",
            "Epoch 36/100\n",
            "6039/6039 [==============================] - 1s 134us/step - loss: 0.0110 - mean_squared_error: 0.0110 - mean_absolute_error: 0.0543 - val_loss: 0.0339 - val_mean_squared_error: 0.0339 - val_mean_absolute_error: 0.0938\n",
            "Epoch 37/100\n",
            "6039/6039 [==============================] - 1s 132us/step - loss: 0.0111 - mean_squared_error: 0.0111 - mean_absolute_error: 0.0529 - val_loss: 0.0091 - val_mean_squared_error: 0.0091 - val_mean_absolute_error: 0.0777\n",
            "Epoch 38/100\n",
            "6039/6039 [==============================] - 1s 133us/step - loss: 0.0111 - mean_squared_error: 0.0111 - mean_absolute_error: 0.0538 - val_loss: 0.0342 - val_mean_squared_error: 0.0342 - val_mean_absolute_error: 0.0888\n",
            "Epoch 39/100\n",
            "6039/6039 [==============================] - 1s 133us/step - loss: 0.0112 - mean_squared_error: 0.0112 - mean_absolute_error: 0.0544 - val_loss: 0.0264 - val_mean_squared_error: 0.0264 - val_mean_absolute_error: 0.0861\n",
            "Epoch 40/100\n",
            "6039/6039 [==============================] - 1s 133us/step - loss: 0.0109 - mean_squared_error: 0.0109 - mean_absolute_error: 0.0523 - val_loss: 0.0299 - val_mean_squared_error: 0.0299 - val_mean_absolute_error: 0.0875\n",
            "Epoch 41/100\n",
            "6039/6039 [==============================] - 1s 132us/step - loss: 0.0108 - mean_squared_error: 0.0108 - mean_absolute_error: 0.0522 - val_loss: 0.0170 - val_mean_squared_error: 0.0170 - val_mean_absolute_error: 0.0592\n",
            "Epoch 42/100\n",
            "6039/6039 [==============================] - 1s 134us/step - loss: 0.0106 - mean_squared_error: 0.0106 - mean_absolute_error: 0.0524 - val_loss: 0.0248 - val_mean_squared_error: 0.0248 - val_mean_absolute_error: 0.0850\n",
            "Epoch 43/100\n",
            "6039/6039 [==============================] - 1s 133us/step - loss: 0.0112 - mean_squared_error: 0.0112 - mean_absolute_error: 0.0539 - val_loss: 0.0253 - val_mean_squared_error: 0.0253 - val_mean_absolute_error: 0.0777\n",
            "Epoch 44/100\n",
            "6039/6039 [==============================] - 1s 132us/step - loss: 0.0112 - mean_squared_error: 0.0112 - mean_absolute_error: 0.0544 - val_loss: 0.0147 - val_mean_squared_error: 0.0147 - val_mean_absolute_error: 0.0553\n",
            "Epoch 45/100\n",
            "6039/6039 [==============================] - 1s 132us/step - loss: 0.0107 - mean_squared_error: 0.0107 - mean_absolute_error: 0.0520 - val_loss: 0.0097 - val_mean_squared_error: 0.0097 - val_mean_absolute_error: 0.0726\n",
            "Epoch 46/100\n",
            "6039/6039 [==============================] - 1s 131us/step - loss: 0.0110 - mean_squared_error: 0.0110 - mean_absolute_error: 0.0534 - val_loss: 0.0351 - val_mean_squared_error: 0.0351 - val_mean_absolute_error: 0.0918\n",
            "Epoch 47/100\n",
            "6039/6039 [==============================] - 1s 133us/step - loss: 0.0109 - mean_squared_error: 0.0109 - mean_absolute_error: 0.0517 - val_loss: 0.0116 - val_mean_squared_error: 0.0116 - val_mean_absolute_error: 0.0578\n",
            "Epoch 48/100\n",
            "6039/6039 [==============================] - 1s 133us/step - loss: 0.0110 - mean_squared_error: 0.0110 - mean_absolute_error: 0.0530 - val_loss: 0.0217 - val_mean_squared_error: 0.0217 - val_mean_absolute_error: 0.0674\n",
            "Epoch 49/100\n",
            "6039/6039 [==============================] - 1s 133us/step - loss: 0.0110 - mean_squared_error: 0.0110 - mean_absolute_error: 0.0527 - val_loss: 0.0233 - val_mean_squared_error: 0.0233 - val_mean_absolute_error: 0.0725\n",
            "Epoch 50/100\n",
            "6039/6039 [==============================] - 1s 134us/step - loss: 0.0109 - mean_squared_error: 0.0109 - mean_absolute_error: 0.0528 - val_loss: 0.0174 - val_mean_squared_error: 0.0174 - val_mean_absolute_error: 0.0590\n",
            "Epoch 51/100\n",
            "6039/6039 [==============================] - 1s 132us/step - loss: 0.0108 - mean_squared_error: 0.0108 - mean_absolute_error: 0.0520 - val_loss: 0.0232 - val_mean_squared_error: 0.0232 - val_mean_absolute_error: 0.0710\n",
            "Epoch 52/100\n",
            "6039/6039 [==============================] - 1s 134us/step - loss: 0.0106 - mean_squared_error: 0.0106 - mean_absolute_error: 0.0514 - val_loss: 0.0435 - val_mean_squared_error: 0.0435 - val_mean_absolute_error: 0.1180\n",
            "Epoch 53/100\n",
            "6039/6039 [==============================] - 1s 135us/step - loss: 0.0108 - mean_squared_error: 0.0108 - mean_absolute_error: 0.0518 - val_loss: 0.0306 - val_mean_squared_error: 0.0306 - val_mean_absolute_error: 0.0957\n",
            "Epoch 54/100\n",
            "6039/6039 [==============================] - 1s 132us/step - loss: 0.0108 - mean_squared_error: 0.0108 - mean_absolute_error: 0.0520 - val_loss: 0.0231 - val_mean_squared_error: 0.0231 - val_mean_absolute_error: 0.0698\n",
            "Epoch 55/100\n",
            "6039/6039 [==============================] - 1s 130us/step - loss: 0.0106 - mean_squared_error: 0.0106 - mean_absolute_error: 0.0516 - val_loss: 0.0415 - val_mean_squared_error: 0.0415 - val_mean_absolute_error: 0.1106\n",
            "Epoch 56/100\n",
            "6039/6039 [==============================] - 1s 133us/step - loss: 0.0106 - mean_squared_error: 0.0106 - mean_absolute_error: 0.0514 - val_loss: 0.0349 - val_mean_squared_error: 0.0349 - val_mean_absolute_error: 0.1076\n",
            "Epoch 57/100\n",
            "6039/6039 [==============================] - 1s 134us/step - loss: 0.0109 - mean_squared_error: 0.0109 - mean_absolute_error: 0.0526 - val_loss: 0.0158 - val_mean_squared_error: 0.0158 - val_mean_absolute_error: 0.0707\n",
            "Epoch 58/100\n",
            "6039/6039 [==============================] - 1s 133us/step - loss: 0.0107 - mean_squared_error: 0.0107 - mean_absolute_error: 0.0523 - val_loss: 0.0381 - val_mean_squared_error: 0.0381 - val_mean_absolute_error: 0.0974\n",
            "Epoch 59/100\n",
            "6039/6039 [==============================] - 1s 133us/step - loss: 0.0106 - mean_squared_error: 0.0106 - mean_absolute_error: 0.0521 - val_loss: 0.0267 - val_mean_squared_error: 0.0267 - val_mean_absolute_error: 0.0790\n",
            "Epoch 60/100\n",
            "6039/6039 [==============================] - 1s 131us/step - loss: 0.0107 - mean_squared_error: 0.0107 - mean_absolute_error: 0.0512 - val_loss: 0.0078 - val_mean_squared_error: 0.0078 - val_mean_absolute_error: 0.0712\n",
            "Epoch 61/100\n",
            "6039/6039 [==============================] - 1s 134us/step - loss: 0.0109 - mean_squared_error: 0.0109 - mean_absolute_error: 0.0524 - val_loss: 0.0311 - val_mean_squared_error: 0.0311 - val_mean_absolute_error: 0.0828\n",
            "Epoch 62/100\n",
            "6039/6039 [==============================] - 1s 134us/step - loss: 0.0106 - mean_squared_error: 0.0106 - mean_absolute_error: 0.0509 - val_loss: 0.0161 - val_mean_squared_error: 0.0161 - val_mean_absolute_error: 0.0576\n",
            "Epoch 63/100\n",
            "6039/6039 [==============================] - 1s 134us/step - loss: 0.0106 - mean_squared_error: 0.0106 - mean_absolute_error: 0.0513 - val_loss: 0.0192 - val_mean_squared_error: 0.0192 - val_mean_absolute_error: 0.0663\n",
            "Epoch 64/100\n",
            "6039/6039 [==============================] - 1s 134us/step - loss: 0.0104 - mean_squared_error: 0.0104 - mean_absolute_error: 0.0507 - val_loss: 0.0256 - val_mean_squared_error: 0.0256 - val_mean_absolute_error: 0.0784\n",
            "Epoch 65/100\n",
            "6039/6039 [==============================] - 1s 132us/step - loss: 0.0106 - mean_squared_error: 0.0106 - mean_absolute_error: 0.0509 - val_loss: 0.0257 - val_mean_squared_error: 0.0257 - val_mean_absolute_error: 0.0830\n",
            "Epoch 66/100\n",
            "6039/6039 [==============================] - 1s 134us/step - loss: 0.0104 - mean_squared_error: 0.0104 - mean_absolute_error: 0.0497 - val_loss: 0.0215 - val_mean_squared_error: 0.0215 - val_mean_absolute_error: 0.0670\n",
            "Epoch 67/100\n",
            "6039/6039 [==============================] - 1s 134us/step - loss: 0.0108 - mean_squared_error: 0.0108 - mean_absolute_error: 0.0509 - val_loss: 0.0213 - val_mean_squared_error: 0.0213 - val_mean_absolute_error: 0.0725\n",
            "Epoch 68/100\n",
            "6039/6039 [==============================] - 1s 134us/step - loss: 0.0105 - mean_squared_error: 0.0105 - mean_absolute_error: 0.0505 - val_loss: 0.0333 - val_mean_squared_error: 0.0333 - val_mean_absolute_error: 0.0928\n",
            "Epoch 69/100\n",
            "6039/6039 [==============================] - 1s 133us/step - loss: 0.0105 - mean_squared_error: 0.0105 - mean_absolute_error: 0.0510 - val_loss: 0.0230 - val_mean_squared_error: 0.0230 - val_mean_absolute_error: 0.0704\n",
            "Epoch 70/100\n",
            "6039/6039 [==============================] - 1s 131us/step - loss: 0.0108 - mean_squared_error: 0.0108 - mean_absolute_error: 0.0515 - val_loss: 0.0256 - val_mean_squared_error: 0.0256 - val_mean_absolute_error: 0.0739\n",
            "Epoch 71/100\n",
            "6039/6039 [==============================] - 1s 133us/step - loss: 0.0108 - mean_squared_error: 0.0108 - mean_absolute_error: 0.0514 - val_loss: 0.0270 - val_mean_squared_error: 0.0270 - val_mean_absolute_error: 0.0793\n",
            "Epoch 72/100\n",
            "6039/6039 [==============================] - 1s 133us/step - loss: 0.0108 - mean_squared_error: 0.0108 - mean_absolute_error: 0.0510 - val_loss: 0.0249 - val_mean_squared_error: 0.0249 - val_mean_absolute_error: 0.0733\n",
            "Epoch 73/100\n",
            "6039/6039 [==============================] - 1s 134us/step - loss: 0.0106 - mean_squared_error: 0.0106 - mean_absolute_error: 0.0501 - val_loss: 0.0209 - val_mean_squared_error: 0.0209 - val_mean_absolute_error: 0.0646\n",
            "Epoch 74/100\n",
            "6039/6039 [==============================] - 1s 132us/step - loss: 0.0106 - mean_squared_error: 0.0106 - mean_absolute_error: 0.0515 - val_loss: 0.0288 - val_mean_squared_error: 0.0288 - val_mean_absolute_error: 0.0804\n",
            "Epoch 75/100\n",
            "6039/6039 [==============================] - 1s 137us/step - loss: 0.0109 - mean_squared_error: 0.0109 - mean_absolute_error: 0.0518 - val_loss: 0.0245 - val_mean_squared_error: 0.0245 - val_mean_absolute_error: 0.0818\n",
            "Epoch 76/100\n",
            "6039/6039 [==============================] - 1s 133us/step - loss: 0.0107 - mean_squared_error: 0.0107 - mean_absolute_error: 0.0511 - val_loss: 0.0180 - val_mean_squared_error: 0.0180 - val_mean_absolute_error: 0.0651\n",
            "Epoch 77/100\n",
            "6039/6039 [==============================] - 1s 136us/step - loss: 0.0105 - mean_squared_error: 0.0105 - mean_absolute_error: 0.0505 - val_loss: 0.0226 - val_mean_squared_error: 0.0226 - val_mean_absolute_error: 0.0697\n",
            "Epoch 78/100\n",
            "6039/6039 [==============================] - 1s 138us/step - loss: 0.0104 - mean_squared_error: 0.0104 - mean_absolute_error: 0.0502 - val_loss: 0.0263 - val_mean_squared_error: 0.0263 - val_mean_absolute_error: 0.0851\n",
            "Epoch 79/100\n",
            "6039/6039 [==============================] - 1s 134us/step - loss: 0.0106 - mean_squared_error: 0.0106 - mean_absolute_error: 0.0504 - val_loss: 0.0281 - val_mean_squared_error: 0.0281 - val_mean_absolute_error: 0.0811\n",
            "Epoch 80/100\n",
            "6039/6039 [==============================] - 1s 134us/step - loss: 0.0104 - mean_squared_error: 0.0104 - mean_absolute_error: 0.0504 - val_loss: 0.0221 - val_mean_squared_error: 0.0221 - val_mean_absolute_error: 0.0692\n",
            "Epoch 81/100\n",
            "6039/6039 [==============================] - 1s 134us/step - loss: 0.0105 - mean_squared_error: 0.0105 - mean_absolute_error: 0.0499 - val_loss: 0.0327 - val_mean_squared_error: 0.0327 - val_mean_absolute_error: 0.0949\n",
            "Epoch 82/100\n",
            "6039/6039 [==============================] - 1s 135us/step - loss: 0.0107 - mean_squared_error: 0.0107 - mean_absolute_error: 0.0512 - val_loss: 0.0134 - val_mean_squared_error: 0.0134 - val_mean_absolute_error: 0.0789\n",
            "Epoch 83/100\n",
            "6039/6039 [==============================] - 1s 133us/step - loss: 0.0105 - mean_squared_error: 0.0105 - mean_absolute_error: 0.0499 - val_loss: 0.0274 - val_mean_squared_error: 0.0274 - val_mean_absolute_error: 0.0773\n",
            "Epoch 84/100\n",
            "6039/6039 [==============================] - 1s 132us/step - loss: 0.0107 - mean_squared_error: 0.0107 - mean_absolute_error: 0.0510 - val_loss: 0.0300 - val_mean_squared_error: 0.0300 - val_mean_absolute_error: 0.0863\n",
            "Epoch 85/100\n",
            "6039/6039 [==============================] - 1s 133us/step - loss: 0.0107 - mean_squared_error: 0.0107 - mean_absolute_error: 0.0507 - val_loss: 0.0163 - val_mean_squared_error: 0.0163 - val_mean_absolute_error: 0.0603\n",
            "Epoch 86/100\n",
            "6039/6039 [==============================] - 1s 134us/step - loss: 0.0104 - mean_squared_error: 0.0104 - mean_absolute_error: 0.0495 - val_loss: 0.0263 - val_mean_squared_error: 0.0263 - val_mean_absolute_error: 0.0755\n",
            "Epoch 87/100\n",
            "6039/6039 [==============================] - 1s 135us/step - loss: 0.0104 - mean_squared_error: 0.0104 - mean_absolute_error: 0.0503 - val_loss: 0.0302 - val_mean_squared_error: 0.0302 - val_mean_absolute_error: 0.0937\n",
            "Epoch 88/100\n",
            "6039/6039 [==============================] - 1s 134us/step - loss: 0.0104 - mean_squared_error: 0.0104 - mean_absolute_error: 0.0500 - val_loss: 0.0280 - val_mean_squared_error: 0.0280 - val_mean_absolute_error: 0.0811\n",
            "Epoch 89/100\n",
            "6039/6039 [==============================] - 1s 132us/step - loss: 0.0103 - mean_squared_error: 0.0103 - mean_absolute_error: 0.0497 - val_loss: 0.0286 - val_mean_squared_error: 0.0286 - val_mean_absolute_error: 0.0770\n",
            "Epoch 90/100\n",
            "6039/6039 [==============================] - 1s 134us/step - loss: 0.0103 - mean_squared_error: 0.0103 - mean_absolute_error: 0.0502 - val_loss: 0.0206 - val_mean_squared_error: 0.0206 - val_mean_absolute_error: 0.0680\n",
            "Epoch 91/100\n",
            "6039/6039 [==============================] - 1s 135us/step - loss: 0.0106 - mean_squared_error: 0.0106 - mean_absolute_error: 0.0502 - val_loss: 0.0150 - val_mean_squared_error: 0.0150 - val_mean_absolute_error: 0.0730\n",
            "Epoch 92/100\n",
            "6039/6039 [==============================] - 1s 136us/step - loss: 0.0105 - mean_squared_error: 0.0105 - mean_absolute_error: 0.0501 - val_loss: 0.0307 - val_mean_squared_error: 0.0307 - val_mean_absolute_error: 0.0822\n",
            "Epoch 93/100\n",
            "6039/6039 [==============================] - 1s 132us/step - loss: 0.0106 - mean_squared_error: 0.0106 - mean_absolute_error: 0.0503 - val_loss: 0.0173 - val_mean_squared_error: 0.0173 - val_mean_absolute_error: 0.0629\n",
            "Epoch 94/100\n",
            "6039/6039 [==============================] - 1s 135us/step - loss: 0.0106 - mean_squared_error: 0.0106 - mean_absolute_error: 0.0510 - val_loss: 0.0162 - val_mean_squared_error: 0.0162 - val_mean_absolute_error: 0.0729\n",
            "Epoch 95/100\n",
            "6039/6039 [==============================] - 1s 134us/step - loss: 0.0103 - mean_squared_error: 0.0103 - mean_absolute_error: 0.0493 - val_loss: 0.0304 - val_mean_squared_error: 0.0304 - val_mean_absolute_error: 0.0905\n",
            "Epoch 96/100\n",
            "6039/6039 [==============================] - 1s 136us/step - loss: 0.0106 - mean_squared_error: 0.0106 - mean_absolute_error: 0.0502 - val_loss: 0.0267 - val_mean_squared_error: 0.0267 - val_mean_absolute_error: 0.0739\n",
            "Epoch 97/100\n",
            "6039/6039 [==============================] - 1s 133us/step - loss: 0.0103 - mean_squared_error: 0.0103 - mean_absolute_error: 0.0493 - val_loss: 0.0219 - val_mean_squared_error: 0.0219 - val_mean_absolute_error: 0.0719\n",
            "Epoch 98/100\n",
            "6039/6039 [==============================] - 1s 131us/step - loss: 0.0104 - mean_squared_error: 0.0104 - mean_absolute_error: 0.0495 - val_loss: 0.0317 - val_mean_squared_error: 0.0317 - val_mean_absolute_error: 0.0886\n",
            "Epoch 99/100\n",
            "6039/6039 [==============================] - 1s 132us/step - loss: 0.0103 - mean_squared_error: 0.0103 - mean_absolute_error: 0.0495 - val_loss: 0.0243 - val_mean_squared_error: 0.0243 - val_mean_absolute_error: 0.0748\n",
            "Epoch 100/100\n",
            "6039/6039 [==============================] - 1s 133us/step - loss: 0.0106 - mean_squared_error: 0.0106 - mean_absolute_error: 0.0501 - val_loss: 0.0244 - val_mean_squared_error: 0.0244 - val_mean_absolute_error: 0.0782\n"
          ],
          "name": "stdout"
        }
      ]
>>>>>>> 1107e92a820e8c3d9c6e25526417fd15c031a83d
    },
    {
      "metadata": {
        "id": "XGYfo3-eP8L8",
        "colab_type": "code",
<<<<<<< HEAD
        "outputId": "496d1148-30c1-4c57-e7df-6fa52018b01b",
=======
        "outputId": "e3b89eb0-a4a4-468f-a6a6-5f4b9c3e1ca0",
>>>>>>> 1107e92a820e8c3d9c6e25526417fd15c031a83d
        "colab": {
          "base_uri": "https://localhost:8080/",
          "height": 86
        }
      },
      "cell_type": "code",
      "source": [
        "# loss, mse, mae, r2_value = model.evaluate(test_input, test_output)\n",
        "loss, mse, mae = model.evaluate(test_input, test_output)\n",
        "\n",
        "\n",
        "print(\"MSE: \", mse)\n",
        "print(\"MAE: \", mae)\n",
        "# print(\"R2:  \", r2_value)\n",
        "print(\"Loss:\", loss)\n",
        "\n",
        "\n",
        "df = df_backup.copy()\n",
        "\n",
        "df_full = df.copy()\n",
        "\n",
        "for sort in sorts:\n",
        "    print(\"using:\", sort)\n",
        "    df_sort = df.loc[df_full[sort] == 1]\n",
        "    \n",
        "    features = ['t_min', 't_max', 'dlen', 'day']\n",
        "    features.extend(sorts)\n",
        "    data = df_sort[features].values\n",
        "    target = df_sort['state'].values\n",
        "    \n",
        "    blossum_dates_dataset = df_sort.loc[np.logical_and(df_sort['state'] > 0.59, df_sort['state'] < 0.61)]\n",
        "    \n",
        "    predicted_blossum = model.predict(data)\n",
        "    \n",
        "    df_predicted = df_sort.copy()\n",
        "    df_predicted.insert(1, 'new', predicted_blossum)\n",
        "    \n",
        "    blossum_dates_predicted = df_predicted.loc[df_predicted['new'] >= 0.6]\n",
        "    blossum_dates_predicted = blossum_dates_predicted.loc[blossum_dates_predicted.groupby('ID')['new'].idxmin()]\n",
        "    \n",
        "    q = blossum_dates_dataset['ID'].isin(blossum_dates_predicted['ID'])\n",
        "\n",
        "    val = np.mean(np.abs(blossum_dates_dataset['d'].values - blossum_dates_predicted['d'].values))\n",
        "    var = np.std(np.abs(blossum_dates_dataset['d'].values - blossum_dates_predicted['d'].values))\n",
        "    print(\"predicted:\", sum(q),\n",
        "        \"min:\", np.max(blossum_dates_dataset['d'].values - blossum_dates_predicted['d'].values),\n",
        "        \"max:\", np.min(blossum_dates_dataset['d'].values - blossum_dates_predicted['d'].values),\n",
        "        \"abs:\", val,\n",
        "        \"±\",    var)\n",
        "    print(pearsonr(blossum_dates_dataset['d'].values,\n",
        "             blossum_dates_predicted['d'].values))\n",
        "    print('\\n')"
      ],
<<<<<<< HEAD
      "execution_count": 276,
=======
      "execution_count": 49,
>>>>>>> 1107e92a820e8c3d9c6e25526417fd15c031a83d
      "outputs": [
        {
          "output_type": "stream",
          "text": [
<<<<<<< HEAD
            "952/952 [==============================] - 0s 31us/step\n",
            "MSE:  0.013540815378918592\n",
            "MAE:  0.048454537627702\n",
            "Loss: 0.048454537627702\n"
=======
            "2774/2774 [==============================] - 0s 44us/step\n",
            "MSE:  0.026389341431962567\n",
            "MAE:  0.07268274404919654\n",
            "Loss: 0.026389341431962567\n"
>>>>>>> 1107e92a820e8c3d9c6e25526417fd15c031a83d
          ],
          "name": "stdout"
        }
      ]
    },
    {
      "metadata": {
        "id": "V3V6ouyo1Xfu",
        "colab_type": "code",
<<<<<<< HEAD
        "outputId": "9a3dd1cc-6305-42eb-f05e-be962e544487",
=======
        "outputId": "be5f555f-c122-4609-b47d-8b893ef925da",
>>>>>>> 1107e92a820e8c3d9c6e25526417fd15c031a83d
        "colab": {
          "base_uri": "https://localhost:8080/",
          "height": 376
        }
      },
      "cell_type": "code",
      "source": [
        "import matplotlib.pyplot as plt\n",
        "\n",
        "# Plot training & validation accuracy values\n",
        "plt.semilogy(history.history['loss'])\n",
        "plt.semilogy(history.history['val_loss'])\n",
        "plt.title('Model loss')\n",
        "plt.ylabel('Loss')\n",
        "plt.xlabel('Epoch')\n",
        "plt.legend(['Train', 'Test'], loc='upper right')\n",
        "# plt.savefig('mse_sigmoid_sigmoid_sgd_semilogy.png', quality=100, dpi=1000)\n",
        "plt.show()"
      ],
<<<<<<< HEAD
      "execution_count": 277,
=======
      "execution_count": 50,
>>>>>>> 1107e92a820e8c3d9c6e25526417fd15c031a83d
      "outputs": [
        {
          "output_type": "display_data",
          "data": {
<<<<<<< HEAD
            "image/png": "iVBORw0KGgoAAAANSUhEUgAAAgEAAAFnCAYAAAA/o5q7AAAABHNCSVQICAgIfAhkiAAAAAlwSFlz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\nDxVE7+jpAAAAAElFTkSuQmCC\n",
            "text/plain": [
              "<Figure size 576x396 with 1 Axes>"
=======
            "image/png": "iVBORw0KGgoAAAANSUhEUgAAAfUAAAFnCAYAAAC/5tBZAAAABHNCSVQICAgIfAhkiAAAAAlwSFlz\nAAALEgAACxIB0t1+/AAAADl0RVh0U29mdHdhcmUAbWF0cGxvdGxpYiB2ZXJzaW9uIDIuMS4yLCBo\ndHRwOi8vbWF0cGxvdGxpYi5vcmcvNQv5yAAAIABJREFUeJzsnXm4XXV5779r2uPZZ8w5SUgCxKCA\nARpiQWJUkBICKWoHhtSL1NpH9CqKCt7HCwJpDdzaWqSmtL0q9t5qgbQl1wIWUCEUCSkxggxhTCAT\nSU7OfM4+e1zD/WPt35r2mvY+a+2TnP1+noeHnD2s9dtrD+/vnb4vp2maBoIgCIIgjnv42V4AQRAE\nQRDRQEadIAiCIOYIZNQJgiAIYo5ARp0gCIIg5ghk1AmCIAhijkBGnSAIgiDmCGTUCWKOcOqpp+JL\nX/pS3e0333wzTj311IaPd/PNN2PTpk2+j9myZQs+9alPhb6dIIh4IaNOEHOI119/Hfl83vi7Uqng\npZdemsUVEQTRSsioE8Qc4v3vfz9+/vOfG38//fTTOPPMM22PeeSRR3DZZZfhkksuwTXXXIP9+/cD\nAMbGxvDpT38aF154Ia699lpMTU0Zz9m9ezeuvvpqrF27Fh/96Ecb2iiMj4/j+uuvx9q1a7Fu3Tp8\n73vfM+77zne+g7Vr12Lt2rW45pprMDg46Hs7QRD+kFEniDnEpZdeiocfftj4+6c//SkuueQS4+9D\nhw7hlltuwd13341HH30UF1xwAW699VYAwPe//3309PTgiSeewK233oqnn34aAKCqKr7whS/g4x//\nOB577DFs2LABn//85yHLcqg13Xnnnejq6sJjjz2Ge++9F/fddx927tyJN998E48++igefvhhPPbY\nY1izZg22b9/ueTtBEMGQUSeIOcS5556LN998EyMjIygWi3j++eexatUq4/5t27bh/e9/P0466SQA\nwBVXXIFnn30Wsixj586duPTSSwEAixcvxrnnngsAeOuttzAyMoLLL78cAPC+970Pvb29eP7550Ot\n6T//8z/xiU98AgDQ3d2NNWvWYNu2bejs7MTo6CgeeughTExM4JOf/CR+7/d+z/N2giCCIaNOEHMI\nQRBw8cUX45FHHsHWrVvxwQ9+EKIoGvePjY2hs7PT+DuXy0HTNIyNjWFiYgK5XM64jz1ucnISpVIJ\nl156KS655BJccsklGBkZwfj4eKg1jY6O2s7Z2dmJkZERzJ8/H5s2bTIiBtdeey0OHz7seTtBEMGQ\nUSeIOca6devw2GOP4dFHH8W6dets9/X19dmM8cTEBHieR09PDzo7O2159NHRUQDAwMAAstksHn30\nUeO/p59+GmvWrAm1nnnz5tnOOT4+jnnz5gEAzjvvPHzve9/Dtm3bsHDhQnz729/2vZ0gCH/IqBPE\nHOPss8/G0aNH8eabbxohdMbq1auxc+dOHDhwAABw//33Y/Xq1RBFEStWrMAvfvELAMD+/fvx61//\nGgCwaNEiLFiwAI8++igA3dh/9atfRaFQCLWeCy64AJs3bzae+/Of/xwXXHABnn76afzZn/0ZVFVF\nJpPBaaedBo7jPG8nCCIYMfghBEEcT3AchzVr1qBYLILn7fv2BQsWYOPGjfj85z+ParWKxYsX45vf\n/CYA4LOf/Sy+8pWv4MILL8SyZctw8cUXG8e78847sWHDBtx1113geR5/8id/gkwmE2o9X/7yl7Fh\nwwZccskl4Hke1157Lc466yyUy2X89Kc/xdq1a5FIJNDb24s77rgDAwMDrrcTBBEMR/PUCYIgCGJu\nQOF3giAIgpgjkFEnCIIgiDkCGXWCIAiCmCOQUScIgiCIOQIZdYIgCIKYIxz3LW1DQ1PBD2qAnp4M\nxsbC9d8S3tB1jAa6jtFA1zEa6DpGw0yvY39/zvM+8tQdiKIw20uYE9B1jAa6jtFA1zEa6DpGQ5zX\nkYw6QRAEQcwRyKgTBEEQxByBjDpBEARBzBHIqBMEQRDEHIGMOkEQBEHMEcioEwRBEMQcgYw6QRAE\nQcwRjnvxGYIgCIJoNZs2fQevv/4qRkdHUCqVcMIJi9DZ2YU77vgr3+f9x388hBNO6MeKFefFsi4y\n6gRBEATRIF/84lcA6Eb6rbf24LrrvhzqeevWfRT9/bnI1VAZsRr1O+64Ay+88AI4jsNNN92Es846\ny7jvmWeewZ133glBEPDhD38YX/jCFwAADz74IH7wgx9AFEV86UtfwgUXXBDnEgmCIAgiEp57bifu\nv//HKBQKuO66r+D553+NJ598HKqqYtWq1fj0p6/FPff8byxevAD9/YuwZcu/gON47Nv3Ni644Hfw\n6U9fO+M1xGbUd+zYgX379mHz5s3Ys2cPbrrpJmzevNm4f+PGjbjnnnswf/58XH311Vi7di36+vpw\n991344EHHkChUMCmTZvmnFH/9eBvsKx7KbqTXbO9FIIgiDnBvzyxG7967WikxzzntAFceeEpDT9v\nz57duO++LUgkEnj++V/j7/7uB+B5Hlde+XFcddUnbI995ZVduPfeB6CqKq644qPHtlHfvn07Lrro\nIgDAsmXLMDExgXw+j46ODhw4cABdXV1YuHAhAOD888/H9u3b0dfXh1WrVqGjowMdHR345je/Gdfy\nZoWjhWH8cNe9uHDJh/CH7/7obC+HIAiCiJhTTnk3EokEACCVSuG6666FIAgYHx/H5OSk7bGnnnoa\nUqlUpOePzagPDw9j+fLlxt+9vb0YGhpCR0cHhoaG0Nvba7vvwIEDKBaLKJVK+NznPofJyUl88Ytf\nxKpVq+JaYsspykUAQFkpz/JKCIIg5g5XXnhKU151HEiSBAA4cuQwNm/+Z/zwh/+MTCaDT37yyrrH\nCkL0g11aViinaVqox42Pj+Nv//ZvcejQIVxzzTXYunUrOI7zfHxPTybyiTd+Y+1mwgj03ZuUEGI7\nx7FEO7zGVkDXMRroOkYDXUc7uVwKmUwC/f05dHdnkExK6O/PYXBwH/r75+Gkk+Zj165dGBw8glwu\ngWw2CQC2xwIAx3GRXNvYjPrAwACGh4eNv48ePYr+/n7X+wYHBzEwMIB0Oo2zzz4boijixBNPRDab\nxejoKPr6+jzPE/Vs3zirEodG9dDLdLEc2zmOFeK8ju0EXcdooOsYDXQd65maKqFQqGBoaArj4wWU\ny1UMDU1h3rzFkKQkLr/8Cpx55gp87GN/gJtvvhVnnfVb6OmB7bGA7viGvbZ+xj82o7569Wps2rQJ\n69evx65duzAwMICOjg4AwOLFi5HP53Hw4EEsWLAAW7duxbe//W1kMhl8/etfx2c+8xlMTEygUCig\np6cnriW2nKpaBQComjLLKyEIgiCiYN06sz5q5crfxsqVvw1AD63feeffuj6HbY7YYwHgpz99PJL1\nxGbUV65cieXLl2P9+vXgOA633XYbtmzZglwuhzVr1mDDhg244YYbAADr1q3D0qVLAQBr167FlVfq\nuYdvfOMb4Pm5I3pXVWUAgKqps7wSgiAIYi4Sa079xhtvtP192mmnGf8+55xzbC1ujPXr12P9+vVx\nLmvWqCq6p66QUScIgiBiYO64wccBFH4nCIIg4oSMegth4Xfy1AmCIIg4IKPeQmTKqRMEQRAxQka9\nhbDwu9LC8HtRLuG5oy/SRoIgCKINoCltLWQ2qt+3H/4VHnjzIXz57M/i3T3LWnZegiCIuUyzo1cZ\nhw8fwsTEOE477b2RrouMegsxPfXWGfViVZemLZE0LUEQRGQ0O3qVsXPnDiiKTEb9eGY2PHW5FupX\nVKq4JwiCiJu/+7vvYteul6CqCi6//I/wO7+zBtu3b8MPf/i/kUgkMW/ePNx66zfwf/7PDyBJCQwM\nLMAHPvDByM5PRr2FyEqt+r2FBlY2Ku7JqBMEMTfZsvthPH/0pUiPefbAmfiDUy5r6DnPPbcTY2Oj\nuPvu76NcLuFP//QafOhD5+OBBzbj+utvxBlnnIWtW38BSZKwdu06DAwMRGrQATLqLcXsU2+hp17b\nQFAbHUEQRLy89NILeOmlF3DddfpcdFVVMDo6go985CJ861sbcfHF67BmzVrfeSYzhYx6C2km/P7i\n0C6o0LCi/4ymzml46hR+JwhijvIHp1zWsFcdB5Ik4WMf+3184hPX2G7/3d/9GFatWo2nnnoSX/va\n9fiHf/j72NZALW0tpJlCuQd2P4wH3nyo6XOysDuF3wmCIOLlve89A9u2/RKqqqJUKuGuu74NAPjH\nf/w+Eokkfu/3/hAXXPA72LNnD3ieh6JE/7tMnnoLaaZPvapUoIacRe+GTCp2BEEQLWHFipU444yz\n8NnP/gkADX/4h1cBAPr7B/ClL30OuVwnurq68OUvX4dCQcb/+l9/jq6ublx00drI1kBGvYU0E36X\nNWVmRt2ofpebPgZBEAThjnX0KgD89//+xbrHXHbZx3HZZR83/k6lUjjvvA/g3//90cjXQ0a9hTQj\nE6uo6owGwJCnThAE0T6QUW8hzeTUFU2ekUGmljaCIIj2gQrlWkhVadzAyqoCVVObboMzWtqo+p0g\nCGLOQ0a9hTTap65qKjTo+fRmvXVZo/A7QRBEu0BGvYU0mlOXLd51s4VuFH4nCIJoH8iot5CKxVPX\nQlS0K5ppyOUmjbKiUp86QRBEu0BGvUUotdw4I4y3bvfUmzPKpqIchd8JgiDmOmTUW4TT0w6T47Z6\n13KzRr1NFeVKcpmKAwmCaDvIqLcIViTHCNN7bjVK1lB8I7RrTv2OHd/B/33l/tleBkEQREuhPvUW\nUVWcRj1E+D0KT91oaWuf8LumaRgpjSIjpWd7KQRBEC2FPPUWUXVUr4cKv1sMudysp66xivv28dTZ\nhqni2EgRBEHMdciotwi5zqgHG1mrIW8mP6xpWltWv7PXWlEqs7wSgiCI1kJGvUXU59Qb9NSbMOp2\n8Zr2MersWpFRJwii3SCj3iKc4feGW9qaMMrWc7ZTTp1dq7JKRp0giPaCjHqLcHrqYcLp9pa2xnPq\n1ue3k6fOXqusyk1r5hMEQRyPkFFvEfU59cb61JsxytZztpVRt0QlKARPEEQ7QUa9RbBKbJ7TL3mj\n4fdmcup2Rbr28VitG5gyVcATBNFGkFFvEcxrTgoJACEL5WbqqWvt6alb2/fIUycIop0go25hojyJ\n/ePvxHJsllNPCkkAIVvaLOHz5jz19jTq1mtVoWI5giDaCDLqFu597QHc+sRfx3LsquGpM6PeWEtb\nMzKx9ue3Z/idPHWCINoJMuoWKkoFhWoxlopp5qmnaka9FTKx1vC72kbDTawbmDIZdYIg2ggy6hYE\nXgDQ/JhTP6rN5NRn2KferuF363UjT50giHaCjLoFgdONunNMahQYhXJi+Jz6TEevyhR+R0Wl6neC\nINoHMuoWDE89BqPOprQ17ak3IT5j89TbKvxOnjpBEO0JGXULIhdn+N2eUw/jOVtz4s1ED+R2VZSz\nvH+UUycIop0go26B52L01B3h98Y9dcqph8W6YSJPnSCIdoKMugWB1y9HHOprsrOlLYSRtlW/N1Uo\nRzl1yqkTBNFOkFG3YITfm+gJD6KiUk69VVD1O0EQ7QoZdQtmoVx8nnpjOfWZeepWj1WD1jYTy6hP\nnSCIdkWM8+B33HEHXnjhBXAch5tuuglnnXWWcd8zzzyDO++8E4Ig4MMf/jC+8IUv4Nlnn8X111+P\nd7/73QCA97znPbjlllviXKINoQWFcgnDUw/R0mYb6DIzTx3QjR0bKDOXsUZayFMnCKKdiM2o79ix\nA/v27cPmzZuxZ88e3HTTTdi8ebNx/8aNG3HPPfdg/vz5uPrqq7F27VoAwLnnnovvfve7cS3Llzj7\n1KuqDIkXzY1DowNdZtCnLnICZE2BoiqQePtbrmoqXhx+Baf2nIK0mGr4HMcittGrlFMnCKKNiM1t\n2759Oy666CIAwLJlyzAxMYF8Pg8AOHDgALq6urBw4ULwPI/zzz8f27dvj2spoYlVUU6pQuQlCA2N\nXp1pS5u9OM8tOvDWxD58/6V/wjOHdjR8/GMV6lMnCKJdic2oDw8Po6enx/i7t7cXQ0NDAIChoSH0\n9va63rd792587nOfwx/90R9h27ZtcS3PFTHGljZZlZHgxYYEbmbuqetGnYX83aIDRbkIAMhXpxs+\n/rGKfZ46GXWCINqHWHPqVjRNC3zMySefjOuuuw6XXnopDhw4gGuuuQY/+9nPkEgkPJ/T05OBKAqR\nrLFzOAMA6OhMoL8/F8kxGQqnICkl0NOdBQCkM1LgOXiJM/8touE1JQ7oe7ZMMoWxMtDdk0Zvxn6M\nbFm/tnxCi/w1R328sKSOmh9rjVNmbR1Rcbyv/1iBrmM00HWMhriuY2xGfWBgAMPDw8bfR48eRX9/\nv+t9g4ODGBgYwPz587Fu3ToAwIknnoh58+ZhcHAQS5Ys8TzP2FghsjUXC3r+dXQsjyFxKrLjAkC5\nWkGHlMXUZBkAMDlVxNCQ/zmKpbL573I58PFOJgu6Fy5qEgDg6PAElLR9AzQ6ph9zPJ9v+Ph+9Pfn\nIj1eI0zmzc/EdCX4Oh/LzOZ1nEvQdYwGuo7RMNPr6LchiC38vnr1ajz22GMAgF27dmFgYAAdHR0A\ngMWLFyOfz+PgwYOQZRlbt27F6tWr8eCDD+Kee+4BoIfoR0ZGMH/+/LiWWIfI6XuceArlqrVCOZZT\nDyE+UwufC7VCt0Yxw++6UXcL+bPjzqXcs11RjgrlCIJoH2Lz1FeuXInly5dj/fr14DgOt912G7Zs\n2YJcLoc1a9Zgw4YNuOGGGwAA69atw9KlS9Hf348bb7wRjz/+OKrVKjZs2OAbeo8apigXx+zxqipD\nEiRDijaU+EytBU3ipaZy6uw5SZ/eePaYuZR7Ju13giDalVhz6jfeeKPt79NOO8349znnnGNrcQOA\njo4O/MM//EOcS/KlkXazRlBUBaqm2qrfQ7W0qQoEToDIz8xTZyp2bhsDdtyyUq6773iFRSQkXkSV\njDpBEG3E3FciaQCzTz1amVg2zEXiRUP8JUz1u6zJEDgBAic0JxOrOYy6yznZcedi+D0tpo3+fIIg\niHaAjLoFs089Wk9dNox6g+F3VYHI1zz1GYjP+IXf5Tkcfk+LaQBARZ07r40gCMIPMuoW4upTZxKx\n9kK5cNrvAidA4IWm1lTXp+4aftcf00qjvm/yAP71jX+PTYueXatMzajPpQ0LQRCEH2TULTQiDNMI\n1vB7ozl1kRcgcmLTMrFsU6Cf0y383npPffvhnXjy4DYcyh+J5fjsdTLZW6qAJwiiXSCjboGPaaAL\n89RFS/g9dE6d141yM3l+hT3fpwDQWigXRiAoClgEIS5ddjP8zow6eeoEQbQHZNQtxBV+N3Lqglko\nFyb0rKoqRE6EyAlNe+oS598bz46ramos/fle6wJ0Pfw4MArlJMqpEwTRXpBRtxDXQJeqpVDO6IUP\nlVO3eupKw540e75Ym8zm9rqqszCmlI1GrcblqVNOnSCINoWMuoVG8t2NwDzShkevsj71mtJdo4Vl\nsqpAtOXxvT11oHW96uycrQu/U06dIIj2gIy6BeapR9+nzoy6ZIbfA6IBmqbZqt/1dTUWQZBVGWJQ\nTn0W1NfY64gv/E45dYIg2hMy6hYM4xdxn7q7+Iz/OZhXLtrC541tNhRVgciJ4H3SCspshN8NTz2e\n8ymaAp7jjf58MuoEQbQLZNQtCDEXyukyseHEZ5g3K/CCUcDXqKde1Zin7h1+l2ch/M4iIbF56qoK\ngeON/vwyFcoRBNEmkFG3IMZUKFdpQnyGeeUiJzZdwKeH3/3z+NZUQ6vC77Hn1GtpiySvG3XKqRME\n0S6QUbcQt6cuCRI4jgt1DmaArZ56tYHwu6qpUDU1tPgMMLdy6gIvQKqNnKXwO0EQ7QIZdQvxKcqZ\nnjrP8eDABebUjZA9J0BgOfUG1sWMta363U0mdo5WvwucYAyyIaNOEES7QEbdghCXopylpQ3QNw+B\n4XeWU+csOfUG1sXC6kHhd+tGoXWeesyKcrXwu5FTJ6NOEESbQEbdgl9B2Uywis8AAM/xrupuVpgB\nZ+Iz+rrCh9/Z80VO8E0ryOrsVb/HqSgncDwStetNinIEQbQLZNQtmGHueEavijUjI3B84DmYARb5\nJj111eKp+xTaybPhqbci/M5bw+9UKEcQRHtARt0C89TlBvvBg7Dm1AHdUw+bU7cVujVk1F1y6q6F\nctbq9xbl1FtRKGcJv1NOnSCIdoGMugWe48FxwUVsjWIVnwF0Qx0Ufjc9ddGQiW2kT52F6u1T2oIK\n5eaIp16rfhdrhYmUUycIol0go+5A5JubXe6H4akLlpx6gGodW4PdUw8fQajWni/Z+tzdC+XSLR58\nosQuPqMYG5kEn6CcOkEQbQMZdQciJ8RYKMc89RDhd0tOvRntdyN8H6goJyNrGPUWKcrFLhOrGq85\nKUgUficIom0go+5A4KM36s5CuTDV71ZPXWyi1c4avuf9wu+agrSYAgeuJcZPURVo0EfIxjF6VdVU\naNBMT11IkFEnCKJtIKPuQOSF6GVilSo4cIZxFjghtKeut7Q1nlOXrTKzPoNqFFWByEtICFJLwu/W\njUUcVemKpRUQ0I16marfCYJoE8ioO4jLUxd50ZCI1T31sNrvVk+9kT51Fh0QIPBMb97+ujRNg6Ip\nEHmhZvziD79bC/Pi8NStoj0A5dQJgmgvyKg7EHkxhur3qpFPB1hOvXHxmYY8dUv43av63WoAk0Ky\nJf3ccXvq1ggHACSFBFRNjbxNkSAI4liEjLoDkRNi6VO3GnWeCy8TK3JiUzl1m6fuYdStAjXJlnnq\n5rWtqlVomhbp8VmKgRXKUa86QRDtBBl1B3r4Pfo+dSYRq58jvKKcNafeUKGcUWjn3dJmrbDXjXol\nciNbty7HxqKRyXNhUJ3h91obIfWqtwZN0yKvSSEIIjxk1B2IceXUBdOos5y6nwG1arcbMrENab9b\nPXX3ljZrhX1SSOph6ohfe/26nEY92hC8W04diE/ohrDz/3b/FLdt/xYZdoKYJcioOxBiqH53C78D\n8A3B2z31xsPvVdcpbc7wu5l3TxoTzeINwdd76hEbdbU+pw5Q+L1VvJM/jLHyOPLVwmwvhSDaEjLq\nDpinHmUYui78zrFqdG+jLlu8aKmJljbF4ulzHKfrzdeF3019eWNMqRyv8XPWK0RtbFlaw9qnDlD4\nvVWwToOiXJzllRBEe0JG3YHIB3vRjaCoClRNrat+B/ynwSluhW5NTmlj5/QKv+ueehJA/GNK486p\nGxsVnhXK1cavklFvCayjgYw6QcwOYvBD2gtrqFqAMOPjOSVigXDhd6M1ixONjUZT4jOWITJ14XfN\n3DjwtY1G3OF3Z049ck9ddffUKafeGtj7WZRLs7wSgmhPyFN3YOSvIyoYYzljkbcXygWdw/SiBQhs\nSlsj4jOWynbAXcXOWijXqvC79ZxA/IVySZ5y6q2EbZ7IUyeI2YGMugPm2To9ymaRDU+9sZy61TgZ\nnnoz4ffahoDneaiqV6GcYBaUxRx+Z9GBtJjSzxexAI3Z0mbvU6ecemtgm6cCeeoEMSuQUXcQl6fe\nbPjdOqVNaailzV4F7h9+N3PqZTnm6vfaugyjHnn1ey38XrvelFNvLeSpE8TsQkbdgegh1NIsRk5d\naLRQTjd+fNNT2txy6t7h92SLPFq2WWEz3KOeqW5W9DsV5SinHjdWOV7KqRPE7EBG3YFhQBvwiv0w\nPfXGcurW0HhzU9pMmVmgpmLnDL9b9OENox539XvcnjpraXP2qdNQl9ixbpwK5KkTxKxARt2BGeqO\nyFNXXKrf+TA5deZxzlz7XT9Offidtc0xRTmgBX3qRk6deepRV7+7K8pRTj1+rBunYjWcUS/JZWw9\n8HTkrY0E0a6QUXcgNqGz7odpXK2FciEU5SyeOvPsG5KJtXjh7JzeinKW6ve4FeXqPPVof8yVukI5\n/bpHvXkg6rF66mHD778e/A3+7c0H8fzRF+NaFkG0FWTUHbSiUM5Li92KbKl+5zgOIteYfK17n7q7\nopw1/B5/9bvdqEff0uYslCNPvVVYixHDFsqxMP1QcSSWNRFEu0FG3YEYm1F3yan7FONZPXVA32w0\nKxOrP78+p+4c6AK0rk89Uwu/R12Vrqp2T51y6q3DukEL29LGNlujpbFY1kQQ7QYZdQfN9IT74a4o\n11ifOqAXvDU00EWVwYEzziVwAjRotnM6R68CrVCU069HyvDUo5aJ9cqpU/V73DTjqbPnjBbJqBNE\nFMRq1O+44w5cddVVWL9+PV580Z4ze+aZZ3D55Zfjqquuwt133227r1Qq4aKLLsKWLVviXJ4rXhPN\nmsXNqJs5df/qd57jwXGc/hxeaDCnLkPkBfP5XH0BoGtLW4vC73F56tbpduz/AidQTr0FWDsZwhp1\n9nkjT50goiE2o75jxw7s27cPmzdvxu23347bb7/ddv/GjRuxadMm3Hfffdi2bRt2795t3Pf3f//3\n6OrqimtpvjQz5tQPI/wu1CvK+fapa7IROtef01hOXVEVQ14WMCvurcewjl6VeAkcuJaF31Nx5dQd\n4XdAz6tTTj1+rNe4qsqhNAjY5220PB7ZECWCaGdiM+rbt2/HRRddBABYtmwZJiYmkM/nAQAHDhxA\nV1cXFi5cCJ7ncf7552P79u0AgD179mD37t244IIL4lqaL0b1e0SeuqzUV7/zIYy6rCpGsZf+fKFh\nmViWSgDcowPWQjmO45AQJFTiDr/XzpmJSSbWOXoV0PPqpCgXP04jXlSC8+qs1kHVVEyUJ2NZF0G0\nE7EZ9eHhYfT09Bh/9/b2YmhoCAAwNDSE3t5e1/u+9a1v4etf/3pcywpEjLpP3VUmluXUfQa6aIrd\nU+fFhjYaulGvD/l7hd8BICkkWyY+k2J96jENdLFuaBK8FPvrIkwDnaoVXYbpVbdutkZL4/EsjCDa\niJaNXtU0LfAxP/nJT7BixQosWbIk9HF7ejIQxZmPSGWIk/qxsh0S+vtzMz6edEg34P29neifpx+v\nazQDAOjIJT3PoXEqEqK5hpQkYaKihF6TxmlICubzM2n9h7a7J43ejH6bdLC2tr5O9PfkkEmkUFYq\nkbxuAK7HEffq51zY3wOB46FUlBeuAAAgAElEQVTxamTnA4DUEf396+vJma89mcJUPh/peVrJ8bLu\nxKj+3vZmunFoahDJHI/+Pv+1q7y5Ua1KxVhf6/FyHY916DpGQ1zXMTajPjAwgOHhYePvo0ePor+/\n3/W+wcFBDAwM4Mknn8SBAwfw5JNP4siRI0gkEliwYAE+8IEPeJ5nbKwQ6bqZ1zo6MY2hoakZH28i\nPw0AmJ6sYkjTj1co6N7p2MQ0hpLu56jIek6drUFTOciKHHpNZbkCScoaj5cruod+dHgCSlp/jflp\n3ZOaHC9hSJ6CABHFylQkr7u/P+d6nOmCHpKdGCtB4iUUyqVIzseYzNde00QZQ9CPy2siSnIZR49O\nGoWDxwte1/FYZHRCT691CB0ABnFoaATd6jzf5+RL5vd379BhnJaN57UeT9fxWIauYzTM9Dr6bQhi\nM+qrV6/Gpk2bsH79euzatQsDAwPo6OgAACxevBj5fB4HDx7EggULsHXrVnz729/G1VdfbTx/06ZN\nWLRoka9BjwNWKOccU9os7tXvfOA5FFVBUkoaf4tcozl1xXgt+jnrq/plRy98UkiiolagaVpsxs8q\nXysJUuT942b1u5lZSgoJaNAgq7KtYJGIFvZediU7AYSrgLeH36kCniBmSmxGfeXKlVi+fDnWr18P\njuNw2223YcuWLcjlclizZg02bNiAG264AQCwbt06LF26NK6lNETkhXIuMrGhCuU0xV7oxotGnznP\nBZdCKJozp15/TtkxyS0pJIxJW3EZP2vLWYKXDG38yI6v1hfKJWrXvqxWyKjHCDPQzKiHEaCpKBV0\nJXKYqEyRUSeICIg1p37jjTfa/j7ttNOMf59zzjnYvHmz53O/+MUvxrYuPwzxmYgV5RJCo9rvsq0t\nyyqKkxD8jbqmaZBVxZjQBri36pmFcqZRB/TWpLiMn2xRupOEBKYq0YbynKI9gCkVW1WqANn02GCd\nDN1JvR21FMKol5Uq+tI9kDWFjDpBRAApyjmIq09dbFBRTtbsfebMQIcZCatqKjRori1ttvC7Vh9+\nB+LVSTc9dREJXox8nrpr9Tvpv7cEZ/g9aPyqpmkoK2UkhST6Uj0YLY2FKqglCMIbMuoOItd+dxm9\nGjTQRdVUqJrqCL+Hl691TmjTz+nW0ibb7muFVKxsnJOHxCdQVeVIf8idbXqARf+djHqssA1aV4Ll\n1P09dVmVoUFDUkigN9WDqipjqpqPfZ0EMZcho+7AMH4RFspx4GxGhncxsFbcBFRYz7ocQivdOaEN\ncI9AOAvlWuHRKpouf8tzPBKCZBSwRXl8wLzGgCWnTkY9VphMbNhCOaYdkKgZdYCK5QhippBRdxCH\n+IxUU2xjCAHhd8VSIW48p4EIgjVv7Tyn4qIo5/TU4/Ro9Vy/fj42uS5KARpz9KpdJhawa5MT0VNR\nKuDAIZfQu1yCwu/sc5bgTaM+EjDYRdM0PPL2L7B3cn8EKyaIuQcZdQfMu21keIofsirbxq4CwTl1\n50xwwOqphzHqLp66h6KcyJlDX8ycenzhd0VTLLPO9esSpbF1C78nKPzeEipKBQlBQoKXwHM8ilX/\n8DuLnCTF8J76eHkCD7/9Mzyx/5fRLJog5hhk1B2YferReepW4woET4Jz9bQbaLUzW9XqPX3VUSgn\ntLigzM1Tj1L/3SiUsxl1dh4y6nFSUatICAlwHIeMmA4Mv7P3I8kn0GcYdX+pWPbZzFenI1gxQcw9\nyKg7iLxQzqXnO6hPnVW4803m1J2tavq/3VvarG1vrQi/K6psbCSYsY0n/G4plOOp+r0VVJSqMb8+\nLaaCc+qKW0591Pc57LNSqEarJEkQcwUy6g4aqTIPA8upu53DK/zuLGCzPidcTt3FU3fLqVsMLNCi\n6nctZk+9VpjIc245dTLqcVJRK8ZGLS2mA8Vn2OcsKSSQkdJIi6lAT50Z9emQ89oJot0go+5ADAiN\nN0pVleuMenBO3VRdc64rXEtbuJy6rlpn9dRb0KduGSmbMArlojufoqk20R6AcuqtwuqpZ8Q0qmrV\nkEl2f3wt/F57f3pTPRgpjfq2OLINIHnqBOEOGXUHccjEio5COcNr9jDQvjn1UIVy9c/nXRXlZNtj\nkq3IqWvmnHdJiCenzls2Q4DVqFP1e1yomoqqWrV46ikA/qpyZYWpLTKj3o2yUvGtmmeeekkpR9Z2\nShBzCTLqDlgrVBQ/GIqqQNVUwyNlBHvqtVYzq6duyNc22afu2tI2W4VyzFOPvtVMURVb5TvQms1K\nu2MMLrKE3wH/traKJacOAL2pXgD+FfDWjVlQyxxBtCNk1B0IEfapu0nEAu6hcCtsKIkYUOjmhaHa\n5ioTW9/SxmhdSxvz1PXXF6VUrKKpttcEWDcPZNTjwtpzDgBpSffU/YrlzJy6/rnrTXUDAEZ8jLq1\nqHKaQvAEUQcZdQdR9qm7jV0FrJ66u4H299SblIl1KbTTUwOtq3435G9rRpcZgEir3x3FfwDl1FsB\n86DZZyhT89T9etWdOfW+hj11MuoE4YSMugNmcKLoU5cdIUlGUEub7CKgwtrTGvHUJc4l/F57vqZp\ndeH3uMPURqudM6cecUtbfaEc9anHDSt2bCT8bsrE6s9hnrqfUSdPnSD8IaPuoJHWsSCYsapraQtZ\n/S42nVOvr553ht/Zua0hfomXwIGLLfzunApnVL9HXChHOfXWwzxo9p6yQjm/8LtVfAaA2avuIxVL\nRp0g/CGj7oDj9B7nKPrUzYI1L0/dv/rd7qmHz6krvi1t+vNll7Y5juOQFBKxebROURyjTz1ST72+\n+p3neIi8SNrvMcKubcIZfvetfmcysXpOvUPKIsFL/p66NfxORp0g6iCj7oLACZF46lUvTz1AfMZt\noEtDOXXVO6eu1u4zzuEsKhMSsXm0TvlaQ1EuUvGZ+kI5QPcGKfweH2ahXAPhd0dxHcdxtV51n5y6\n1VOn6neCqIOMugsiH5FRN2apN5hT1+werf7vxqvf3ae06eesuhh+QA9VxxV+dw5bictTd4bfAT3X\nS0Y9PpztaWb4PXyhHAD0pntQkIue/e3Wzwp56gRRTyij/vLLL2Pr1q0AgO985zv44z/+Y+zcuTPW\nhc0mAidE0qf+Tv4wAHO+tHn8oOp3t5x6rSq/EfEZn/C7W4U9oLcXlWMSaanLqcfhqWuKbewqQ08r\nUPg9ro2NGX7X39OMxMLv/jl1gRNsn8HegMEu1s8K5dQJop5QRn3jxo1YunQpdu7ciZdeegm33HIL\nvvvd78a9tllD4PhIPPXnjr4IDhzOmrfcdjsf2Kfuk1MPUyjnllN3FAC6qc4BLPxe9pXqbJb6nHq0\n/eOapkHVVFdPPSEkjGrrduXg1CHc8NSteO7oi5Efu65PPWRO3eqlA0BfsjZX3WOwi7VQjsRnCKKe\nUEY9mUzi5JNPxuOPP44rr7wSp5xyCngXb2iuIPDijAvlxssTeGtiL5Z1n4yuZM5+fOape7TNuRWx\nNeKpu28KeNvzTX35+vC7Bs1Xs7tZ6nPqNfGZiMLvxmtyM+q8hKpSjWWzcrwwVByBqqk4WhiK/NhO\nT92YqR6QU084jDpraxvz8tSp+p0gfAllmYvFIh555BH84he/wAc/+EGMj49jcnIy7rXNGgLHe4bG\nw/Kboy9Dg4azB86quy+o+l1x8aIbGQnrJhPLO6vfPTx1pu4VR5jWudkwlN4iCouzyIfbhjMR42bl\neIEZxCjTHQyzpc0sessETGqruHjqGSkDAJ7PY+fJSR2UUycIF0IZ9a9+9at46KGH8JWvfAUdHR34\n0Y9+hE996lMxL2320KvfZyY+w0LvZ/efWXcfz/HgwAWOXnXrMw8zT72qsQI9t5Y41XYct0I5IB6p\nWOdIWYEXwHN8dJ66sVER6+5rxaz4Yx32nsexsakqdvEZoDZTveovPuP01IPU/6pqFTzHI5fooOp3\ngnCh/tfPhfPOOw9nnHEGOjo6MDw8jFWrVmHlypVxr23WEHhhRuF3e+i90/UxPMcHDnRx89QbC79b\nc+r24jy38a5AvEItiktVPwuLR3v8+r0qy9+XlQo6kI3kfI2gair+6ZXNOKt/OVa6RG9aQdUw6tF7\n6k51OEDPq0+U3SN6qqa6eurG5suj/qGqVJHgJWSlDA5NH6mN8q1PtxBEuxLKU//mN7+JRx55BOPj\n41i/fj1+/OMfY8OGDTEvbfaYaZ+6X+jdPAcfLBNrq14PPxJWdulzrxOf8ehTj3Omutu6JF6KrKXN\na6MCAEkh+tntTopyyTNnP1GexK8Gn8f2w7+K7fxBMGMehwiPof3Om0Y6I6ZRUauu0SW2wWjUU6+o\nMiReMsL0foV4BNGOhDLqr7zyCq644go88sgj+P3f/33cdddd2LdvX9xrmzVm2qfuF3pn8D4bB6Ol\nzdVTb3b0qrOlzd0AMk8rjvC72zkTghRdTt2lQNA8T7xSsXsn9+N//HIDnh96yfV+ZsS8PNdWYITf\n48ypW4y0X6+6UyKWERQpqigVSIKEbK26fpqGuhCEjVBGnXkfTz75JC688EIAQKUyd3OTAidA1dSm\nKqUnypOBoXf9HH7hd5eceiOFci597sbznTn1lnrq9ZsViZdiqH53L5QD4supP3f0RaiaisFp98py\n+Rgw6syYh9kYNnxs1S2n7t2rzjaNdZ46EyTy2HhU1SokXkJW0lMoVCxHEHZCGfWlS5di3bp1mJ6e\nxumnn46f/OQn6Orqintts4bTq22E54deCgy9A/45dTftd5ELn1M3DbbLlDZn9btHoVws1e9ennpk\nRl2tHd+lUM7oiY9HgObVkTcAeOer2e356vSsVeCz88YZfk/w4Tx1Q/e9tolkhCmUS/CiIW5DbW0E\nYSdUodzGjRvxxhtvYNmyZQCAU045BX/5l38Z68JmE9MrVsNdIAvPhwi9s3MEic/YPe3Gc+ruU9qC\nwu9xVr/XbzYkS/84x3EzOr4ZfncplDPSCtFvVsbLEzg0fQSAn1E3DflkeRJ96d7I1xFEnIVyrLDN\nOufAT//dTSIW0DeZPMe7vk+aprckSkICWZG1vh17FfCKquAHL/8Yvz1/Bd43/7dmezlEmxHKZpVK\nJTzxxBP4m7/5G3AchxUrVuCUU06Je22zhtn+JQOOHx0/JsqT2DO+F+/q8g+9A7qn7iVFy0Ra3MVj\ngr08RVPAc7zRDw+Y0+fM8Lt7+1dLwu82T13vH5c1xTb/vRn8xGeY8Ygjn8y8dMD7/bEa0onK7Bh1\n2ehTjz5SUFEqSPCSbWOWloI9dWu1PCMpJFyr3xVNgaqpSFgK5Y5FT32oOIIXh3eB5zgy6kTLCRV+\nv+WWW5DP57F+/XpceeWVGB4exje+8Y241zZrOIefhOXNsT3QoOG3+pcHPta3pc0lNM6MdFhP3RlW\nB+zyt97a760Iv9s9dcDsc47m+K0tlHt11DTqXqFtq7Efn6W8eqyeulKty48b41ddetVNo16/aU54\nTNQzph4KIrK18PuxmFNn0YN8dXqWV0K0I6Fco+HhYdx5553G3x/5yEfwyU9+MrZFzTZCA5XmVkq1\nkHUu0RF8Do5HOXBKm904iVy4/nlZVVzHj1pb9bwV5eIzfm7FeSxcW1GryMzw+H7hd6MAK+KWNlVT\n8drom0jUWvO8PXXz9tkqlos3/F5v1FlO3T/8nqy7z2tSYMUy9TBTC78fiwI0bKORPwY3HDNh+6Ff\ngR/V8P7ec2d7KYQPoWVii0Xzy1MoFFAuxzOe81jAzD835qmzH03nqFWvcwRVv4sOj1PgxZDV716e\nupnH91aU039ki0r0/b/uhXLRScUahXI+LW1RRyD2Tx3EtFzA6b3vAeCt1mYN+8+WUTfC7zEU6rHw\nuxW/oS5eOXVAr39wmxTINiMJPoGsEX4/9rxhtomZrhx7a5sJj+57Av+66+HZXgYRQChP/aqrrsKl\nl16KM844AwCwa9cuXH/99bEubDZptvpdNox68GX1C6V79Vs35Km7rIHneah1A13s5+hI6K1CceQq\nvVragGi8R3/xmWh15hksn35W/3K8MLzLM2dvfX2zHn6Po09drdblxzN+LW2qd/id5dSdxZMVixSt\noRHvI0M7W7A1TcsFqJpqq205npmuTqOs1L8vxLFFKKN++eWXY/Xq1di1axc4jsMtt9yCH/3oR3Gv\nbdYwhqc0KBXLfrjdDKoTPoSinPPHQOAFvXgvAEWVXcOaYcLvrKo4Di/DLaduzFSPwqjPgvjMK6Nv\ngAOHM/pOBxCu+n2iPBHpGsISl6KcpmmoKlVDipfhF34vy+7iM4DuiauaCkVTbIWcRk6dF5HgJYi8\neEyKzxRqa1I1FUW5ZEQVjmcUVTEiLlEUtRLxEfqdWbhwIRYuXGj8/eKL0c9kPlZo3lPXHx8u/O4v\nPiNyQt1uWOQEI98etI6s5BV+9x+9KvAC0mI6liIf95y6v9hIQ8f3Hb0a7ex2QPdA907ux0mdS9CR\nyNYiKe6bLuvtE5XZz6lH6W1VVRkatDpP3Tf8XnsfkqK7pw7onrl1g2xIy9aq7LNi+pgulAP0Yrm5\nYNStm6eKUgkVjSRmh6bjQnN5LrWXetveyf3451f/zdODt3oSQfB+OXVVdg0hC7wYKnpQ1eS6fLz+\nfLONzk2HndEhZWLJVXqJzwDReOqqoZnfGkW510d3Q9VUI58u+ujY21raZjn8DiDU5jAshoF2Gc7i\nNVPdqH5389Q9oiosbSDV7s9ImWM6/A4cmzn/ZrCm49p50qGTolzE/3z6m3h8/1OzvRSDpo36XM6p\nCB7qbc8efg7PHN6Bd/KHXZ/nVXzmfg4eGjRXwy47wo4MkQ/nqSuqYpuEZp7TLfxe/7gOKYt8tRD5\nxs0vpx5/oRw7T3Q/SK/UWtne26cbdUkQA6vfU0IKJaWM0iwMIpEt1zjKvLphbB0GmuM4pMWU62z0\nil9Lm8d7xTYPidr3KyNmUJCLnpvj2aJg8Wrzc6RYzvo6yKibHC0MY7IyhTfH35rtpRj4Wp/zzz/f\n1XhrmoaxsbHYFjXbsJYo1WFAWZuNZ4VzA9XvvKUX3pk79xonKXDBOXUjF+n1/IA+dQDISlkomoKS\nUjJCqFFg5LzjyqmHEJ+JqlBO0zS8OvoG0mIKJ+WWAGA69v7iM/3pXhzIH8JEeRKpWs65VVjXpq8n\nmve24iMkkxbTrhsY9l1yq/0wPHXVy1PXz5OVMtCgoSSXjMK5YwGrpz5X2tqs4Xfn+9LOsDTl+CzV\nybjha9TvvffeVq3jmMKQZFXtHgALBwbpe0tCiPC7Md+83stQNMXVMIXx1N2Eaxj2ljb3QjlA99QB\nIF8pRGrUmVKec/QqEM3u36/6ned4iLwY2Q/S0cIQRktjWNF/pnE+iRc9w8HMoM5L9+lGvTKJ+dmB\nSNYSFrnOqEcDSzm4GfWMmMKRQv2QG7OlzUVRjnffgFUcm2ZT/73oa9R/+c52yINlfGT+BUEvJRKs\nvfNzJvxu89TjmZ9wPMIiGMeNUV+0aFGr1nFMYUiyanavy/TU/VXD3ELa9efQDYEzGqAfR3H9gWS9\n7X5tMm4T2oznW3LqfgYwm9B/IPPVafSjL/C1hMWtOp15ZVH0TrsNwrGS4KXIQoc7jjwHAFjed6px\nm8iLnq9DVkyjDsxOW5v1cxtlr7rbMBdGWkyjolTqok++inIe9Q9Gn3rtfqNTQ/b/nD51cDuGSiMt\nM+pFi3c+V1TlKKfuzlQ1r/+/kvdU8mw1c6OBMmKsA12sVAxP3T/8HjanDtRHA/TzennqbKiLdw7R\nb2MhcIKRx/fL/zNPPWovw23DEYun7rHhSQiJSLyMqUoeTxx8Gp2JHN43f4V5fF4yBF6cMIM0r6b5\n3upiOTYMxVhPhN5WUPgdqK+AryhVSLXhLU68jLrRp85y6oYAjX+xXEWpoKpUG25RbZaCXDR69OeK\nUbe+juPJqL89sc/YgMeBtdZgNscqW4nVqN9xxx246qqrsH79+roWuGeeeQaXX345rrrqKtx9990A\ndOW666+/HldffTWuuOIKbN26Nc7lecJC0s78NfMugoqhworPAO4GWvbIqYsh5GvdJrQxrEp5ocLv\nEf8gmZ66JaceofiMqrLRq+6eelJw1xRvlMf2PYGKUsElJ/+OreJb5EXItaEjTmTV7qm3+gdA0RRo\nMAsfo+xVr/gIyWRqdQPOfvKyUnbNp+vHcZ+oZ3aXmDl1IFj/nX0vSzFMHnRSUaqoqjIGMv0A5lD4\n3XKN45CQjosH33oM//TK5tCbWEVVsH/yYOjjW38jZ0tUyklsRn3Hjh3Yt28fNm/ejNtvvx233367\n7f6NGzdi06ZNuO+++7Bt2zbs3r0bW7duxRlnnIEf//jHuOuuu/AXf/EXcS3PFy+ZWCP87vEBkdUq\neI73NCpWeI9iPP28soenzXL93h6HKTHrrijHnu/Vpw7EZ9TdPHWz0jneQjmgFn6fYU59rDSOX77z\nX+hL9WD1CXYNbGZs3DZdFcNTZ+H31ubgnNGlSHPqRvi93lPvrE0rdG5iykrFdRMAWHLqzkI51qcu\n2I16kAANe62t6Dhgle+9qW7wHI98ZW4Uytk89RhmB1jPE2XXTbFagAYttOz1zsHf4Fs7v4tdI6+H\neny+Fn4HgPHyeFNrjJrYjPr27dtx0UUXAQCWLVuGiYkJ5PP6BThw4AC6urqwcOFC8DyP888/H9u3\nb8e6devwmc98BgBw+PBhzJ8/P67l+cJ7KMqVQ4Tfw+ZUzJx6E566FuypexXK6edUTI/eJfwZJBWb\nr0w39QOpqDI4cLaQaywysV5GvRZ+n8mPxiN7fwFZlXHp0jV111gyKvnr3x92vXuSXeA5vuUCNM6N\nRqThdx9PvTvZBaB+E1NRvY16YJ96zeizEHewp14z6i3w1FmhZFbKokPKzklPvZFoVyPthkemj+o9\n3wei6/lm77nbpEA3RkqjAPSJm2GYsoTfx46RYrnYjPrw8DB6enqMv3t7ezE0pFfBDg0Nobe31/U+\nAFi/fj1uvPFG3HTTTXEtzxcWknZWmgcVylVVObTSkjne1X4OVVOhQfOcsgb4e+p+YXVrBMJt5joj\na1S/1/8gaZqGv/jV3+BHr/6L5xo81+bSahetp+4ffmez25stEjtaGML2wzsxPzOAc+efXXc/e+/d\nPh9swyfwAjoTOdfw+z/uuhf3vvZvTa0tCOea4imUq/fUe7yMulJxlYgFfHLqxkAX/TpnQ+i/W2sJ\nSnILjHqt8j0jpmt6D3PFqDeeU3/6nf/CV//zFoyVwnmwb4zpYk6/PLg9Mm/dMOohPXVW+/H25L5Q\nj89XrJ76sWHUW1aq18ibdP/99+PVV1/F1772NTz44IO+Qjc9PRmIYnC4uxF6unWjlslK6O/PAdDX\nb/x4pXnjdisapyIpJlzvc5LZp+cau3rS6O80H8/OkU4l647TkdE9k86eFPpz7ueY4PU8ZWdHpu75\nmbR+X3dPGuA1SILkutZ0WTf0Vb5cd/9UOY+x8jgypVTg63Tez/EaREG03S4WdUPMS1qo6+ZH4qC+\n7nm9OfT31h8rl9aNQGdPArlk8HhcJ/du/xeomor/tuLjWDC/u+5+9v7kupPo77CfX+NVJGrXe162\nB3vHD2LevA7js52vTGPn4G/Qk+6quw4zvS4AUJ3SPS2+Jk+cygqRHBcAEsP6de/vrV/7UnEh8CJQ\n5orGfaqqoqrK6EinXdcwxunXVkxytvv5PfpvyIL+HszL5oBa3loRqp6vpSKbBijZwUX2mr3YV9HX\n2N/djZ5iJw5NH0FvXyZUSu5YpqCYGychGe4z+ezzO1FVqyhJefT3Lwl8/OBbgwCA4dIoRrkhnNa/\nrPkF1zCKOLMh3/u9+u/Rgal3Qr1v03IBnckOTJbzKKLQ0Ocrrs9ibEZ9YGAAw8PDxt9Hjx5Ff3+/\n632Dg4MYGBjAyy+/jL6+PixcuBCnn346FEXB6Ogo+vq821XGxqLNWfX35zA9pRvWiclpDA1NAdA/\nHKzQaHzKvN1KuaprVbvd56RS0j3q4ZEpJMumgWE7RVXW6o5TLesfuKHhSUgl977cofHJ2vHVuufL\nFf35R4cnUKpUIIB3XauqqeDAYTQ/UXc/U9ObKE35vs7+/lzd/fo5BdvtxZr3NFUshrpufkwV9Gs3\nOV7CkFJ/LE3Wjc+ho6PoTTXmCbyTP4xt+3diSW4RliaXuV+3mv0YHBqHULQLyxQrJQic/tqzfBay\nKmPvoUEj1bFr5DUAwHS5YDu223VshqN53YvI1HT9Ryf8379GGJ3Uj1OYkjEk2o+pVXTv/fD4kHE+\n9hnnFMF1DYW87lmP5/O2+6cKumGZHC9DK0yhJOufZ7fPKcMaNh4cGatbX9QcHtHDt1qZR0LTN9F7\nDw+iMxHvZiJOVE3FdKWAtJhCUS5hPO/++2dlrDSOt8b2A9CvyUIh+Lq/PmSqsv3stV+iDzPTcVBU\nxUjhHBkZwwkh1jCW1x9TVip4Ye9uLMmd4PnYqiqjKJewpGMZ8pUCBidGQn+nZvq99tsQxBZ+X716\nNR577DEA+qjWgYEBdHToxmvx4sXI5/M4ePAgZFnG1q1bsXr1auzcuRM//OEPAejh+0KhYAvhtwqz\nT90Mc1vze97V79Xw4XcP8Rm/SWMN5dR9w+96oZzXLpTneGSljKsaFqvwLMjFhkNkevjdkYdmOfUo\nC+U8w+/Nt8+9OLQLAHDxSR/x1Ahgr83t81FVZOO1dtVC0ta8+lsTerivolZ9uxuahYXfWR46jpY2\nt9noWSkDkRdtlcF+jwfMfnev6ncWnk8KSfAc79vSZk07tDT8LmWQTXinsY4nCtUiNGjoSeoRlDDf\nnxeHXzH+Hab+piSXcWT6KN7VdRK6Ejk8d/TFGaeIrJ8ft/kD7usw17o3IATPQu+5RAe6Ep1zP/y+\ncuVKLF++HOvXrwfHcbjtttuwZcsW5HI5rFmzBhs2bMANN9wAAFi3bh2WLl2KhQsX4uabb8YnPvEJ\nlEol3HrrrUbFdisx+qNOgrMAACAASURBVNQtPeRlS5GN99CO8Dl13iOnzgy2m1EPl1P3K5Qz2+hk\n1V1fnuGVD2RjQ1VNbVhGVtekt78ugRPAc3wkFbVqgPjMTKRimXfZl/LeZBo99y6vRVZlo6+6q1YR\nPl6ewKIOffLhW+N7befKJRpPD/hRrYnfsPcr0py6j6Icx3HoTnTaKoPZdymoUK5OfMYolBONY2fF\nDKZlb6PJXjcQPq86E1jRHsupA8d/Wxv7HehNdePQ9JFwRr22CQbcp/Q5OZg/BA0aTu48EUs7T8Lj\nB57CruFXsWLgzKbXbf3NDrMGwG7U357Yjw8tWuX5WHZdOhId6El1Ye/kAV9hsFYRa079xhtvtP19\n2mmnGf8+55xzsHnzZtv9qVQKf/3Xfx3nkkIhWjxahs1TV9x/EHVFoWDdd8C7+t1P5tXsU/cx6j4t\nbab8rV79Lrn8CDOyUhaDhaG6D6l1NzpdbUxGVtZkZAT74zmOg8SLqEYiPuM90AWY2Uz1ko9WOcOv\npc264etytHkpqoK9k/uNxxblYuRGna2JSatG2dLmNdCF0Z3qwp7xvYaqXLn2eC9PPek50KUKsbYJ\nZOgRJR+jbnmd5VkolAPi0X9XNRVTlWl0JeMP67MURm9tQxvUFlqoFvHG+B5j1kQYg7pv8gAA4KTO\nJViQGcDjB57CjsHnZ2TUS00Y9aJcQlbMQNEU7K2tyQsWgclJWXQlu6Bq+zBVyRvf79mCFOVccBu9\najUEbj+IiqqLjoRtaeM9FOX8ZoIbfeo++u+K6ufpm9EBxSUUbqUjkYUGra6y2BpG9Wp5816bu1Je\ngk8Yut4zwRTe8VCUMzzpxo26OYDE3RABpua/2+dDtqRmuh1G/Z3pwzbvPuwPUCNUHOH3SMVnfBTl\nAL2tTYOGycqU4/FBnrqzYr9atxHNSBlMVwuerVO28HtLW9oyRnV+HBXwT72zHd945nYcmR6M/NhO\n2PpZ+L0cEOnaNfIaVE3FmfNOBxAu/L5/Shd8OTG3GItzJ+CE7AK8PPxqw78xVqzpltDhd6WMtJTG\nSZ1LMFg46tsuySRiOxJZzy6P2YCMugtuYW5rKMctdNmImpx+Dv+cupt2ezhFOf+BLoA1/O5d2dnh\n8YM04fDUG8GtpQ3Q+7ujkYkN56k3E35n739K9PbURaOlzf7+qJpqqyfoSpjhdwB4a1zP3fXXhGkK\nIX+AGoHJ16aZp+4RbWqGiiPX7YT1qrM+3qCcOs/xkFyG71SVal3bXFZKQ4Nm+37a1qZYc+qtEJ/R\n37t0zOH3g1OHoGoqdo+/HfmxnbDveS6Zg8ALgd/VF4f10Pu5C94HINwmdd/kAWTEtPEdOHfBSiia\ngueOvmA85u2Jffjz//orPPTWY6HWXbKkW8J76kWkhSRO7jyxti5vdTkj/C511H3GZxMy6i4ILn3q\nQZ663KBR511C/Na/XWVeXSIIXutwH+hiblYUTfZt18h6qMrN3FOvvz4JXmqJ+EzSI1cbBrbrdxta\nwkh4FP2Znw39/m5HodxbE3sBAMv79PRUHJ4622gYhXIxeOpen32nAE1QTh2oRW9cwu/OscYZ0V//\n3fo6iy3x1AvgOR5JIRGbMiNgRnkO1rpR4mTaMF4ZpAKklquqjF0jr2FeqhfLuk4GEFzLUKgWMFQc\nwYm5xUaL5zkLzgYHDjuOPAdN0/DE/qdw53N/j8HCEF4dfSPUussNeuqqpqKsVJASU1japRt1v351\nFn7vkLJG9O1Y8NRnf6TMMYhr+N3yAXHPmeo/HuEV5dw9dVM8xiWnzs0wp24Jvwd76u5ehlU0JUie\n04qmaZ5z3iVBQqXcgup33l1TPAxlpQKJl3w3Ql7V70YUpxY6TospSLxkXMu3JvahQ8rixNxiAOHV\nrxohXqPuPZwFqBegKQd46gBT/6v31NNJe6ugTf893Qsns5FTz4hpcBxntCvGIRXLNoTv5A9Fdsxt\nh57FwuwCvKvrJNvtbPOelbJIiklfo/7G2B6UlQpWn7Ac6Zruf9Amdf/UOwCAEzsXG7d1J7twas8p\neG3sTfztb36A18beRC7RAVmVQ89NaDSnzjbuKTFleOpvW2pdnDCJ2Fwia3z2x0uzb9TJU3fBMLiq\nu6fulo+sOryxILwGuvhNGmvIU/epnpdVGRo0V913hpuXIasypqp5Y+2NeOp+XnSCl1CdoXwrYA50\n8dqsGOH3JnPqKZ8iOcC7+t0cRGJWbXclOzFensRYaRxj5XG8q+tko4gtnvC706hHGX73lnwFzBY+\n9oPHrr+Xohygv1fOzZevp+6xwbRGTUotqX4vGhuNOMPvVk+9ESlWL/ZO7se9rz2An+z+j7r78hZP\nPSkm6tIiVl4cehkAcNa85RB4AQleQing82wtkrNy7oKVAIDXxt7Eu7vfhf95zlewIDMfk5WpUK+5\nYaNe+3ykxRRyiQ70pXqxb+KA5++S6al3eMohzwZk1F1gIWJr+N1qCNw89UbD717V735T1pj37uup\nG893q37Xj8nCn25eM8MYlmHxMibKeqHTfGMCVXijLvvUCki8BA1anSxvo7CNg5fH6NUqFYayUvH1\nLAHzvXd+PtzaDLuTnZiq5I2c6Lu6TvIcUxoFRp967X2Ntk+96puW6Em5e+p+G4Gko85Cl3utN+pZ\nyV//3VqAGXefuqZpmJYLxsYpISQg8VLk4feqKhvHrCgVDBdHZ3zMJ/b/EgAwXBypu8/mqfuE31VN\nxUvDr6BDyhreflpMoRDwed5XK5I7KbfYdvuKgTNx5rz3Yt3SNfjiis+gK5lDVzKni+GE+O2xh9+D\nv1PsMSzCsLTrREzLBQwVh10fP1WdBgcOGSmNrmQOHDgy6scqgmWaGcP6AfHLqTdc/e6RU3ed0mZ4\n6j6FcrXnSz6jV1n1qm+feqLeU5+o6B9Y1lsdNEjDit9UOGMQygwNjazqevZessIzKZQryWUkfYrk\nAO/hNBWj5cs0SF2JTmjQ8ELNs1nadZJhDMJW6jYC88zZD1ak4Xe14ln5DgCdiRx4jm/IqCeEBCqq\nGb1h3y/neYJmqssxdxVYKSsVqJpqFCMCiGWoy2TZXeWxWcZK43h+6CUAeljf+f3I14xXWkzVwu/u\nUbV9kwcxUZnCGX2nG79VKTEdWKC4b/IAcgnT22UkhQQ+d9an8LtL1xjHMzUegkPwjXrq7DEpQf+O\nGCH4CfcQfL6aR1bKgOd4iLyIjkSWjPqximi0jlnFZyyFci6Vw42G34Ny6u6eeoicegjxGbbT9ssP\nu4Xf2RfphOwCAE166h7hd2DmhkbR3FvmGMkmw++apoULvwvu1e9uURz24/TyyGsQOAEn5RYbBjfO\n8HtCSEDkhEhb2tyq0q3wHI/ORM74wTOr372vJzP47DNhDnNxeurMqHt56pacesyFcmwzlhVNCeeO\ngD76ZmCb68UduoTpwRnm1Z88uA2qphrXkk0qY0xXC4bxSon6UCS3aOVLNRW5s/qXG7cxaVmvEPZE\neQrj5QmclFviO+ODwTpHJkIYTyNHLqRQkkuBIfuSw1NnRt2rXz1fmUaHRU+iJ9mF8fJEpKNjm4GM\nuguGp27xiNkPAgfOYwqXPW8aRGBOvcnqd8Ng++TU2WMaLZRjP8oDmX6InNBQoRy7lm6vS4poUluQ\nUfeSHw2iqlahQfM1QoC3p+624WNeSVWt4sTcIkiCFG/43aLGJglSZFK0+oanAikgNdGd7MJ4eRKq\npga2tAH175Xx/XJ46syAFjxz6pbwu1KO9QfXlIg1PfWslEVZqUSa7mCb6/f2nQpgZsVyJbmMbYee\nRU7qwPmLPgCgPgQ/XZ02umHYd8Atr360FqY+2ZIbT4spKJriWcOxf4rl0xe73u+EbYaZ5oEf7De7\nJ9VVa3v0/94zo87aVhfnToDICa5ysYqqoCAXkatdFwDoTnajqsoN/S7GARl1F8w+9XpPPStlfHPq\noavfeXO2uRXFx6P1y6nnq9O477UH8J8Hn4HICXWhLMCcE8++kH5rTQpJiJxgU8NiRr072YlsTfQj\nLP6eut0raxZFUz2FZwAzdNvoD6yhJhcYfnf31N02fFbVqaW1/GNSSIDn+JjC7xajXitMjAJZU6BB\n8/XUAd2oK5qC6WohZE7dXv/glsIArOF3D6Nee90pMQlVUyNNOziZtkjEMtzSWG48tOdR3Pf6llDn\nYUVyS3KL0JnI4eBU8+H3/zq8E0W5hA8vXoUF2fkAYMvRs/w18+ITondditPTBfRKcsB7o8r6wE/M\nhTTqCbtwkx/se8tEc4LSAKzlMV0Lv0u8iCW5RTiYP+ySktDf6w6bUQ+/tjgho+6C4NJDzj7EHVLW\nt/o9MkU5n0I3xWI0VE3FL9/Zjj/f/ld4+tCzmJ8dwBdW/KmrVCELv7MdrF/4neM4ZB367+zD2p3s\nQlbKNlf97ppT129rpirdihrQptesTGxZDvYsARgSwV596tbPBvtxAmD083IcF6qwqBnMz6cEiZci\nC79XQ3jdgPmDN1YeD93SBtR76s6culEo5+Wp157H5FSLMRbLWSVizfUFS8XuHn8bj+57Ak+/8184\nMBXsdZvfw04s7jgBY+XxppTXVE3F1gO/hMiL+NCiVZhXawkcsRj1olyCBs0wXimfupSSXKoJB5nv\nETOQXhXwTEnOWfnuhZFTrwQbTlYHxRycoLSW6ambm5KTO0+Eqqk4UGu7Y+QNNTkz/G4I0IScHx8X\nZNRdYAZXdmlpy0oZqJpaN1Sl2fB7vaIck3mtf2uMPmjLZuPBPY/i/tf/HxRNwR+echluOufLeE/P\nKa7nbCT8DuhexrTDqHPg0JnIISOlUZSLodtpQnnqMy2U0xRD1McNQya2QaPOdvxhW9qckZyKWu9l\nWiMpSy19wWkxHUufujWvLwnRiP0AltfmUygHWARoShPhwu8sJaP6e+opIQUOHApV940QW19XSjcG\n5Rjb2phELIseAKYyo1exnKqp+Nc3/t34+5lDzwaeh/WodyU6jaLVZkLwLw2/guHSKM6dvxK5RAfm\n1dTchizhd7Zu5qmzaJXbd6gol5AWU7bcuNGr7nLdNU3DvskD6E31hJ514Jyb4EdRKUHkBCNaEpTW\ncjfq+mZj35Q9r24VnmEcK21tZNRd4DgOAifYQuNlpQyBE4w33Nl+5VQNC8IslHNOafMZ6GLpM2e8\nOLwLKSGFW8/7Gi488cO+3rfZ0hZcKAfoXkZRLhkbmPHyBDoSWQi8YHggTm14L/xy6uzHfaba3Gxg\niBcCLzRVJFYObdQbL5TrS/XaoioZMRVr9bsefhcj61M3dNx9WtoAqwDNJMpKBRw43+8K62Fnxrzq\nsjECagOBBMkzysM2il0p3VOPs62NRQts4fcAVblth3bgYP4Qzpl/NroSndhx5PnASBIzaJ3JTizO\nsWK5xkPwj9fa2D6y5IMAdMOdFtMYthTKOcPMSdFbwKkolwzPnOFXJzJaGke+Oh069A7o11bkxboO\nADfKtY6VsF0lRaU+fXBCbdN0OG/X2M9bdN8ZztbN2YKMugcCL9TJxCZrfadAvVfZaPjdqsNuxW+e\nurNQrlAtYLAwhJM7l4SaDGRWvwe3tAF2/XdN0zBenjR2o1nR3wNx4uepRzXNKqhQDnBXKguiHGJC\nG2A16h7iMxZvNiFIuGzpxfjYsktsj02L6VhmqpuKh5KRU4+iaIx9lvxa2gCLAE15AhW1AkmQfKud\nnZoCVY/qd0DfAHi9p+w6Mk89TgEaN0/dS24Z0HPwD731KFJCEr9/yu/iAyecg5JSwnODL9Q91spE\neRJZKQOJF7G4ZnQOhgjbWxkqjGDPxNs4vfc9OKFjgXH7vHQvRoojxmejzlOvfQfcNlH6KGanUffO\nqbOqfWd/uh8cx6ErkTOiFX6UlDJSQiowr89wtrQBwEBmHniOx2HH4JypKpvQZkYYuiwb19mEjLoH\nAifUDXRJCsngH+6ZVr/7DXRxtLSxVouTQ+aj6sLvAZ661csoykVU1aqRGzVaiUJ6lYpPq142IEQZ\nFkVTXdMWVtyUyoJg3l1QoZzo+dlw3/BduvQi/Pb8Fbbb4qqAt0YLEjWxH78uirCwH3e/ojfA7sXo\n3yX/x9fl1BXvML/fe1qZ5Zx6rubJTVfqP9s/fftnmK4WcOnSi9CV7MSqheeCA4dth3b4nmeiMmnU\nZAxk+iHxUsO96kzTnM0bYMxL9aKqykZ1ed4iPAMASdE9p27VTbfCjLpbkdpkzTD3pLobWntXsjOU\nqlxZKSMlJpHxWYMV9j23bkxEXsRAph+Hpwdtm2Bj7GqCwu/HDQLH1/Wp6566V4iVib40JhNbH373\nGZ1qmYcOwJjBfXJt+EAQpvhMTVEuwFPPWtra2O6T7UYbNcTsdbmdk4WwZjJmEYCntryVhE+o1osw\nY1cBy2z4EOF3LzKGVxFtCL6qyhB5sRau9h4R2yiGpx7wubdOpqsoVV+JWKDeU/fqU9cf613NXx9+\nD7dZ0iNTE3hp+BU88vbj+Jc3fhKYamJiTM6WNqA+CvVO/jCeOrgdA5l5uGDxagBAX7oHp/e9B29P\n7vM00mWlgqJcMiJzPMfjhOwCHJkebCi6wwRVWC82g+XVWQW801NPeeTU3fLR1r/dNqlueekwdCU6\njXnyXmiapgtGCUmkRFZMGeSpF2trtm/eF2bno6SUbMbaOqGNkRQSyIjpWZ/URgNdPBB50VZlXlYq\n6Ev1mhXOjh9E2QhvznD0au1v15w6G71aM5Cmpx7SqDeYU7eGxdmmpTvhNOrhDLGfTCwL5ed9vqRh\nUD3mtVtJ8glMKI2Fx9j1CsqpA3p4u26gi0eRlxtxeepVyzx3Q6NekZGe4S9A0Gx0hiRI6JCyNU+9\ngoxLy6UVtoFi7ZeBnrpXTl2tggOHXFL/LIcRoHl19A383133G/OyGQuz8/GhRas8n2d66tZCOXf9\n9y1vPgwNGi5/98dt3/UPnvB+vDLyOrYd2oEr3/PxunMw0RVrum1xbiH2TR3AYGHIKJwLYu/kPoic\nYOTkGX21Cvjh4giWdZ9sfL/Z6/DqIHFKrDLSPptUFsK25qXDYBTLVSaMCIyTSk1bIiUkfaMFVkq1\nCJJTZnphdj6eB3BoetCIKuQr9Tl1QPfWx8pU/X5MYvXUWX9rQpAML8d7EldjfeoN5dQtc941TcPe\nyf3oa6BytBFFOcCSU69M29poADNvGFYq1q+lLcs89RmINmiaFlj9DrCcemP55LDhd0D3xmdSb5EW\nww91yVemQ4ddq2rVOL9ZpR+Bp+7RauaG/oMXMvzuqF1x6yBgJPkEZFV2DceyzQzznsMUyr04tAtT\n1Tze23cqLlt6MS5/98cABOetC9UiRF60XYuspS6FMVYaN4aULK8JyDDO6DsdXYkcdhx5zrVtzNpW\nyljElOVC5tUrSgUH84exJLeoLnrUb3jqegV8vafursoYbNTdPPWaYWzUU2cCND7FcubENTP8HvSd\nKsolWz6dsbDWv394+ohxG3s/reqBgP6+FOVS6IhQHJBR90DgBcMQmX21SYtqmIdRb3hKm3v43TWn\nbnjqCoaLo5iuFkJ76YAl/M7EZwIMoGFsLeH3+kK5sJ669/S4jJgGB25GOXX2gx60UUkI3jKXXoQt\nlAP0999LfCYoRA0AaSm4qEdWZTy+/ynctv1b+Itf/U2ovtiqIhufTa+6kGYww+/+RhrQPzuVmj56\n0LVMhuxT12/z1h+oqLJdrS9EodxIaQwA8Onln8ClSy/ChxadB4ETcCCgbawgF5C15NMBfSOXElI2\no87kVM8eOKvuGAIvYNXCc1CUi3j+6It19zOjbtU5YN55WLnY/VPvQNVU17Qd61VnFfBmTt2/pa3k\nEG5h+Bl1ZxQgLGEEaFjrYkpIGimA4Jx6faEfAJxgGHWzWG6qOo2smKn7vek+BorlyKh7YC2Us+ZU\njR/EOoGRxsLv3n3qfp66mVM38ukhi+SA+vB70FqthXLjFXvYz/BAQnrXfoVyPMcjI6ZnVP3OIh5h\nCuUAd5lLL8K2tAE1T70uNRPeUzfabzzyt7tGXscdO76DLbsfRknR9axHQxh1WZXN8LvRAx6Fp16x\nHdOPbkvIOChcX5dT90lhONXnrFQVfbJbWtLfuzCe+khpDBkxbWwERF7EguwADuUP1+lTWClUi0hL\nmbrbOxzqiy8yjfR573U9zqoTzgWgzzd3wkRXrOF3s1c9XNSG/XYsdXEIepLd4DnellPnwBmfy6SH\n+IyZj3bPqbsZ1KlqXv9NDfHZsRJGgMaqApkJmdIqyaW69QNAf3oeRE6wtbXlK3nXtEH3MdDWRkbd\nA4EL8tQ9QqwBxWfW4wMNDnSxeOqNFsnp59Tf7qrR0ha++n3CIhELmEY9bPjd6L/3OGc2kZmRp+43\nr91KMwI0pZCFcoC7UfcLHTvxG+ry831P4u9euAdHC8P40KJVuPikjwAIV6zICuWs63AbTNQoZp96\nGKNuVjkHheudmy+vPnXbY13eU1nVh82wyWlBOXVN0zBaHEVfqsd2+5KORaiqsqFv7kTVVBTkoq3y\nnZFNZI220KJcxBtje7Akt8iz6nteuhfv6TkFeyb2Yqpiz+s702CA/pmZl+rFwfyhUGkls0jupLr7\nBF5AT7IbI7Xwe75aQFpMGb9HrPrdK6deV/0u+BfKWQvNwhJGgOb/t/fmYY7U1733t1btUre6pV6m\ne7aefZiBGRgwzHgGMItjHC/xnkx8nSdOnMB1ktcLxgQMvnYwEMy14zz3sR+M3zeX69g42LF973WM\nTQw2hmYdGJhhYPaZ3veW1Npref8o/UqlUpVUUku9ze/zPPNAaymVSlV1fuec7zmnOMxFu2dXa7+c\nl/OQVNnSU+dYTlPAp8agqIreOtcqwtDiKgpCFwtq1G0wht/1Dli8vfq95px6lYEuVsaPZVgwYCAr\nEs7Ez4NlWPT4Vzn9Snq+WYV24Vvlt40YxXCz2bjm8RRuWrUK5YqeuvVn+nit7Wy9tdP6cXMQfgdq\nGx6jL+qc5NS58vC7VMO5UUko9/rkG2DA4LY9f4uPbn6/PtfeSYRDMswib0r43cGCh3gxQPUFksiW\net9Owu9WCzUSfnda1jSXTyKn5BEuhKEJepMXm7x1Vs5Chaq3rTXiF3yQFAlZOYejU29BVmVc3L7d\nYitFSOvg86b2pHr43dSXoifQjWQ+5ah++2z8PIJiAOEKi4pYLoGcnEMynywxXnr4XbFWv5uNIsdy\nEFmhLO2hqqq27RpFckAx/B6v8F2NKTPSfrmSp653jbQw6oCWV8/JOcxkZpHKp7XWuRZaJrJwpUZ9\nCcIxnO416zd1Vqyqfq+5TawpnEcMgF1umGc5ZOQshhLD6PF3OxIoEcxerBMDKLKCFn7PxtDiCuoN\nQ3iWh4sTnefUK2gFAMAvau13620OQnroV1W/VzAAdmQl5+F3nhXK2gjXIpSrFCqMZeMIin7dwDgt\nK1RUBZIql6nfG2LUFWe934FS79JpTl036k7C7xYplXxhMeMmWoUqnjoZO2r21MmY04G5obL3AMV5\n7l7eKvxejHi9NnEUQOl4UitWB7TF+kChNzohltNaNQdMHu4qh01oZjKzmM3GsC642rb5j7GszTjM\nBTD2fjcb9fIab4KH95Sdzxk5C0mVa86nk88QWN6Zp17YH20f7D118pzH5rzsKoybHkmOFbvJWew7\n6Zx4cvYMfjPwNP7t+M/wndf+Bf3DL1b7Wg2DlrTZwDEsVKiFpgrFVZ9o56nLxYEZTmDtOsqRkjab\nMD7H8BhJamGgWkRyQHGkbHFblQ0goNXZxrNxzOWS6GyJljzn5Z1PaqukFQA0Tx0A5nIp3VutBdKG\ntqr6na09n0xaBDsxysZIDlmY1SSUsykBUlUVsVxcV+ICxnKpyr+BuYcCyWE2olVsLeV6rQbFtvOc\nummeupWnbjNSV1EVXUvAsxwElq/qqU+lNZFc2GzUA4W8tc1ENKsWsQRiFGPZOI5OvYU2dyu6fZ1l\nrzOyujCK1MpTD4j+skU/idoYJ6xZccZB2o6I5Qbnhgtz1ovGy25Km1WLVYKHd5d11Ku3Rh0gXeWC\nlY26SQfj4d2I17AIMNPlL4rlyII0YGXU3SEwYHBs+jiOTR/XHw+IflzZvafS12oY1KjbQG7gsiIX\nR0XyInjOemhHvoK62wr7OnUnnrr2nlpEctpnmj316j9/QPTpNxZzyM8veDFmk2M0I1UJj/tE0qEu\niQjaHG3TiO6pVxi9CtQ3qU1rN1ndSwfMQ12090hy7SVtZqOektLIK5Le/Adw7qmbux2ay8XmQ03h\nd8O+V2s+I7A8GDDlHeUsPXVrnYR5HoObc1fNqU8XlO9mT93De9DuDmNgbgiqqpZ5uaQxjccm/A4A\nr0y8hoycwZXdl1VskQtoIeaA6Mf5eNFTV1UVsWwcnb5o2evD7sKEtUxlo342Zi+SIxBPnfTBKPXU\nC/PU7XLqFiVhHt6NiULrWfK9rXqn10LIFcTp2DkoqlJWV67tX7GkTdsHrf2y3XwIO00AgSjgh5Oj\n+vGxCr97eA8+sf1jmM3GEHa3ot0dRtjTWlb61kxo+N0GzlByRsKvJW1iLcZrCoWOXU5gqwjl7BYH\nRsNci0jO/F6gevgdQMkq3WzUfYIPOTnnyOMreurWhs3Pz6+rnGOhXB3h94yUdWS0AOt8dV7Jg2M4\ny5uPGdL8wtz9yiqX6rRnft5UmSHUEa2wo9gmtrqn7ubdulGodjzNg1oqiQ3tFmrmCXJu3lXdUydG\n3ZRTB4p5a6t8KRE2Wt28ieF6YfQQAGBnlXw6oH3/NYEezGRndbFcWsogp+Qt5zy0ebRFCFmU2HEm\nfh4MGKyu4BC0FxYI5wpG3ehNsywLnuXLzh09fG1hFN28G7Iql9wn5ix6p9dCyBWECrVMSEggv7PL\n4Klr+2n9+2cqRBoAbaEjsHzV8DsAXNZxCa5bfQC7ozuxOtgDv+BzbBcaATXqNhgHrmQNeUO7fKSk\nSo5D79r2revUWCbSMwAAIABJREFUK5V+AUVD7OU9iHraHX+e1TadhN+tRgsSSEMPJwr4ajl1nzC/\nrnLOhXK1q99zcq6sdaQd1kZdcqy1KIp6Sj11YkhIRz9Au1k6qe83e6xkXxoxNKYW9TtQPIec5OCN\ng1oqzVYgRr2s6Y9c+h4373acUzeH3wHoolSrenCrFrEEY5rEx3t1EVw1egOlIXjjyFUzAcEPgRX0\nRYkVkiJhIDGIVf6uisefeKLke/pMZXpWA3Ts2sQC1gaVXOe+OsLvQHUFfFn4vYIK3/i4VaQB0DRQ\nHd4oRpPjiNt0k1sqUKNuAzGAkiIjJxmNup36Pe/4xg3YD3SRVBkMGFuvjuzXmmBvzas/cw23k3Bw\nJaPuc5jTBRzk1OfZVc6pp66P9KyhTr2m8LtFvtpYTuYEK2GRlafOMix8gteBp15YUHGldepOwu/T\nmZmKi7Zawu9A8Rxy8nrjoBbSPMfqnLfrPWDWMrg5l978xo7p9Ax8vNfSYyN5dSsxmtUwF4LRcF3U\nvrVqgyQCEcuRELyd8h3QFoNt7lZMp+2N+tDcCPKKVDXC5xU88PIefdFn9kgFTijPqUtZMGAsFwvF\nNq3FharuqdcbficNaGwU8FnJFH4XrLUqBLuOeEa6fB3IK3mc1yMY9UUZmg016jYU68jlEqGcnfpd\nu+nUbtStms9U8jaJgK5WkRxQbvCcCuUILWXhd+dlbVVz6qRDnYWnnsjN4RuHvo3/dezf8PrkG5bG\nqNqigVBrTl1SJMiq7KibHFBcKBm9YGM5mRO8vLusTn3Woj4Z0H6fWnPqTsPvsWwCX33+6/ifx35k\n+5pcof2sk9QCUKOnbhiTm1NyttEAF2udUimWmRbD74B9AxpVVTGVmUHYU+6lA0BvoJKnXj52lWA0\ninYNZ6wgYjmigK9k1AEg7GlFUkrZeqNnKjSdMdNuSD+UeeqFVstGMnIGLs5leR4Q792YUkpUCWFX\nQ29AU8VTdxU872qeeiX1PoGIVE/OngFQ/4Kk2VChnA3G2eXF5jOirfpdUiTLC7rq9s0lbapkm3c2\nvq9WkRygreZZhtUXEo48dbH4nUKiyVMveCVOvOuqOfXCBWLVoe74zEmcmD2NE7On0T/yIkROxLbw\nZrxn/Y3oKIiGau0o51QkZuxM5YTisJTS8LvT8D1QEPXIuZJzI2bRSQzQxIrjqQlbwRBgFX53VtL2\nxPmnkJVzFcuk4rlETSIgotIOitaDOIxoOXVtH/Ny3rbzmN1CzdywhoRWs3LWMkw+l08ir+TLRHKE\nkBiEX/BhwNJTt1e/E8MlsDy2mnq9V0IXy5Hwu0WLWCNthVz4dGbGcrCLE5Gcvi1Pm/655hC5yIll\nk8jSNi1WAcDDkb77RYOazJWOdK2Vaq1iM2ahnFC5TXBatp7QZoTMnSfbrnffmw311G0gHp+kyCVt\nYnnWXv1ei6deaUpbJU+dfEY9nrrxc4F6hHIBy+ecdDSrNKVN25a9p05uIDetux7Xr74aITGAVyde\nx5ODz+ivIQaQddh8xqmnXkuNOmBWv2vka/TUrRrQ6Dl1ixSICrWiACxvUt+LXHWjHs8l8PTQc/pn\nW4kh84qEmcwsIl7n1QoHevfi05f8he6FVsI4qCVf6AxnhZ340ayYrzQGFCiWg1nl0wFtUdzj78ZU\nZrpsDGvRUy836l7Bg7C7FbujFzuKUBg/zyiWK7aItZ5wRxYjUzZlbWfi5+HlPYh4q2txiFgOKPfU\nRVYbdWtsFFXRqJPjbjCoRGxWd/jdVbkBTaaQDiDnjO6p27Rf1j11m5w6gJJyUjfnrul+v5BQo25D\nUSgnl7aJLeQlzaFLyTAFywkMmML2zeF3qWII+cY11+KDG99Tt0jDuO1ahHIBwV/2/YqtYqtPFKtW\nqldpQAwxaBe1bcX7NrwLt1726ZLHte07zKlXaFRihTFK4wQ7oVwt54bVVKlYNg6e5cs8Qb/FFDAz\n5twyr1dw2Avlnjj3W+SVPLy8BypUS0MxnZ6GChWRGgSbLk7ElvBGR681LsBIZzjrbVqLH3OmOfZk\nYZaxEctN641nypXvBNL4Z8gUgq+UU2cZFne/7Vb8yZYP2m7XjqJYbtCyRawRoti3EsslcnOYTE9h\nbXC1o1QJmdYGlAvCyFAkcl5ps8ut+6YD1r0XEvkkOIazFaZVgzgYdp56Vs7Czbt0DUY1T72S0I8Q\ndrfq19BSFckB1KjbwluE30WD+t04ttLcscsJ5lA4QaqSU7+ofSuu6d3n+HPMGI2eE0+dGHWrPJ63\nhpy6XK1Uj+Xg4d2WofyZTMFLLbQZ9fAe8KaOUk7V71bh8UpkapjQpm2/1KirqloyTMUJVrXqsWwM\nLWKwTCjmc1DWZh4oI1YJv8dzCfxuqB8trhCu7tkLoDiK08hE4bF2T+19BZxg7CqXl3O20Y6q4Xeu\n1FO3i2oUy9msPXUA6CVjTk3DU1JSGiIn2i7eOJZzLJAzUhTLDSGWjYNjuDLPmUA8dauyNhJKX+Mw\nbWcs6TOnV8xDXbJyDirU6p56Sfg9Oa9SLzfnhsgK9uF3KVtyzVbz1Cs1zyGwDKv3CLBqPLNUoEbd\nBuPscuspbUYhFDEotYVjjENjCLIqO/Kg64U1NGeplLsnkFntVsMnnDY/AYpCuUr95n2817KkbTYb\nA8dw+gKDdJSK54rzlIs59ca2ia1l7CpgzFdr54c5n+0Ec/hdVmTEc3OWCysnv0HORihnZ9SfOK95\n6TeuuUa/iU1UMOqRJhl1YqxJS1G7hZFd9KUs/F7FUydG3S78DhQ99QFTp7dUPmXppc8Xo1huNhtD\nUAzYetpkv6089eHCIqTHItduBVmoGYe5EMyLqIxhzKkVHovF1Fydfd8JDMMg5AraTmrLmipWrFIA\nRjJSBizDVr1OSbtY6qkvQ4wDV7IFL4FlWHAMBwZMyQ1RMglyavkMK/V7PSt6559Zm6ceEP34+NaP\n4A/X31j2nG5QKvRUJlSap65vT/QhKZUPddH6zodKbmYhVwDxXEI/fjLpme909GqtOfWa69Slkv/W\nZNSF0vB7Ij8HFWpZPh2ozVM3t4m1Ur8ncnN4elDz0q/svtzQB3zxjDqJBNkK5fQ2sebJiaaStirq\n92mbFrFGot4IBFYoU8DbTWibLyExiKAYwLnEIOK5hG3oHdCiaiIrWKZKhuZGARTFXtVoLVxvViLI\nYqtl7RqqVg7mNi1S84qEjJytW/lOCLmCmMslLcfhZqRMibi10qAk8riHc1eNHJC8+lItZwOoUbel\nWKeuTVci3gDDMIXxmqV1yIDzYS4Ey/C7KjluNVsPxKizDOu4DOmKrkst1bRe3uOo+QmgRTMq1d8D\n2iKBHG+CrMiIZeNlBi0kBqGoChIFz96pp15r7/daw+/mNsKVmqbY4TWF3yuVMvkdeOrmgTJ2XREB\nzUvPKXncsOYaCCyvG2xro661CG5W+J38VuS7iTatZTmWA89wDkraCh6jjbc2lbGvUSewDItV/i6M\nJMf07SuqgrSUsQ2LzweGYbA6sAqz2RhkVbYtZyOvDXvC1p56cgQCKzj+rTiWw41rrsXVFqk+szCx\naNStFzXm8Ptcbn7lbISQWOgqly/tKicpEiRVtvbUK5S0VcqnE7oL90En1RuLBTXqNhg7yuXkXMlN\nXWAFUx2y897eRliGLRHKqapaEFXV5vHXAumN3ogQP8uwWh7cSU5d1SIQlVbCVgNK4rkEVKhodZca\n9aBJ/epU/W5nAOyoXShX2tillgltBPMNiAgCrcPv1RsAmRcWJOJkruDIyjn8bvBZhMQgrurShk94\nBS98vBcTFt7fZHoKfsFnqfhuBOSYk5RMpWiHwJV3OTN/bz38bnFjV1UV05lp2xp1Iz3+LiiqgtHk\nGIDKIrlGQMRygH2NOqHd3Yq0lC4Rr8qKjNHkOLp9nY4X8gDw7vU3WOp3zCmsaiIzc/idRJXmG8K2\n6ypnNUa1mlFPSxlH0bit4Y34wIZ3Y3/PlXXt80KwNDX5SwDiqZPmM0ZPkWf5MnUzULunbs6pp6UM\nFFUpqQ1vNMSYOwm9O8EneB21iZWV6hEIY36YiJVmbEq5Wgx1qr2BVRXn0JsRLQyAHfWH37Xzo9aR\nvIAhVJgv9dRbLOqTnXjqVnl9gRXKohUzmVnklDwua9tVEupu97RhqDCxS++EqMiYSs/oDVmaAfEI\nibJfrDCP3mXoPkcw59R142KRU0/k55BXpIrKd0JP4Ts/9PojWBdarZ+bVsNcGsFqwzG2q1EnhA21\n6mSxNZaagKzKjkPv1TBPxasafi8spnRPfZ6NZwjGBjRrDI9blaHqc90tUoVkEmelCA2BZVhcu3r/\nvPa72VBP3YbSOvVciacmcIJN+L02D9scficnezObGuhG3YFIzgleQRu/as6Dm5HU6loBK0+deKmt\nrlKhnr5KJ546Cb87WKzUYtTrV7+bcuo1zL0nHl9K99Tt65Od5NStogUCx5cJ5YjxNHtQ7Z4wJFUu\nKSGcKYSDm5VPByxy6hWuL9Ew/IVgHtfq4uxz6mTkql3jGSM727djS+tGJPNJvDT2Kp44/1sA9Q8n\nqYaxpt9KV2GELIaNIXgikrNKodWDHn4vHF/dU7e5RjiWg8iJukitOHZ1fseLLHDMtep216w2U6Hc\nUyfq/XrL65Ya1FO3gRi/nJwraxMqsHzJio94Y7Wr31ldFQ4Ub8zNujlon6l9r0aJ8XyCF1Kh7K+S\nNysrck2eOmEmMwugWM5GCJrqVJ0K5QDtJm8XhjNTq/rd3Ea4LqGcqa63Uk7dK1TXNRRLu4rnp9ZA\npDT8ntQnZ5UadWNenYjIJptczgYUw7wkZ1qpX7yLFRGTS2/u5ul0RaFc+W+vD3JxEH4PuQL49K6/\ngKIqmM7MYDAxjIn0FPZ07qr63nogYrl4LlE1/B62KGsbShZEclVmuDulLKfuoBzMw7kNnrr14rFW\nbMPvNtE1D++x7OeQqRJpWG5QT90GEp4m+bIST71RQjmWLQm/EwFJMwQ3BJJTb5QYz1cYmZqq0ipW\n89QrHx8rr7PoqZcL5QAgVihrcyqUAzQDUGubWKcd5cxthMnn1DrQBSga9WI3ufIbOsuw8PKemtTv\n2v4I5Z66zeQsYriNZW1EJNdUT90klKt0fYmFfuTGiBE59sWBLvbh9+kaPHUCy7Bo97ThkugOXL/m\n6qpedL0QsRxQPadu1VVuuEblezXMzX6cDEMxTh7Ujfq8hXLWDWgqeeopKV0WVaw2S325QY26DcQ4\nkHyxaBLKGdsk1iOGIp+hKMbwOxGQLISn3pggja+Qt6smlnOSU7fKD9vl1M2rdKcd5QBNVJWVc1VT\nBoBBKMc7E8qZ2wjXo343z1SP5eLw8B5bT9Uneit76nL5PohspfB76flXLGsrGoqJVKGczUHL0Xqp\nLfxOupzZp8VcnAgGjHX43UE3ucXknWvfgXeuuRad3mjF11l1lRuaG0FQDOg9J+ZLWZ26bhTtNQVk\n8qCqqo1Tv5Ocuin8npXtPXXSctgIWQSsFE+9qeH3e+65B4cPHwbDMLj99tuxc+dO/blnn30WDz74\nIDiOw/79+3HLLbcAAO6//368/PLLkCQJn/rUp3DDDTc0cxdtIWHcoqdeKjJSoUJRlYKKuPYbN1Cu\nftf7IS9ETr2B4XegulGXVBneKp9p6alnZsEybNkNyVvoKhfPFjx1fQ599XWqq2AApAqtRwk19343\ntRGup/mMeab6bDZe0UPz8T5MpqehqqpldYFVCsCsCwGMHlRppIj0djd66pNNrlEHyoVylX4royLb\n3NuevI9hGLg4l2VJW7HxTHmTpaXAutAarAutqfo6H++FixP1RUpaSmMmO4strc5a8zpBZO1K2uyv\nEQ/v1g1qcezq/BYZbt4NFydiNlM6XCZjc80So026/xHSVTQBy42mGfUXXngB586dw6OPPopTp07h\n9ttvx6OPPqo//9WvfhUPP/wwOjo6cPDgQdx4442YnJzEiRMn8Oijj2JmZgbvf//7F8+oFwx00agX\nf3DeoHDmWM7gqdfTfMYYfrcOfzYSVg+/N8pTdzZTve6cukXjGYB0lQuUC+UcfC9jrXo1o56RtcEQ\nTo2yuY1wvakZ4tlkpRzSUhprDGVNZvyiF4qqICNnLGuFLYVyrABFVUqaHdmFRYNiAALLl9SqT6Sn\n4OZc8/a2KmEuabOrUwdKvUc/tH0yT2kDNO/NylOfzszAJ3iXfQhWm6se1nPqw3Na2V2jRHJABaFc\nlfA7oBlQcp41ogSw3dOGifRUyYI2a5MyKymtM0T+yJz3leKpNy383t/fj+uuuw4A0NfXh1gshrk5\nzRMdGBhAKBRCV1cXWJbFgQMH0N/fjz179uCb3/wmACAYDCKdTkOWy7sFLQS6p14wVmb1O2DVNaxW\nT50zqd/JCrb5nnrDhHK8s/B7LTl1si2tPWrCNlcZcgX1rnJ6+N2Bp2431cuKrKz1kHbao9rcRtjK\nsDiBzFSfSWtCwWqeOgDM5ax/A6tIEvl/Y1mbrko2eVAkdzxZuHmqqoqJ9BQinra6e3c7gfxOZGEt\nVsmpA6WtYslvIJYYdXeZp67VqM/UlE9fyoTdrUhLGaTyaQwVlO+NyqcDxWqCMk+9gnrcOCFvLpeE\nj/c25B4U9bQjJ+f0xT1QXGSYxyXbdZUrCutWhlFvmqc+OTmJ7du363+Hw2FMTEzA7/djYmIC4XC4\n5LmBgQFwHAevV/PWHnvsMezfvx8cV/mHb231gucb24EtEgkgLGk3tjy0EzccCiIS0YQZAY92cgRb\nXGj3BeCOaZ8fbgnor3GCWxQgq4r+nhyjnVxrujqa1tDD6y7MF3aJNe2rHd2yllNlXHLZ9sjfqqpC\nVmRHn+nmXciqGUQiAUynZqGoCjqDbZbviwTCOB07B1eQgejSjHl7OIhIa+XPCPk0I+gLCYgEK79W\nUvPwim7Hx0pVVW0CH6f9rq7Z+s6NkFeboz2R0sKo3a0R2/dHQi3AKCD6gUhb+WsYXtMOdHWE9bSL\n36NdZ6FWF0Ju7T1ZNQOBE7CqI1xmrFeFOjAyPAZPiEVekZBX8ljV0tmQc8gOLlW6oG9rDdp+XsuQ\ndr16A7x+DFROq6vv7NBC6pFIAAG3FxPpyZLtzKa10bJdoWhTv89C0dPagSNTx6B6spiRtejK9p4+\nRMKN+W5dEW3xwwgqIpEAJCYPFyfqx9mKtuEgMAy4AyyScgohT23Xgx1r2rvxysTryIkpRCJaNIsd\nLpzv7eGS66FtQlsYiz6m5LPZKe31HeHWBf39m/VZC1bS5kSURHjiiSfw2GOP4Xvf+17V187MVG98\nUguRSAATEwnMxTVjHktr0QUpo2JiopC/zWvfZXRyFmpKwGxc83DSSUl/jRNkSYUKFWPjMbAMi+lk\nDDzDYW4mjyRjPxZzPpB9VyTUtK92SEnt5j8+O1OyPXIcAc3jVqE6+kwv78VsOoGJiQTOxAYBAB7G\nZ/k+NzTDdHp4GHMpbfUdn81gQqr8GUT4Pjo5AzFbOSqSymXgFTw1HSuB5ZHKZjExkcBMXDt/0nP5\nmrbBKZrnORjTPC1Bdtu+n81rntPA+DhCSnmOO5nRUgjTk0ndWJN0+sj4LHIe7bHZdBx+3ofJybmy\nbQQ5LVry5uA53QMOcqGGnEN2pPKlYfL0nP31JWe183psahYhRXtNKpsBz/KYmEjo5yOvCpAVGcNj\nM3q04kxsAADgZwJN/T4LhRfaAufEyCBOTp4HAwbunL8h3y0SCWAupl1A8VQKExMJJDJJuDlXxe2r\nOW3RPTQxhblsElF3e0P2xw/tvDwxfB5RRksxTCe07aYTMiaU4meoWW0fRqemMcEXH5+KaTn5XFJd\nsN/feH+s9/12NC38Ho1GMTk5qf89Pj6OSCRi+dzY2BiiUU3V+fTTT+Pb3/42HnroIQQCi7dq1tXv\neujPWNJmbgVan1COfAYJwc/lkvCL/qaGNBstlHMyfrUYGncy6rWo5J6xaTxDMJa0FNXvDoRyutCn\nellbRs46rlEnGNsI1yOUA4oz1QfjmlGvNMjDJ1b+DSQlD4HlS84rq0ltiXyyTCRH0BXwqSnDyNXm\nKsXNav9KdepWKZW8nC8JvQPGBjTFEKwuknNQo74cMJa1jSRHtSE0NTQ/qoaVUK5a6Jo8P5Wehgq1\nYVqMqEeLFI6ni/bETtzq1oVypeF3WtLmkL179+Lxxx8HABw9ehTRaBR+v7aC7OnpwdzcHAYHByFJ\nEp588kns3bsXiUQC999/P77zne+gpWVxVaicuU6dLy1pAxqRU9cOPzHqyXyyqTXqQNHoNU4oV92o\n66NpHXymT/Ahp+SRk/OG+mz7nDqglXzJCuko50Ao53BSm6zIyCt5x33fCTzL67nqejrKAcX8HzHq\nFXPquhbBuqwtb6HyN89Uz8l55OScrUjTWKteVL43r5wN0I6jUSBZrU4dKP1N80q+bDFlNamN1HS3\nL9Fytlohi5NTs2eQljINzacD5Tn1jAOjTvLt5Nxp1OjSaKGkcjxVNOp2depEmGduPkTOhZUilGta\n+H337t3Yvn07PvrRj4JhGNx11134yU9+gkAggOuvvx533303PvvZzwIA3vWud2HdunW66v3v/u7v\n9O3cd9996O7ubtZu2sLrbWK1m7Lxxk5UxJKpbKlm9TtLxrvK+jjCZnaTA4oDTxollHNzLrAM2zBP\n3aiA17vJ2Rl10iYym6jJUycGIF/FqBPRldO+7wSBK3rqVjXiTtCNeox46vaNTaza6xrJy+XGrVjB\nIRXeW7nLV6TglU+kp/SFQDPL2QguTtQ9qUrRDj36Yog85JR82Y3aozegKd7YSeSh0sjV5QSptT82\nfRwAsMrXOOU7gMLccR5ZOYe8nIekyhVFckDRYJJj3ajRpX7BBw/vLvHUdaGcaTFuFOsZIR3xar3O\nlypNzal/7nOfK/l7y5Yt+v/v2bOnpMQNAD7ykY/gIx/5SDN3yTFmA2RuEwsAuXk0GAE09TtQmNme\nJ+VszfbUG9v7nWEY+Hgv4rm4bZ20k1nqBKMCXu8m567sqc/m4jUtHIinUc1TJyv42sPvxTbC9TYm\nIjPVE7kkGDAVF3vknLFqgUn2weyp6xUchUVHtS5fYXcrGDCYTE8hp+TBs3zV7maNQGRFpKHddMUK\n0Q6r8LukSI489ZOzp+Hm3OjwRhq234uJl/fAzbl0j7XRnjpQ6OCn5B03bikadc34NspTZxgGEU87\nhpOj+sChrJyFyApl9wJz+2WCE/X+coJ2lLPB3JnMqqTNXItcz+hVACVzwZvZTQ4oerKN8tQBoK9l\nHaYyMzg69abl8/V56ppRZxnWdnYxMSrxbKLYfMZhm1gAZQNAzBTHrtZu1ImxrLcxkbGGNyj6Kx67\nap66ZtxKP98cfi8adevzj2d5hN0tmCyE39s9bTWN8awXsaTpU4Xe7w5z6uaZ6lPpGUykp7CxdV1D\nr4nFhGEYvbMc0NgadYLIakOR0g5rvEnkSQ+/N7C/QdTbDkmR9MheRs6WlbMBxWuqvKQtY7kIWK5Q\no25DRaNuCl1Kcr2jV4tGvTiOcIE89QaewDetux4MGPz89C9L6u4JxZy6E6Ec6SqXxEwmhpAYtDUe\npKtcrUI5gXMmlLNrYlF1+6zWrU1VVdQ7wc94k6zmEZOblb2nni87NwVDAx7AWKNuf/61e9oQyyWQ\nljJ6OL7ZGMVxlUavmnPqiqpAUuWy426e1PbWzEkAwOYGdlxbCpBUgosTm9Ilj0w6dCoyI+czuR4a\natRNYrmslLW8Zt02nroTTcByghp1G8xNTEo7ylmr3+vp/Q5ogqxkg8YRVv1MtrHhd0AL713WsQtD\ncyN4Zfy1sudJ+N2JiI146on8HGK5eMVcsrGrXE0DXRw2n9HD77Xm1A1thOs36kVP3WrkqhGO5eDh\nPZaeOllYmPUepJ2tOfxeqZuhMYfebJEcoXQx7axNLGAvUPQQo17w1N+aOQEA2Ny6oUF7vDQgCvhu\nX2dTIiouTkC2DqNOaFT4HSjOHyBiuYxsbdRJ73+rnPpKEckB1KjbYm43ary5mCdx1Vu2RC42WVWQ\naNA4wmo0I/wOaN46y7D4P6d/pYfCCcSLdhIdICv4keQYFFWxzacTgqLWVa64cHA2Tx0wiarkXMm8\ncMA4drV29TvZfr0LPm+JUa+eu/YJ1kNdFFWBCtXWUyfHbc5m7KqR9hKj3nyRHFAsn2LAVFyw6Z56\nIaViJ1DUw+9SFqqq4vjMKQTFALp8HQ3f98VEN+pNCL0D2vHOK3lHE9qAcqPfSE+daCEmUpNQVKUw\nBrp8f1iGhdtipnpGyqyYWeoANeq2GD11c+/v4iSu+fX3NubUkw0aR1iNolCuwV34vG3Y230FxtOT\neG70pZLnaitp0zz1oUR11TegGTxFVRDLxsGAceSVkDyrUSj3/73xQ3zluQdKyl1qHbtKKGoupHn0\nfi/eZFrE6iM9/YIPyXyqrMmTnYizLPxeo6fezDnqRsiCSuSEiv0bzLXTdu15izn1LEaSY4jnEtjU\n2tfU3hCLQW9hVGtfaG1Ttk+Od6Iw+riayIxl2JLFcSMjkhFD+L2aDsZjMurkGqWe+gWA0StwcaKp\ncYe1+r328LtBKLdQRl0vaWt84cM7114LgeXxizNPlOSrZdW5F60b9aRm1M1z1M2EXJqIbjo76zj6\nYFZKjyXHcXjiiH6jJ8xHKAdo54Wk5MEybM2REU8dnrqkynp0gWA3bMi4jwD09E+lyVntixB+J79V\ntSiYOfyeszHqxuYzJJ/eyAlmS4WNrX340hWfw+Wdu5uyffK7kNHHTowiOadFTqxYyVArXsEDv+DD\neGrCduxqcR9KjXqx7/vKKGcDqFG3xejJmjtZmSdxSYoMjuFqzl0Vw++GnHrTw++NF8oRWlwhHOjZ\ni9lsDL8++Tv98XqEcuTm3FJF5ENq1SVFciSSA8oNwFODz+rPjSTH9f+vdoOwwyik1PLZtS+gyEx1\noHI3OYLh0VL0AAAgAElEQVSdAt4uNSTalLRVmpxFOsixDLtgI0rJflYz6uYyRckup24oadPz6eGV\nlU8ndPiiTYtAkGuIzDJ3IjQjr2nGaOmotx1TmRn9/K/kqWfkjC7oXWnd5ABq1G0xelbmnKouMtJz\n6uXqYkefYWgTq4c/+eXVUc7M9Wuuhptz4afHHtcvnNpqyMWSY1nNUw8aDJ4TkZz2GST0nEMqn8Jz\nIy/q7x01eOr116kXDWZekcrKqpzAMIwe0nTqqQPlCvicTfhdF3sacurVJme5eTfa3GF0eqMLVv4j\nGsLvlRBYAQyYoqdeWKyUlbRxxZnaJ2bOIOJpWzFNZxYS8rvEs4XwuxNPvXDsmzFaOuJph6Iq+lQ6\nu5SZR+8qp13bRDBJw+8XACzDatO2UH5TN/fNrtcbMwvlvLyn6TfLRo9eNeMXfNgd3YlYNoGBxBCA\n2nLqQOlFXy2n3iIajLrT8DtLyp/yeHbkReSUPN6xej8AYCRlDL/XJ5QzthHOy/m6zg2geKNxZtSr\neOqcdU49byhp81UoZyP810v+HJ/a+V+qvq5RkJ4C1RZGDMNA4ASLnLpJ8Frw1E/OnkZGzqw41ftC\nQX6PWA2eOjmfmxGNJO1iyT3HLrpGnIT+kRcBGDx1KpS7MCBGosxTL5uZXd65ytH2jUK5XLLpoXcA\n8BRGunqbuDIlN8rjM6cAAHINynSg6HUyYGwbzxCCruLzTj11juXAMxwyUga/HXwWIivgutUHEBID\nGLUKv9foqRvbCNcbxQE0Y+4VPI6iN3aeup3eQzTk1BVVQVJKOdJzRL2RBRPJAYacuoMcrIsVDT33\n85bvE1gePMvrMx02h1dePn0hqC+nTsLvjS/bjRYU8LpRt7lmb1x7LYJiAD899QucmDmlC2Opp36B\nQIyuvadeDL/Xk6MmnrqkSIWbanNr1AFgR/s2/NXOT2Bn5KKmfcbGglEnQiRJdZ5TB4r54ZArWHUh\nEKoj/A5oDWgGEkOYzszgiq7L4BO86PR1YDozUwzN1VmnLurKcqnuBR8A/PGWD+KOA3/jKC9ql1PP\ny9Y5dUEfyiEhI2k5xoU4/2rFqVCOvJbk1IslbeXvIzd8Bgw2tfY1alcvKIijQxaRTjxdYjib0Qqb\nCDcHEsPa/tlcsy2uEP78ooMAgIePfB+jKW0RT4VyFwgkXGwWyvEm5XDdnnrBYM3lk4WbavM9dYHl\nsaN9W93eoxNCrgB6g104OXsGeUUqtnCt0VOvlk8HNA0Cr6cUnJ/OLk6ECq386+qevQCAzkKt8ljh\nQq9X/c5zRU99Pka90xfFhra1jl5rHIRjRLIpqTOG34uVF83Vc9SDU6EcoP2m5er38vOcGPUef9eC\nXHMrEWMEhGM4R/cTks9uhqdOyi1JjrxSdG1Dyzr80YZ3I5Gfw/85/auSfVsJUKNeAZYlnnpl9ft8\nc+rxQghrJd1gLurYgrySx9nYuaKn7vAYkfxwtXw6oOVSiViuFk+deNPbwpvR6YsCALoK/yVlbfXn\n1Ivd2qQ6z41asfXUbcLvgiFFUJzQtvQ8dT2n7iD8LhqMul2dOlDM/25aoar3hcBl6MPv4d2Ooknu\nJubU3bxLr4QBqi/Er+7Zi8s6LtFFvLWm2JYy1KhXgBiJ8vB7Uf2uqqrlwAwn6EY9V+j7vgA59YXi\noo7NAIC3Zk4Vc+qOw++ax9hSpZscgVzMNRn1gqG+pnef/liXT5tmRfLqZNpTraWKRFmelrOW3dya\ngX1O3Sb8bkgRkGFCzZ4QWA+1ht8lVYasyBXn2JNQ60qsT18ojNFLp+VgvYFuMGD0xjiNhojlnOwT\nwzD44y0fRHfhml9J997m322WKaqqQlW01ac5/M6xWk16XslDVuXCjbseoZxmhIiCdCV56tsiG8GA\nwVszJ7GjfSsA57XxtXjqQLEBTS2K/l3RnYh627HFIJTqNHnqdtOeqkFEaOm8JsYyK8+bgXG6nRG7\n8Lt+Dsv5BetmWA81CeUMpYp5m5I2QEuzjKcm0deyroF7emFhjF45FZltb9uC/371PzRtkRv1tuPE\n7GkAzjxvFyfiv17ySRybPo5ef3MWGosBNeoGVFXF8fMz+HX/Wbz45jjm1uTBeoD+1yawVZjBljXF\nelaB5fXmIkDt3eSAohAvtgLD7z7Ri9XBHpyNn9dbVTr1pPta1sIv+ByLmEJ1hN/fufbassf8gg8B\nwa/XqmelbM35dKDoqROFtbmbWzPgWR5uzlWhTr18H0RWQF7JV52lvpgQr9pVYewqoViqmKsYfv/w\nxvfi/X3vqjmtQiliTIfUErpuZtTK2OXQqfAt5AribV2XNWuXFgVq1A388D9P4tcvDQAA3CIHr0tA\nBsBMTMb9P3gFuza248PXbEBH2KuP17TzhJxQDL9rDRxWUggI0ErbzsUH8Gahc5fThc/qQA/ue/td\njj8nqIff559N6vRFcXL2DHJyDlk5h0CVkjoryLlAjHo9zWfqwVfo/26k0vnJs7xm1Beom2E99PpX\n4brVB3BF56VVX2ts/1sp/M6x3IqZnb1YiCWe+tIQmRnD7/UsxlcK1KgbWN8dxPWXr8aW3hAuWhfG\n1195FQOJWbz7ivV441AAr5yYxGunpvDefeu0G2JBCAXU542xBc+SdGVaip7SfNjcugG/OvekXjta\niyddC/V46nZ0+TpwYvY0RlPjyMq5um4OQpmnvjCXmU/wYiQ5WvJYpbkEZGFa9NSXnlCOYzm8f8NN\njl5bnKmer1jSRpk/Ilt7+L3ZkFp1YGW1fa0VatQNXLGtA+8+sAETE5qRJUZiVTiE9/zJJXj5rQn8\n6xPH8ZPfnYZ/lwyPR7btXOUE4lkmJc27WmlGfX1oLXiWNyx8mmTUxdpz6naQsrbz8UGoUOHiaw/R\nkhy6nlNfIKPuF3zIKxJyck43cJXmuYucgFQ+bTDqS08oVwvGnv4k7SAu0LG/0HDVIZRrNu3usD6p\ncaGuuaUIVb9XQG8+w7vAMAwu2xLFVz55Ba7c3ol8HkhksnjyVS1cX48YyhwuXoolRfNB5ASsD67R\n/14enromljsbL6RhGuCpL5S3aKWAt2sTS/aL5NR5hlv2IUvj+NVihIJ66s1ArEMo12wETkCbuxVe\nYWmkAxYLatQrQMaTGlelPreAv/jDbegI+cGwMn718jkAwJFTs3jpzXHk8rLj7bMGz1Jg+QXLvS4k\nmwy9tZvlqbe5W+Hh3WhrwGAO4qmfjZ8HUF9ujngJ6QUOv1vVqlcLv+eUfKFFsX/ZzxS3VL83cMQn\npUhJSdsSWgwe3Poh/OnWjyz2biwq1KhXgHjS5pI2AAj5PACrYN9OLY8zOpnB//jpEfw///wMTg7F\nHG3fWP/sF5b/TdUK41hLrkmT4dy8G3de8Xm8p+8P5r2tgOCHj/fqterz8dTJsIiFWqyRWeiz2eL5\nVyn8LrA8FFVBPJdYkjXqtVLMqRuEchdwGLaZGI/rUvHUAW2O/Pa2zYu9G4sKNeoV4Fnr5jNA8SZ5\n2XZtxvS1u1bjD65YjXRWwqP/eQKqqlbdvjH8vhSVx41gTaBHN4zN8tQBrVa9EV4ZwzDo9EX1FrL1\n1KnzJvU7vwB16gDQURAKjaUm9Mck2d646f3flXxTWncuNKXqdyqUayZa3lo7tkvJqFOoUa9IsaNc\nuaeu37gLYqj2oA8fumYDdm+K4NRwHK+fnqq6fdaQA15pIjkCx3LYGt4EgRWWTc62qxCCB2pvEQsU\nDQmZJ79Q3mJHQQ9gnDRXybgZH1sJnrrLZNRZhqWla02EHG/3Eilpo2jQ2FQFNrb0YSozYzn+UzSF\nWImRf9++dXjl+AT+/ekz2LG+rWJIvcRTX6FGHQA+tuUDiGXjy2YSUqfBqNcXfi+9rBZKrBXxtIFl\nWH0gDYCKYWijUV8JkSJzSdtK1KgsJUROBPJJeJbJdX2hQI16Ba7u3Yure/daPsebxFDkptkT9WPP\n1iheODaOV09MYtemiOX7AXNOffnfVO3wCd5l5QmWeuq137BIC9aF9tR5lkfE04bR5DhUVQXDMBVV\n4KIhLbASzj/dU1dyyM1jOh7FGWQR5WTsKmXhoOH3OjF3DTPeQN67bx0YBvj3p89AqZBbZy+AnPpy\nhPSAB+rLqQOlhnwhjUunN4qUlEYirw0JqtQjwGjoV4JRN7eJXaiqgwsVkebUlyTUqNcJERmZw+8A\n0NXmw9u2dWBwYg4vvzVh+X6gtK7atwJuqiuFkBjUb1T1lusYDflCKrDNefW8IoFnOMtJc2JJ+H0l\nCOUKwj9ZK2mj5WzNhURGqFFfWlCjXifFsiXrrmHv2bcOLMPgp0+fhqKoUFQV6ayEeCqnK+ONOfUA\nNepLBoZh0OnVQvD1Dv3gSzz1hTPqnV6zUc/b5vSN+7Xcu8kB5b3fafi9uVzeeSmu7NqzbASwFwo0\nPlUnZvW7+QbS0erFVTs68fvXRnDzg79FTlL05zb0hPBf3rkFrMsYfl/+ntJKojfQjTPxc3UNdAFK\nveCF7GpGUgejBbGcpEi2iwrjsJOVEClycaXhd2rUm8tV3XtwVfeexd4Niglq1OvESdew9+1bh5Gp\nJCRZhVvg4BI5ZHMy3hqYxd3fewH7rygajJXgKa0kblp/Ay6OXIR2T7iu9y+Wp95R8NTHjOF3O6Ne\nklNf/otKklPPyBnIquxoBjuFstKgRr1Oiv29M4W/yw9lOOjG3/9p+azeV05M4H/96jieemUE7p3a\nY2qeznZeSvgFH7aEN9b9/pKc+gIaFzfvQqurRffU80reNue50sLvHMuBZzi9TS4d5kK5EKFnfZ2Y\n1e+1KG13bYxgy+pW/OB3r+JlAKoK/P23D2FNRxAXrQ/jss1RrOm0DvuqqorhqRRODM7ixMAsTgzG\nkMnJ2LM1irfv7MKajsCKbDe73DAOUFnoVqWdviiOTR9HWsogL0sIinY5daJe9qyYJi0iJ+pGnYbf\nKRci1KjXCblhZCp46pXwuHi87+19ePlZwMW4sW5NGCcGZ3FuLIH/238Om3pbcMOeXlyyoR0sy2B4\nMon+o6N47ugYpuIZfTs+Nw+OY/HkoSE8eWgIPREf9u3owp6tHWgNUAHLYlGqfl9Y49Lp1Yz6WGoc\nUoXcMokgrAQvnSByIuI5bXQyDb9TLkSoUa8TcsMgPcLruXGTMqNWbxCf/9guZHISjp2dwZOvDOHI\nmWkcH5hFtMUDj5vHuVHtRuUWOVyxrQObe1uwsbcFXW1eqKqKI6en8fvXRvDqyUn88Dcn8cPfnMSG\nnhD2bI5i69pWTMczGJxIYnB8DpOxDDrbvOjrDqKvO4Tudh9Ylnr3jcQYuVnoeukOn9bwaCQ5DkmV\nbRecRMy3EvLpBBcnLnjTHwplKUHP+jopbwVazzx1LeRJGn+4RR67NkWwa1MEQxNz+PVLg+g/Ooqp\neAYX97Xhyos6cfGGdrgEU6iUYXDxhnZcvKEd8VQOL705jpfeHMdb52dxctB6YtzJoRh+/9oIAMAl\ncGjxi/B7BO2fV8DFfe3YvSlSYuxVVcXrp6fws9+fRSyZRcArIuAVEPCI6Gzz4qJ1YazpCFguEEiH\nswsFcZHq1IFiWdtQYhiA/blJHveLK8tTJ9DwO+VChBr1OjHfKOu5cbs4F0RORIe3vey5VRE/PvEH\nW/DhazZAhQqf29kNKugVce3uHly7uwexuSxePj6B08NxRFs86In60RPxIRx0Y3gyidMjcZweiuPs\naALxVA6TsQxkRYs8PPP6KDpaPbjxitXYe1EnBsaT+LcnT+KtgVkwAFqDLoxMJnHOUKr37787DZ+b\nx/Z1YazuCuHccAzjs2lMzKThEjl85NoN2LMlWmbcVVXFXDoPv0dYMYafnB8MmJImQwsB6V0/MDcE\nwN64keYsK6GcjUAU8AA16pQLE2rU68R8w6jnBiJyAu562+fh5e09Ja+7/p8o5HcVDHz5c6s7Aljd\nEcDVl6zSH1NVFemsjMlYGr85NIhnj4zif/7yLTz25Cmkslq70Z19bfjggT70RLWQbTYnI57K4cxI\nHEfPTOPImWm8cGwcLxzT1Nc8xyLS4sZkLINv/+woXjw2joM3bELI70JektF/dAy/enEAw5NJdLR6\ntEjFxnb0dYcwPpvG8YFZvHV+FmdG4pBkBSzDgGEAlmWwqbcF+3Z2YX1XsOJiIC/JmI5n4XHzCHrL\nqwxUVcXpkTgSyTwuWh8Gz5X2ZJpL5/G/nzmL105N4qYr12Lvjs6qiw+yyBNYfsEXKn7BBx/vxWBi\npGRfzLS52yCyAtYGexdy95qKsYsczalTLkSoUa8T442SAWPZhtMJLa5Qo3Zp3jAMA6+bx2p3AJ/4\ng61439vX49cvDeDpwyPo6w7ig1f3YfPq1pL3uEQOEdGDSIsHl2/tgKqqGJlKgRN5CFDREnCBZRiM\nTafw//7iGF4+PoE3z8/gim0dePHNcSRSeXAFA31uNIFfPn8ev3z+PHiOgSQX++b73DxcIge50J0v\nl5fx21eH8dtXh9HV5sW+nV1o8bkwO5fFzFwWs3M5TMczmIplEEvmtO8HYGNPCLs3R3FpIbXQf3QU\nz7w+gpEpTTEd8om4dvcqHNi1Cl4XjycPDeHnz5xBMqMtar73i2N4/o1RfPydWxBpsR85SQwKzwpI\nZfKIJXOIJ3OYmM1gbCaF0ekUxmfS6Gj14Po9vdiwKlSz8R+dTuHQ8QlkcjLykoxcXoHAs7hhTy86\nfFGcjp0t7IP1ZR5yBfDA/v9W97m7FDF2AKRT2igXIoyqVpg4sgyYmEg0dHuRSMDRNofnRvEPLzwI\nQLt5/Per/6Gh+7HcsTqOiqriyUNDeOypU8jmZXhdPA7s6sZ1l/aiNaB57m+cncErJyZxajiGVe0+\nbO5twabVrehu85YYPUVR8cbZaTz92gheOTFRsgAgcCyDcNCFtqAbbUE3xmfTODkYA3klA0CFFk3Y\nvakdQa+IZ46MIJ2VwXMsQj4BU/EsPC4ef3jVWuza1I4fPHECr52agiiweM/edeho9SAvKchJCrJ5\nGbOJLKYTWZxRX0AicAxqzoXMq9dYHiOeYyHJWvpifXcQN+zpxaWbI+DYopG1PI6KisdfPI9//90Z\n/f1G3CKH9ZefxZncUQDAvu4r8N6178WTrwziuaNj8Lh5dLR4EG3VFmMsyyAvKZBkRf8uubyMbF5b\nKIgCi6BXRNCn/YsU3ssuUASiFj3Gv7zxQ7wweggA8KGN78XVvXuhKCraIwFMT801czcXlXRWwumR\nONZ0BOD3NG8x4/T+SKnMfI9jJGLf6ZIadRNOD/ZEagp3P3cfAMDHe3H//rsbuh/LnUrHcSqWwbmx\nBLatbYVbnH+waC6dx6HjE1BUFS1+F1r9LoT8IoJesUy0NzuXxSvHJ3Do+ATysoortnXg8q1RXbOQ\nzkr4/esj+M+XBjEZy+CaXavwnn1rESiE7VVVxfNvjOFfnziBuXTedp/4VSchrDoJTvKhL/Y+3SC2\nh9zoDHvREfYi5BNxfGAWj78wgMMnJ6ECYBkGfq9QMKICejuD6GnzYkNPCNEWD0anU/je/z2GU8Nx\nBL0CPnB1H6ItHogCB5FncWo4jkd/cxL51hMQVr8FAOhldmDg1dVIZ2UIvLaQmO9V7xI49Eb96O3w\nozfiR2fYi8427TsxDINsTsbYTApjM2nMJrJgWQYcy4BlGYg8i46wF51hLzwu698/lZFw+NQkXnpz\nHEfPTMPj5tHd5kNXmxddbT70RHzojfrhNWlNfvDmT/D74ecAAJuY/ciOdOPMSAI8z2LP5giu2tGF\nvu7K6ZpaiadyeOGNMXSGvdi2Nly1kmQ6nsEzR0YxHc9A4FgIvPZPUYFMTkImJyOTk+HiWWzsbcHm\n3hZEWz2W+zwylcR/vjyIZ46MIpuTwTDaAnHn+jbs7GvH6g5/Q78rua6VQkROkpSKn6EoKhgGK0Yr\n0yioUa/AYhn12WwMf/+M5p2HxADu2XdnQ/djubPcV/SKqkKWVQi8dWg6nsrh+TfGABX6TdklcAj5\nRYQDbrw48yz+9+lfosvXgTuu+GzVzxudTuE/XxrEufEE4skcEqkc0lm55DVBn4h0VkJeUnD51ij+\n5PpN+mLDyEwii2//5jcYDDwJAMgPr4N3Zgdu2NOLqy9ZBVFgMRXPYHwmjcnZtB6tEHgWAsdCFFiI\nvNbWWOBZ5PIK4skc4qkcYskcRqdSOD+ewMhkqmy0sFvk4BY5zM7lHB3n1oALHa0e8DwLlmHAMgyy\neRknBmf16EtH2AtJUkr6MxDagi70RgOQFRXjs2nM+F8B13kGAJA7tRPKVDe62n3I5CRMx7P69i7u\na4NL0L4fz7Hwunn0RDQhqVioLiElpq+dnsLA+By2rmnFlds70d2uCQvTWQm/enEAv3zhPLI57bcK\n+UW8bVsHrrqoC11tXl0DIisqXjs1hd8dHsbrp6dqXlSF/CLWdQYhCiw4lgXPMZiMZXDs3Ix+HC/d\nHMH50QRODsX136XFL2JnXzsu7mvDtrVhuMRy0aaiqBiaTOL0cAyiwGFNRwCdYa++OFFVFfFUHsOT\nSUzEs3j1rXGcGJzVU1LtITfetr0DV2zrREerB6eGYnj99DReLxw3AGAYLXLmEjjs2hTB/ou7G764\nGhifw/NvjGEuncOqdj9WRXzoifjh9wjauTuXw8xcFsl0HrKiav9kBaLAYcf6Nsu+HmMzKRw/P4ue\nqN+2sqcSc+k8Xjk+ge52H/pWFVOty9ao33PPPTh8+DAYhsHtt9+OnTt36s89++yzePDBB8FxHPbv\n349bbrkFAHD8+HHcfPPN+MQnPoGDBw9W/YzFMupz+SS+8PSXAQBt7jD+21W3NXQ/ljvL3ajPlycH\nfo/HTvwcqwOr8IU9f1vXNnJ5GWkZeOHIME4NxXBiMAaWAT76jo24dHO04nsnU1O4qxBJ2ua+An+x\n5326sWoUubyMockkhieTGJ1OYXRK0wpkcjI6wh50tGoRiXDABRWArChQFE2MOTadwshUEiPTKd3Y\nGumN+nHZ5ggu3RzVjWgmJ2F0OoXhySQGJ5IYGJ/D4PicrpnwewS4V59CMvQGAOCd0ffhHRsuh9fN\nIxz24XcvncczR0a1KI1UnrYAtEhJV5sXfo+AU8Mxy7TO2s4AtqxuxTNHRpBI5RH0Crjx8tWYjGXw\nwrEx3djZsb47iP0Xd2PDqpCe8shLChhGK2t1ixzcLh5zqRzeKghF3xqYRTxZvlDa1NuC6y7twa5N\n7XraJpnJ4+iZaRw+OYXXT0/pESWeY9AWdKPFEMkanU7h1HCsbAEpCixWRwMAA4xMJsu+U3vIjY09\nLVCh4pXjk8jmtfeLPKsPr+I5Bms7g+A5RtPCKCqmE1nMJLTfe1W7D1ft6ITPLSCXl/XjgIJnzzIA\nx7JwCSzcLh4eFw+PyBWFrIX82fGBWfQfHcXgRNLyeJM0WzU29oRw+dYObFgVwtGz03jx2DjOjRXv\nYT43j61rw9i6phWyrGA6nsV0IoOZRBYhv0uLXEX9WNXuw9nRBPqPjOL101OQFRU7+9rwdx+6WN9W\nM41604RyL7zwAs6dO4dHH30Up06dwu23345HH31Uf/6rX/0qHn74YXR0dODgwYO48cYb0d3dja98\n5Su48sorm7VbDWMx65ApSx9yTsxnQpsocFjVHUDIzeH6y2pTqIc9rRBZATklj42rwg036GT/1nUF\nsa4rOK/tSLICWVGhqioURfPqrMLybpHH2s4g1naWfl48lQPPat72r8/J+Okpzaiv62zVq0c4jsVF\n69tw0fo2pLMShqeSkCQFeVmBJKmIp3IYGJvD+fEEzo/PYWgyidUdfuzs08LYPREfDp+cQv/RURw5\nPY2zowm4RQ7vf/s6XL+nV08jffQdG/HaqUldBKqqKlRVi/ysjgaw/5Ju9EadNfsJ+USsivhx7e4e\nqKqKZEaCJGvaBxJFCgfL+/r73AIu39qBy7d2QFG0yo7DJyfxxtlpTMUyGJtJl7y+I+zFpZtC6FsV\nRF5ScG4sgXOjCZwejgMAIq0ebOptQXe7D9v7IogGxZLPzeZlHD45ieeOjmF8No3Nq1uwY30btq5u\nLYsMKKqKY2dn8LvDwzh0fAL/9uQpR8eiGhzLYNfGdly5vROdYS8GJ+cwNJHE0EQSyUweIb8LLT4R\nIb+IgFcExzLgOAY8yyKW1Hp7HC+03TZuc2dfG7avDWNocg5HzkzrPUCssHq8N+rHlds7sW9nV0O+\npxOaZo36+/tx3XXXAQD6+voQi8UwNzcHv9+PgYEBhEIhdHVpX/TAgQPo7+/Hxz72MTz00EN46KGH\nmrVbDWOxpnBRlgekxHGxzg2WYdHhjWBgbnjJ12vzHAt+HmsOY5misfmMaFPS5nHx6Ou2rzpRVBXZ\nnFy2sLhiWweu2NaBWDKHk4Oz2NTbUpb+EHgWl26OVo2k1ArDMHUJ4FiWwYZVIWxYFcIHDvQB0BZR\nJJ0SDrotyzwBrRQUYEpSUFYepkvg9EVE1f1hGGxfF8b2dWHEUzkcKaQixEIqhHyWWqhyURRt0ZDO\nSUhntX+yogJqwftWgY6wB5dujpYcnx6HCyfCOy7twUwii5ffGseZkQS2rG7Brk2Rkm2qqorR6RRO\nDMbgFjmECwLckE/E7FwW58fnMDCWwNBkEu0hD962vQM9kYXv1ti0O87k5CS2b9+u/x0OhzExMQG/\n34+JiQmEw+GS5wYGBsDzPHi+tl1qbfWCn88dwYJKoQ0jHMtBVmR4XG7H77mQuJCPSVtG++4+9/zP\njXrfvya8CgNzw2gN+i+Y36J9rujFR8IhRNqL37tRxyASATasbWvIthaL+fiNDTuOAPrWLJ3jGIkE\nsGl9eSMwI9FoEDu3dJY93tEBbO6L1Px5zWDB3Ihmpe5nZlIN3V4tuQ6BESBDBmTmgs4fW3Gh59TT\nc1oOUpXmd27M5zi2cFpPgUxKumB+i2yqmCtPxvOYULXvfaGfj42CHsfG0MycetO6TkSjUUxOTup/\njzAqpRkAAAq3SURBVI+PIxKJWD43NjaGaLSx4aqFQM+bcjT8TimFb0BOfb7s7rgYG1vWY1Nr36Lt\nw0IjLtIcewplqdA0o7537148/vjjAICjR48iGo3C79fyCz09PZibm8Pg4CAkScKTTz6JvXv3NmtX\nmgavtwKlNw9KKYudUweADm8Ef7f7rxB2t1Z/8QpBpB3lKBc4Tbvj7N69G9u3b8dHP/pRMAyDu+66\nCz/5yU8QCARw/fXX4+6778ZnP6vV777rXe/CunXrcOTIEdx3330YGhoCz/N4/PHH8a1vfQstLS3N\n2s15QYQ4VChHMaP3fqdRnAXF2CZ2oUfeUihLgaae9Z/73OdK/t6yZYv+/3v27CkpcQOAiy66CI88\n8kgzd6mhFEOs9OZBKWWVvwtXdF6Kyzp2LfauXFDQ0auUCx1qjeYBuWlQo04xw7M8Pr7tI4u9Gxcc\nxtGrdiVtFMpKZuWMZ1oEjOM1KRTK4kPC7xzDrajpcxSKU+hZPw+KYijqEVAoSwESfqfXJOVChRr1\neSDQnDqFsqQQWB4MGCpQpFywUKM+DwSqfqdQlhQMw0DkBFrORrlgodZoHtA6dQpl6dHiCsHLexZ7\nNyiURYEa9XlA1e8UytLj05f8BTi28VPpKJTlALVG84Cq3ymUpUere2k2q6JQFgKaU58HS6EVKIVC\noVAoBGrU54GwBIZ2UCgUCoVCoEZ9HnT5OyGwPKLeyjN4KRQKhUJZCGjceB5cErkIX9//FSrKoVAo\nFMqSgHrq84QadAqFQqEsFahRp1AoFAplhUCNOoVCoVAoKwRq1CkUCoVCWSFQo06hUCgUygqBGnUK\nhUKhUFYI1KhTKBQKhbJCoEadQqFQKJQVAjXqFAqFQqGsEKhRp1AoFAplhUCNOoVCoVAoKwRq1CkU\nCoVCWSEwqqqqi70TFAqFQqFQ5g/11CkUCoVCWSFQo06hUCgUygqBGnUKhUKhUFYI1KhTKBQKhbJC\noEadQqFQKJQVAjXqFAqFQqGsEPjF3oGlxD333IPDhw+DYRjcfvvt2Llz52Lv0rLh/vvvx8svvwxJ\nkvCpT30KO3bswK233gpZlhGJRPCP//iPEEVxsXdzWZDJZPDud78bN998M6688kp6HOvg5z//Ob77\n3e+C53n8zd/8DTZv3kyPY40kk0l84QtfQCwWQz6fxy233IJIJIK7774bALB582Z8+ctfXtydXMIc\nP34cN998Mz7xiU/g4MGDGBkZsTwHf/7zn+Nf/uVfwLIsPvzhD+NDH/rQ/D5YpaiqqqrPP/+8+pd/\n+ZeqqqrqyZMn1Q9/+MOLvEfLh/7+fvWTn/ykqqqqOj09rR44cEC97bbb1F/84heqqqrq17/+dfX7\n3//+Yu7isuLBBx9U/+iP/kj98Y9/TI9jHUxPT6s33HCDmkgk1LGxMfWOO+6gx7EOHnnkEfWBBx5Q\nVVVVR0dH1RtvvFE9ePCgevjwYVVVVfUzn/mM+tRTTy3mLi5ZksmkevDgQfWOO+5QH3nkEVVVVctz\nMJlMqjfccIMaj8fVdDqt3nTTTerMzMy8PpuG3wv09/fjuuuuAwD09fUhFothbm5ukfdqebBnzx58\n85vfBAAEg0Gk02k8//zzeMc73gEAuOaaa9Df37+Yu7hsOHXqFE6ePImrr74aAOhxrIP+/n5ceeWV\n8Pv9iEaj+MpXvkKPYx20trZidnYWABCPx9HS0oKhoSE9gkmPoz2iKOKhhx5CNBrVH7M6Bw8fPowd\nO3YgEAjA7XZj9+7dOHTo0Lw+mxr1ApOTk2htbdX/DofDmJiYWMQ9Wj5wHAev1wsAeOyxx7B//36k\n02k9vNnW1kaPpUPuu+8+3Hbbbfrf9DjWzuDgIDKZDP7qr/4Kf/zHf4z+/n56HOvgpptuwvDwMK6/\n/nocPHgQt956K4LBoP48PY728DwPt9td8pjVOTg5OYlwOKy/phF2h+bUbVBp99yaeeKJJ/DYY4/h\ne9/7Hm644Qb9cXosnfHTn/4Ul1xyCXp7ey2fp8fRObOzs/jnf/5nDA8P4+Mf/3jJsaPH0Rk/+9nP\n0N3djYcffhhvvvkmbrnlFgQCAf15ehzrx+7YNeKYUqNeIBqNYnJyUv97fHwckUhkEfdoefH000/j\n29/+Nr773e8iEAjA6/Uik8nA7XZjbGysJAxFseapp57CwMAAnnrqKYyOjkIURXoc66CtrQ27du0C\nz/NYvXo1fD4fOI6jx7FGDh06hH379gEAtmzZgmw2C0mS9OfpcawNq2vZyu5ccskl8/ocGn4vsHfv\nXjz++OMAgKNHjyIajcLv9y/yXi0PEokE7r//fnznO99BS0sLAOCqq67Sj+evfvUrvP3tb1/MXVwW\nfOMb38CPf/xj/OhHP8KHPvQh3HzzzfQ41sG+ffvw3HPPQVEUzMzMIJVK0eNYB2vWrMHhw4cBAEND\nQ/D5fOjr68NLL70EgB7HWrE6By+++GK8/vrriMfjSCaTOHToEC677LJ5fQ6d0mbggQcewEsvvQSG\nYXDXXXdhy5Yti71Ly4JHH30U3/rWt7Bu3Tr9sXvvvRd33HEHstksuru78bWvfQ2CICziXi4vvvWt\nb2HVqlXYt28fvvCFL9DjWCM//OEP8dhjjwEA/vqv/xo7duygx7FGkskkbr/9dkxNTUGSJPzt3/4t\nIpEIvvSlL0FRFFx88cX44he/uNi7uSQ5cuQI7rvvPgwNDYHneXR0dOCBBx7AbbfdVnYO/vKXv8TD\nDz8MhmFw8OBBvOc975nXZ1OjTqFQKBTKCoGG3ykUCoVCWSFQo06hUCgUygqBGnUKhUKhUFYI1KhT\nKBQKhbJCoEadQqFQKJQVAm0+Q6FcwAwODuKd73wndu3aVfL4gQMH8MlPfnLe23/++efxjW98Az/4\nwQ/mvS0KhVIdatQplAuccDiMRx55ZLF3g0KhNABq1CkUiiXbtm3DzTffjOeffx7JZBL33nsvNm3a\nhMOHD+Pee+8Fz/NgGAZf+tKXsGHDBpw9exZ33nknFEWBy+XC1772NQCAoii46667cOzYMYiiiO98\n5zvw+XyL/O0olJUJzalTKBRLZFnGxo0b8cgjj+BjH/sY/umf/gkAcOutt+KLX/wiHnnkEfzZn/0Z\nvvzlLwMA7rrrLvz5n/85vv/97+MDH/gA/uM//gOANk7205/+NH70ox+B53n8/ve/X7TvRKGsdKin\nTqFc4ExPT+NP//RPSx77/Oc/DwD6QI/du3fj4YcfRjwex9TUlD5T+/LLL8dnPvMZAMBrr72Gyy+/\nHIA2thPQcurr169He3s7AKCzsxPxeLz5X4pCuUChRp1CucCplFM3dpFmGAYMw9g+D2ihdjMcxzVg\nLykUihNo+J1Codjy3HPPAQBefvllbN68GYFAAJFIRJ/e1d/fr4+K3L17N55++mkAwC9+8Qs8+OCD\ni7PTFMoFDPXUKZQLHKvwe09PDwDgjTfewA9+8APEYjHcd999AID77rsP9957LziOA8uyuPvuuwEA\nd955J+68807867/+K3iexz333IPz588v6HehUC506JQ2CoViyebNm3H06FHwPF37UyjLBRp+p1Ao\nFAplhUA9dQqFQqFQVgjUU6dQKBQKZYVAjTqFQqFQKCsEatQpFAqFQlkhUKNOoVAoFMoKgRp1CoVC\noVBWCNSoUygUCoWyQvj/ARzWGuomtV3HAAAAAElFTkSuQmCC\n",
            "text/plain": [
              "<matplotlib.figure.Figure at 0x7fd5a1d250b8>"
>>>>>>> 1107e92a820e8c3d9c6e25526417fd15c031a83d
            ]
          },
          "metadata": {
            "tags": []
          }
        }
      ]
    },
    {
      "metadata": {
        "id": "kgeA38qamvYV",
        "colab_type": "code",
        "outputId": "7112f5ef-fa9d-46ac-d8aa-9a4473ee1478",
        "colab": {
          "base_uri": "https://localhost:8080/",
          "height": 34
        }
      },
      "cell_type": "code",
      "source": [
        "plt.savefig('mse_sigmoid_sigmoid_sgd_semilogy.png', quality=100, dpi=500)"
      ],
      "execution_count": 0,
      "outputs": [
        {
          "output_type": "display_data",
          "data": {
            "text/plain": [
              "<Figure size 576x396 with 0 Axes>"
            ]
          },
          "metadata": {
            "tags": []
          }
        }
      ]
    },
    {
      "metadata": {
        "id": "EyKoQM-Xpe2Q",
        "colab_type": "code",
        "colab": {
          "base_uri": "https://localhost:8080/",
          "height": 1362
        },
        "outputId": "bfa95174-3ade-4236-bddf-c2c078401b0e"
      },
      "cell_type": "code",
      "source": [
        "model = keras.Sequential()\n",
        "model.add(keras.layers.Dense(40, input_dim=train_input.shape[1], activation='sigmoid'))\n",
        "model.add(keras.layers.Dense(1,  activation='sigmoid'))\n",
        "\n",
        "model.compile(loss='mse',\n",
        "              optimizer=optimizers.SGD(lr=0.17),\n",
        "              # metrics=['mse', 'mae', r2])\n",
        "              metrics=['mse', 'mae'])\n",
        "\n",
        "epochs = 150\n",
        "history = model.fit(\n",
        "    train_input, train_output,\n",
        "    epochs=epochs,\n",
        "    batch_size=30,\n",
        "    validation_split=0.1,\n",
        "    verbose=0)\n",
        "\n",
        "# loss, mse, mae, r2_value = model.evaluate(test_input, test_output)\n",
        "loss, mse, mae = model.evaluate(test_input, test_output)\n",
        "\n",
        "\n",
        "print(\"MSE: \", mse)\n",
        "print(\"MAE: \", mae)\n",
        "# print(\"R2:  \", r2_value)\n",
        "print(\"Loss:\", loss)\n",
        "\n",
        "\n",
        "df = df_backup.copy()\n",
        "\n",
        "df_full = df.copy()\n",
        "\n",
        "plt.semilogy(history.history['loss'])\n",
        "plt.semilogy(history.history['val_loss'])\n",
        "plt.title('Model loss')\n",
        "plt.ylabel('Loss')\n",
        "plt.xlabel('Epoch')\n",
        "plt.legend(['Train', 'Test'], loc='upper right')\n",
        "# plt.savefig('mse_sigmoid_sigmoid_sgd_semilogy.png', quality=100, dpi=1000)\n",
        "plt.show()\n",
        "\n",
        "for sort in sorts:\n",
        "    print(\"using:\", sort)\n",
        "    df_sort = df.loc[df_full[sort] == 1]\n",
        "    \n",
        "    features = ['t_min', 't_max', 'dlen', 'day']\n",
        "    features.extend(sorts)\n",
        "    data = df_sort[features].values\n",
        "    target = df_sort['state'].values\n",
        "    \n",
        "    blossum_dates_dataset = df_sort.loc[np.logical_and(df_sort['state'] > 0.59, df_sort['state'] < 0.61)]\n",
        "    \n",
        "    predicted_blossum = model.predict(data)\n",
        "    \n",
        "    df_predicted = df_sort.copy()\n",
        "    df_predicted.insert(1, 'new', predicted_blossum)\n",
        "    \n",
        "    blossum_dates_predicted = df_predicted.loc[df_predicted['new'] >= 0.6]\n",
        "    blossum_dates_predicted = blossum_dates_predicted.loc[blossum_dates_predicted.groupby('ID')['new'].idxmin()]\n",
        "    \n",
        "    q = blossum_dates_dataset['ID'].isin(blossum_dates_predicted['ID'])\n",
        "\n",
        "    val = np.mean(np.abs(blossum_dates_dataset['d'].values - blossum_dates_predicted['d'].values))\n",
        "    var = np.std(np.abs(blossum_dates_dataset['d'].values - blossum_dates_predicted['d'].values))\n",
        "    print(\"predicted:\", sum(q), \"\\n\", \n",
        "        \"max:\", np.max(blossum_dates_dataset['d'].values - blossum_dates_predicted['d'].values),\n",
        "        \"min:\", np.min(blossum_dates_dataset['d'].values - blossum_dates_predicted['d'].values),\n",
        "        \"abs:\", val,\n",
        "        \"±\",    var)\n",
        "    print(pearsonr(blossum_dates_dataset['d'].values,\n",
        "             blossum_dates_predicted['d'].values))\n",
        "    print('\\n')"
      ],
      "execution_count": 345,
      "outputs": [
        {
          "output_type": "stream",
          "text": [
            "952/952 [==============================] - 0s 47us/step\n",
            "MSE:  0.01786298312622459\n",
            "MAE:  0.09615103656253896\n",
            "Loss: 0.01786298312622459\n"
          ],
          "name": "stdout"
        },
        {
          "output_type": "display_data",
          "data": {
            "image/png": "iVBORw0KGgoAAAANSUhEUgAAAgEAAAFnCAYAAAA/o5q7AAAABHNCSVQICAgIfAhkiAAAAAlwSFlz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\n",
            "text/plain": [
              "<Figure size 576x396 with 1 Axes>"
            ]
          },
          "metadata": {
            "tags": []
          }
        },
        {
          "output_type": "stream",
          "text": [
            "using: name_Altom\n",
            "predicted: 14 \n",
            " max: 9 min: -7 abs: 3.2142857142857144 ± 2.540488463396963\n",
            "(0.8175033616087818, 0.00035549689819438986)\n",
            "\n",
            "\n",
            "using: name_Fiskeby 1040-4-2\n",
            "predicted: 18 \n",
            " max: 5 min: -7 abs: 2.9444444444444446 ± 2.0404852969118843\n",
            "(0.9073100015867673, 2.0413839328211382e-07)\n",
            "\n",
            "\n",
            "using: name_KG-20\n",
            "predicted: 15 \n",
            " max: 22 min: -4 abs: 4.8 ± 5.443038367186719\n",
            "(0.7821417966568956, 0.0005697260793255204)\n",
            "\n",
            "\n",
            "using: name_Okskaya\n",
            "predicted: 19 \n",
            " max: 12 min: -8 abs: 3.789473684210526 ± 3.488008742269661\n",
            "(0.7955481724565057, 4.6548793111867246e-05)\n",
            "\n",
            "\n",
            "using: name_P·EP 18\n",
            "predicted: 16 \n",
            " max: 2 min: -8 abs: 3.375 ± 2.2878756522153907\n",
            "(0.8951417599447004, 2.8211569819249306e-06)\n",
            "\n",
            "\n",
            "using: name_P·EP 2\n",
            "predicted: 15 \n",
            " max: 2 min: -8 abs: 3.8666666666666667 ± 2.578543947441829\n",
            "(0.8818144886843804, 1.3794310650982139e-05)\n",
            "\n",
            "\n",
            "using: name_P·EP 27\n",
            "predicted: 19 \n",
            " max: 1 min: -9 abs: 3.0526315789473686 ± 2.6452277627640135\n",
            "(0.8792986756434019, 7.13219204313464e-07)\n",
            "\n",
            "\n",
            "using: name_P·EP 28\n",
            "predicted: 19 \n",
            " max: 0 min: -11 abs: 3.3157894736842106 ± 3.3095178783710506\n",
            "(0.8594800658449594, 2.4205988310828257e-06)\n",
            "\n",
            "\n",
            "using: name_Svetlaya\n",
            "predicted: 18 \n",
            " max: 7 min: -10 abs: 4.111111111111111 ± 2.8846122190549264\n",
            "(0.8138434255820325, 3.96985555546148e-05)\n",
            "\n",
            "\n"
          ],
          "name": "stdout"
        }
      ]
    },
    {
      "metadata": {
        "id": "G9sMOC1MPOp8",
        "colab_type": "text"
      },
      "cell_type": "markdown",
      "source": [
        "## Save model for future use"
      ]
    },
    {
      "metadata": {
        "id": "lUqpEAMQWrkt",
        "colab_type": "text"
      },
      "cell_type": "markdown",
      "source": [
        "Model can be saved and then loaded to work in different environment"
      ]
    },
    {
      "metadata": {
        "id": "ju0ij5GMO6oV",
        "colab_type": "code",
        "colab": {}
      },
      "cell_type": "code",
      "source": [
        "model.save('model_5.h5')"
      ],
      "execution_count": 0,
      "outputs": []
    },
    {
      "metadata": {
        "id": "HTn6gRQFW1KV",
        "colab_type": "text"
      },
      "cell_type": "markdown",
      "source": [
        "Model stores as serialized executable object, can be loaded and instanciated on the fly to exactly the same model. There are some restrictions on such saving method though. If you use this method you can only use keras api and do not include custom code, metrics for instance, that is a pitty because keras doesn't have a standart R^2 metric implementation, thus cannot be saved to be loaded without recompilation."
      ]
    },
    {
      "metadata": {
        "id": "9_AyNV2-XKOB",
        "colab_type": "code",
        "colab": {}
      },
      "cell_type": "code",
      "source": [
        "del model"
      ],
      "execution_count": 0,
      "outputs": []
    },
    {
      "metadata": {
        "id": "A76RTFRfXMw8",
        "colab_type": "code",
        "colab": {}
      },
      "cell_type": "code",
      "source": [
        "from keras.models import load_model\n",
        "\n",
        "model = load_model('soy_blossum_model.h5')"
      ],
      "execution_count": 0,
      "outputs": []
    },
    {
      "metadata": {
        "id": "1ntyOCU8Y7pq",
        "colab_type": "text"
      },
      "cell_type": "markdown",
      "source": [
        "## Evaluating difference in predicted states on actual blossum dates"
      ]
    },
    {
      "metadata": {
        "id": "ewfEK9D0ZE6e",
        "colab_type": "text"
      },
      "cell_type": "markdown",
      "source": [
        "Filter data so that it only has dates with actual blossum, 'day' field is defined so that it is calendar dates mapped into [0;1] interval so selecting blossum dates is easy as selecting rows where 'day' == 1 "
      ]
    },
    {
      "metadata": {
        "id": "T2kxeklVjqEW",
        "colab_type": "code",
        "colab": {}
      },
      "cell_type": "code",
      "source": [
        "df_backup.head(2)\n",
        "df = df_backup.copy()"
      ],
      "execution_count": 0,
      "outputs": []
    },
    {
      "metadata": {
        "id": "NM4IVrwWi-A9",
        "colab_type": "code",
        "colab": {
          "base_uri": "https://localhost:8080/",
          "height": 148
        },
        "outputId": "6d3bd258-8145-4387-aae8-92750a027182"
      },
      "cell_type": "code",
      "source": [
        "df_full = df.copy()\n",
        "df_full.head(2)"
      ],
      "execution_count": 279,
      "outputs": [
        {
          "output_type": "execute_result",
          "data": {
            "text/html": [
              "<div>\n",
              "<style scoped>\n",
              "    .dataframe tbody tr th:only-of-type {\n",
              "        vertical-align: middle;\n",
              "    }\n",
              "\n",
              "    .dataframe tbody tr th {\n",
              "        vertical-align: top;\n",
              "    }\n",
              "\n",
              "    .dataframe thead th {\n",
              "        text-align: right;\n",
              "    }\n",
              "</style>\n",
              "<table border=\"1\" class=\"dataframe\">\n",
              "  <thead>\n",
              "    <tr style=\"text-align: right;\">\n",
              "      <th></th>\n",
              "      <th>ID</th>\n",
              "      <th>d</th>\n",
              "      <th>t_min</th>\n",
              "      <th>t_max</th>\n",
              "      <th>dlen</th>\n",
              "      <th>day</th>\n",
              "      <th>station</th>\n",
              "      <th>category</th>\n",
              "      <th>state</th>\n",
              "      <th>name_Altom</th>\n",
              "      <th>name_Fiskeby 1040-4-2</th>\n",
              "      <th>name_KG-20</th>\n",
              "      <th>name_Okskaya</th>\n",
              "      <th>name_P·EP 18</th>\n",
              "      <th>name_P·EP 2</th>\n",
              "      <th>name_P·EP 27</th>\n",
              "      <th>name_P·EP 28</th>\n",
              "      <th>name_Svetlaya</th>\n",
              "    </tr>\n",
              "  </thead>\n",
              "  <tbody>\n",
              "    <tr>\n",
              "      <th>0</th>\n",
              "      <td>0</td>\n",
              "      <td>0</td>\n",
              "      <td>0.0</td>\n",
              "      <td>0.0</td>\n",
              "      <td>0.021642</td>\n",
              "      <td>0.000000</td>\n",
              "      <td>34927</td>\n",
              "      <td>5830</td>\n",
              "      <td>0.1</td>\n",
              "      <td>0</td>\n",
              "      <td>1</td>\n",
              "      <td>0</td>\n",
              "      <td>0</td>\n",
              "      <td>0</td>\n",
              "      <td>0</td>\n",
              "      <td>0</td>\n",
              "      <td>0</td>\n",
              "      <td>0</td>\n",
              "    </tr>\n",
              "    <tr>\n",
              "      <th>1</th>\n",
              "      <td>0</td>\n",
              "      <td>1</td>\n",
              "      <td>0.0</td>\n",
              "      <td>0.0</td>\n",
              "      <td>0.043739</td>\n",
              "      <td>0.014925</td>\n",
              "      <td>34927</td>\n",
              "      <td>5830</td>\n",
              "      <td>0.1</td>\n",
              "      <td>0</td>\n",
              "      <td>1</td>\n",
              "      <td>0</td>\n",
              "      <td>0</td>\n",
              "      <td>0</td>\n",
              "      <td>0</td>\n",
              "      <td>0</td>\n",
              "      <td>0</td>\n",
              "      <td>0</td>\n",
              "    </tr>\n",
              "  </tbody>\n",
              "</table>\n",
              "</div>"
            ],
            "text/plain": [
              "   ID  d  t_min  t_max      dlen       day  station  category  state  \\\n",
              "0   0  0    0.0    0.0  0.021642  0.000000    34927      5830    0.1   \n",
              "1   0  1    0.0    0.0  0.043739  0.014925    34927      5830    0.1   \n",
              "\n",
              "   name_Altom  name_Fiskeby 1040-4-2  name_KG-20  name_Okskaya  name_P·EP 18  \\\n",
              "0           0                      1           0             0             0   \n",
              "1           0                      1           0             0             0   \n",
              "\n",
              "   name_P·EP 2  name_P·EP 27  name_P·EP 28  name_Svetlaya  \n",
              "0            0             0             0              0  \n",
              "1            0             0             0              0  "
            ]
          },
          "metadata": {
            "tags": []
          },
          "execution_count": 279
        }
      ]
    },
    {
      "metadata": {
        "id": "36FjPgA1fg3l",
        "colab_type": "code",
        "colab": {
          "base_uri": "https://localhost:8080/",
          "height": 782
        },
        "outputId": "7094efd0-edb5-4f45-c522-708db792a31b"
      },
      "cell_type": "code",
      "source": [
        "for sort in sorts:\n",
        "    print(\"using:\", sort)\n",
        "    df_sort = df.loc[df_full[sort] == 1]\n",
        "    \n",
        "    features = ['t_min', 't_max', 'dlen', 'day']\n",
        "    features.extend(sorts)\n",
        "    data = df_sort[features].values\n",
        "    target = df_sort['state'].values\n",
        "    \n",
        "    blossum_dates_dataset = df_sort.loc[np.logical_and(df_sort['state'] > 0.59, df_sort['state'] < 0.61)]\n",
        "    \n",
        "    predicted_blossum = model.predict(data)\n",
        "    \n",
        "    df_predicted = df_sort.copy()\n",
        "    df_predicted.insert(1, 'new', predicted_blossum)\n",
        "    \n",
        "    blossum_dates_predicted = df_predicted.loc[df_predicted['new'] >= 0.6]\n",
        "    blossum_dates_predicted = blossum_dates_predicted.loc[blossum_dates_predicted.groupby('ID')['new'].idxmin()]\n",
        "    \n",
        "    q = blossum_dates_dataset['ID'].isin(blossum_dates_predicted['ID'])\n",
        "\n",
        "    val = np.mean(np.abs(blossum_dates_dataset['d'].values - blossum_dates_predicted['d'].values))\n",
        "    var = np.std(np.abs(blossum_dates_dataset['d'].values - blossum_dates_predicted['d'].values))\n",
        "    print(\"predicted:\", sum(q),\n",
        "        \"min:\", np.max(blossum_dates_dataset['d'].values - blossum_dates_predicted['d'].values),\n",
        "        \"max:\", np.min(blossum_dates_dataset['d'].values - blossum_dates_predicted['d'].values),\n",
        "        \"abs:\", val,\n",
        "        \"±\",    var)\n",
        "    print(pearsonr(blossum_dates_dataset['d'].values,\n",
        "             blossum_dates_predicted['d'].values))\n",
        "    print('\\n')\n"
      ],
      "execution_count": 280,
      "outputs": [
        {
          "output_type": "stream",
          "text": [
            "using: name_Altom\n",
            "predicted: 14 min: 10 max: -6 abs: 3.0714285714285716 ± 2.6849923041732144\n",
            "(0.8241562869127614, 0.0002888834026527576)\n",
            "\n",
            "\n",
            "using: name_Fiskeby 1040-4-2\n",
            "predicted: 18 min: 11 max: -4 abs: 4.0 ± 2.6666666666666665\n",
            "(0.8957531836181296, 5.033780228078979e-07)\n",
            "\n",
            "\n",
            "using: name_KG-20\n",
            "predicted: 15 min: 25 max: -2 abs: 6.066666666666666 ± 6.255308856394613\n",
            "(0.7718665406307363, 0.0007483555056710585)\n",
            "\n",
            "\n",
            "using: name_Okskaya\n",
            "predicted: 19 min: 19 max: -4 abs: 6.473684210526316 ± 4.464696854831263\n",
            "(0.7665328478921097, 0.0001292294674695601)\n",
            "\n",
            "\n",
            "using: name_P·EP 18\n",
            "predicted: 16 min: 7 max: -2 abs: 2.875 ± 2.394655507583502\n",
            "(0.8822154039870924, 6.14335012082896e-06)\n",
            "\n",
            "\n",
            "using: name_P·EP 2\n",
            "predicted: 15 min: 7 max: -4 abs: 2.6 ± 2.0264912204760885\n",
            "(0.8783160663442758, 1.6529023168950757e-05)\n",
            "\n",
            "\n",
            "using: name_P·EP 27\n",
            "predicted: 19 min: 8 max: -4 abs: 3.9473684210526314 ± 2.327720461841682\n",
            "(0.8507080803973723, 3.925242361052431e-06)\n",
            "\n",
            "\n",
            "using: name_P·EP 28\n",
            "predicted: 19 min: 4 max: -7 abs: 2.6315789473684212 ± 1.812544774497112\n",
            "(0.8716481728354382, 1.1704084491069486e-06)\n",
            "\n",
            "\n",
            "using: name_Svetlaya\n",
            "predicted: 18 min: 10 max: -3 abs: 3.6666666666666665 ± 2.9439202887759492\n",
            "(0.8452254280462242, 1.0067168296884582e-05)\n",
            "\n",
            "\n"
          ],
          "name": "stdout"
        }
      ]
    },
    {
      "metadata": {
        "id": "K8syA3duphmR",
        "colab_type": "code",
        "colab": {}
      },
      "cell_type": "code",
      "source": [
        "blossum_dates_dataset = df.loc[df['state'] > 0.59]\n",
        "blossum_dates_dataset = blossum_dates_dataset.loc[blossum_dates_dataset['state'] < 0.61]"
      ],
      "execution_count": 0,
      "outputs": []
    },
    {
      "metadata": {
        "id": "6x-16DPyOQgp",
        "colab_type": "code",
<<<<<<< HEAD
        "outputId": "0f831a24-2d02-4d4a-9e98-262602d978ca",
        "colab": {
          "base_uri": "https://localhost:8080/",
          "height": 289
=======
        "outputId": "2b20fe60-98b7-42b7-8fbb-8e6cdfefe803",
        "colab": {
          "base_uri": "https://localhost:8080/",
          "height": 394
>>>>>>> 1107e92a820e8c3d9c6e25526417fd15c031a83d
        }
      },
      "cell_type": "code",
      "source": [
        "blossum_dates_dataset.head(10)"
      ],
<<<<<<< HEAD
      "execution_count": 0,
=======
      "execution_count": 63,
>>>>>>> 1107e92a820e8c3d9c6e25526417fd15c031a83d
      "outputs": [
        {
          "output_type": "execute_result",
          "data": {
            "text/html": [
              "<div>\n",
              "<style scoped>\n",
              "    .dataframe tbody tr th:only-of-type {\n",
              "        vertical-align: middle;\n",
              "    }\n",
              "\n",
              "    .dataframe tbody tr th {\n",
              "        vertical-align: top;\n",
              "    }\n",
              "\n",
              "    .dataframe thead th {\n",
              "        text-align: right;\n",
              "    }\n",
              "</style>\n",
              "<table border=\"1\" class=\"dataframe\">\n",
              "  <thead>\n",
              "    <tr style=\"text-align: right;\">\n",
              "      <th></th>\n",
              "      <th></th>\n",
              "      <th>t_min</th>\n",
              "      <th>t_max</th>\n",
              "      <th>dlen</th>\n",
              "      <th>day</th>\n",
              "      <th>station</th>\n",
              "      <th>category</th>\n",
              "      <th>state</th>\n",
              "      <th>name_Altom</th>\n",
              "      <th>name_Fiskeby 1040-4-2</th>\n",
              "      <th>name_KG-20</th>\n",
              "      <th>name_Okskaya</th>\n",
              "      <th>name_P·EP 18</th>\n",
              "      <th>name_P·EP 2</th>\n",
              "      <th>name_P·EP 27</th>\n",
              "      <th>name_P·EP 28</th>\n",
              "      <th>name_Svetlaya</th>\n",
              "    </tr>\n",
              "    <tr>\n",
              "      <th></th>\n",
              "      <th>Unnamed: 1</th>\n",
              "      <th></th>\n",
              "      <th></th>\n",
              "      <th></th>\n",
              "      <th></th>\n",
              "      <th></th>\n",
              "      <th></th>\n",
              "      <th></th>\n",
              "      <th></th>\n",
              "      <th></th>\n",
              "      <th></th>\n",
              "      <th></th>\n",
              "      <th></th>\n",
              "      <th></th>\n",
              "      <th></th>\n",
              "      <th></th>\n",
              "      <th></th>\n",
              "    </tr>\n",
              "  </thead>\n",
              "  <tbody>\n",
              "    <tr>\n",
<<<<<<< HEAD
              "      <th>85</th>\n",
              "      <th>42</th>\n",
              "      <td>0.69250</td>\n",
              "      <td>0.15125</td>\n",
              "      <td>2.773658</td>\n",
              "      <td>1.0</td>\n",
              "      <td>26063</td>\n",
              "      <td>5830</td>\n",
              "      <td>1.0</td>\n",
              "      <td>0</td>\n",
              "      <td>1</td>\n",
              "      <td>0</td>\n",
              "      <td>0</td>\n",
              "      <td>0</td>\n",
              "      <td>0</td>\n",
              "      <td>0</td>\n",
              "      <td>0</td>\n",
              "      <td>0</td>\n",
              "    </tr>\n",
              "    <tr>\n",
              "      <th>75</th>\n",
              "      <th>40</th>\n",
              "      <td>0.92500</td>\n",
              "      <td>0.40625</td>\n",
              "      <td>2.647172</td>\n",
              "      <td>1.0</td>\n",
              "      <td>26063</td>\n",
              "      <td>10655</td>\n",
              "      <td>1.0</td>\n",
              "      <td>0</td>\n",
              "      <td>0</td>\n",
              "      <td>0</td>\n",
              "      <td>0</td>\n",
              "      <td>1</td>\n",
              "      <td>0</td>\n",
              "      <td>0</td>\n",
              "      <td>0</td>\n",
              "      <td>0</td>\n",
              "    </tr>\n",
              "    <tr>\n",
              "      <th>69</th>\n",
              "      <th>40</th>\n",
              "      <td>0.92500</td>\n",
              "      <td>0.40625</td>\n",
              "      <td>2.647172</td>\n",
              "      <td>1.0</td>\n",
              "      <td>26063</td>\n",
              "      <td>10539</td>\n",
              "      <td>1.0</td>\n",
              "      <td>0</td>\n",
              "      <td>0</td>\n",
              "      <td>1</td>\n",
              "      <td>0</td>\n",
              "      <td>0</td>\n",
              "      <td>0</td>\n",
              "      <td>0</td>\n",
              "      <td>0</td>\n",
              "      <td>0</td>\n",
              "    </tr>\n",
              "    <tr>\n",
              "      <th>67</th>\n",
              "      <th>42</th>\n",
              "      <td>1.05500</td>\n",
              "      <td>0.49375</td>\n",
              "      <td>2.758445</td>\n",
              "      <td>1.0</td>\n",
              "      <td>26063</td>\n",
              "      <td>5830</td>\n",
              "      <td>1.0</td>\n",
              "      <td>0</td>\n",
              "      <td>1</td>\n",
              "      <td>0</td>\n",
              "      <td>0</td>\n",
              "      <td>0</td>\n",
              "      <td>0</td>\n",
              "      <td>0</td>\n",
              "      <td>0</td>\n",
              "      <td>0</td>\n",
              "    </tr>\n",
              "    <tr>\n",
              "      <th>66</th>\n",
              "      <th>51</th>\n",
              "      <td>0.86625</td>\n",
              "      <td>0.40500</td>\n",
              "      <td>3.310661</td>\n",
              "      <td>1.0</td>\n",
              "      <td>26063</td>\n",
              "      <td>5830</td>\n",
              "      <td>1.0</td>\n",
              "      <td>0</td>\n",
              "      <td>1</td>\n",
              "      <td>0</td>\n",
              "      <td>0</td>\n",
              "      <td>0</td>\n",
              "      <td>0</td>\n",
              "      <td>0</td>\n",
              "      <td>0</td>\n",
              "      <td>0</td>\n",
=======
              "      <th>0</th>\n",
              "      <th>36</th>\n",
              "      <td>1.05875</td>\n",
              "      <td>1.00500</td>\n",
              "      <td>1.014392</td>\n",
              "      <td>0.631579</td>\n",
              "      <td>34927</td>\n",
              "      <td>5830</td>\n",
              "      <td>Fiskeby 1040-4-2</td>\n",
              "      <td>0.6</td>\n",
              "    </tr>\n",
              "    <tr>\n",
              "      <th>1</th>\n",
              "      <th>24</th>\n",
              "      <td>1.43250</td>\n",
              "      <td>1.72875</td>\n",
              "      <td>0.675615</td>\n",
              "      <td>0.421053</td>\n",
              "      <td>34927</td>\n",
              "      <td>5830</td>\n",
              "      <td>Fiskeby 1040-4-2</td>\n",
              "      <td>0.6</td>\n",
              "    </tr>\n",
              "    <tr>\n",
              "      <th>2</th>\n",
              "      <th>35</th>\n",
              "      <td>0.96500</td>\n",
              "      <td>0.91250</td>\n",
              "      <td>0.983988</td>\n",
              "      <td>0.614035</td>\n",
              "      <td>34927</td>\n",
              "      <td>9959</td>\n",
              "      <td>Okskaya</td>\n",
              "      <td>0.6</td>\n",
              "    </tr>\n",
              "    <tr>\n",
              "      <th>3</th>\n",
              "      <th>24</th>\n",
              "      <td>1.43250</td>\n",
              "      <td>1.72875</td>\n",
              "      <td>0.675615</td>\n",
              "      <td>0.421053</td>\n",
              "      <td>34927</td>\n",
              "      <td>9959</td>\n",
              "      <td>Okskaya</td>\n",
              "      <td>0.6</td>\n",
              "    </tr>\n",
              "    <tr>\n",
              "      <th>4</th>\n",
              "      <th>35</th>\n",
              "      <td>0.96500</td>\n",
              "      <td>0.91250</td>\n",
              "      <td>0.983988</td>\n",
              "      <td>0.614035</td>\n",
              "      <td>34927</td>\n",
              "      <td>9960</td>\n",
              "      <td>Svetlaya</td>\n",
              "      <td>0.6</td>\n",
              "    </tr>\n",
              "    <tr>\n",
              "      <th>5</th>\n",
              "      <th>24</th>\n",
              "      <td>1.43250</td>\n",
              "      <td>1.72875</td>\n",
              "      <td>0.675615</td>\n",
              "      <td>0.421053</td>\n",
              "      <td>34927</td>\n",
              "      <td>9960</td>\n",
              "      <td>Svetlaya</td>\n",
              "      <td>0.6</td>\n",
              "    </tr>\n",
              "    <tr>\n",
              "      <th>6</th>\n",
              "      <th>39</th>\n",
              "      <td>1.30250</td>\n",
              "      <td>1.15250</td>\n",
              "      <td>1.105430</td>\n",
              "      <td>0.684211</td>\n",
              "      <td>34927</td>\n",
              "      <td>10043</td>\n",
              "      <td>Altom</td>\n",
              "      <td>0.6</td>\n",
              "    </tr>\n",
              "    <tr>\n",
              "      <th>7</th>\n",
              "      <th>30</th>\n",
              "      <td>1.76875</td>\n",
              "      <td>1.92500</td>\n",
              "      <td>0.856901</td>\n",
              "      <td>0.526316</td>\n",
              "      <td>34927</td>\n",
              "      <td>10043</td>\n",
              "      <td>Altom</td>\n",
              "      <td>0.6</td>\n",
              "    </tr>\n",
              "    <tr>\n",
              "      <th>8</th>\n",
              "      <th>36</th>\n",
              "      <td>1.05875</td>\n",
              "      <td>1.00500</td>\n",
              "      <td>1.014392</td>\n",
              "      <td>0.631579</td>\n",
              "      <td>34927</td>\n",
              "      <td>10539</td>\n",
              "      <td>KG-20</td>\n",
              "      <td>0.6</td>\n",
              "    </tr>\n",
              "    <tr>\n",
              "      <th>9</th>\n",
              "      <th>24</th>\n",
              "      <td>1.43250</td>\n",
              "      <td>1.72875</td>\n",
              "      <td>0.675615</td>\n",
              "      <td>0.421053</td>\n",
              "      <td>34927</td>\n",
              "      <td>10539</td>\n",
              "      <td>KG-20</td>\n",
              "      <td>0.6</td>\n",
>>>>>>> 1107e92a820e8c3d9c6e25526417fd15c031a83d
              "    </tr>\n",
              "  </tbody>\n",
              "</table>\n",
              "</div>"
            ],
            "text/plain": [
<<<<<<< HEAD
              "                 t_min    t_max      dlen  day  station  category  state  \\\n",
              "   Unnamed: 1                                                              \n",
              "85 42          0.69250  0.15125  2.773658  1.0    26063      5830    1.0   \n",
              "75 40          0.92500  0.40625  2.647172  1.0    26063     10655    1.0   \n",
              "69 40          0.92500  0.40625  2.647172  1.0    26063     10539    1.0   \n",
              "67 42          1.05500  0.49375  2.758445  1.0    26063      5830    1.0   \n",
              "66 51          0.86625  0.40500  3.310661  1.0    26063      5830    1.0   \n",
              "\n",
              "               name_Altom  name_Fiskeby 1040-4-2  name_KG-20  name_Okskaya  \\\n",
              "   Unnamed: 1                                                                \n",
              "85 42                   0                      1           0             0   \n",
              "75 40                   0                      0           0             0   \n",
              "69 40                   0                      0           1             0   \n",
              "67 42                   0                      1           0             0   \n",
              "66 51                   0                      1           0             0   \n",
              "\n",
              "               name_P·EP 18  name_P·EP 2  name_P·EP 27  name_P·EP 28  \\\n",
              "   Unnamed: 1                                                          \n",
              "85 42                     0            0             0             0   \n",
              "75 40                     1            0             0             0   \n",
              "69 40                     0            0             0             0   \n",
              "67 42                     0            0             0             0   \n",
              "66 51                     0            0             0             0   \n",
              "\n",
              "               name_Svetlaya  \n",
              "   Unnamed: 1                 \n",
              "85 42                      0  \n",
              "75 40                      0  \n",
              "69 40                      0  \n",
              "67 42                      0  \n",
              "66 51                      0  "
=======
              "                t_min    t_max      dlen       day  station  category  \\\n",
              "  Unnamed: 1                                                            \n",
              "0 36          1.05875  1.00500  1.014392  0.631579    34927      5830   \n",
              "1 24          1.43250  1.72875  0.675615  0.421053    34927      5830   \n",
              "2 35          0.96500  0.91250  0.983988  0.614035    34927      9959   \n",
              "3 24          1.43250  1.72875  0.675615  0.421053    34927      9959   \n",
              "4 35          0.96500  0.91250  0.983988  0.614035    34927      9960   \n",
              "5 24          1.43250  1.72875  0.675615  0.421053    34927      9960   \n",
              "6 39          1.30250  1.15250  1.105430  0.684211    34927     10043   \n",
              "7 30          1.76875  1.92500  0.856901  0.526316    34927     10043   \n",
              "8 36          1.05875  1.00500  1.014392  0.631579    34927     10539   \n",
              "9 24          1.43250  1.72875  0.675615  0.421053    34927     10539   \n",
              "\n",
              "                          name  state  \n",
              "  Unnamed: 1                           \n",
              "0 36          Fiskeby 1040-4-2    0.6  \n",
              "1 24          Fiskeby 1040-4-2    0.6  \n",
              "2 35                   Okskaya    0.6  \n",
              "3 24                   Okskaya    0.6  \n",
              "4 35                  Svetlaya    0.6  \n",
              "5 24                  Svetlaya    0.6  \n",
              "6 39                     Altom    0.6  \n",
              "7 30                     Altom    0.6  \n",
              "8 36                     KG-20    0.6  \n",
              "9 24                     KG-20    0.6  "
>>>>>>> 1107e92a820e8c3d9c6e25526417fd15c031a83d
            ]
          },
          "metadata": {
            "tags": []
          },
<<<<<<< HEAD
          "execution_count": 138
=======
          "execution_count": 63
>>>>>>> 1107e92a820e8c3d9c6e25526417fd15c031a83d
        }
      ]
    },
    {
      "metadata": {
        "id": "CS-1Oc_AWysM",
        "colab_type": "code",
        "colab": {}
      },
      "cell_type": "code",
      "source": [
        "predicted_blossum = model.predict(data)"
      ],
      "execution_count": 0,
      "outputs": []
    },
    {
      "metadata": {
        "id": "vExND_onO0fD",
        "colab_type": "code",
<<<<<<< HEAD
        "colab": {}
=======
        "outputId": "c667417c-e242-4dba-81ea-1ef4aff957b1",
        "colab": {
          "base_uri": "https://localhost:8080/",
          "height": 139
        }
>>>>>>> 1107e92a820e8c3d9c6e25526417fd15c031a83d
      },
      "cell_type": "code",
      "source": [
        "predicted_blossum"
      ],
<<<<<<< HEAD
      "execution_count": 0,
      "outputs": []
=======
      "execution_count": 65,
      "outputs": [
        {
          "output_type": "execute_result",
          "data": {
            "text/plain": [
              "array([[0.07868791],\n",
              "       [0.08152422],\n",
              "       [0.08431902],\n",
              "       ...,\n",
              "       [0.9083096 ],\n",
              "       [0.9084995 ],\n",
              "       [0.90829474]], dtype=float32)"
            ]
          },
          "metadata": {
            "tags": []
          },
          "execution_count": 65
        }
      ]
    },
    {
      "metadata": {
        "id": "P_0Zcc_3JvSM",
        "colab_type": "code",
        "colab": {
          "base_uri": "https://localhost:8080/",
          "height": 34
        },
        "outputId": "02c1047f-cff8-447f-fed2-87b3ceec5b5e"
      },
      "cell_type": "code",
      "source": [
        "df_ttf = pd.DataFrame(predicted_blossum)\n",
        "uploaded = drive.CreateFile({'title': 'ttf2.csv'})\n",
        "uploaded.SetContentString(df_ttf.to_string())\n",
        "uploaded.Upload()\n",
        "print('Uploaded file with ID {}'.format(uploaded.get('id')))"
      ],
      "execution_count": 89,
      "outputs": [
        {
          "output_type": "stream",
          "text": [
            "Uploaded file with ID 1remfwp-cUyY6Cu-o-posCMq8qpWVI0MD\n"
          ],
          "name": "stdout"
        }
      ]
>>>>>>> 1107e92a820e8c3d9c6e25526417fd15c031a83d
    },
    {
      "metadata": {
        "id": "aLiPAolnbJbe",
        "colab_type": "text"
      },
      "cell_type": "markdown",
      "source": [
        "We can only observe the difference in state, because none of the inputs produce state >= 1, so that it is impossible to observe the difference in days without analytical or numerical extrapolation of model predictive function"
      ]
    },
    {
      "metadata": {
        "id": "1PJS_4k5qBEs",
        "colab_type": "code",
        "colab": {}
      },
      "cell_type": "code",
      "source": [
        "diff_state = predicted_blossum - blossum_dates_dataset['state'].values"
      ],
      "execution_count": 0,
      "outputs": []
    },
    {
      "metadata": {
        "id": "XfNHlKCdY37a",
        "colab_type": "code",
<<<<<<< HEAD
        "outputId": "261cf689-f250-4f5c-c18a-dc19cb349e57",
=======
        "outputId": "b85354b5-05c2-4513-ca2b-ecadc5dbe2d5",
>>>>>>> 1107e92a820e8c3d9c6e25526417fd15c031a83d
        "colab": {
          "base_uri": "https://localhost:8080/",
          "height": 243
        }
      },
      "cell_type": "code",
      "source": [
        "diff_state "
      ],
<<<<<<< HEAD
      "execution_count": 0,
=======
      "execution_count": 29,
>>>>>>> 1107e92a820e8c3d9c6e25526417fd15c031a83d
      "outputs": [
        {
          "output_type": "execute_result",
          "data": {
            "text/plain": [
<<<<<<< HEAD
              "array([[-0.00012374, -0.00012374, -0.00012374, ..., -0.00012374,\n",
              "        -0.00012374, -0.00012374],\n",
              "       [-0.00011373, -0.00011373, -0.00011373, ..., -0.00011373,\n",
              "        -0.00011373, -0.00011373],\n",
              "       [-0.00011915, -0.00011915, -0.00011915, ..., -0.00011915,\n",
              "        -0.00011915, -0.00011915],\n",
              "       ...,\n",
              "       [-0.00012654, -0.00012654, -0.00012654, ..., -0.00012654,\n",
              "        -0.00012654, -0.00012654],\n",
              "       [-0.00014335, -0.00014335, -0.00014335, ..., -0.00014335,\n",
              "        -0.00014335, -0.00014335],\n",
              "       [-0.00011897, -0.00011897, -0.00011897, ..., -0.00011897,\n",
              "        -0.00011897, -0.00011897]])"
=======
              "array([[-0.01136541, -0.01136541, -0.01136541, ..., -0.01136541,\n",
              "        -0.01136541, -0.01136541],\n",
              "       [-0.01158535, -0.01158535, -0.01158535, ..., -0.01158535,\n",
              "        -0.01158535, -0.01158535],\n",
              "       [-0.01136541, -0.01136541, -0.01136541, ..., -0.01136541,\n",
              "        -0.01136541, -0.01136541],\n",
              "       ...,\n",
              "       [-0.01597518, -0.01597518, -0.01597518, ..., -0.01597518,\n",
              "        -0.01597518, -0.01597518],\n",
              "       [-0.01355791, -0.01355791, -0.01355791, ..., -0.01355791,\n",
              "        -0.01355791, -0.01355791],\n",
              "       [-0.01349825, -0.01349825, -0.01349825, ..., -0.01349825,\n",
              "        -0.01349825, -0.01349825]])"
>>>>>>> 1107e92a820e8c3d9c6e25526417fd15c031a83d
            ]
          },
          "metadata": {
            "tags": []
          },
<<<<<<< HEAD
          "execution_count": 146
=======
          "execution_count": 29
>>>>>>> 1107e92a820e8c3d9c6e25526417fd15c031a83d
        }
      ]
    },
    {
      "metadata": {
        "id": "f1i7Ly6yYSpM",
        "colab_type": "code",
<<<<<<< HEAD
        "outputId": "c476db2e-8943-4e63-80c2-e9f76474b0dd",
=======
        "outputId": "a48df45f-9940-410e-fac3-c6131b481c18",
>>>>>>> 1107e92a820e8c3d9c6e25526417fd15c031a83d
        "colab": {
          "base_uri": "https://localhost:8080/",
          "height": 52
        }
      },
      "cell_type": "code",
      "source": [
        "print(\"Mean\", np.mean(diff_state))\n",
        "print(\"Std\", np.std(diff_state))"
      ],
<<<<<<< HEAD
      "execution_count": 0,
=======
      "execution_count": 30,
>>>>>>> 1107e92a820e8c3d9c6e25526417fd15c031a83d
      "outputs": [
        {
          "output_type": "stream",
          "text": [
<<<<<<< HEAD
            "Mean -0.00011926850462271498\n",
            "Std 8.39260108302957e-06\n"
=======
            "Mean -0.013327131473940183\n",
            "Std 0.001835165876432722\n"
>>>>>>> 1107e92a820e8c3d9c6e25526417fd15c031a83d
          ],
          "name": "stdout"
        }
      ]
    },
    {
      "metadata": {
        "id": "MMqp83g8fQwa",
        "colab_type": "text"
      },
      "cell_type": "markdown",
      "source": [
        "In ideal case we want the model expected value be exactly equal to actual predicted blossum dates"
      ]
    },
    {
      "metadata": {
        "id": "9iGHqBc-Y6nQ",
        "colab_type": "code",
<<<<<<< HEAD
        "outputId": "fe5d4d28-879e-42f5-e5a3-f75a5edb0e46",
=======
        "outputId": "9fdcf039-67ab-4416-c409-3a3fe8695763",
>>>>>>> 1107e92a820e8c3d9c6e25526417fd15c031a83d
        "colab": {
          "base_uri": "https://localhost:8080/",
          "height": 375
        }
      },
      "cell_type": "code",
      "source": [
        "plt.plot([x for x in range(len(predicted_blossum))], predicted_blossum)\n",
        "plt.plot([x for x in range(len(blossum_dates_dataset['state'].values))], blossum_dates_dataset['state'].values)"
      ],
<<<<<<< HEAD
      "execution_count": 0,
=======
      "execution_count": 31,
>>>>>>> 1107e92a820e8c3d9c6e25526417fd15c031a83d
      "outputs": [
        {
          "output_type": "execute_result",
          "data": {
            "text/plain": [
<<<<<<< HEAD
              "[<matplotlib.lines.Line2D at 0x7f1e82de4a90>]"
=======
              "[<matplotlib.lines.Line2D at 0x7fd5a49b5c18>]"
>>>>>>> 1107e92a820e8c3d9c6e25526417fd15c031a83d
            ]
          },
          "metadata": {
            "tags": []
          },
<<<<<<< HEAD
          "execution_count": 144
=======
          "execution_count": 31
>>>>>>> 1107e92a820e8c3d9c6e25526417fd15c031a83d
        },
        {
          "output_type": "display_data",
          "data": {
<<<<<<< HEAD
            "image/png": "iVBORw0KGgoAAAANSUhEUgAAAf4AAAFVCAYAAAAOtI0IAAAABHNCSVQICAgIfAhkiAAAAAlwSFlz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\n51Wnj6Yp3LYAAAAASUVORK5CYII=\n",
            "text/plain": [
              "<Figure size 576x396 with 1 Axes>"
=======
            "image/png": "iVBORw0KGgoAAAANSUhEUgAAAfIAAAFKCAYAAADmCN3IAAAABHNCSVQICAgIfAhkiAAAAAlwSFlz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\ng8FgmJj/Dz4avEkCbM+wAAAAAElFTkSuQmCC\n",
            "text/plain": [
              "<matplotlib.figure.Figure at 0x7fd5a49b5b38>"
>>>>>>> 1107e92a820e8c3d9c6e25526417fd15c031a83d
            ]
          },
          "metadata": {
            "tags": []
          }
        }
      ]
    },
    {
      "metadata": {
        "id": "EJOW6g209wH2",
        "colab_type": "code",
        "colab": {
          "base_uri": "https://localhost:8080/",
          "height": 410
        },
        "outputId": "a2a64913-08a1-4c69-936d-665de684327c"
      },
      "cell_type": "code",
      "source": [
        "np.corrcoef(blossum_dates_dataset['state'].values, predicted_blossum)"
      ],
      "execution_count": 34,
      "outputs": [
        {
          "output_type": "error",
          "ename": "ValueError",
          "evalue": "ignored",
          "traceback": [
            "\u001b[0;31m---------------------------------------------------------------------------\u001b[0m",
            "\u001b[0;31mValueError\u001b[0m                                Traceback (most recent call last)",
            "\u001b[0;32m<ipython-input-34-f4c4fe71013c>\u001b[0m in \u001b[0;36m<module>\u001b[0;34m()\u001b[0m\n\u001b[0;32m----> 1\u001b[0;31m \u001b[0mnp\u001b[0m\u001b[0;34m.\u001b[0m\u001b[0mcorrcoef\u001b[0m\u001b[0;34m(\u001b[0m\u001b[0mblossum_dates_dataset\u001b[0m\u001b[0;34m[\u001b[0m\u001b[0;34m'state'\u001b[0m\u001b[0;34m]\u001b[0m\u001b[0;34m.\u001b[0m\u001b[0mvalues\u001b[0m\u001b[0;34m,\u001b[0m \u001b[0mpredicted_blossum\u001b[0m\u001b[0;34m)\u001b[0m\u001b[0;34m\u001b[0m\u001b[0;34m\u001b[0m\u001b[0m\n\u001b[0m",
            "\u001b[0;32m/usr/local/lib/python3.6/dist-packages/numpy/lib/function_base.py\u001b[0m in \u001b[0;36mcorrcoef\u001b[0;34m(x, y, rowvar, bias, ddof)\u001b[0m\n\u001b[1;32m   3173\u001b[0m         warnings.warn('bias and ddof have no effect and are deprecated',\n\u001b[1;32m   3174\u001b[0m                       DeprecationWarning, stacklevel=2)\n\u001b[0;32m-> 3175\u001b[0;31m     \u001b[0mc\u001b[0m \u001b[0;34m=\u001b[0m \u001b[0mcov\u001b[0m\u001b[0;34m(\u001b[0m\u001b[0mx\u001b[0m\u001b[0;34m,\u001b[0m \u001b[0my\u001b[0m\u001b[0;34m,\u001b[0m \u001b[0mrowvar\u001b[0m\u001b[0;34m)\u001b[0m\u001b[0;34m\u001b[0m\u001b[0;34m\u001b[0m\u001b[0m\n\u001b[0m\u001b[1;32m   3176\u001b[0m     \u001b[0;32mtry\u001b[0m\u001b[0;34m:\u001b[0m\u001b[0;34m\u001b[0m\u001b[0;34m\u001b[0m\u001b[0m\n\u001b[1;32m   3177\u001b[0m         \u001b[0md\u001b[0m \u001b[0;34m=\u001b[0m \u001b[0mdiag\u001b[0m\u001b[0;34m(\u001b[0m\u001b[0mc\u001b[0m\u001b[0;34m)\u001b[0m\u001b[0;34m\u001b[0m\u001b[0;34m\u001b[0m\u001b[0m\n",
            "\u001b[0;32m/usr/local/lib/python3.6/dist-packages/numpy/lib/function_base.py\u001b[0m in \u001b[0;36mcov\u001b[0;34m(m, y, rowvar, bias, ddof, fweights, aweights)\u001b[0m\n\u001b[1;32m   3042\u001b[0m         \u001b[0;32mif\u001b[0m \u001b[0;32mnot\u001b[0m \u001b[0mrowvar\u001b[0m \u001b[0;32mand\u001b[0m \u001b[0my\u001b[0m\u001b[0;34m.\u001b[0m\u001b[0mshape\u001b[0m\u001b[0;34m[\u001b[0m\u001b[0;36m0\u001b[0m\u001b[0;34m]\u001b[0m \u001b[0;34m!=\u001b[0m \u001b[0;36m1\u001b[0m\u001b[0;34m:\u001b[0m\u001b[0;34m\u001b[0m\u001b[0;34m\u001b[0m\u001b[0m\n\u001b[1;32m   3043\u001b[0m             \u001b[0my\u001b[0m \u001b[0;34m=\u001b[0m \u001b[0my\u001b[0m\u001b[0;34m.\u001b[0m\u001b[0mT\u001b[0m\u001b[0;34m\u001b[0m\u001b[0;34m\u001b[0m\u001b[0m\n\u001b[0;32m-> 3044\u001b[0;31m         \u001b[0mX\u001b[0m \u001b[0;34m=\u001b[0m \u001b[0mnp\u001b[0m\u001b[0;34m.\u001b[0m\u001b[0mconcatenate\u001b[0m\u001b[0;34m(\u001b[0m\u001b[0;34m(\u001b[0m\u001b[0mX\u001b[0m\u001b[0;34m,\u001b[0m \u001b[0my\u001b[0m\u001b[0;34m)\u001b[0m\u001b[0;34m,\u001b[0m \u001b[0maxis\u001b[0m\u001b[0;34m=\u001b[0m\u001b[0;36m0\u001b[0m\u001b[0;34m)\u001b[0m\u001b[0;34m\u001b[0m\u001b[0;34m\u001b[0m\u001b[0m\n\u001b[0m\u001b[1;32m   3045\u001b[0m \u001b[0;34m\u001b[0m\u001b[0m\n\u001b[1;32m   3046\u001b[0m     \u001b[0;32mif\u001b[0m \u001b[0mddof\u001b[0m \u001b[0;32mis\u001b[0m \u001b[0;32mNone\u001b[0m\u001b[0;34m:\u001b[0m\u001b[0;34m\u001b[0m\u001b[0;34m\u001b[0m\u001b[0m\n",
            "\u001b[0;31mValueError\u001b[0m: all the input array dimensions except for the concatenation axis must match exactly"
          ]
        }
      ]
    },
    {
      "metadata": {
        "id": "Q-kdVmyVYieY",
        "colab_type": "text"
      },
      "cell_type": "markdown",
      "source": [
        "## Conclusion"
      ]
    },
    {
      "metadata": {
        "id": "vfOWiI-lDak0",
        "colab_type": "text"
      },
      "cell_type": "markdown",
      "source": [
        "The model passed proof of concept phase, it does learn and gives OK prediction, more data will lead to even more accurate results."
      ]
    }
  ]
}